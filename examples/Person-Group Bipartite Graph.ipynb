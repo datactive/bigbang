{
 "cells": [
  {
   "cell_type": "code",
   "execution_count": 1,
   "metadata": {},
   "outputs": [],
   "source": [
    "%matplotlib inline"
   ]
  },
  {
   "cell_type": "code",
   "execution_count": 2,
   "metadata": {},
   "outputs": [],
   "source": [
    "from bigbang.archive import Archive"
   ]
  },
  {
   "cell_type": "code",
   "execution_count": 3,
   "metadata": {},
   "outputs": [],
   "source": [
    "import pandas as pd\n",
    "import datetime\n",
    "import matplotlib.pyplot as plt\n",
    "import numpy as np\n",
    "import math\n",
    "import networkx as nx"
   ]
  },
  {
   "cell_type": "markdown",
   "metadata": {},
   "source": [
    "Now let's load the data for analysis."
   ]
  },
  {
   "cell_type": "code",
   "execution_count": 4,
   "metadata": {},
   "outputs": [
    {
     "name": "stderr",
     "output_type": "stream",
     "text": [
      "/home/sb/projects/bigbang-multi/bigbang/bigbang/mailman.py:137: UserWarning: No mailing list name found at ipython-dev\n",
      "  warnings.warn(\"No mailing list name found at %s\" % url)\n"
     ]
    },
    {
     "name": "stdout",
     "output_type": "stream",
     "text": [
      "Opening 176 archive files\n"
     ]
    },
    {
     "name": "stderr",
     "output_type": "stream",
     "text": [
      "/home/sb/projects/bigbang-multi/bigbang/bigbang/mailman.py:137: UserWarning: No mailing list name found at ipython-user\n",
      "  warnings.warn(\"No mailing list name found at %s\" % url)\n"
     ]
    },
    {
     "name": "stdout",
     "output_type": "stream",
     "text": [
      "Opening 166 archive files\n"
     ]
    }
   ],
   "source": [
    "urls = [\"ipython-dev\",\n",
    "        \"ipython-user\"]\n",
    "\n",
    "archives = [Archive(url,archive_dir=\"../../archives\",mbox=True) for url in urls]\n",
    "\n",
    "activities = [arx.get_activity(resolved=False) for arx in archives]"
   ]
  },
  {
   "cell_type": "code",
   "execution_count": null,
   "metadata": {},
   "outputs": [],
   "source": [
    "G = nx.Graph()\n",
    "labels = {}\n",
    "\n",
    "for i, url in enumerate(urls):\n",
    "    G.add_node(url,type='url')\n",
    "    labels[url] = url\n",
    "    \n",
    "    for person in archives[i].data['From'].drop_duplicates():\n",
    "        G.add_node(person,type='person')\n",
    "        G.add_edge(person,url)\n",
    "    \n",
    "colors = [.1 if nd[1]['type'] == 'url' else .5 for nd in list(G.nodes(data=True))]\n",
    "sizes = [300 if nd[1]['type'] == 'url' else 5 for nd in list(G.nodes(data=True))]\n",
    "    \n",
    "nx.draw(G,\n",
    "       node_color=colors,\n",
    "       labels=labels)"
   ]
  },
  {
   "cell_type": "code",
   "execution_count": 7,
   "metadata": {},
   "outputs": [],
   "source": [
    "nx.write_gexf(G,'bipartite.gexf')"
   ]
  }
 ],
 "metadata": {
  "kernelspec": {
   "display_name": "Python 2",
   "language": "python",
   "name": "python2"
  },
  "language_info": {
   "codemirror_mode": {
    "name": "ipython",
    "version": 2
   },
   "file_extension": ".py",
   "mimetype": "text/x-python",
   "name": "python",
   "nbconvert_exporter": "python",
   "pygments_lexer": "ipython2",
   "version": "2.7.14"
  }
 },
 "nbformat": 4,
 "nbformat_minor": 1
}
