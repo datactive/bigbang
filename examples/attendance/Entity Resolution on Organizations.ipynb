{
 "cells": [
  {
   "cell_type": "code",
   "execution_count": 1,
   "metadata": {},
   "outputs": [],
   "source": [
    "import bigbang.ietfattendance as ia\n",
    "import bigbang.analysis.process as process\n",
    "import pandas as pd\n",
    "import matplotlib.pyplot as plt\n",
    "\n",
    "import Levenshtein"
   ]
  },
  {
   "cell_type": "markdown",
   "metadata": {},
   "source": [
    "Start by getting the attendence information for IETF."
   ]
  },
  {
   "cell_type": "code",
   "execution_count": 2,
   "metadata": {
    "scrolled": true
   },
   "outputs": [
    {
     "name": "stdout",
     "output_type": "stream",
     "text": [
      "(1639, 6)\n"
     ]
    }
   ],
   "source": [
    "attendance106 = ia.attendance_tables(106)"
   ]
  },
  {
   "cell_type": "markdown",
   "metadata": {},
   "source": [
    "What organizations are best represented?"
   ]
  },
  {
   "cell_type": "code",
   "execution_count": 3,
   "metadata": {},
   "outputs": [
    {
     "data": {
      "text/plain": [
       "Organization\n",
       "                                 283\n",
       "Google                            33\n",
       "Cisco                             30\n",
       "Nokia                             27\n",
       "Cisco Systems                     27\n",
       "Juniper Networks                  26\n",
       "Ericsson                          18\n",
       "Huawei                            18\n",
       "Apple                             13\n",
       "Internet Society                  13\n",
       "Microsoft                         12\n",
       "Facebook                          12\n",
       "ICANN                             11\n",
       "Huawei Technologies               10\n",
       "NIST                               9\n",
       "Akamai Technologies                9\n",
       "RIPE NCC                           9\n",
       "Futurewei                          8\n",
       "NTT                                7\n",
       "UPSA                               7\n",
       "Verisign                           7\n",
       "AMS                                7\n",
       "ETRI                               7\n",
       "MISA                               7\n",
       "Mozilla                            7\n",
       "Fastly                             6\n",
       "Tsinghua University                6\n",
       "ISC                                6\n",
       "Huawei Technologies Co., Ltd.      6\n",
       "Inria                              6\n",
       "Name: First Name, dtype: int64"
      ]
     },
     "execution_count": 3,
     "metadata": {},
     "output_type": "execute_result"
    }
   ],
   "source": [
    "attendance106.groupby(\"Organization\").count()[\"First Name\"].sort_values(\n",
    "    ascending=False\n",
    ")[:30]"
   ]
  },
  {
   "cell_type": "markdown",
   "metadata": {},
   "source": [
    "Even in this short list, there are repeat names. We need to apply entity resolution."
   ]
  },
  {
   "cell_type": "code",
   "execution_count": 4,
   "metadata": {},
   "outputs": [
    {
     "data": {
      "text/plain": [
       "(776,)"
      ]
     },
     "execution_count": 4,
     "metadata": {},
     "output_type": "execute_result"
    }
   ],
   "source": [
    "attendance106[\"Organization\"].dropna().unique().shape"
   ]
  },
  {
   "cell_type": "markdown",
   "metadata": {},
   "source": [
    "This is too many names! It will overwhelm the entity resolver. Let's use a subset of the most relevant entities."
   ]
  },
  {
   "cell_type": "code",
   "execution_count": 5,
   "metadata": {},
   "outputs": [],
   "source": [
    "N = 250\n",
    "topN = (\n",
    "    attendance106.groupby(\"Organization\")\n",
    "    .count()[\"First Name\"]\n",
    "    .sort_values(ascending=False)[:N]\n",
    ")\n",
    "\n",
    "distance_matrix = process.matricize(topN.index, process.containment_distance).replace(\n",
    "    to_replace=float(\"inf\"), value=100\n",
    ")"
   ]
  },
  {
   "cell_type": "code",
   "execution_count": 6,
   "metadata": {},
   "outputs": [
    {
     "data": {
      "text/plain": [
       "<matplotlib.colorbar.Colorbar at 0x7fd0cfd90390>"
      ]
     },
     "execution_count": 6,
     "metadata": {},
     "output_type": "execute_result"
    },
    {
     "data": {
      "image/png": "[encoded data removed]",
      "text/plain": [
       "<Figure size 432x288 with 2 Axes>"
      ]
     },
     "metadata": {
      "needs_background": "light"
     },
     "output_type": "display_data"
    }
   ],
   "source": [
    "plt.pcolor(distance_matrix)\n",
    "plt.colorbar()"
   ]
  },
  {
   "cell_type": "code",
   "execution_count": 7,
   "metadata": {},
   "outputs": [],
   "source": [
    "ents = process.resolve_entities(topN, process.containment_distance, threshold=0.25)\n",
    "\n",
    "replacements = {}\n",
    "for r in [{name: ent for name in ents[ent]} for ent in ents]:\n",
    "    replacements.update(r)"
   ]
  },
  {
   "cell_type": "code",
   "execution_count": 8,
   "metadata": {},
   "outputs": [],
   "source": [
    "attendance106_clean = attendance106.replace(to_replace=replacements)"
   ]
  },
  {
   "cell_type": "code",
   "execution_count": 9,
   "metadata": {},
   "outputs": [
    {
     "data": {
      "text/plain": [
       "Organization\n",
       "                       283\n",
       "Cisco                   67\n",
       "Huawei                  46\n",
       "Google                  38\n",
       "Nokia                   34\n",
       "Juniper Networks        31\n",
       "Ericsson                24\n",
       "Futurewei               17\n",
       "Microsoft               14\n",
       "Internet Society        13\n",
       "Apple                   13\n",
       "Akamai Technologies     12\n",
       "Facebook                12\n",
       "ICANN                   11\n",
       "Deutsche Telekom        10\n",
       "NIST                     9\n",
       "RIPE NCC                 9\n",
       "Inria                    8\n",
       "NTT                      7\n",
       "UPSA                     7\n",
       "MISA                     7\n",
       "Mozilla                  7\n",
       "ETRI                     7\n",
       "AMS                      7\n",
       "Verisign                 7\n",
       "ISC                      6\n",
       "Fastly                   6\n",
       "NLnet Labs               6\n",
       "APNIC                    6\n",
       "Tsinghua University      6\n",
       "dtype: int64"
      ]
     },
     "execution_count": 9,
     "metadata": {},
     "output_type": "execute_result"
    }
   ],
   "source": [
    "attendance106_clean.groupby(\"Organization\").size().sort_values(ascending=False)[:30]"
   ]
  },
  {
   "cell_type": "code",
   "execution_count": null,
   "metadata": {},
   "outputs": [],
   "source": []
  }
 ],
 "metadata": {
  "kernelspec": {
   "display_name": "bigbang-env",
   "language": "python",
   "name": "bigbang-env"
  },
  "language_info": {
   "codemirror_mode": {
    "name": "ipython",
    "version": 3
   },
   "file_extension": ".py",
   "mimetype": "text/x-python",
   "name": "python",
   "nbconvert_exporter": "python",
   "pygments_lexer": "ipython3",
   "version": "3.9.5"
  },
  "latex_envs": {
   "LaTeX_envs_menu_present": true,
   "autoclose": false,
   "autocomplete": true,
   "bibliofile": "biblio.bib",
   "cite_by": "apalike",
   "current_citInitial": 1,
   "eqLabelWithNumbers": true,
   "eqNumInitial": 1,
   "hotkeys": {
    "equation": "Ctrl-E",
    "itemize": "Ctrl-I"
   },
   "labels_anchors": false,
   "latex_user_defs": false,
   "report_style_numbering": false,
   "user_envs_cfg": false
  },
  "toc": {
   "base_numbering": 1,
   "nav_menu": {},
   "number_sections": true,
   "sideBar": true,
   "skip_h1_title": false,
   "title_cell": "Table of Contents",
   "title_sidebar": "Contents",
   "toc_cell": false,
   "toc_position": {},
   "toc_section_display": true,
   "toc_window_display": false
  }
 },
 "nbformat": 4,
 "nbformat_minor": 4
}
