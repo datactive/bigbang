{
 "cells": [
  {
   "cell_type": "markdown",
   "metadata": {},
   "source": [
    "Extracting the sentiment versus estimated gender of participants on the mailing list. "
   ]
  },
  {
   "cell_type": "code",
   "execution_count": 1,
   "metadata": {},
   "outputs": [],
   "source": [
    "%matplotlib inline"
   ]
  },
  {
   "cell_type": "markdown",
   "metadata": {},
   "source": [
    "Import the BigBang modules as needed. These should be in your Python environment if you've installed BigBang correctly."
   ]
  },
  {
   "cell_type": "code",
   "execution_count": 2,
   "metadata": {},
   "outputs": [
    {
     "name": "stderr",
     "output_type": "stream",
     "text": [
      "/tmp/ipykernel_33443/3698918106.py:9: DeprecationWarning: the imp module is deprecated in favour of importlib and slated for removal in Python 3.12; see the module's documentation for alternative uses\n",
      "  import imp\n"
     ]
    }
   ],
   "source": [
    "import bigbang.ingress.mailman as mailman\n",
    "import bigbang.analysis.graph as graph\n",
    "import bigbang.analysis.process as process\n",
    "from bigbang.parse import get_date\n",
    "from bigbang.archive import Archive\n",
    "from bigbang.archive import load as load_archive\n",
    "import bigbang.analysis.utils as analysis_utils\n",
    "\n",
    "import imp\n",
    "imp.reload(process)\n",
    "\n",
    "import pandas as pd\n",
    "import datetime\n",
    "import matplotlib.pyplot as plt\n",
    "import numpy as np\n",
    "import math\n",
    "import pytz\n",
    "import pickle\n",
    "import os\n",
    "\n",
    "from bigbang import parse\n",
    "from gender_detector import gender_detector as gd\n",
    "\n",
    "from textblob import TextBlob"
   ]
  },
  {
   "cell_type": "markdown",
   "metadata": {},
   "source": [
    "Now let's load the data for analysis."
   ]
  },
  {
   "cell_type": "code",
   "execution_count": 118,
   "metadata": {
    "scrolled": true
   },
   "outputs": [],
   "source": [
    "stem = False\n",
    "\n",
    "\n",
    "import os \n",
    "cwd = os.getcwd()    \n",
    "\n",
    "archives_names = [\"httpbisa\"]\n",
    "\n",
    "\n",
    "archive_paths = list()\n",
    "for archive_name in archives_names:\n",
    "    archive_paths.append('../archives/'+archive_name+'.csv')\n",
    "    \n",
    "\n",
    "archives_list = [load_archive(arch_path).data for arch_path in archive_paths]\n",
    "    \n",
    "archives = Archive(pd.concat(archives_list))\n",
    "archives_data = archives.data\n"
   ]
  },
  {
   "cell_type": "markdown",
   "metadata": {},
   "source": [
    "For each of our lists, we'll clean up the names, find the first name if there is one, and guess its gender. Pandas groups the data together for comparison. We keep count of the names we find that are ambiguous, for the next step."
   ]
  },
  {
   "cell_type": "code",
   "execution_count": 119,
   "metadata": {},
   "outputs": [],
   "source": [
    "detector = gd.GenderDetector('us')\n",
    "\n",
    "\n",
    "def guess_gender(name):\n",
    "    if not name:\n",
    "        return 'name unknown'\n",
    "    try:\n",
    "        if detector.guess(name) == 'unknown':\n",
    "            return 'gender unknown'\n",
    "        \n",
    "        return detector.guess(name)\n",
    "    except:\n",
    "        return 'error'\n",
    "\n",
    "\n",
    "def lookup_index(df, mdf, val, field = 'From Gender'):\n",
    "    #addr = analysis_utils.extract_email(val)\n",
    "    #if not addr:\n",
    "    #    return 'email garbled'\n",
    "    #else:\n",
    "        #vidx =  df[[analysis_utils.extract_email(e) in addr for e in df.index]]\n",
    "    vidx = df[df.index == val]\n",
    "    if vidx.empty :\n",
    "        return None\n",
    "    else :\n",
    "        #print(vidx.index.values[0])\n",
    "        midx = mdf[mdf.index == vidx.index.values[0]]\n",
    "        #print(midx.head())\n",
    "        #print(midx.index)\n",
    "        if midx.empty :\n",
    "            return None\n",
    "        else :\n",
    "            return midx[field].values[0]"
   ]
  },
  {
   "cell_type": "code",
   "execution_count": 120,
   "metadata": {},
   "outputs": [],
   "source": [
    "mod_data = archives_data.dropna()\n",
    "mod_data = mod_data[mod_data['In-Reply-To'] != 'None']\n",
    "#mod_data = mod_data.head(30)\n",
    "mod_data['Sentiment'] = mod_data['Body'].map(lambda x: TextBlob(x).sentiment.polarity)\n",
    "mod_data['From Name'] = mod_data['From'].map(lambda x: parse.clean_from(x))\n",
    "mod_data['From First Name'] = mod_data['From Name'].map(lambda x: parse.guess_first_name(x))\n",
    "mod_data['From Gender'] = mod_data['From First Name'].map(guess_gender)\n",
    "mod_data['InReplyTo Gender'] = mod_data['In-Reply-To'].map(lambda x: lookup_index(archives_data, mod_data,x))\n",
    "mod_data = mod_data.dropna()"
   ]
  },
  {
   "cell_type": "code",
   "execution_count": 121,
   "metadata": {},
   "outputs": [
    {
     "data": {
      "text/plain": [
       "25796"
      ]
     },
     "execution_count": 121,
     "metadata": {},
     "output_type": "execute_result"
    }
   ],
   "source": [
    "mod_data['From'].size"
   ]
  },
  {
   "cell_type": "code",
   "execution_count": 122,
   "metadata": {},
   "outputs": [
    {
     "data": {
      "text/plain": [
       "40147"
      ]
     },
     "execution_count": 122,
     "metadata": {},
     "output_type": "execute_result"
    }
   ],
   "source": [
    "archives_data['From'].size"
   ]
  },
  {
   "cell_type": "code",
   "execution_count": 123,
   "metadata": {},
   "outputs": [
    {
     "name": "stdout",
     "output_type": "stream",
     "text": [
      "328\n",
      "150\n",
      "16474\n",
      "3423\n",
      "323\n",
      "270\n",
      "15604\n",
      "2202\n",
      "190\n",
      "75\n",
      "183\n",
      "195\n",
      "10002\n",
      "1566\n",
      "6\n",
      "12\n"
     ]
    }
   ],
   "source": [
    "#mod_data\n",
    "#mod_data['In-Reply-To'].head().map(lambda x: lookup_index(archives_data,x))\n",
    "\n",
    "tempdata = mod_data.groupby(['From Gender','InReplyTo Gender','From'], as_index=False)['From'].count()\n",
    "\n",
    "tempdata = pd.DataFrame(tempdata)\n",
    "#print(tempdata)\n",
    "\n",
    "#tempdata = mod_data.drop_duplicates('From')\n",
    "\n",
    "print(tempdata[tempdata['From Gender'] == 'female']['From'].sum())\n",
    "\n",
    "print(tempdata[tempdata['From Gender'] == 'female'].size)\n",
    "\n",
    "print(tempdata[tempdata['From Gender'] == 'male']['From'].sum())\n",
    "\n",
    "print(tempdata[tempdata['From Gender'] == 'male'].size)\n",
    "\n",
    "print(tempdata[tempdata['InReplyTo Gender'] == 'female']['From'].sum())\n",
    "\n",
    "print(tempdata[tempdata['InReplyTo Gender'] == 'female'].size)\n",
    "\n",
    "print(tempdata[tempdata['InReplyTo Gender'] == 'male']['From'].sum())\n",
    "\n",
    "print(tempdata[tempdata['InReplyTo Gender'] == 'male'].size)\n",
    "\n",
    "print(tempdata[(tempdata['From Gender'] == 'female') & (tempdata['InReplyTo Gender'] == 'male')]['From'].sum())\n",
    "\n",
    "print(tempdata[(tempdata['From Gender'] == 'female') & (tempdata['InReplyTo Gender'] == 'male')].size)\n",
    "\n",
    "print(tempdata[(tempdata['From Gender'] == 'male') & (tempdata['InReplyTo Gender'] == 'female')]['From'].sum())\n",
    "\n",
    "print(tempdata[(tempdata['From Gender'] == 'male') & (tempdata['InReplyTo Gender'] == 'female')].size)\n",
    "\n",
    "print(tempdata[(tempdata['From Gender'] == 'male') & (tempdata['InReplyTo Gender'] == 'male')]['From'].sum())\n",
    "\n",
    "print(tempdata[(tempdata['From Gender'] == 'male') & (tempdata['InReplyTo Gender'] == 'male')].size)\n",
    "\n",
    "print(tempdata[(tempdata['From Gender'] == 'female') & (tempdata['InReplyTo Gender'] == 'female')]['From'].sum())\n",
    "\n",
    "print(tempdata[(tempdata['From Gender'] == 'female') & (tempdata['InReplyTo Gender'] == 'female')].size)"
   ]
  },
  {
   "cell_type": "code",
   "execution_count": 124,
   "metadata": {},
   "outputs": [
    {
     "name": "stdout",
     "output_type": "stream",
     "text": [
      "Minimun Sentiment Expressed from one gender to another\n",
      "From Gender     InReplyTo Gender\n",
      "error           error               0.154949\n",
      "                gender unknown      0.045000\n",
      "                male                0.065530\n",
      "female          female             -0.114744\n",
      "                gender unknown     -0.087662\n",
      "                male               -0.121667\n",
      "                name unknown       -0.090000\n",
      "gender unknown  error               0.077412\n",
      "                female             -0.050000\n",
      "                gender unknown     -0.750000\n",
      "                male               -1.000000\n",
      "                name unknown       -0.205556\n",
      "male            error               0.047436\n",
      "                female             -0.462500\n",
      "                gender unknown     -0.700000\n",
      "                male               -0.750000\n",
      "                name unknown       -0.175000\n",
      "Name: Sentiment, dtype: float64\n",
      "=======\n",
      "=======\n",
      "Maximum Sentiment Polarity Expressed from one Gender to another\n",
      "From Gender     InReplyTo Gender\n",
      "error           error               0.154949\n",
      "                gender unknown      0.173148\n",
      "                male                0.229605\n",
      "female          female              0.156558\n",
      "                gender unknown      0.500000\n",
      "                male                0.533333\n",
      "                name unknown        0.204762\n",
      "gender unknown  error               0.186667\n",
      "                female              0.557143\n",
      "                gender unknown      0.750000\n",
      "                male                1.000000\n",
      "                name unknown        0.766667\n",
      "male            error               0.340179\n",
      "                female              0.750000\n",
      "                gender unknown      1.000000\n",
      "                male                0.800000\n",
      "                name unknown        1.000000\n",
      "Name: Sentiment, dtype: float64\n",
      "=======\n",
      "=======\n",
      "Sum of all sentiment polarity expressed from one Gender to another\n",
      "From Gender     InReplyTo Gender\n",
      "error           error                  0.154949\n",
      "                gender unknown         0.283148\n",
      "                male                   1.910701\n",
      "female          female                 0.311267\n",
      "                gender unknown        17.745453\n",
      "                male                  27.154412\n",
      "                name unknown           0.526495\n",
      "gender unknown  error                  0.389164\n",
      "                female                23.238618\n",
      "                gender unknown       455.494570\n",
      "                male                 846.624185\n",
      "                name unknown          61.453039\n",
      "male            error                  1.865794\n",
      "                female                23.089044\n",
      "                gender unknown       674.537999\n",
      "                male                1237.845733\n",
      "                name unknown         119.448438\n",
      "Name: Sentiment, dtype: float64\n",
      "=======\n",
      "=======\n",
      "Average sentiment polarity expressed from one Gender to another\n",
      "From Gender     InReplyTo Gender\n",
      "error           error               0.154949\n",
      "                gender unknown      0.094383\n",
      "                male                0.159225\n",
      "female          female              0.051878\n",
      "                gender unknown      0.143108\n",
      "                male                0.142918\n",
      "                name unknown        0.065812\n",
      "gender unknown  error               0.129721\n",
      "                female              0.173423\n",
      "                gender unknown      0.150130\n",
      "                male                0.156782\n",
      "                name unknown        0.150990\n",
      "male            error               0.143523\n",
      "                female              0.126170\n",
      "                gender unknown      0.126698\n",
      "                male                0.123760\n",
      "                name unknown        0.125471\n",
      "Name: Sentiment, dtype: float64\n",
      "=======\n",
      "=======\n",
      "Standard Deviation in sentiment polarity expressed from one Gender to another\n",
      "From Gender     InReplyTo Gender\n",
      "error           error                    NaN\n",
      "                gender unknown      0.068942\n",
      "                male                0.044927\n",
      "female          female              0.097742\n",
      "                gender unknown      0.104407\n",
      "                male                0.114603\n",
      "                name unknown        0.091431\n",
      "gender unknown  error               0.054775\n",
      "                female              0.115008\n",
      "                gender unknown      0.127807\n",
      "                male                0.129566\n",
      "                name unknown        0.116095\n",
      "male            error               0.075020\n",
      "                female              0.138883\n",
      "                gender unknown      0.118727\n",
      "                male                0.104428\n",
      "                name unknown        0.105396\n",
      "Name: Sentiment, dtype: float64\n",
      "=======\n",
      "=======\n",
      "Variance in sentiment polarity expressed from one Gender to another\n",
      "From Gender     InReplyTo Gender\n",
      "error           error                    NaN\n",
      "                gender unknown      0.004753\n",
      "                male                0.002018\n",
      "female          female              0.009553\n",
      "                gender unknown      0.010901\n",
      "                male                0.013134\n",
      "                name unknown        0.008360\n",
      "gender unknown  error               0.003000\n",
      "                female              0.013227\n",
      "                gender unknown      0.016335\n",
      "                male                0.016787\n",
      "                name unknown        0.013478\n",
      "male            error               0.005628\n",
      "                female              0.019288\n",
      "                gender unknown      0.014096\n",
      "                male                0.010905\n",
      "                name unknown        0.011108\n",
      "Name: Sentiment, dtype: float64\n",
      "=======\n"
     ]
    }
   ],
   "source": [
    "print(\"Minimun Sentiment Expressed from one gender to another\")\n",
    "print(mod_data.groupby(['From Gender', 'InReplyTo Gender'])['Sentiment'].aggregate('min'))\n",
    "print(\"=======\")\n",
    "print(\"=======\")\n",
    "print(\"Maximum Sentiment Polarity Expressed from one Gender to another\")\n",
    "print(mod_data.groupby(['From Gender', 'InReplyTo Gender'])['Sentiment'].aggregate('max'))\n",
    "print(\"=======\")\n",
    "print(\"=======\")\n",
    "print(\"Sum of all sentiment polarity expressed from one Gender to another\")\n",
    "print(mod_data.groupby(['From Gender', 'InReplyTo Gender'])['Sentiment'].aggregate('sum'))\n",
    "print(\"=======\")\n",
    "print(\"=======\")\n",
    "print(\"Average sentiment polarity expressed from one Gender to another\")\n",
    "print(mod_data.groupby(['From Gender', 'InReplyTo Gender'])['Sentiment'].aggregate('mean'))\n",
    "print(\"=======\")\n",
    "print(\"=======\")\n",
    "print(\"Standard Deviation in sentiment polarity expressed from one Gender to another\")\n",
    "print(mod_data.groupby(['From Gender', 'InReplyTo Gender'])['Sentiment'].aggregate('std'))\n",
    "print(\"=======\")\n",
    "print(\"=======\")\n",
    "print(\"Variance in sentiment polarity expressed from one Gender to another\")\n",
    "print(mod_data.groupby(['From Gender', 'InReplyTo Gender'])['Sentiment'].aggregate('var'))\n",
    "print(\"=======\")\n"
   ]
  },
  {
   "cell_type": "code",
   "execution_count": null,
   "metadata": {},
   "outputs": [],
   "source": []
  }
 ],
 "metadata": {
  "kernelspec": {
   "display_name": "Python 3 (ipykernel)",
   "language": "python",
   "name": "python3"
  },
  "language_info": {
   "codemirror_mode": {
    "name": "ipython",
    "version": 3
   },
   "file_extension": ".py",
   "mimetype": "text/x-python",
   "name": "python",
   "nbconvert_exporter": "python",
   "pygments_lexer": "ipython3",
   "version": "3.11.3"
  }
 },
 "nbformat": 4,
 "nbformat_minor": 1
}
