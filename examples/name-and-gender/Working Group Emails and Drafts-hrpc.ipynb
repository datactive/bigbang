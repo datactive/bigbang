{
 "cells": [
  {
   "cell_type": "markdown",
   "metadata": {},
   "source": [
    "This notebook compares the email activities and draft activites of an IETF working group."
   ]
  },
  {
   "cell_type": "markdown",
   "metadata": {},
   "source": [
    "Import the BigBang modules as needed. These should be in your Python environment if you've installed BigBang correctly."
   ]
  },
  {
   "cell_type": "code",
   "execution_count": 1,
   "metadata": {
    "jupyter": {
     "outputs_hidden": false
    }
   },
   "outputs": [],
   "source": [
    "import bigbang.mailman as mailman\n",
    "from bigbang.parse import get_date\n",
    "\n",
    "# from bigbang.functions import *\n",
    "from bigbang.archive import Archive\n",
    "\n",
    "from ietfdata.datatracker import *"
   ]
  },
  {
   "cell_type": "markdown",
   "metadata": {},
   "source": [
    "Also, let's import a number of other dependencies we'll use later."
   ]
  },
  {
   "cell_type": "code",
   "execution_count": 2,
   "metadata": {
    "jupyter": {
     "outputs_hidden": false
    }
   },
   "outputs": [],
   "source": [
    "import pandas as pd\n",
    "import datetime\n",
    "import matplotlib.pyplot as plt\n",
    "import numpy as np\n",
    "import math\n",
    "import pytz\n",
    "import pickle\n",
    "import os"
   ]
  },
  {
   "cell_type": "markdown",
   "metadata": {},
   "source": [
    "## Load the HRPC Mailing List\n",
    "\n",
    "Now let's load the email data for analysis."
   ]
  },
  {
   "cell_type": "code",
   "execution_count": 3,
   "metadata": {
    "jupyter": {
     "outputs_hidden": false
    }
   },
   "outputs": [
    {
     "name": "stderr",
     "output_type": "stream",
     "text": [
      "/home/sb/projects/bigbang/bigbang/mailman.py:141: UserWarning: No mailing list name found at hrpc\n",
      "  warnings.warn(\"No mailing list name found at %s\" % url)\n"
     ]
    }
   ],
   "source": [
    "wg = \"hrpc\"\n",
    "\n",
    "urls = [wg]\n",
    "\n",
    "archives = [Archive(url, mbox=True) for url in urls]\n",
    "\n",
    "activities = [arx.get_activity(resolved=False) for arx in archives]\n",
    "activity = activities[0]"
   ]
  },
  {
   "cell_type": "markdown",
   "metadata": {},
   "source": [
    "## Load IETF Draft Data\n",
    "\n",
    "Next, we will use the `ietfdata` tracker to look at the frequency of drafts for this working group."
   ]
  },
  {
   "cell_type": "code",
   "execution_count": 5,
   "metadata": {},
   "outputs": [],
   "source": [
    "from ietfdata.datatracker import *\n",
    "from ietfdata.datatracker_ext import *\n",
    "\n",
    "import pandas as pd\n",
    "\n",
    "dt = DataTracker()\n",
    "\n",
    "g = dt.group_from_acronym(\"hrpc\")\n",
    "drafts = [\n",
    "    draft\n",
    "    for draft in dt.documents(group=g, doctype=dt.document_type_from_slug(\"draft\"))\n",
    "]\n",
    "\n",
    "\n",
    "draft_df = pd.DataFrame.from_records(\n",
    "    [{\"time\": draft.time, \"title\": draft.title, \"id\": draft.id} for draft in drafts]\n",
    ")"
   ]
  },
  {
   "cell_type": "markdown",
   "metadata": {},
   "source": [
    "We will want to use the data of the drafts. Time resolution is too small."
   ]
  },
  {
   "cell_type": "code",
   "execution_count": 7,
   "metadata": {},
   "outputs": [],
   "source": [
    "draft_df[\"date\"] = draft_df[\"time\"].dt.date"
   ]
  },
  {
   "cell_type": "markdown",
   "metadata": {},
   "source": [
    "## Gender score and tendency measures\n",
    "\n",
    "This notebook uses the (notably imperfect) method of using first names to guess the gender of each draft author."
   ]
  },
  {
   "cell_type": "code",
   "execution_count": null,
   "metadata": {},
   "outputs": [],
   "source": [
    "from gender_detector import gender_detector as gd\n",
    "\n",
    "detector = gd.GenderDetector(\"us\")\n",
    "\n",
    "\n",
    "def gender_score(name):\n",
    "    \"\"\"\n",
    "    Takes a full name and returns a score for the guessed\n",
    "    gender.\n",
    "\n",
    "    1 - male\n",
    "    0 - female\n",
    "    .5 - unknown\n",
    "    \"\"\"\n",
    "    try:\n",
    "        first_name = name.split(\" \")[0]\n",
    "        guess = detector.guess(first_name)\n",
    "        score = 0\n",
    "        if guess == \"male\":\n",
    "            return 1.0\n",
    "        elif guess == \"female\":\n",
    "            return 0.0\n",
    "        else:\n",
    "            # name does not have confidence to guesss\n",
    "            return 0.5\n",
    "    except:\n",
    "        # Some error, \"unknown\"\n",
    "        return 0.5"
   ]
  },
  {
   "cell_type": "markdown",
   "metadata": {},
   "source": [
    "## Gender guesses on mailing list activity\n",
    "\n",
    "Now to use the gender guesser to track the contributions by differently gendered participants over time."
   ]
  },
  {
   "cell_type": "code",
   "execution_count": null,
   "metadata": {},
   "outputs": [],
   "source": [
    "from bigbang.parse import clean_name"
   ]
  },
  {
   "cell_type": "code",
   "execution_count": null,
   "metadata": {},
   "outputs": [],
   "source": [
    "gender_activity = (\n",
    "    activity.groupby(by=lambda x: gender_score(clean_name(x)), axis=1)\n",
    "    .sum()\n",
    "    .rename({0.0: \"women\", 0.5: \"unknown\", 1.0: \"men\"}, axis=\"columns\")\n",
    ")"
   ]
  },
  {
   "cell_type": "markdown",
   "metadata": {},
   "source": [
    "Note that our gender scoring method currently is unable to get a clear guess for a large percentage of the emails!"
   ]
  },
  {
   "cell_type": "code",
   "execution_count": null,
   "metadata": {},
   "outputs": [],
   "source": [
    "print(\n",
    "    \"%f.2 percent of emails are from an unknown gender.\"\n",
    "    % (gender_activity[\"unknown\"].sum() / gender_activity.sum().sum())\n",
    ")\n",
    "\n",
    "plt.bar([\"women\", \"unknown\", \"men\"], gender_activity.sum())\n",
    "plt.title(\"Total emails sent by guessed gender\")"
   ]
  },
  {
   "cell_type": "markdown",
   "metadata": {},
   "source": [
    "## Plotting\n",
    "\n",
    "Some preprocessing is necessary to get the drafts data ready for plotting."
   ]
  },
  {
   "cell_type": "code",
   "execution_count": null,
   "metadata": {},
   "outputs": [],
   "source": [
    "from matplotlib import cm\n",
    "\n",
    "viridis = cm.get_cmap(\"viridis\")"
   ]
  },
  {
   "cell_type": "code",
   "execution_count": null,
   "metadata": {},
   "outputs": [],
   "source": [
    "drafts_per_day = draft_df.groupby(\"date\").count()[\"title\"]"
   ]
  },
  {
   "cell_type": "markdown",
   "metadata": {},
   "source": [
    "For each of the mailing lists we are looking at, plot the rolling average (over `window`) of number of emails sent per day.\n",
    "\n",
    "Then plot a vertical line with the height of the drafts count and colored by the gender tendency."
   ]
  },
  {
   "cell_type": "code",
   "execution_count": null,
   "metadata": {
    "jupyter": {
     "outputs_hidden": false
    }
   },
   "outputs": [],
   "source": [
    "window = 100"
   ]
  },
  {
   "cell_type": "code",
   "execution_count": null,
   "metadata": {
    "jupyter": {
     "outputs_hidden": false
    },
    "scrolled": true
   },
   "outputs": [],
   "source": [
    "plt.figure(figsize=(12, 6))\n",
    "\n",
    "for i, gender in enumerate(gender_activity.columns):\n",
    "    colors = [viridis(0), viridis(0.5), viridis(0.99)]\n",
    "\n",
    "    ta = gender_activity[gender]\n",
    "    rmta = ta.rolling(window).mean()\n",
    "    rmtadna = rmta.dropna()\n",
    "    plt.plot_date(\n",
    "        np.array(rmtadna.index),\n",
    "        np.array(rmtadna.values),\n",
    "        color=colors[i],\n",
    "        linestyle=\"-\",\n",
    "        marker=None,\n",
    "        label=\"%s email activity - %s\" % (wg, gender),\n",
    "        xdate=True,\n",
    "    )\n",
    "\n",
    "\n",
    "vax = plt.vlines(\n",
    "    drafts_per_day.index,\n",
    "    0,\n",
    "    drafts_per_day,\n",
    "    colors=\"r\",  # draft_gt_per_day,\n",
    "    cmap=\"viridis\",\n",
    "    label=f\"{wg} drafts ({drafts_per_day.sum()} total)\",\n",
    ")\n",
    "\n",
    "plt.legend()\n",
    "plt.title(f\"{wg} working group emails and drafts\")\n",
    "# plt.colorbar(vax, label = \"more womanly <-- Gender Tendency --> more manly\")\n",
    "\n",
    "# plt.savefig(\"activites-marked.png\")\n",
    "# plt.show()"
   ]
  },
  {
   "cell_type": "markdown",
   "metadata": {},
   "source": [
    "### Is gender diversity correlated with draft output?\n",
    "\n"
   ]
  },
  {
   "cell_type": "code",
   "execution_count": null,
   "metadata": {},
   "outputs": [],
   "source": [
    "from scipy.stats import pearsonr\n",
    "import pandas as pd\n",
    "\n",
    "\n",
    "def calculate_pvalues(df):\n",
    "    df = df.dropna()._get_numeric_data()\n",
    "    dfcols = pd.DataFrame(columns=df.columns)\n",
    "    pvalues = dfcols.transpose().join(dfcols, how=\"outer\")\n",
    "    for r in df.columns:\n",
    "        for c in df.columns:\n",
    "            pvalues[r][c] = round(pearsonr(df[r], df[c])[1], 4)\n",
    "    return pvalues"
   ]
  },
  {
   "cell_type": "code",
   "execution_count": null,
   "metadata": {},
   "outputs": [],
   "source": [
    "drafts_per_ordinal_day = pd.Series(\n",
    "    {x[0].toordinal(): x[1] for x in drafts_per_day.items()}\n",
    ")"
   ]
  },
  {
   "cell_type": "code",
   "execution_count": null,
   "metadata": {},
   "outputs": [],
   "source": [
    "drafts_per_ordinal_day"
   ]
  },
  {
   "cell_type": "code",
   "execution_count": null,
   "metadata": {},
   "outputs": [],
   "source": [
    "ta.rolling(window).mean()"
   ]
  },
  {
   "cell_type": "code",
   "execution_count": null,
   "metadata": {},
   "outputs": [],
   "source": [
    "garm = np.log1p(gender_activity.rolling(window).mean())"
   ]
  },
  {
   "cell_type": "markdown",
   "metadata": {},
   "source": [
    "## Measuring diversity\n",
    "\n",
    "As a rough measure of gender diversity, we sum the mailing list activity of women and those of unidentified gender, and divide by the activity of men."
   ]
  },
  {
   "cell_type": "code",
   "execution_count": null,
   "metadata": {},
   "outputs": [],
   "source": [
    "garm[\"diversity\"] = (garm[\"unknown\"] + garm[\"women\"]) / garm[\"men\"]"
   ]
  },
  {
   "cell_type": "code",
   "execution_count": null,
   "metadata": {},
   "outputs": [],
   "source": [
    "garm[\"drafts\"] = drafts_per_ordinal_day\n",
    "garm[\"drafts\"] = garm[\"drafts\"].fillna(0)"
   ]
  },
  {
   "cell_type": "code",
   "execution_count": null,
   "metadata": {},
   "outputs": [],
   "source": [
    "garm.corr(method=\"pearson\")"
   ]
  },
  {
   "cell_type": "code",
   "execution_count": null,
   "metadata": {},
   "outputs": [],
   "source": [
    "calculate_pvalues(garm)"
   ]
  },
  {
   "cell_type": "markdown",
   "metadata": {},
   "source": [
    "Some variations..."
   ]
  },
  {
   "cell_type": "code",
   "execution_count": null,
   "metadata": {},
   "outputs": [],
   "source": [
    "garm_dna = garm.dropna(subset=[\"drafts\"])"
   ]
  },
  {
   "cell_type": "code",
   "execution_count": null,
   "metadata": {},
   "outputs": [],
   "source": []
  }
 ],
 "metadata": {
  "kernelspec": {
   "display_name": "bigbang-env",
   "language": "python",
   "name": "bigbang-env"
  },
  "language_info": {
   "codemirror_mode": {
    "name": "ipython",
    "version": 3
   },
   "file_extension": ".py",
   "mimetype": "text/x-python",
   "name": "python",
   "nbconvert_exporter": "python",
   "pygments_lexer": "ipython3",
   "version": "3.9.5"
  },
  "latex_envs": {
   "LaTeX_envs_menu_present": true,
   "autoclose": false,
   "autocomplete": true,
   "bibliofile": "biblio.bib",
   "cite_by": "apalike",
   "current_citInitial": 1,
   "eqLabelWithNumbers": true,
   "eqNumInitial": 1,
   "hotkeys": {
    "equation": "Ctrl-E",
    "itemize": "Ctrl-I"
   },
   "labels_anchors": false,
   "latex_user_defs": false,
   "report_style_numbering": false,
   "user_envs_cfg": false
  },
  "toc": {
   "base_numbering": 1,
   "nav_menu": {},
   "number_sections": true,
   "sideBar": true,
   "skip_h1_title": false,
   "title_cell": "Table of Contents",
   "title_sidebar": "Contents",
   "toc_cell": false,
   "toc_position": {},
   "toc_section_display": true,
   "toc_window_display": false
  }
 },
 "nbformat": 4,
 "nbformat_minor": 4
}
