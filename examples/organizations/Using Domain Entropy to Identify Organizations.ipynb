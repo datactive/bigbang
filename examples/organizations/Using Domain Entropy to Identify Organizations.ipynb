{
 "cells": [
  {
   "cell_type": "code",
   "execution_count": 1,
   "id": "pending-sailing",
   "metadata": {
    "scrolled": true
   },
   "outputs": [],
   "source": [
    "from bigbang.archive import Archive\n",
    "import bigbang.analysis.utils as utils\n",
    "import matplotlib.pyplot as plt\n",
    "import pandas as pd\n",
    "import re"
   ]
  },
  {
   "cell_type": "markdown",
   "id": "conservative-salad",
   "metadata": {},
   "source": [
    "## Preparing the data\n",
    "\n",
    "Open a mailing list archive."
   ]
  },
  {
   "cell_type": "code",
   "execution_count": 2,
   "id": "mineral-volume",
   "metadata": {},
   "outputs": [
    {
     "name": "stderr",
     "output_type": "stream",
     "text": [
      "/home/sb/projects/bigbang/bigbang/mailman.py:141: UserWarning: No mailing list name found at httpbisa\n",
      "  warnings.warn(\"No mailing list name found at %s\" % url)\n"
     ]
    }
   ],
   "source": [
    "arx = Archive(\"httpbisa\", mbox=True)"
   ]
  },
  {
   "cell_type": "markdown",
   "id": "bulgarian-documentation",
   "metadata": {},
   "source": [
    "We will need to extract email addresses and email domains from the `From` field of the emails."
   ]
  },
  {
   "cell_type": "code",
   "execution_count": 3,
   "id": "acceptable-permit",
   "metadata": {},
   "outputs": [
    {
     "data": {
      "text/plain": [
       "'w3.org'"
      ]
     },
     "execution_count": 3,
     "metadata": {},
     "output_type": "execute_result"
    }
   ],
   "source": [
    "email_regex = r\"[a-zA-Z0-9_.+-]+@[a-zA-Z0-9-]+\\.[a-zA-Z0-9-.]+\"\n",
    "domain_regex = r\"[@]([a-zA-Z0-9-]+\\.[a-zA-Z0-9-.]+)$\"\n",
    "\n",
    "email = re.search(email_regex, \"Gerald Oskoboiny <gerald@w3.org>\")[0]\n",
    "re.search(domain_regex, email)[1]"
   ]
  },
  {
   "cell_type": "markdown",
   "id": "confident-division",
   "metadata": {},
   "source": [
    "We can break down all the emails sent to the mailing list by domain."
   ]
  },
  {
   "cell_type": "code",
   "execution_count": 4,
   "id": "regional-happening",
   "metadata": {},
   "outputs": [
    {
     "data": {
      "text/plain": [
       "gmail.com              6709\n",
       "mnot.net               4372\n",
       "gmx.de                 3724\n",
       "1wt.eu                 1549\n",
       "phk.freebsd.dk         1242\n",
       "treenet.co.nz          1028\n",
       "qbik.com                854\n",
       "ietf.org                814\n",
       "google.com              792\n",
       "henriknordstrom.net     790\n",
       "gbiv.com                727\n",
       "chromium.org            714\n",
       "microsoft.com           647\n",
       "intalio.com             420\n",
       "apple.com               417\n",
       "Name: From, dtype: int64"
      ]
     },
     "execution_count": 4,
     "metadata": {},
     "output_type": "execute_result"
    }
   ],
   "source": [
    "arx.data[\"From\"].apply(utils.extract_domain).value_counts().head(15)"
   ]
  },
  {
   "cell_type": "markdown",
   "id": "cleared-province",
   "metadata": {},
   "source": [
    "We can see that there are some generic email domains (gmail.com), some personal email domains (mnot.net), and some corporate email domains (google.com, apple.com). If we are interested in organizations, we need to identify domains that represent collections of people representing a single organization. How can we find that out?"
   ]
  },
  {
   "cell_type": "markdown",
   "id": "mounted-auction",
   "metadata": {},
   "source": [
    "## Defining Domain Entropy"
   ]
  },
  {
   "cell_type": "code",
   "execution_count": 5,
   "id": "charitable-factor",
   "metadata": {},
   "outputs": [],
   "source": [
    "froms = arx.get_personal_headers()"
   ]
  },
  {
   "cell_type": "code",
   "execution_count": 6,
   "id": "convinced-piano",
   "metadata": {},
   "outputs": [
    {
     "data": {
      "text/html": [
       "<div>\n",
       "<style scoped>\n",
       "    .dataframe tbody tr th:only-of-type {\n",
       "        vertical-align: middle;\n",
       "    }\n",
       "\n",
       "    .dataframe tbody tr th {\n",
       "        vertical-align: top;\n",
       "    }\n",
       "\n",
       "    .dataframe thead th {\n",
       "        text-align: right;\n",
       "    }\n",
       "</style>\n",
       "<table border=\"1\" class=\"dataframe\">\n",
       "  <thead>\n",
       "    <tr style=\"text-align: right;\">\n",
       "      <th></th>\n",
       "      <th>From</th>\n",
       "      <th>email</th>\n",
       "      <th>domain</th>\n",
       "    </tr>\n",
       "    <tr>\n",
       "      <th>Message-ID</th>\n",
       "      <th></th>\n",
       "      <th></th>\n",
       "      <th></th>\n",
       "    </tr>\n",
       "  </thead>\n",
       "  <tbody>\n",
       "    <tr>\n",
       "      <th>&lt;20020412162821.GA21015@w3.org&gt;</th>\n",
       "      <td>Gerald Oskoboiny &lt;gerald@w3.org&gt;</td>\n",
       "      <td>gerald@w3.org</td>\n",
       "      <td>w3.org</td>\n",
       "    </tr>\n",
       "    <tr>\n",
       "      <th>&lt;009901c1e5b5$07513b90$71432099@larrypad&gt;</th>\n",
       "      <td>\"Larry Masinter\" &lt;LMM@acm.org&gt;</td>\n",
       "      <td>lmm@acm.org</td>\n",
       "      <td>acm.org</td>\n",
       "    </tr>\n",
       "    <tr>\n",
       "      <th>&lt;20020423124259.Y20848@www.markbaker.ca&gt;</th>\n",
       "      <td>Mark Baker &lt;distobj@acm.org&gt;</td>\n",
       "      <td>distobj@acm.org</td>\n",
       "      <td>acm.org</td>\n",
       "    </tr>\n",
       "    <tr>\n",
       "      <th>&lt;82ofg99bld.fsf@dhcp74.ma.virata.com&gt;</th>\n",
       "      <td>Scott Lawrence &lt;lawrence@world.std.com&gt;</td>\n",
       "      <td>lawrence@world.std.com</td>\n",
       "      <td>world.std.com</td>\n",
       "    </tr>\n",
       "    <tr>\n",
       "      <th>&lt;62E4D97E-57BF-11D6-87D7-000393753936@apache.org&gt;</th>\n",
       "      <td>\"Roy T. Fielding\" &lt;fielding@apache.org&gt;</td>\n",
       "      <td>fielding@apache.org</td>\n",
       "      <td>apache.org</td>\n",
       "    </tr>\n",
       "    <tr>\n",
       "      <th>&lt;79107D208BA38C45A4E45F62673A434D07371BCD@red-msg-07.redmond.corp.microsoft.com&gt;</th>\n",
       "      <td>\"Henrik Frystyk Nielsen\" &lt;henrikn@microsoft.com&gt;</td>\n",
       "      <td>henrikn@microsoft.com</td>\n",
       "      <td>microsoft.com</td>\n",
       "    </tr>\n",
       "    <tr>\n",
       "      <th>&lt;002001c1ebe3$98411470$77432099@larrypad&gt;</th>\n",
       "      <td>\"Larry Masinter\" &lt;LMM@acm.org&gt;</td>\n",
       "      <td>lmm@acm.org</td>\n",
       "      <td>acm.org</td>\n",
       "    </tr>\n",
       "    <tr>\n",
       "      <th>&lt;F71FB682-57E1-11D6-87D7-000393753936@apache.org&gt;</th>\n",
       "      <td>\"Roy T. Fielding\" &lt;fielding@apache.org&gt;</td>\n",
       "      <td>fielding@apache.org</td>\n",
       "      <td>apache.org</td>\n",
       "    </tr>\n",
       "    <tr>\n",
       "      <th>&lt;20020424213946.D20848@www.markbaker.ca&gt;</th>\n",
       "      <td>Mark Baker &lt;distobj@acm.org&gt;</td>\n",
       "      <td>distobj@acm.org</td>\n",
       "      <td>acm.org</td>\n",
       "    </tr>\n",
       "    <tr>\n",
       "      <th>&lt;200205101801.OAA18818@eastmail2.East.Sun.COM&gt;</th>\n",
       "      <td>Bob Scheifler - SMI Software Development &lt;rws@...</td>\n",
       "      <td>rws@east.sun.com</td>\n",
       "      <td>east.sun.com</td>\n",
       "    </tr>\n",
       "  </tbody>\n",
       "</table>\n",
       "</div>"
      ],
      "text/plain": [
       "                                                                                                 From  \\\n",
       "Message-ID                                                                                              \n",
       "<20020412162821.GA21015@w3.org>                                      Gerald Oskoboiny <gerald@w3.org>   \n",
       "<009901c1e5b5$07513b90$71432099@larrypad>                              \"Larry Masinter\" <LMM@acm.org>   \n",
       "<20020423124259.Y20848@www.markbaker.ca>                                 Mark Baker <distobj@acm.org>   \n",
       "<82ofg99bld.fsf@dhcp74.ma.virata.com>                         Scott Lawrence <lawrence@world.std.com>   \n",
       "<62E4D97E-57BF-11D6-87D7-000393753936@apache.org>             \"Roy T. Fielding\" <fielding@apache.org>   \n",
       "<79107D208BA38C45A4E45F62673A434D07371BCD@red-m...   \"Henrik Frystyk Nielsen\" <henrikn@microsoft.com>   \n",
       "<002001c1ebe3$98411470$77432099@larrypad>                              \"Larry Masinter\" <LMM@acm.org>   \n",
       "<F71FB682-57E1-11D6-87D7-000393753936@apache.org>             \"Roy T. Fielding\" <fielding@apache.org>   \n",
       "<20020424213946.D20848@www.markbaker.ca>                                 Mark Baker <distobj@acm.org>   \n",
       "<200205101801.OAA18818@eastmail2.East.Sun.COM>      Bob Scheifler - SMI Software Development <rws@...   \n",
       "\n",
       "                                                                     email  \\\n",
       "Message-ID                                                                   \n",
       "<20020412162821.GA21015@w3.org>                              gerald@w3.org   \n",
       "<009901c1e5b5$07513b90$71432099@larrypad>                      lmm@acm.org   \n",
       "<20020423124259.Y20848@www.markbaker.ca>                   distobj@acm.org   \n",
       "<82ofg99bld.fsf@dhcp74.ma.virata.com>               lawrence@world.std.com   \n",
       "<62E4D97E-57BF-11D6-87D7-000393753936@apache.org>      fielding@apache.org   \n",
       "<79107D208BA38C45A4E45F62673A434D07371BCD@red-m...   henrikn@microsoft.com   \n",
       "<002001c1ebe3$98411470$77432099@larrypad>                      lmm@acm.org   \n",
       "<F71FB682-57E1-11D6-87D7-000393753936@apache.org>      fielding@apache.org   \n",
       "<20020424213946.D20848@www.markbaker.ca>                   distobj@acm.org   \n",
       "<200205101801.OAA18818@eastmail2.East.Sun.COM>            rws@east.sun.com   \n",
       "\n",
       "                                                           domain  \n",
       "Message-ID                                                         \n",
       "<20020412162821.GA21015@w3.org>                            w3.org  \n",
       "<009901c1e5b5$07513b90$71432099@larrypad>                 acm.org  \n",
       "<20020423124259.Y20848@www.markbaker.ca>                  acm.org  \n",
       "<82ofg99bld.fsf@dhcp74.ma.virata.com>               world.std.com  \n",
       "<62E4D97E-57BF-11D6-87D7-000393753936@apache.org>      apache.org  \n",
       "<79107D208BA38C45A4E45F62673A434D07371BCD@red-m...  microsoft.com  \n",
       "<002001c1ebe3$98411470$77432099@larrypad>                 acm.org  \n",
       "<F71FB682-57E1-11D6-87D7-000393753936@apache.org>      apache.org  \n",
       "<20020424213946.D20848@www.markbaker.ca>                  acm.org  \n",
       "<200205101801.OAA18818@eastmail2.East.Sun.COM>       east.sun.com  "
      ]
     },
     "execution_count": 6,
     "metadata": {},
     "output_type": "execute_result"
    }
   ],
   "source": [
    "froms.head(10)"
   ]
  },
  {
   "cell_type": "markdown",
   "id": "suspended-fleece",
   "metadata": {},
   "source": [
    "In order to evaluate the extent to which a domain represents (a) and individual, (b) a set of organized individuals, or (c) a large set of unorganized individuals, we will measure the concentration of the distribution of email addresses per domain.\n",
    "\n",
    "If $n_D$ is the number of messages from domain $D$, and $n_e$ is the number of messages from email address $e$, then we will compute the information entropy of the frequency of $e$ in $D$.\n",
    "\n",
    "$$H(D) = - \\sum_{e \\in D} \\frac{n_e}{n_D} \\log \\frac{n_e}{n_D}$$"
   ]
  },
  {
   "cell_type": "markdown",
   "id": "ahead-input",
   "metadata": {},
   "source": [
    "Using metric, we can now see that Mark Nottingham's personal domain `mnot.net` has lower domain entropy than the company Apple's domain `apple.com`, which has lower domain entropy than the generic personal domain `gmail.com`."
   ]
  },
  {
   "cell_type": "code",
   "execution_count": 7,
   "id": "fewer-worcester",
   "metadata": {},
   "outputs": [
    {
     "data": {
      "text/plain": [
       "0.18370277742404256"
      ]
     },
     "execution_count": 7,
     "metadata": {},
     "output_type": "execute_result"
    }
   ],
   "source": [
    "utils.domain_entropy(\"mnot.net\", froms)"
   ]
  },
  {
   "cell_type": "code",
   "execution_count": 8,
   "id": "plastic-geometry",
   "metadata": {},
   "outputs": [
    {
     "data": {
      "text/plain": [
       "1.2903640226801691"
      ]
     },
     "execution_count": 8,
     "metadata": {},
     "output_type": "execute_result"
    }
   ],
   "source": [
    "utils.domain_entropy(\"apple.com\", froms)"
   ]
  },
  {
   "cell_type": "code",
   "execution_count": 9,
   "id": "indian-miniature",
   "metadata": {},
   "outputs": [
    {
     "data": {
      "text/plain": [
       "3.045345020841495"
      ]
     },
     "execution_count": 9,
     "metadata": {},
     "output_type": "execute_result"
    }
   ],
   "source": [
    "utils.domain_entropy(\"gmail.com\", froms)"
   ]
  },
  {
   "cell_type": "markdown",
   "id": "varying-logistics",
   "metadata": {},
   "source": [
    "## Using the metric"
   ]
  },
  {
   "cell_type": "markdown",
   "id": "sapphire-eating",
   "metadata": {},
   "source": [
    "We can compute the domain entropy for all domains and plot these values."
   ]
  },
  {
   "cell_type": "code",
   "execution_count": 10,
   "id": "educated-small",
   "metadata": {},
   "outputs": [],
   "source": [
    "domains = froms[\"domain\"].unique()"
   ]
  },
  {
   "cell_type": "code",
   "execution_count": 11,
   "id": "final-optics",
   "metadata": {},
   "outputs": [],
   "source": [
    "domain_entropies = pd.Series(\n",
    "    index=domains, data=[utils.domain_entropy(dom, froms) for dom in domains]\n",
    ")\n",
    "domain_entropies = domain_entropies.sort_values(ascending=False)"
   ]
  },
  {
   "cell_type": "code",
   "execution_count": 12,
   "id": "applicable-prior",
   "metadata": {},
   "outputs": [
    {
     "data": {
      "text/plain": [
       "Text(0.5, 1.0, 'Within Mailing List Domain Entropy')"
      ]
     },
     "execution_count": 12,
     "metadata": {},
     "output_type": "execute_result"
    },
    {
     "data": {
      "image/png": "[encoded data removed]",
      "text/plain": [
       "<Figure size 576x576 with 1 Axes>"
      ]
     },
     "metadata": {
      "needs_background": "light"
     },
     "output_type": "display_data"
    }
   ],
   "source": [
    "import numpy as np\n",
    "\n",
    "y_limit = 121\n",
    "dom_ent = domain_entropies.head(y_limit)\n",
    "\n",
    "fig, ax = plt.subplots(figsize=(8, 8))\n",
    "\n",
    "domains = dom_ent.index\n",
    "y_pos = np.arange(len(domains))\n",
    "\n",
    "ax.barh(y_pos, dom_ent.values)\n",
    "\n",
    "ax.set_yticks(y_pos[::3])\n",
    "ax.set_yticklabels(domains[::3])\n",
    "ax.invert_yaxis()  # labels read top-to-bottom\n",
    "ax.set_xlabel(\"Domain Entropy\")\n",
    "ax.set_title(\"Within Mailing List Domain Entropy\")"
   ]
  },
  {
   "cell_type": "markdown",
   "id": "mounted-demographic",
   "metadata": {},
   "source": [
    "The most surprising thing about this metric is that the generic email domain `gmail.com` has less entropy than the corporate domain `google.com`. Why is that?"
   ]
  },
  {
   "cell_type": "code",
   "execution_count": 13,
   "id": "transparent-briefs",
   "metadata": {},
   "outputs": [
    {
     "data": {
      "text/plain": [
       "google.com         3.162711\n",
       "gmail.com          3.045345\n",
       "hotmail.com        2.553237\n",
       "oracle.com         1.939188\n",
       "yahoo.com          1.814037\n",
       "w3.org             1.758979\n",
       "microsoft.com      1.740491\n",
       "ericsson.com       1.731023\n",
       "akamai.com         1.585919\n",
       "nokia.com          1.475076\n",
       "fb.com             1.457502\n",
       "us.ibm.com         1.430280\n",
       "opera.com          1.395972\n",
       "apple.com          1.290364\n",
       "maebashi-it.org    1.273028\n",
       "cisco.com          1.187929\n",
       "amazon.com         1.152774\n",
       "chromium.org       1.151040\n",
       "cloudflare.com     1.088900\n",
       "acm.org            1.081088\n",
       "dtype: float64"
      ]
     },
     "execution_count": 13,
     "metadata": {},
     "output_type": "execute_result"
    }
   ],
   "source": [
    "domain_entropies.head(20)"
   ]
  },
  {
   "cell_type": "markdown",
   "id": "brutal-softball",
   "metadata": {},
   "source": [
    "It looks like the `gmail.com` domain is dominated by a few major individuals, whereas the `google.com` representation is smaller overall, and more evenly distributed across their team members."
   ]
  },
  {
   "cell_type": "code",
   "execution_count": 14,
   "id": "framed-tournament",
   "metadata": {},
   "outputs": [
    {
     "data": {
      "text/plain": [
       "martin.thomson@gmail.com      2021\n",
       "grmocg@gmail.com               973\n",
       "jasnell@gmail.com              829\n",
       "zhong.j.yu@gmail.com           233\n",
       "kazuhooku@gmail.com            211\n",
       "bizzbyster@gmail.com           186\n",
       "tatsuhiro.t@gmail.com          164\n",
       "lucaspardue.24.7@gmail.com     159\n",
       "hallam@gmail.com               152\n",
       "potswa@gmail.com               132\n",
       "Name: email, dtype: int64"
      ]
     },
     "execution_count": 14,
     "metadata": {},
     "output_type": "execute_result"
    }
   ],
   "source": [
    "froms[froms[\"domain\"] == \"gmail.com\"][\"email\"].value_counts().head(10)"
   ]
  },
  {
   "cell_type": "code",
   "execution_count": 15,
   "id": "hazardous-leave",
   "metadata": {},
   "outputs": [
    {
     "data": {
      "text/plain": [
       "<AxesSubplot:>"
      ]
     },
     "execution_count": 15,
     "metadata": {},
     "output_type": "execute_result"
    },
    {
     "data": {
      "image/png": "[encoded data removed]",
      "text/plain": [
       "<Figure size 432x288 with 1 Axes>"
      ]
     },
     "metadata": {
      "needs_background": "light"
     },
     "output_type": "display_data"
    }
   ],
   "source": [
    "froms[froms[\"domain\"] == \"gmail.com\"][\"email\"].value_counts().plot()"
   ]
  },
  {
   "cell_type": "code",
   "execution_count": 16,
   "id": "municipal-winner",
   "metadata": {},
   "outputs": [
    {
     "data": {
      "text/plain": [
       "rch@google.com         105\n",
       "mkwst@google.com       101\n",
       "bemasc@google.com       59\n",
       "wenboz@google.com       58\n",
       "akalin@google.com       47\n",
       "yhirano@google.com      45\n",
       "estark@google.com       45\n",
       "jyasskin@google.com     41\n",
       "tyoshino@google.com     41\n",
       "ianswett@google.com     34\n",
       "Name: email, dtype: int64"
      ]
     },
     "execution_count": 16,
     "metadata": {},
     "output_type": "execute_result"
    }
   ],
   "source": [
    "froms[froms[\"domain\"] == \"google.com\"][\"email\"].value_counts().head(10)"
   ]
  },
  {
   "cell_type": "code",
   "execution_count": 17,
   "id": "ranking-helen",
   "metadata": {},
   "outputs": [
    {
     "data": {
      "text/plain": [
       "<AxesSubplot:>"
      ]
     },
     "execution_count": 17,
     "metadata": {},
     "output_type": "execute_result"
    },
    {
     "data": {
      "image/png": "[encoded data removed]",
      "text/plain": [
       "<Figure size 432x288 with 1 Axes>"
      ]
     },
     "metadata": {
      "needs_background": "light"
     },
     "output_type": "display_data"
    }
   ],
   "source": [
    "froms[froms[\"domain\"] == \"google.com\"][\"email\"].value_counts().plot()"
   ]
  },
  {
   "cell_type": "code",
   "execution_count": null,
   "id": "usual-headset",
   "metadata": {},
   "outputs": [],
   "source": []
  },
  {
   "cell_type": "code",
   "execution_count": null,
   "id": "0933923a",
   "metadata": {},
   "outputs": [],
   "source": []
  }
 ],
 "metadata": {
  "kernelspec": {
   "display_name": "bigbang-env",
   "language": "python",
   "name": "bigbang-env"
  },
  "language_info": {
   "codemirror_mode": {
    "name": "ipython",
    "version": 3
   },
   "file_extension": ".py",
   "mimetype": "text/x-python",
   "name": "python",
   "nbconvert_exporter": "python",
   "pygments_lexer": "ipython3",
   "version": "3.9.5"
  },
  "latex_envs": {
   "LaTeX_envs_menu_present": true,
   "autoclose": false,
   "autocomplete": true,
   "bibliofile": "biblio.bib",
   "cite_by": "apalike",
   "current_citInitial": 1,
   "eqLabelWithNumbers": true,
   "eqNumInitial": 1,
   "hotkeys": {
    "equation": "Ctrl-E",
    "itemize": "Ctrl-I"
   },
   "labels_anchors": false,
   "latex_user_defs": false,
   "report_style_numbering": false,
   "user_envs_cfg": false
  },
  "toc": {
   "base_numbering": 1,
   "nav_menu": {},
   "number_sections": true,
   "sideBar": true,
   "skip_h1_title": false,
   "title_cell": "Table of Contents",
   "title_sidebar": "Contents",
   "toc_cell": false,
   "toc_position": {},
   "toc_section_display": true,
   "toc_window_display": false
  }
 },
 "nbformat": 4,
 "nbformat_minor": 5
}
