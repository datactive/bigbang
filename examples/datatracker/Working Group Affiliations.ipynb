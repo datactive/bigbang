{
 "cells": [
  {
   "cell_type": "code",
   "execution_count": 1,
   "metadata": {},
   "outputs": [],
   "source": [
    "from ietfdata.datatracker import *\n",
    "import matplotlib.pyplot as plt\n",
    "import networkx as nx\n",
    "import pandas as pd\n",
    "\n",
    "import bigbang.analysis.process as process"
   ]
  },
  {
   "cell_type": "markdown",
   "metadata": {},
   "source": [
    "### Get draft data\n",
    "\n",
    "First, get the sample drafts for a range of dates."
   ]
  },
  {
   "cell_type": "code",
   "execution_count": 2,
   "metadata": {},
   "outputs": [],
   "source": [
    "window = {\n",
    "    'since' : \"2018-01-01T00:00:00\",\n",
    "    'until' : \"2018-01-10T00:00:00\"\n",
    "}"
   ]
  },
  {
   "cell_type": "code",
   "execution_count": 3,
   "metadata": {
    "code_folding": []
   },
   "outputs": [
    {
     "name": "stderr",
     "output_type": "stream",
     "text": [
      "/home/sb/projects/bigbang/bigbang-env/lib/python3.9/site-packages/dateparser/date_parser.py:35: PytzUsageWarning: The localize method is no longer necessary, as this time zone supports the fold attribute (PEP 495). For more details on migrating to a PEP 495-compliant implementation, see https://pytz-deprecation-shim.readthedocs.io/en/latest/migration.html\n",
      "  date_obj = stz.localize(date_obj)\n"
     ]
    }
   ],
   "source": [
    "dt = DataTracker()\n",
    "\n",
    "def extract_data(doc):\n",
    "    data = {}\n",
    "    ## TODO: Add document UID?\n",
    "    data['title'] = doc.title\n",
    "    data['time'] = doc.time\n",
    "    data['group-acronym'] = dt.group(doc.group).acronym\n",
    "    data['type'] = doc.type.uri\n",
    "\n",
    "    affiliations = [\n",
    "        doc_author.affiliation\n",
    "        for doc_author\n",
    "        in dt.document_authors(doc)\n",
    "    ]\n",
    "    \n",
    "    return [\n",
    "        {**data,\n",
    "         'affiliation' : affiliation}\n",
    "        for affiliation\n",
    "        in affiliations]\n",
    "\n",
    "drafts = dt.documents(doctype = dt.document_type(\n",
    "                          DocumentTypeURI(\"/api/v1/name/doctypename/draft\")),\n",
    "                      **window\n",
    "                     )\n",
    "\n",
    "data = [item for sublist in [extract_data(x) for x in drafts] for item in sublist]"
   ]
  },
  {
   "cell_type": "code",
   "execution_count": 4,
   "metadata": {},
   "outputs": [],
   "source": [
    "draft_df = pd.DataFrame(data=data)"
   ]
  },
  {
   "cell_type": "code",
   "execution_count": 5,
   "metadata": {},
   "outputs": [
    {
     "data": {
      "text/html": [
       "<div>\n",
       "<style scoped>\n",
       "    .dataframe tbody tr th:only-of-type {\n",
       "        vertical-align: middle;\n",
       "    }\n",
       "\n",
       "    .dataframe tbody tr th {\n",
       "        vertical-align: top;\n",
       "    }\n",
       "\n",
       "    .dataframe thead th {\n",
       "        text-align: right;\n",
       "    }\n",
       "</style>\n",
       "<table border=\"1\" class=\"dataframe\">\n",
       "  <thead>\n",
       "    <tr style=\"text-align: right;\">\n",
       "      <th></th>\n",
       "      <th>title</th>\n",
       "      <th>time</th>\n",
       "      <th>group-acronym</th>\n",
       "      <th>type</th>\n",
       "      <th>affiliation</th>\n",
       "    </tr>\n",
       "  </thead>\n",
       "  <tbody>\n",
       "    <tr>\n",
       "      <th>0</th>\n",
       "      <td>EDNS0 OWNER Option</td>\n",
       "      <td>2018-01-04 00:13:03</td>\n",
       "      <td>none</td>\n",
       "      <td>/api/v1/name/doctypename/draft/</td>\n",
       "      <td>Apple Inc.</td>\n",
       "    </tr>\n",
       "    <tr>\n",
       "      <th>1</th>\n",
       "      <td>EDNS0 OWNER Option</td>\n",
       "      <td>2018-01-04 00:13:03</td>\n",
       "      <td>none</td>\n",
       "      <td>/api/v1/name/doctypename/draft/</td>\n",
       "      <td>Apple Inc.</td>\n",
       "    </tr>\n",
       "    <tr>\n",
       "      <th>2</th>\n",
       "      <td>Distributed Registry Protocol (DRiP)</td>\n",
       "      <td>2018-01-04 00:13:23</td>\n",
       "      <td>none</td>\n",
       "      <td>/api/v1/name/doctypename/draft/</td>\n",
       "      <td>Comcast</td>\n",
       "    </tr>\n",
       "    <tr>\n",
       "      <th>3</th>\n",
       "      <td>Distributed Registry Protocol (DRiP)</td>\n",
       "      <td>2018-01-04 00:13:23</td>\n",
       "      <td>none</td>\n",
       "      <td>/api/v1/name/doctypename/draft/</td>\n",
       "      <td>Comcast</td>\n",
       "    </tr>\n",
       "    <tr>\n",
       "      <th>4</th>\n",
       "      <td>PCEP Extensions for Service Function Chaining ...</td>\n",
       "      <td>2018-01-01 00:13:37</td>\n",
       "      <td>none</td>\n",
       "      <td>/api/v1/name/doctypename/draft/</td>\n",
       "      <td>Huawei</td>\n",
       "    </tr>\n",
       "  </tbody>\n",
       "</table>\n",
       "</div>"
      ],
      "text/plain": [
       "                                               title                time  \\\n",
       "0                                 EDNS0 OWNER Option 2018-01-04 00:13:03   \n",
       "1                                 EDNS0 OWNER Option 2018-01-04 00:13:03   \n",
       "2               Distributed Registry Protocol (DRiP) 2018-01-04 00:13:23   \n",
       "3               Distributed Registry Protocol (DRiP) 2018-01-04 00:13:23   \n",
       "4  PCEP Extensions for Service Function Chaining ... 2018-01-01 00:13:37   \n",
       "\n",
       "  group-acronym                             type affiliation  \n",
       "0          none  /api/v1/name/doctypename/draft/  Apple Inc.  \n",
       "1          none  /api/v1/name/doctypename/draft/  Apple Inc.  \n",
       "2          none  /api/v1/name/doctypename/draft/     Comcast  \n",
       "3          none  /api/v1/name/doctypename/draft/     Comcast  \n",
       "4          none  /api/v1/name/doctypename/draft/      Huawei  "
      ]
     },
     "execution_count": 5,
     "metadata": {},
     "output_type": "execute_result"
    }
   ],
   "source": [
    "draft_df.head()"
   ]
  },
  {
   "cell_type": "markdown",
   "metadata": {},
   "source": [
    "Create a table for the group and affiliation links in particular."
   ]
  },
  {
   "cell_type": "code",
   "execution_count": 6,
   "metadata": {},
   "outputs": [
    {
     "data": {
      "text/html": [
       "<div>\n",
       "<style scoped>\n",
       "    .dataframe tbody tr th:only-of-type {\n",
       "        vertical-align: middle;\n",
       "    }\n",
       "\n",
       "    .dataframe tbody tr th {\n",
       "        vertical-align: top;\n",
       "    }\n",
       "\n",
       "    .dataframe thead th {\n",
       "        text-align: right;\n",
       "    }\n",
       "</style>\n",
       "<table border=\"1\" class=\"dataframe\">\n",
       "  <thead>\n",
       "    <tr style=\"text-align: right;\">\n",
       "      <th></th>\n",
       "      <th>group-acronym</th>\n",
       "      <th>affiliation</th>\n",
       "      <th>time</th>\n",
       "    </tr>\n",
       "  </thead>\n",
       "  <tbody>\n",
       "    <tr>\n",
       "      <th>0</th>\n",
       "      <td>none</td>\n",
       "      <td>Apple Inc.</td>\n",
       "      <td>2018-01-04 00:13:03</td>\n",
       "    </tr>\n",
       "    <tr>\n",
       "      <th>1</th>\n",
       "      <td>none</td>\n",
       "      <td>Apple Inc.</td>\n",
       "      <td>2018-01-04 00:13:03</td>\n",
       "    </tr>\n",
       "    <tr>\n",
       "      <th>2</th>\n",
       "      <td>none</td>\n",
       "      <td>Comcast</td>\n",
       "      <td>2018-01-04 00:13:23</td>\n",
       "    </tr>\n",
       "    <tr>\n",
       "      <th>3</th>\n",
       "      <td>none</td>\n",
       "      <td>Comcast</td>\n",
       "      <td>2018-01-04 00:13:23</td>\n",
       "    </tr>\n",
       "    <tr>\n",
       "      <th>4</th>\n",
       "      <td>none</td>\n",
       "      <td>Huawei</td>\n",
       "      <td>2018-01-01 00:13:37</td>\n",
       "    </tr>\n",
       "  </tbody>\n",
       "</table>\n",
       "</div>"
      ],
      "text/plain": [
       "  group-acronym affiliation                time\n",
       "0          none  Apple Inc. 2018-01-04 00:13:03\n",
       "1          none  Apple Inc. 2018-01-04 00:13:03\n",
       "2          none     Comcast 2018-01-04 00:13:23\n",
       "3          none     Comcast 2018-01-04 00:13:23\n",
       "4          none      Huawei 2018-01-01 00:13:37"
      ]
     },
     "execution_count": 6,
     "metadata": {},
     "output_type": "execute_result"
    }
   ],
   "source": [
    "link_df = draft_df[['group-acronym', 'affiliation','time']]\n",
    "link_df[:5]"
   ]
  },
  {
   "cell_type": "markdown",
   "metadata": {},
   "source": [
    "### Entity resolution on the affiliations\n",
    "\n",
    "Using containment distance, collapse the entities in the `affilation` column and removed suspected duplicates."
   ]
  },
  {
   "cell_type": "code",
   "execution_count": 7,
   "metadata": {},
   "outputs": [],
   "source": [
    "all_affiliations = link_df.groupby('affiliation').size()"
   ]
  },
  {
   "cell_type": "code",
   "execution_count": 8,
   "metadata": {},
   "outputs": [],
   "source": [
    "ents = process.resolve_entities(all_affiliations,\n",
    "                                process.containment_distance,\n",
    "                                threshold=.25)\n",
    "\n",
    "replacements = {}\n",
    "for r in [{name: ent for name in ents[ent]} for ent in ents]:\n",
    "    replacements.update(r)\n",
    "    \n",
    "link_df = link_df.replace(to_replace=replacements)"
   ]
  },
  {
   "cell_type": "markdown",
   "metadata": {},
   "source": [
    "### Plot the network links between working groups and affiliations"
   ]
  },
  {
   "cell_type": "code",
   "execution_count": 9,
   "metadata": {},
   "outputs": [],
   "source": [
    "edges = [\n",
    " (row[1]['group-acronym'], row[1]['affiliation'])\n",
    " for row\n",
    " in link_df[['group-acronym','affiliation']].iterrows()\n",
    "]"
   ]
  },
  {
   "cell_type": "code",
   "execution_count": 10,
   "metadata": {},
   "outputs": [],
   "source": [
    "G = nx.Graph()\n",
    "\n",
    "G.add_nodes_from([x[0]\n",
    "                  for x\n",
    "                  in link_df[['group-acronym']].drop_duplicates().values],\n",
    "                 category=0)\n",
    "G.add_nodes_from(all_affiliations.index,\n",
    "                 category=1)\n",
    "\n",
    "G.add_edges_from(edges)"
   ]
  },
  {
   "cell_type": "code",
   "execution_count": 11,
   "metadata": {},
   "outputs": [],
   "source": [
    "## Clean the graph\n",
    "\n",
    "G.remove_node('none')\n",
    "\n",
    "for c in list(nx.connected_components(G)):\n",
    "    if len(c) <= 1:\n",
    "        for n in c:\n",
    "            G.remove_node(n)"
   ]
  },
  {
   "cell_type": "code",
   "execution_count": 12,
   "metadata": {},
   "outputs": [],
   "source": [
    "colors = ['r' if x[1]['category'] else 'g' for x in list(G.nodes(data=True))]"
   ]
  },
  {
   "cell_type": "code",
   "execution_count": 13,
   "metadata": {},
   "outputs": [
    {
     "data": {
      "image/png": "[encoded data removed]",
      "text/plain": [
       "<Figure size 432x288 with 1 Axes>"
      ]
     },
     "metadata": {},
     "output_type": "display_data"
    }
   ],
   "source": [
    "nx.draw(\n",
    "    G,\n",
    "    node_color = colors,\n",
    "    with_labels = True\n",
    ")"
   ]
  },
  {
   "cell_type": "code",
   "execution_count": 14,
   "metadata": {},
   "outputs": [],
   "source": [
    "nx.write_gexf(G,\"group-affiliations.gexf\")"
   ]
  },
  {
   "cell_type": "markdown",
   "metadata": {},
   "source": [
    "### Look at categories of affiliations"
   ]
  },
  {
   "cell_type": "code",
   "execution_count": 15,
   "metadata": {},
   "outputs": [],
   "source": [
    "import bigbang.datasets.organizations as organizations\n",
    "cat = organizations.load_data()"
   ]
  },
  {
   "cell_type": "code",
   "execution_count": 16,
   "metadata": {},
   "outputs": [],
   "source": [
    "replacements = {x[1]['name'] : x[1]['category']\n",
    "                for x\n",
    "                in cat.iterrows()\n",
    "                if not pd.isna(x[1]['category'])}"
   ]
  },
  {
   "cell_type": "code",
   "execution_count": 17,
   "metadata": {},
   "outputs": [],
   "source": [
    "link_cat_df = link_df.replace(to_replace=replacements)"
   ]
  },
  {
   "cell_type": "code",
   "execution_count": 18,
   "metadata": {},
   "outputs": [
    {
     "data": {
      "text/plain": [
       "affiliation\n",
       "Huawei                                                                                          66\n",
       "Networking equipment vendor                                                                     46\n",
       "Telecommunications Provider                                                                     23\n",
       "                                                                                                14\n",
       "Advertising company , Content Distribution Network, Software developer, Research Institution     9\n",
       "China Mobile                                                                                     8\n",
       "Apple Inc.                                                                                       6\n",
       "Soongsil University                                                                              6\n",
       "Individual                                                                                       4\n",
       "KT                                                                                               4\n",
       "Research Institution                                                                             4\n",
       "EPFL                                                                                             4\n",
       "Dell                                                                                             4\n",
       "Tongji/Yale University                                                                           3\n",
       "Telefonica I+D                                                                                   3\n",
       "California Institute of Technology                                                               3\n",
       "Bloomberg                                                                                        3\n",
       "Indian Institute of Science                                                                      3\n",
       "Karlstad University                                                                              3\n",
       "Internet Registry                                                                                2\n",
       "Internet Systems Consortium                                                                      2\n",
       "Painless Security                                                                                2\n",
       "PPS, University of Paris-Diderot                                                                 2\n",
       "University College London                                                                        2\n",
       "Hickory Hill Consulting                                                                          2\n",
       "University Politehnica of Bucharest                                                              2\n",
       "UCLouvain                                                                                        2\n",
       "Software Provider                                                                                2\n",
       "lispers.net                                                                                      2\n",
       "Brocade                                                                                          2\n",
       "Database Provider                                                                                2\n",
       "Frequentis AG                                                                                    2\n",
       "Content Provider                                                                                 2\n",
       "Alibaba Group                                                                                    2\n",
       "Bell Canada                                                                                      2\n",
       "HTT Consulting                                                                                   1\n",
       "CTTC                                                                                             1\n",
       "U of Tuebingen                                                                                   1\n",
       "C-DAC                                                                                            1\n",
       "Telecom Italia                                                                                   1\n",
       "dtype: int64"
      ]
     },
     "execution_count": 18,
     "metadata": {},
     "output_type": "execute_result"
    }
   ],
   "source": [
    "link_cat_df.groupby('affiliation').size().sort_values(ascending=False)[:40]"
   ]
  },
  {
   "cell_type": "code",
   "execution_count": 19,
   "metadata": {},
   "outputs": [],
   "source": [
    "edges = [\n",
    " (row[1]['group-acronym'], row[1]['affiliation'])\n",
    " for row\n",
    " in link_cat_df[['group-acronym','affiliation']].iterrows()\n",
    "]\n",
    "\n",
    "affils = link_cat_df.groupby('affiliation').size().index"
   ]
  },
  {
   "cell_type": "code",
   "execution_count": 20,
   "metadata": {},
   "outputs": [],
   "source": [
    "G = nx.Graph()\n",
    "\n",
    "G.add_nodes_from([x[0]\n",
    "                  for x\n",
    "                  in link_cat_df[['group-acronym']].drop_duplicates().values],\n",
    "                 category=0)\n",
    "G.add_nodes_from(affils,\n",
    "                 category=1)\n",
    "\n",
    "G.add_edges_from(edges)"
   ]
  },
  {
   "cell_type": "code",
   "execution_count": 21,
   "metadata": {},
   "outputs": [],
   "source": [
    "## Clean the graph\n",
    "\n",
    "G.remove_node('none')\n",
    "\n",
    "for c in list(nx.connected_components(G)):\n",
    "    if len(c) <= 1:\n",
    "        for n in c:\n",
    "            G.remove_node(n)"
   ]
  },
  {
   "cell_type": "code",
   "execution_count": 22,
   "metadata": {},
   "outputs": [
    {
     "data": {
      "text/plain": [
       "[]"
      ]
     },
     "execution_count": 22,
     "metadata": {},
     "output_type": "execute_result"
    }
   ],
   "source": [
    "[x[1] for x in list(G.nodes(data=True)) if 'category' not in x[1]]"
   ]
  },
  {
   "cell_type": "code",
   "execution_count": 23,
   "metadata": {},
   "outputs": [],
   "source": [
    "colors = ['r' if x[1]['category'] else 'g' for x in list(G.nodes(data=True))]"
   ]
  },
  {
   "cell_type": "code",
   "execution_count": 24,
   "metadata": {},
   "outputs": [
    {
     "data": {
      "image/png": "[encoded data removed]",
      "text/plain": [
       "<Figure size 432x288 with 1 Axes>"
      ]
     },
     "metadata": {},
     "output_type": "display_data"
    }
   ],
   "source": [
    "nx.draw(\n",
    "    G,\n",
    "    node_color = colors,\n",
    "    with_labels = True\n",
    ")"
   ]
  },
  {
   "cell_type": "code",
   "execution_count": 25,
   "metadata": {},
   "outputs": [],
   "source": [
    "nx.write_gexf(G,\"group-org-categories.gexf\")"
   ]
  },
  {
   "cell_type": "code",
   "execution_count": null,
   "metadata": {},
   "outputs": [],
   "source": []
  }
 ],
 "metadata": {
  "kernelspec": {
   "display_name": "bigbang-env",
   "language": "python",
   "name": "bigbang-env"
  },
  "language_info": {
   "codemirror_mode": {
    "name": "ipython",
    "version": 3
   },
   "file_extension": ".py",
   "mimetype": "text/x-python",
   "name": "python",
   "nbconvert_exporter": "python",
   "pygments_lexer": "ipython3",
   "version": "3.8.13"
  },
  "latex_envs": {
   "LaTeX_envs_menu_present": true,
   "autoclose": false,
   "autocomplete": true,
   "bibliofile": "biblio.bib",
   "cite_by": "apalike",
   "current_citInitial": 1,
   "eqLabelWithNumbers": true,
   "eqNumInitial": 1,
   "hotkeys": {
    "equation": "Ctrl-E",
    "itemize": "Ctrl-I"
   },
   "labels_anchors": false,
   "latex_user_defs": false,
   "report_style_numbering": false,
   "user_envs_cfg": false
  },
  "toc": {
   "base_numbering": 1,
   "nav_menu": {},
   "number_sections": true,
   "sideBar": true,
   "skip_h1_title": false,
   "title_cell": "Table of Contents",
   "title_sidebar": "Contents",
   "toc_cell": false,
   "toc_position": {},
   "toc_section_display": true,
   "toc_window_display": false
  }
 },
 "nbformat": 4,
 "nbformat_minor": 2
}
