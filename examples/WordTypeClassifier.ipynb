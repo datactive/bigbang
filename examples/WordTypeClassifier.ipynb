{
 "cells": [
  {
   "cell_type": "code",
   "execution_count": 1,
   "metadata": {},
   "outputs": [],
   "source": [
    "%matplotlib inline"
   ]
  },
  {
   "cell_type": "code",
   "execution_count": 2,
   "metadata": {},
   "outputs": [],
   "source": [
    "from bigbang.archive import Archive\n",
    "import bigbang.parse as parse\n",
    "import bigbang.graph as graph\n",
    "import bigbang.mailman as mailman\n",
    "import bigbang.process as process\n",
    "import networkx as nx\n",
    "import matplotlib.pyplot as plt\n",
    "import pandas as pd\n",
    "from pprint import pprint as pp\n",
    "import pytz\n",
    "import numpy as np\n",
    "import math\n",
    "import nltk\n",
    "from itertools import repeat\n",
    "from nltk.stem.lancaster import LancasterStemmer\n",
    "st = LancasterStemmer()\n",
    "from nltk.corpus import stopwords\n",
    "import re\n",
    "import random"
   ]
  },
  {
   "cell_type": "code",
   "execution_count": 3,
   "metadata": {},
   "outputs": [
    {
     "name": "stdout",
     "output_type": "stream",
     "text": [
      "Opening 138 archive files\n",
      "Opening 139 archive files\n"
     ]
    }
   ],
   "source": [
    "urls = [\"http://mail.python.org/pipermail/ipython-dev/\",\n",
    "        \"http://mail.python.org/pipermail/ipython-user/\"]#,\n",
    "        #\"http://mail.python.org/pipermail/scipy-dev/\",\n",
    "        #\"http://mail.python.org/pipermail/scipy-user/\",\n",
    "        #\"http://mail.python.org/pipermail/numpy-discussion/\"]\n",
    "\n",
    "\n",
    "archives= [Archive(url,archive_dir=\"../archives\") for url in urls]"
   ]
  },
  {
   "cell_type": "code",
   "execution_count": 4,
   "metadata": {},
   "outputs": [],
   "source": [
    "text = list(open(\"test123.csv\")) # This file is the target words got from other notebook (Special words analysis).\n",
    "#Example one is the 224 words shared by \"http://mail.scipy.org/pipermail/ipython-dev/\" and \n",
    "#\"http://mail.scipy.org/pipermail/ipython-user/\" which have potential of idea transferring between the two lists."
   ]
  },
  {
   "cell_type": "code",
   "execution_count": 5,
   "metadata": {},
   "outputs": [],
   "source": [
    "new_text=[]\n",
    "for line in text:\n",
    "    line = line.strip()\n",
    "    contents = line.split(\",\")\n",
    "    new_text.append(contents)"
   ]
  },
  {
   "cell_type": "code",
   "execution_count": 6,
   "metadata": {},
   "outputs": [],
   "source": [
    "new_text1 = new_text[0]"
   ]
  },
  {
   "cell_type": "code",
   "execution_count": 14,
   "metadata": {},
   "outputs": [],
   "source": [
    "random_label = random.sample(range(len(new_text1)), 10) #generate 5 random sample words"
   ]
  },
  {
   "cell_type": "code",
   "execution_count": 15,
   "metadata": {},
   "outputs": [],
   "source": [
    "new_text2 = []\n",
    "for i in range(len(new_text1)):\n",
    "    if i in random_label:\n",
    "        new_text2.append(new_text1[i])"
   ]
  },
  {
   "cell_type": "code",
   "execution_count": 16,
   "metadata": {},
   "outputs": [
    {
     "data": {
      "text/plain": [
       "['desktop',\n",
       " 'alex',\n",
       " 'drop',\n",
       " 'wxpython',\n",
       " 'zero',\n",
       " 'yup',\n",
       " 'ps',\n",
       " 'keyword',\n",
       " 'pol',\n",
       " 'runtim']"
      ]
     },
     "execution_count": 16,
     "metadata": {},
     "output_type": "execute_result"
    }
   ],
   "source": [
    "new_text2"
   ]
  },
  {
   "cell_type": "code",
   "execution_count": 10,
   "metadata": {},
   "outputs": [],
   "source": [
    "\"\"\"df = [0] * len(new_text2)\n",
    "\n",
    "for a in range(len(new_text2)):\n",
    "    df[a] = pd.DataFrame(columns=[\"MessageId\",\"Date\",\"From\",\"In-Reply-To\",\"Count\"])\n",
    "    for row in archives[0].data.iterrows():\n",
    "        w = row[1][\"Body\"].replace(\"'\", \"\")\n",
    "        k = re.sub(r'[^\\w]', ' ', w)\n",
    "        k = k.lower()\n",
    "        t = nltk.tokenize.word_tokenize(k)\n",
    "        subdict = {}\n",
    "        count = 0\n",
    "        for g in t:\n",
    "            try:\n",
    "                word = st.stem(g)\n",
    "            except:\n",
    "                print g\n",
    "                pass\n",
    "            if word == new_text2[a]:\n",
    "                count += 1\n",
    "        if count == 0:\n",
    "            continue\n",
    "        else:\n",
    "            subdict[\"MessageId\"] = row[0]\n",
    "            subdict[\"Date\"] = row[1][\"Date\"]\n",
    "            subdict[\"From\"] = row[1][\"From\"]\n",
    "            subdict[\"In-Reply-To\"] = row[1][\"In-Reply-To\"]\n",
    "            subdict[\"Count\"] = count\n",
    "            df[a] = df[a].append(subdict,ignore_index=True)\"\"\""
   ]
  },
  {
   "cell_type": "code",
   "execution_count": 17,
   "metadata": {},
   "outputs": [
    {
     "data": {
      "text/plain": [
       "'    if count == 0:\\n        continue\\n    else:\\n        subdict[\"MessageId\"] = row[0]\\n        subdict[\"Date\"] = row[1][\"Date\"]\\n        subdict[\"From\"] = row[1][\"From\"]\\n        subdict[\"In-Reply-To\"] = row[1][\"In-Reply-To\"]\\n        subdict[\"Count\"] = count\\n        df[a] = df[a].append(subdict,ignore_index=True)'"
      ]
     },
     "execution_count": 17,
     "metadata": {},
     "output_type": "execute_result"
    }
   ],
   "source": [
    "df = [0] * len(new_text2)\n",
    "for a in range(len(new_text2)):\n",
    "    df[a] = pd.DataFrame(columns=[\"MessageId\",\"Date\",\"From\",\"In-Reply-To\",\"Count\"])\n",
    "for row in archives[0].data.iterrows():\n",
    "    w = row[1][\"Body\"].replace(\"'\", \"\")\n",
    "    k = re.sub(r'[^\\w]', ' ', w)\n",
    "    k = k.lower()\n",
    "    t = nltk.tokenize.word_tokenize(k)\n",
    "    count = [0] * len(new_text2)\n",
    "    for g in t:\n",
    "        try:\n",
    "            word = st.stem(g)\n",
    "        except:\n",
    "            print g\n",
    "            pass\n",
    "        for p in range(len(new_text2)):\n",
    "            if word == new_text2[p]:\n",
    "                count[p] += 1\n",
    "    for m in range(len(new_text2)):\n",
    "        subdict = {}\n",
    "        if count[m] == 0:\n",
    "            continue\n",
    "        else:\n",
    "            subdict[\"MessageId\"] = row[0]\n",
    "            subdict[\"Date\"] = row[1][\"Date\"]\n",
    "            subdict[\"From\"] = row[1][\"From\"]\n",
    "            subdict[\"In-Reply-To\"] = row[1][\"In-Reply-To\"]\n",
    "            subdict[\"Count\"] = count[m]\n",
    "            df[m] = df[m].append(subdict,ignore_index=True) \n",
    "\"\"\"    if count == 0:\n",
    "        continue\n",
    "    else:\n",
    "        subdict[\"MessageId\"] = row[0]\n",
    "        subdict[\"Date\"] = row[1][\"Date\"]\n",
    "        subdict[\"From\"] = row[1][\"From\"]\n",
    "        subdict[\"In-Reply-To\"] = row[1][\"In-Reply-To\"]\n",
    "        subdict[\"Count\"] = count\n",
    "        df[a] = df[a].append(subdict,ignore_index=True)\"\"\""
   ]
  },
  {
   "cell_type": "code",
   "execution_count": 18,
   "metadata": {},
   "outputs": [],
   "source": [
    "df1 = [0] * len(new_text2)\n",
    "for a in range(len(new_text2)):\n",
    "    df1[a] = pd.DataFrame(columns=[\"MessageId\",\"Date\",\"From\",\"In-Reply-To\",\"Count\"])\n",
    "for row in archives[1].data.iterrows():\n",
    "    w = row[1][\"Body\"].replace(\"'\", \"\")\n",
    "    k = re.sub(r'[^\\w]', ' ', w)\n",
    "    k = k.lower()\n",
    "    t = nltk.tokenize.word_tokenize(k)\n",
    "    count = [0] * len(new_text2)\n",
    "    for g in t:\n",
    "        try:\n",
    "            word = st.stem(g)\n",
    "        except:\n",
    "            print g\n",
    "            pass\n",
    "        for p in range(len(new_text2)):\n",
    "            if word == new_text2[p]:\n",
    "                count[p] += 1\n",
    "    for m in range(len(new_text2)):\n",
    "        subdict = {}\n",
    "        if count[m] == 0:\n",
    "            continue\n",
    "        else:\n",
    "            subdict[\"MessageId\"] = row[0]\n",
    "            subdict[\"Date\"] = row[1][\"Date\"]\n",
    "            subdict[\"From\"] = row[1][\"From\"]\n",
    "            subdict[\"In-Reply-To\"] = row[1][\"In-Reply-To\"]\n",
    "            subdict[\"Count\"] = count[m]\n",
    "            df1[m] = df1[m].append(subdict,ignore_index=True) "
   ]
  },
  {
   "cell_type": "code",
   "execution_count": 11,
   "metadata": {},
   "outputs": [],
   "source": [
    "\"\"\"df1 = [0] * len(new_text2)\n",
    "\n",
    "for a in range(len(new_text2)):\n",
    "    df1[a] = pd.DataFrame(columns=[\"MessageId\",\"Date\",\"From\",\"In-Reply-To\",\"Count\"])\n",
    "    for row in archives[1].data.iterrows():\n",
    "        w = row[1][\"Body\"].replace(\"'\", \"\")\n",
    "        k = re.sub(r'[^\\w]', ' ', w)\n",
    "        k = k.lower()\n",
    "        t = nltk.tokenize.word_tokenize(k)\n",
    "        subdict = {}\n",
    "        count = 0\n",
    "        for g in t:\n",
    "            try:\n",
    "                word = st.stem(g)\n",
    "            except:\n",
    "                print g\n",
    "                pass\n",
    "            if word == new_text2[a]:\n",
    "                count += 1\n",
    "        if count == 0:\n",
    "            continue\n",
    "        else:\n",
    "            subdict[\"MessageId\"] = row[0]\n",
    "            subdict[\"Date\"] = row[1][\"Date\"]\n",
    "            subdict[\"From\"] = row[1][\"From\"]\n",
    "            subdict[\"In-Reply-To\"] = row[1][\"In-Reply-To\"]\n",
    "            subdict[\"Count\"] = count\n",
    "            df1[a] = df1[a].append(subdict,ignore_index=True)\"\"\""
   ]
  },
  {
   "cell_type": "code",
   "execution_count": 63,
   "metadata": {},
   "outputs": [],
   "source": [
    "#First mailing list\n",
    "start_date = []\n",
    "end_date = []\n",
    "for k in range(len(new_text2)):\n",
    "    start_date.append(df[k].iloc[0][\"Date\"])\n",
    "    end_date.append(df[k].iloc[len(df[k].index)-1][\"Date\"])"
   ]
  },
  {
   "cell_type": "code",
   "execution_count": 65,
   "metadata": {},
   "outputs": [],
   "source": [
    "start_date1 = min(start_date)\n",
    "end_date1 = max(end_date)\n",
    "total_month = (end_date1.year - start_date1.year)*12 + (end_date1.month-start_date1.month+1)"
   ]
  },
  {
   "cell_type": "code",
   "execution_count": 22,
   "metadata": {},
   "outputs": [
    {
     "data": {
      "text/plain": [
       "138"
      ]
     },
     "execution_count": 22,
     "metadata": {},
     "output_type": "execute_result"
    }
   ],
   "source": [
    "total_month"
   ]
  },
  {
   "cell_type": "code",
   "execution_count": 23,
   "metadata": {},
   "outputs": [],
   "source": [
    "k_time_dict = []\n",
    "for k in range(len(new_text2)):\n",
    "    time_dict = {}\n",
    "    for row in df[k].iterrows():\n",
    "        if (row[1]['Date'].year, row[1]['Date'].month) not in time_dict:\n",
    "            time_dict[(row[1]['Date'].year, row[1]['Date'].month)] = row[1][\"Count\"]\n",
    "        else:\n",
    "            time_dict[(row[1]['Date'].year, row[1]['Date'].month)] += row[1][\"Count\"]\n",
    "    k_time_dict.append(time_dict)"
   ]
  },
  {
   "cell_type": "code",
   "execution_count": 102,
   "metadata": {},
   "outputs": [],
   "source": [
    "k_month = []\n",
    "temp_year = start_date1.year\n",
    "temp_month = start_date1.month\n",
    "for i in range(total_month):\n",
    "    k_month.append((temp_year, temp_month))\n",
    "    if temp_month == 12:\n",
    "        temp_year += 1\n",
    "        temp_month = 0\n",
    "    temp_month += 1"
   ]
  },
  {
   "cell_type": "code",
   "execution_count": 103,
   "metadata": {},
   "outputs": [],
   "source": [
    "k_by_month = []\n",
    "for k in range(len(new_text2)):\n",
    "    by_month = []\n",
    "    for item in k_month:\n",
    "        if item in k_time_dict[k]:\n",
    "            by_month.append(k_time_dict[k][item])\n",
    "        else:\n",
    "            by_month.append(0)\n",
    "    k_by_month.append(by_month)"
   ]
  },
  {
   "cell_type": "code",
   "execution_count": 104,
   "metadata": {},
   "outputs": [
    {
     "data": {
      "text/plain": [
       "['desktop', 'alex', 'drop', 'wxpython', 'zero']"
      ]
     },
     "execution_count": 104,
     "metadata": {},
     "output_type": "execute_result"
    },
    {
     "data": {
      "image/png": "[encoded data removed]",
      "text/plain": [
       "<matplotlib.figure.Figure at 0x10c76c910>"
      ]
     },
     "metadata": {},
     "output_type": "display_data"
    }
   ],
   "source": [
    "x = range(1,total_month+1)\n",
    "y0 = k_by_month[0]\n",
    "plt.plot(x, y0, color='blue')\n",
    "y1 = k_by_month[1]\n",
    "plt.plot(x, y1, color='red')\n",
    "y2 = k_by_month[2]\n",
    "plt.plot(x, y2, color='green')\n",
    "y3 = k_by_month[3]\n",
    "plt.plot(x, y3, color='yellow')\n",
    "y4 = k_by_month[4]\n",
    "plt.plot(x, y4, color='purple')\n",
    "new_text2[:5]"
   ]
  },
  {
   "cell_type": "code",
   "execution_count": 105,
   "metadata": {},
   "outputs": [
    {
     "data": {
      "text/plain": [
       "['yup', 'ps', 'keyword', 'pol', 'runtim']"
      ]
     },
     "execution_count": 105,
     "metadata": {},
     "output_type": "execute_result"
    },
    {
     "data": {
      "image/png": "[encoded data removed]",
      "text/plain": [
       "<matplotlib.figure.Figure at 0x10837aa10>"
      ]
     },
     "metadata": {},
     "output_type": "display_data"
    }
   ],
   "source": [
    "x = range(1,total_month+1)\n",
    "y0 = k_by_month[5]\n",
    "plt.plot(x, y0, color='blue')\n",
    "y1 = k_by_month[6]\n",
    "plt.plot(x, y1, color='red')\n",
    "y2 = k_by_month[7]\n",
    "plt.plot(x, y2, color='green')\n",
    "y3 = k_by_month[8]\n",
    "plt.plot(x, y3, color='yellow')\n",
    "y4 = k_by_month[9]\n",
    "plt.plot(x, y4, color='purple')\n",
    "new_text2[5:]"
   ]
  },
  {
   "cell_type": "markdown",
   "metadata": {},
   "source": [
    "### Below part considers classification"
   ]
  },
  {
   "cell_type": "code",
   "execution_count": null,
   "metadata": {},
   "outputs": [],
   "source": [
    "#Example as word \"desktop\"\n"
   ]
  },
  {
   "cell_type": "code",
   "execution_count": 106,
   "metadata": {},
   "outputs": [],
   "source": [
    "normalized=[0] * len(new_text2)\n",
    "for i in range(len(new_text2)):\n",
    "    normalized[i] = np.asarray((k_by_month[i]))/float(sum(k_by_month[i]))"
   ]
  },
  {
   "cell_type": "code",
   "execution_count": 107,
   "metadata": {},
   "outputs": [
    {
     "name": "stdout",
     "output_type": "stream",
     "text": [
      "['wxpython', 'Spike', 1, [(2004, 11)]]\n",
      "['runtim', 'Spike', 1, [(2009, 7)]]\n"
     ]
    }
   ],
   "source": [
    "#define any month consists of over 25% of frequencies as spike.\n",
    "for a in range(len(new_text2)):\n",
    "    count = 0  #number of spikes\n",
    "    inf = []\n",
    "    for i in range(total_month):\n",
    "        if normalized[a][i] >= 0.25:\n",
    "            count += 1\n",
    "            inf.append(k_month[i])\n",
    "    if count > 0:\n",
    "        print [new_text2[a],\"Spike\",count,inf]"
   ]
  },
  {
   "cell_type": "code",
   "execution_count": 112,
   "metadata": {},
   "outputs": [],
   "source": [
    "#Appear after 1/3 time span\n",
    "#Die out before last 1/3 time span \n",
    "timespan = k_month[int(total_month/3)]\n",
    "timespan1 = k_month[int(total_month*2/3)]"
   ]
  },
  {
   "cell_type": "code",
   "execution_count": 116,
   "metadata": {},
   "outputs": [
    {
     "data": {
      "text/plain": [
       "tuple"
      ]
     },
     "execution_count": 116,
     "metadata": {},
     "output_type": "execute_result"
    }
   ],
   "source": [
    "type(timespan)"
   ]
  },
  {
   "cell_type": "code",
   "execution_count": 121,
   "metadata": {},
   "outputs": [],
   "source": [
    "for a in range(len(new_text2)):\n",
    "    if start_date[a].year > timespan[0]:\n",
    "        print [new_text2[a],\"LateFirstAppear\"]\n",
    "    elif start_date[a].year == timespan[0] and start_date[a].month >=  timespan[1]:\n",
    "        print [new_text2[a],\"LateFirstAppear\"]\n",
    "    if end_date[a].year <  timespan1[0]:\n",
    "        print [new_text2[a],\"EarlyLastAppear\"]\n",
    "    elif end_date[a].year == timespan1[0] and end_date[a].month <=  timespan1[1]:\n",
    "        print [new_text2[a],\"EarlyLastAppear\"]"
   ]
  },
  {
   "cell_type": "markdown",
   "metadata": {},
   "source": [
    "## Work done up to now."
   ]
  },
  {
   "cell_type": "code",
   "execution_count": 61,
   "metadata": {},
   "outputs": [
    {
     "data": {
      "text/plain": [
       "[<matplotlib.lines.Line2D at 0x10cd6ba90>]"
      ]
     },
     "execution_count": 61,
     "metadata": {},
     "output_type": "execute_result"
    },
    {
     "data": {
      "image/png": "[encoded data removed]",
      "text/plain": [
       "<matplotlib.figure.Figure at 0x10e838e10>"
      ]
     },
     "metadata": {},
     "output_type": "display_data"
    }
   ],
   "source": [
    "x = range(1,total_month+1)\n",
    "y4 = k_by_month[4]\n",
    "plt.plot(x, y4, color='purple')"
   ]
  },
  {
   "cell_type": "code",
   "execution_count": 65,
   "metadata": {},
   "outputs": [
    {
     "data": {
      "text/plain": [
       "[<matplotlib.lines.Line2D at 0x10fd46f10>]"
      ]
     },
     "execution_count": 65,
     "metadata": {},
     "output_type": "execute_result"
    },
    {
     "data": {
      "image/png": "[encoded data removed]",
      "text/plain": [
       "<matplotlib.figure.Figure at 0x10faa78d0>"
      ]
     },
     "metadata": {},
     "output_type": "display_data"
    }
   ],
   "source": [
    "x = range(55,65)\n",
    "y4 = k_by_month[4]\n",
    "plt.plot(x, y4[54:64], color='purple')"
   ]
  },
  {
   "cell_type": "code",
   "execution_count": 96,
   "metadata": {},
   "outputs": [
    {
     "data": {
      "text/plain": [
       "[{(2004, 5): 2,\n",
       "  (2004, 11): 8,\n",
       "  (2006, 1): 10,\n",
       "  (2006, 5): 8,\n",
       "  (2007, 4): 19,\n",
       "  (2007, 5): 3,\n",
       "  (2007, 10): 8,\n",
       "  (2007, 12): 2,\n",
       "  (2008, 4): 1,\n",
       "  (2008, 8): 7,\n",
       "  (2008, 9): 11,\n",
       "  (2008, 10): 2,\n",
       "  (2009, 1): 13,\n",
       "  (2009, 2): 2,\n",
       "  (2009, 4): 12,\n",
       "  (2009, 6): 2,\n",
       "  (2009, 7): 11,\n",
       "  (2009, 8): 4,\n",
       "  (2009, 11): 57,\n",
       "  (2010, 1): 46,\n",
       "  (2010, 4): 1,\n",
       "  (2010, 8): 9,\n",
       "  (2010, 10): 2,\n",
       "  (2011, 2): 3,\n",
       "  (2011, 4): 1,\n",
       "  (2011, 6): 2,\n",
       "  (2011, 7): 5,\n",
       "  (2011, 10): 2,\n",
       "  (2011, 11): 1,\n",
       "  (2012, 1): 1,\n",
       "  (2012, 2): 3,\n",
       "  (2012, 9): 4,\n",
       "  (2012, 12): 4,\n",
       "  (2013, 1): 1,\n",
       "  (2013, 2): 7,\n",
       "  (2013, 4): 5,\n",
       "  (2013, 5): 3,\n",
       "  (2013, 7): 2,\n",
       "  (2013, 9): 7,\n",
       "  (2013, 11): 1,\n",
       "  (2013, 12): 2,\n",
       "  (2014, 1): 3,\n",
       "  (2014, 2): 9,\n",
       "  (2014, 3): 5,\n",
       "  (2014, 5): 6,\n",
       "  (2014, 6): 1,\n",
       "  (2014, 8): 12,\n",
       "  (2014, 9): 16},\n",
       " {(2003, 4): 4,\n",
       "  (2003, 5): 2,\n",
       "  (2004, 5): 2,\n",
       "  (2004, 11): 10,\n",
       "  (2005, 1): 4,\n",
       "  (2006, 1): 2,\n",
       "  (2006, 2): 2,\n",
       "  (2007, 3): 14,\n",
       "  (2007, 6): 1,\n",
       "  (2008, 3): 1,\n",
       "  (2008, 6): 9,\n",
       "  (2008, 7): 4,\n",
       "  (2008, 8): 1,\n",
       "  (2008, 9): 7,\n",
       "  (2009, 9): 2,\n",
       "  (2010, 11): 11,\n",
       "  (2010, 12): 3,\n",
       "  (2011, 2): 4,\n",
       "  (2012, 1): 3,\n",
       "  (2012, 6): 1,\n",
       "  (2013, 2): 1,\n",
       "  (2013, 3): 1,\n",
       "  (2013, 10): 1,\n",
       "  (2014, 3): 12,\n",
       "  (2014, 5): 1},\n",
       " {(2003, 5): 2,\n",
       "  (2003, 8): 2,\n",
       "  (2003, 9): 2,\n",
       "  (2004, 6): 4,\n",
       "  (2004, 8): 2,\n",
       "  (2004, 11): 5,\n",
       "  (2005, 3): 2,\n",
       "  (2005, 7): 2,\n",
       "  (2006, 1): 42,\n",
       "  (2006, 3): 8,\n",
       "  (2006, 6): 2,\n",
       "  (2006, 10): 2,\n",
       "  (2006, 11): 3,\n",
       "  (2007, 3): 2,\n",
       "  (2007, 4): 3,\n",
       "  (2007, 5): 1,\n",
       "  (2007, 6): 3,\n",
       "  (2007, 9): 9,\n",
       "  (2007, 10): 5,\n",
       "  (2008, 1): 15,\n",
       "  (2008, 3): 2,\n",
       "  (2008, 5): 1,\n",
       "  (2008, 6): 6,\n",
       "  (2008, 8): 12,\n",
       "  (2008, 9): 3,\n",
       "  (2008, 10): 3,\n",
       "  (2008, 11): 2,\n",
       "  (2008, 12): 3,\n",
       "  (2009, 2): 6,\n",
       "  (2009, 6): 4,\n",
       "  (2009, 7): 13,\n",
       "  (2009, 8): 18,\n",
       "  (2009, 12): 1,\n",
       "  (2010, 1): 5,\n",
       "  (2010, 3): 7,\n",
       "  (2010, 4): 4,\n",
       "  (2010, 5): 2,\n",
       "  (2010, 7): 4,\n",
       "  (2010, 8): 1,\n",
       "  (2010, 9): 8,\n",
       "  (2010, 10): 14,\n",
       "  (2011, 2): 9,\n",
       "  (2011, 3): 3,\n",
       "  (2011, 4): 1,\n",
       "  (2011, 5): 8,\n",
       "  (2011, 6): 6,\n",
       "  (2011, 7): 5,\n",
       "  (2011, 10): 3,\n",
       "  (2011, 11): 1,\n",
       "  (2012, 2): 3,\n",
       "  (2012, 3): 2,\n",
       "  (2012, 4): 2,\n",
       "  (2012, 5): 2,\n",
       "  (2012, 6): 11,\n",
       "  (2012, 7): 1,\n",
       "  (2012, 8): 5,\n",
       "  (2012, 9): 7,\n",
       "  (2012, 11): 6,\n",
       "  (2012, 12): 8,\n",
       "  (2013, 1): 5,\n",
       "  (2013, 3): 2,\n",
       "  (2013, 4): 5,\n",
       "  (2013, 5): 5,\n",
       "  (2013, 6): 10,\n",
       "  (2013, 7): 5,\n",
       "  (2013, 8): 18,\n",
       "  (2013, 9): 1,\n",
       "  (2013, 10): 11,\n",
       "  (2013, 11): 4,\n",
       "  (2013, 12): 9,\n",
       "  (2014, 2): 14,\n",
       "  (2014, 3): 19,\n",
       "  (2014, 5): 1,\n",
       "  (2014, 6): 6,\n",
       "  (2014, 7): 2,\n",
       "  (2014, 8): 18,\n",
       "  (2014, 9): 5},\n",
       " {(2003, 4): 2,\n",
       "  (2004, 7): 2,\n",
       "  (2004, 8): 2,\n",
       "  (2004, 9): 2,\n",
       "  (2004, 11): 78,\n",
       "  (2005, 5): 2,\n",
       "  (2005, 6): 2,\n",
       "  (2005, 7): 2,\n",
       "  (2005, 12): 2,\n",
       "  (2006, 10): 1,\n",
       "  (2006, 11): 3,\n",
       "  (2007, 2): 1,\n",
       "  (2007, 3): 11,\n",
       "  (2007, 4): 5,\n",
       "  (2007, 5): 1,\n",
       "  (2007, 12): 14,\n",
       "  (2008, 4): 2,\n",
       "  (2008, 9): 3,\n",
       "  (2008, 10): 1,\n",
       "  (2009, 2): 7,\n",
       "  (2009, 3): 5,\n",
       "  (2009, 4): 2,\n",
       "  (2009, 7): 20,\n",
       "  (2010, 2): 6,\n",
       "  (2010, 3): 6,\n",
       "  (2010, 4): 2,\n",
       "  (2010, 5): 4,\n",
       "  (2010, 6): 1,\n",
       "  (2010, 7): 2,\n",
       "  (2011, 2): 1,\n",
       "  (2011, 5): 1,\n",
       "  (2011, 7): 3,\n",
       "  (2011, 11): 13,\n",
       "  (2012, 1): 1,\n",
       "  (2012, 4): 1,\n",
       "  (2013, 12): 6,\n",
       "  (2014, 9): 10},\n",
       " {(2003, 4): 2,\n",
       "  (2003, 9): 6,\n",
       "  (2003, 10): 2,\n",
       "  (2003, 12): 2,\n",
       "  (2004, 8): 4,\n",
       "  (2004, 11): 4,\n",
       "  (2005, 3): 2,\n",
       "  (2005, 4): 6,\n",
       "  (2006, 1): 2,\n",
       "  (2006, 4): 6,\n",
       "  (2006, 5): 2,\n",
       "  (2006, 12): 1,\n",
       "  (2007, 1): 2,\n",
       "  (2007, 3): 2,\n",
       "  (2007, 4): 1,\n",
       "  (2007, 8): 4,\n",
       "  (2007, 11): 2,\n",
       "  (2008, 2): 2,\n",
       "  (2008, 5): 1,\n",
       "  (2008, 6): 7,\n",
       "  (2008, 7): 16,\n",
       "  (2008, 9): 3,\n",
       "  (2009, 3): 2,\n",
       "  (2009, 8): 3,\n",
       "  (2009, 12): 1,\n",
       "  (2010, 2): 8,\n",
       "  (2010, 3): 3,\n",
       "  (2010, 4): 3,\n",
       "  (2010, 7): 2,\n",
       "  (2010, 9): 2,\n",
       "  (2010, 10): 9,\n",
       "  (2010, 12): 2,\n",
       "  (2011, 2): 3,\n",
       "  (2011, 4): 5,\n",
       "  (2011, 5): 4,\n",
       "  (2011, 6): 8,\n",
       "  (2011, 7): 3,\n",
       "  (2011, 11): 2,\n",
       "  (2012, 2): 5,\n",
       "  (2012, 5): 5,\n",
       "  (2012, 6): 10,\n",
       "  (2012, 8): 5,\n",
       "  (2012, 10): 1,\n",
       "  (2012, 12): 10,\n",
       "  (2013, 2): 6,\n",
       "  (2013, 3): 6,\n",
       "  (2013, 5): 5,\n",
       "  (2013, 9): 2,\n",
       "  (2013, 10): 1,\n",
       "  (2014, 1): 1,\n",
       "  (2014, 8): 5},\n",
       " {(2003, 12): 2,\n",
       "  (2004, 6): 2,\n",
       "  (2005, 4): 6,\n",
       "  (2005, 6): 2,\n",
       "  (2005, 7): 8,\n",
       "  (2005, 8): 4,\n",
       "  (2006, 1): 6,\n",
       "  (2006, 2): 4,\n",
       "  (2006, 11): 1,\n",
       "  (2007, 1): 1,\n",
       "  (2007, 3): 2,\n",
       "  (2007, 4): 7,\n",
       "  (2007, 5): 4,\n",
       "  (2007, 7): 3,\n",
       "  (2007, 8): 2,\n",
       "  (2007, 9): 3,\n",
       "  (2007, 10): 3,\n",
       "  (2007, 11): 1,\n",
       "  (2007, 12): 5,\n",
       "  (2008, 1): 1,\n",
       "  (2008, 3): 1,\n",
       "  (2008, 5): 1,\n",
       "  (2008, 6): 7,\n",
       "  (2008, 7): 2,\n",
       "  (2008, 8): 3,\n",
       "  (2008, 9): 6,\n",
       "  (2009, 2): 2,\n",
       "  (2009, 3): 4,\n",
       "  (2009, 4): 6,\n",
       "  (2010, 1): 1,\n",
       "  (2010, 3): 2,\n",
       "  (2010, 5): 1,\n",
       "  (2010, 8): 5,\n",
       "  (2010, 9): 3,\n",
       "  (2011, 2): 3,\n",
       "  (2011, 3): 1,\n",
       "  (2011, 4): 5,\n",
       "  (2011, 5): 1,\n",
       "  (2011, 6): 4,\n",
       "  (2011, 9): 1,\n",
       "  (2012, 1): 2,\n",
       "  (2012, 2): 4,\n",
       "  (2012, 4): 1,\n",
       "  (2012, 6): 14,\n",
       "  (2012, 8): 3,\n",
       "  (2012, 9): 3,\n",
       "  (2012, 10): 1,\n",
       "  (2012, 11): 4,\n",
       "  (2013, 1): 1,\n",
       "  (2013, 2): 2,\n",
       "  (2013, 4): 6,\n",
       "  (2013, 5): 2,\n",
       "  (2013, 7): 6,\n",
       "  (2013, 9): 3,\n",
       "  (2013, 12): 4,\n",
       "  (2014, 1): 2,\n",
       "  (2014, 2): 2,\n",
       "  (2014, 3): 1,\n",
       "  (2014, 5): 3,\n",
       "  (2014, 7): 1,\n",
       "  (2014, 9): 1},\n",
       " {(2003, 4): 2,\n",
       "  (2003, 5): 6,\n",
       "  (2003, 8): 2,\n",
       "  (2003, 9): 2,\n",
       "  (2003, 10): 4,\n",
       "  (2003, 12): 2,\n",
       "  (2004, 5): 2,\n",
       "  (2004, 6): 8,\n",
       "  (2004, 8): 28,\n",
       "  (2004, 9): 2,\n",
       "  (2004, 12): 2,\n",
       "  (2005, 3): 8,\n",
       "  (2005, 4): 12,\n",
       "  (2005, 5): 12,\n",
       "  (2005, 6): 2,\n",
       "  (2005, 7): 4,\n",
       "  (2005, 8): 2,\n",
       "  (2005, 9): 6,\n",
       "  (2005, 10): 4,\n",
       "  (2005, 11): 2,\n",
       "  (2006, 1): 6,\n",
       "  (2006, 2): 4,\n",
       "  (2007, 4): 2,\n",
       "  (2007, 5): 1,\n",
       "  (2007, 7): 1,\n",
       "  (2007, 8): 1,\n",
       "  (2007, 9): 1,\n",
       "  (2007, 11): 1,\n",
       "  (2007, 12): 1,\n",
       "  (2008, 1): 1,\n",
       "  (2008, 4): 1,\n",
       "  (2008, 5): 8,\n",
       "  (2008, 6): 4,\n",
       "  (2008, 7): 3,\n",
       "  (2008, 8): 2,\n",
       "  (2008, 9): 4,\n",
       "  (2009, 3): 1,\n",
       "  (2009, 4): 3,\n",
       "  (2009, 7): 2,\n",
       "  (2009, 8): 6,\n",
       "  (2009, 9): 3,\n",
       "  (2009, 10): 1,\n",
       "  (2010, 1): 2,\n",
       "  (2010, 2): 2,\n",
       "  (2010, 3): 5,\n",
       "  (2010, 4): 2,\n",
       "  (2010, 5): 1,\n",
       "  (2010, 6): 2,\n",
       "  (2010, 7): 4,\n",
       "  (2010, 8): 10,\n",
       "  (2010, 9): 5,\n",
       "  (2010, 10): 6,\n",
       "  (2010, 11): 2,\n",
       "  (2011, 1): 6,\n",
       "  (2011, 3): 1,\n",
       "  (2011, 4): 2,\n",
       "  (2011, 6): 2,\n",
       "  (2011, 7): 5,\n",
       "  (2011, 9): 3,\n",
       "  (2011, 11): 5,\n",
       "  (2011, 12): 1,\n",
       "  (2012, 1): 2,\n",
       "  (2012, 2): 1,\n",
       "  (2012, 4): 5,\n",
       "  (2012, 5): 4,\n",
       "  (2012, 6): 2,\n",
       "  (2012, 7): 8,\n",
       "  (2012, 8): 2,\n",
       "  (2012, 10): 1,\n",
       "  (2012, 11): 4,\n",
       "  (2012, 12): 2,\n",
       "  (2013, 2): 2,\n",
       "  (2013, 3): 2,\n",
       "  (2013, 7): 9,\n",
       "  (2013, 8): 4,\n",
       "  (2013, 9): 1,\n",
       "  (2013, 10): 11,\n",
       "  (2013, 12): 2,\n",
       "  (2014, 2): 3,\n",
       "  (2014, 3): 2,\n",
       "  (2014, 4): 1,\n",
       "  (2014, 5): 4,\n",
       "  (2014, 7): 3,\n",
       "  (2014, 8): 11},\n",
       " {(2003, 5): 2,\n",
       "  (2004, 6): 4,\n",
       "  (2004, 11): 2,\n",
       "  (2005, 1): 3,\n",
       "  (2005, 3): 4,\n",
       "  (2005, 4): 4,\n",
       "  (2005, 9): 2,\n",
       "  (2005, 12): 12,\n",
       "  (2006, 1): 8,\n",
       "  (2006, 10): 2,\n",
       "  (2007, 2): 6,\n",
       "  (2007, 3): 6,\n",
       "  (2007, 5): 5,\n",
       "  (2007, 9): 1,\n",
       "  (2008, 2): 14,\n",
       "  (2008, 5): 3,\n",
       "  (2008, 6): 3,\n",
       "  (2008, 7): 2,\n",
       "  (2008, 9): 4,\n",
       "  (2009, 2): 2,\n",
       "  (2009, 9): 2,\n",
       "  (2009, 12): 1,\n",
       "  (2010, 5): 6,\n",
       "  (2010, 7): 3,\n",
       "  (2011, 4): 3,\n",
       "  (2011, 6): 2,\n",
       "  (2011, 10): 3,\n",
       "  (2012, 2): 3,\n",
       "  (2012, 5): 5,\n",
       "  (2012, 6): 3,\n",
       "  (2012, 7): 2,\n",
       "  (2012, 9): 3,\n",
       "  (2012, 11): 9,\n",
       "  (2013, 4): 12,\n",
       "  (2013, 5): 6,\n",
       "  (2013, 6): 4,\n",
       "  (2013, 9): 11,\n",
       "  (2013, 12): 7,\n",
       "  (2014, 1): 8,\n",
       "  (2014, 2): 23,\n",
       "  (2014, 5): 13},\n",
       " {(2003, 4): 2,\n",
       "  (2004, 6): 2,\n",
       "  (2004, 9): 8,\n",
       "  (2006, 12): 5,\n",
       "  (2007, 4): 7,\n",
       "  (2007, 8): 1,\n",
       "  (2007, 12): 1,\n",
       "  (2008, 1): 8,\n",
       "  (2008, 2): 6,\n",
       "  (2008, 3): 19,\n",
       "  (2008, 4): 2,\n",
       "  (2008, 5): 2,\n",
       "  (2008, 6): 2,\n",
       "  (2008, 7): 1,\n",
       "  (2008, 8): 2,\n",
       "  (2008, 9): 4,\n",
       "  (2008, 11): 2,\n",
       "  (2009, 2): 4,\n",
       "  (2009, 3): 2,\n",
       "  (2009, 7): 29,\n",
       "  (2010, 5): 3,\n",
       "  (2010, 6): 5,\n",
       "  (2010, 7): 17,\n",
       "  (2010, 8): 17,\n",
       "  (2010, 9): 13,\n",
       "  (2010, 10): 8,\n",
       "  (2011, 4): 1,\n",
       "  (2011, 5): 3,\n",
       "  (2011, 6): 1,\n",
       "  (2012, 1): 8,\n",
       "  (2012, 2): 6,\n",
       "  (2012, 4): 4,\n",
       "  (2012, 5): 1,\n",
       "  (2012, 6): 6,\n",
       "  (2012, 8): 2,\n",
       "  (2012, 10): 7,\n",
       "  (2012, 12): 3,\n",
       "  (2013, 2): 2,\n",
       "  (2013, 5): 7,\n",
       "  (2013, 6): 4,\n",
       "  (2013, 7): 12,\n",
       "  (2013, 8): 10,\n",
       "  (2013, 9): 13,\n",
       "  (2013, 10): 3,\n",
       "  (2014, 1): 2,\n",
       "  (2014, 2): 6,\n",
       "  (2014, 3): 8,\n",
       "  (2014, 4): 9,\n",
       "  (2014, 5): 3,\n",
       "  (2014, 6): 5},\n",
       " {(2003, 5): 12,\n",
       "  (2004, 6): 4,\n",
       "  (2004, 7): 2,\n",
       "  (2004, 8): 4,\n",
       "  (2004, 11): 1,\n",
       "  (2005, 3): 4,\n",
       "  (2005, 4): 2,\n",
       "  (2005, 5): 8,\n",
       "  (2005, 7): 4,\n",
       "  (2005, 12): 14,\n",
       "  (2006, 5): 4,\n",
       "  (2007, 5): 3,\n",
       "  (2007, 8): 2,\n",
       "  (2008, 2): 2,\n",
       "  (2008, 3): 4,\n",
       "  (2008, 4): 2,\n",
       "  (2008, 5): 1,\n",
       "  (2008, 8): 2,\n",
       "  (2008, 10): 1,\n",
       "  (2008, 12): 2,\n",
       "  (2009, 6): 6,\n",
       "  (2009, 7): 89,\n",
       "  (2009, 8): 6,\n",
       "  (2009, 9): 6,\n",
       "  (2009, 10): 3,\n",
       "  (2010, 7): 2,\n",
       "  (2010, 10): 6,\n",
       "  (2011, 4): 12,\n",
       "  (2011, 5): 6,\n",
       "  (2011, 6): 5,\n",
       "  (2011, 7): 9,\n",
       "  (2011, 11): 3,\n",
       "  (2011, 12): 2,\n",
       "  (2012, 2): 3,\n",
       "  (2012, 6): 7,\n",
       "  (2012, 9): 4,\n",
       "  (2012, 10): 2,\n",
       "  (2012, 11): 1,\n",
       "  (2012, 12): 7,\n",
       "  (2013, 1): 6,\n",
       "  (2013, 2): 4,\n",
       "  (2013, 7): 1,\n",
       "  (2013, 8): 1,\n",
       "  (2013, 9): 6,\n",
       "  (2013, 12): 1,\n",
       "  (2014, 1): 1,\n",
       "  (2014, 3): 3,\n",
       "  (2014, 4): 1,\n",
       "  (2014, 5): 3,\n",
       "  (2014, 7): 3,\n",
       "  (2014, 8): 1,\n",
       "  (2014, 9): 3}]"
      ]
     },
     "execution_count": 96,
     "metadata": {},
     "output_type": "execute_result"
    }
   ],
   "source": [
    "k_time_dict"
   ]
  },
  {
   "cell_type": "code",
   "execution_count": null,
   "metadata": {},
   "outputs": [],
   "source": []
  }
 ],
 "metadata": {
  "kernelspec": {
   "display_name": "Python 2",
   "language": "python",
   "name": "python2"
  },
  "language_info": {
   "codemirror_mode": {
    "name": "ipython",
    "version": 2
   },
   "file_extension": ".py",
   "mimetype": "text/x-python",
   "name": "python",
   "nbconvert_exporter": "python",
   "pygments_lexer": "ipython2",
   "version": "2.7.14"
  }
 },
 "nbformat": 4,
 "nbformat_minor": 1
}
