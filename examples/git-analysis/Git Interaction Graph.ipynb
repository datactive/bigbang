{
 "cells": [
  {
   "cell_type": "markdown",
   "metadata": {},
   "source": [
    "This notebook creates a graph representation of the collaboration between contributors of a Git repository, where nodes are authors, and edges are weighted by the parent/child dependencies between the commits of authors."
   ]
  },
  {
   "cell_type": "code",
   "execution_count": 13,
   "metadata": {},
   "outputs": [],
   "source": [
    "%matplotlib inline\n",
    "from bigbang.ingress.git_repo import GitRepo\n",
    "from bigbang.analysis import repo_loader\n",
    "import matplotlib.pyplot as plt\n",
    "import networkx as nx\n",
    "import pandas as pd"
   ]
  },
  {
   "cell_type": "code",
   "execution_count": 14,
   "metadata": {},
   "outputs": [
    {
     "name": "stdout",
     "output_type": "stream",
     "text": [
      "Checking if cached\n",
      "Running Entity Resolution on cfahelloworld\n",
      "Checking if cached\n",
      "Running Entity Resolution on shortstack\n",
      "Checking if cached\n",
      "Running Entity Resolution on cfawp2012\n",
      "Checking if cached\n",
      "Running Entity Resolution on Open311-Visualization\n",
      "Checking if cached\n",
      "Running Entity Resolution on open311\n",
      "Checking if cached\n",
      "Running Entity Resolution on follow-all\n",
      "Checking if cached\n",
      "Running Entity Resolution on gollum\n",
      "Checking if cached\n",
      "Running Entity Resolution on svg_canvas_experiments\n",
      "Checking if cached\n",
      "Running Entity Resolution on adopt-a-hydrant\n",
      "Checking if cached\n",
      "Running Entity Resolution on secretsauce\n",
      "Checking if cached\n",
      "Running Entity Resolution on datalogue\n",
      "Checking if cached\n",
      "Running Entity Resolution on open311dashboard\n",
      "Checking if cached\n",
      "Running Entity Resolution on designforamerica\n",
      "Checking if cached\n",
      "Running Entity Resolution on tipster\n",
      "Checking if cached\n",
      "Running Entity Resolution on georuby\n",
      "Checking if cached\n",
      "Running Entity Resolution on gem_template\n",
      "Checking if cached\n",
      "Running Entity Resolution on hubbuds\n",
      "Checking if cached\n",
      "Running Entity Resolution on Twitter-Collage\n",
      "Checking if cached\n",
      "Running Entity Resolution on flocky\n",
      "Checking if cached\n",
      "Running Entity Resolution on councilmatic\n",
      "Checking if cached\n",
      "Running Entity Resolution on classtalk\n",
      "Checking if cached\n",
      "Running Entity Resolution on 2010BasicCensusMap\n",
      "Checking if cached\n",
      "Running Entity Resolution on cfa-drupal-template\n",
      "Checking if cached\n",
      "Running Entity Resolution on wheresmyschoolbus\n",
      "Checking if cached\n",
      "Running Entity Resolution on cfa-drupal-example-module\n",
      "Checking if cached\n",
      "Running Entity Resolution on Wufoopress\n",
      "Checking if cached\n",
      "Running Entity Resolution on cfa_coder_sounds\n",
      "Checking if cached\n",
      "Running Entity Resolution on engagement_toolkit\n",
      "Checking if cached\n",
      "Running Entity Resolution on Catalyze\n",
      "Checking if cached\n",
      "Running Entity Resolution on lunch_roulette\n"
     ]
    }
   ],
   "source": [
    "repos = repo_loader.get_org_repos(\"codeforamerica\")\n",
    "repo = repo_loader.get_multi_repo(repos=repos)\n",
    "full_info = repo.commit_data;"
   ]
  },
  {
   "cell_type": "markdown",
   "metadata": {},
   "source": [
    "Nodes will be Author objects, each of which holds a list of Commit objects."
   ]
  },
  {
   "cell_type": "code",
   "execution_count": 15,
   "metadata": {},
   "outputs": [],
   "source": [
    "class Commit:\n",
    "    def __init__(self, message, hexsha, parents):\n",
    "        self.message = message\n",
    "        self.hexsha = hexsha\n",
    "        self.parents = parents\n",
    "\n",
    "    def __repr__(self):\n",
    "        return \" \".join(self.message.split(\" \")[:4])\n",
    "\n",
    "\n",
    "class Author:\n",
    "    def __init__(self, name, commits):\n",
    "        self.name = name\n",
    "        self.commits = commits\n",
    "        self.number_of_commits = 1\n",
    "\n",
    "    def add_commit(self, commit):\n",
    "        self.commits.append(commit)\n",
    "        self.number_of_commits += 1\n",
    "\n",
    "    def __repr__(self):\n",
    "        return self.name"
   ]
  },
  {
   "cell_type": "markdown",
   "metadata": {},
   "source": [
    "We create a list of authors, also separately keeping track of committer names to make sure we only add each author once. If a commit by an already stored author is found, we add it to that authors list of commits."
   ]
  },
  {
   "cell_type": "code",
   "execution_count": 16,
   "metadata": {},
   "outputs": [],
   "source": [
    "def get_authors():\n",
    "    authors = []\n",
    "    names = []\n",
    "\n",
    "    for index, row in full_info.iterrows():\n",
    "        name = row[\"Committer Name\"]\n",
    "        hexsha = row[\"HEXSHA\"]\n",
    "        parents = row[\"Parent Commit\"]\n",
    "        message = row[\"Commit Message\"]\n",
    "\n",
    "        if name not in names:\n",
    "            authors.append(Author(name, [Commit(message, hexsha, parents)]))\n",
    "            names.append(name)\n",
    "\n",
    "        else:\n",
    "            for author in authors:\n",
    "                if author.name == name:\n",
    "                    author.add_commit(Commit(message, hexsha, parents))\n",
    "\n",
    "    return authors"
   ]
  },
  {
   "cell_type": "markdown",
   "metadata": {},
   "source": [
    "We create our graph by forming an edge whenever an author has a commit which is the parent of another author's commit, and only increasing the weight of that edge if an edge between those two authors already exists."
   ]
  },
  {
   "cell_type": "code",
   "execution_count": 17,
   "metadata": {},
   "outputs": [],
   "source": [
    "def make_graph(nodes):\n",
    "    G = nx.Graph()\n",
    "\n",
    "    for author in nodes:\n",
    "        for commit in author.commits:\n",
    "            for other in nodes:\n",
    "                for other_commit in other.commits:\n",
    "                    if commit.hexsha in other_commit.parents:\n",
    "                        if G.has_edge(author, other):\n",
    "                            G[author][other][\"weight\"] += 1\n",
    "                        else:\n",
    "                            G.add_edge(author, other, weight=1)\n",
    "\n",
    "    return G"
   ]
  },
  {
   "cell_type": "code",
   "execution_count": null,
   "metadata": {},
   "outputs": [],
   "source": [
    "nodes = get_authors()\n",
    "G = make_graph(nodes)\n",
    "\n",
    "pos = nx.spring_layout(G, iterations=100)\n",
    "nx.draw(G, pos, font_size=8, with_labels=False)\n",
    "# nx.draw_networkx_labels(G, pos);"
   ]
  }
 ],
 "metadata": {
  "kernelspec": {
   "display_name": "Python 3 (ipykernel)",
   "language": "python",
   "name": "python3"
  },
  "language_info": {
   "codemirror_mode": {
    "name": "ipython",
    "version": 3
   },
   "file_extension": ".py",
   "mimetype": "text/x-python",
   "name": "python",
   "nbconvert_exporter": "python",
   "pygments_lexer": "ipython3",
   "version": "3.9.5"
  }
 },
 "nbformat": 4,
 "nbformat_minor": 1
}
