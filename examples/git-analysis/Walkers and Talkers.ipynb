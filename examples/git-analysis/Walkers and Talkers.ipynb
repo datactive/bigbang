{
 "cells": [
  {
   "cell_type": "code",
   "execution_count": 2,
   "metadata": {},
   "outputs": [],
   "source": [
    "%matplotlib inline\n",
    "from bigbang.archive import Archive\n",
    "import bigbang.analysis.entity_resolution\n",
    "from bigbang.analysis import repo_loader\n",
    "import matplotlib.pyplot as plt\n",
    "from matplotlib import animation, colors\n",
    "import pylab\n",
    "import numpy as np\n",
    "import pandas as pd\n",
    "from IPython.display import display  # Used to display widgets in the notebook\n",
    "from IPython.display import clear_output"
   ]
  },
  {
   "cell_type": "markdown",
   "metadata": {},
   "source": [
    "Introduction\n",
    "============\n",
    "In group efforts, there is sometimes the impression that there are those who work, and those who talk. A naive question to ask is whether or not the people that tend to talk a lot actually get any work done. This is an obviously and purposefully obtuse question with an interesting answer.\n",
    "\n",
    "We can use BigBang's newest feature, git data collection, to compare all of the contributors to a project, in this case Scipy, based on their email and git commit activity. The hypothesis in this case was that people who commit a lot will also tend to email a lot, and vice versa, since their involvement in a project would usually require them to do both. This hypothesis was proven to be correct. However, the data reveals many more interesting phenomenon."
   ]
  },
  {
   "cell_type": "code",
   "execution_count": 4,
   "metadata": {},
   "outputs": [
    {
     "name": "stdout",
     "output_type": "stream",
     "text": [
      "Checking for bigbang at /home/aryan/urap/bigbang/archives/sample_git_repos/bigbang\n",
      "failed to add a commit because of an encoding error\n",
      "failed to add a commit because of an encoding error\n"
     ]
    }
   ],
   "source": [
    "# Load the raw email and git data\n",
    "url = \"http://mail.python.org/pipermail/scipy-dev/\"\n",
    "arx = Archive(url, archive_dir=\"../archives\")\n",
    "mailInfo = arx.data\n",
    "repo = repo_loader.get_repo(\"bigbang\")\n",
    "gitInfo = repo.commit_data;"
   ]
  },
  {
   "cell_type": "markdown",
   "metadata": {},
   "source": [
    "Entity Resolution\n",
    "=================\n",
    "Git and Email data comes from two different datatables. To observe a single person's git and email data, we need a way to identify that person across the two different datatables. \n",
    "\n",
    "To solve this problem, I wrote an entity resolution client that will parse a Pandas dataframe and add a new column to it called \"Person-ID\" which gives each row an ID that represents one unique contributor. A person may go by many names (\"Robert Smith, Rob B. Smith, Bob S., etc.) and use many different emails. However, this client will read through these data tables in one pass and consolidate these identities based on a few strategies. "
   ]
  },
  {
   "cell_type": "code",
   "execution_count": 5,
   "metadata": {},
   "outputs": [],
   "source": [
    "entityResolve = bigbang.entity_resolution.entityResolve\n",
    "mailAct = mailInfo.apply(entityResolve, axis=1, args=(\"From\", None))\n",
    "gitAct = gitInfo.apply(\n",
    "    entityResolve, axis=1, args=(\"Committer Email\", \"Committer Name\")\n",
    ")"
   ]
  },
  {
   "cell_type": "markdown",
   "metadata": {},
   "source": [
    "After we've run entity resolution on our dataframes, we split the dataframe into slices based on time. So for the entire life-span of the project, we will have NUM_SLICES different segments to analyze. We will be able to look at the git and email data up until that certain date, which can let us analyze these changes over time."
   ]
  },
  {
   "cell_type": "code",
   "execution_count": 6,
   "metadata": {},
   "outputs": [],
   "source": [
    "NUM_SLICES = 1500  # Number of animation frames. More means more loading time"
   ]
  },
  {
   "cell_type": "code",
   "execution_count": 7,
   "metadata": {},
   "outputs": [],
   "source": [
    "mailAct.sort(\"Date\")\n",
    "gitAct.sort(\"Time\")\n",
    "\n",
    "\n",
    "def getSlices(df, numSlices):\n",
    "    sliceSize = len(df) / numSlices\n",
    "    slices = []\n",
    "    for i in range(1, numSlices + 1):\n",
    "        start = 0\n",
    "        next = (i) * sliceSize\n",
    "        next = min(next, len(df) - 1)  # make sure we don't go out of bounds\n",
    "\n",
    "        slice = df.iloc[start:next]\n",
    "        slices.append(slice)\n",
    "    return slices\n",
    "\n",
    "\n",
    "mailSlices = getSlices(mailAct, NUM_SLICES)\n",
    "gitSlices = getSlices(gitAct, NUM_SLICES)"
   ]
  },
  {
   "cell_type": "markdown",
   "metadata": {},
   "source": [
    "Merging Data Tables\n",
    "===================\n",
    "Now we want to merge these two tables based on their Person-ID values. Basically, we first count how many emails / commits a certain contributor had in a certain slice. We then join all the rows with the same Person-ID to each other, so that we have the number of emails and the number of commits of each person in one row per person in one consolidated dataframe. We then delete all the rows where both of these values aren't defined. These represent people for whom we have git data but not mail data, or vice versa."
   ]
  },
  {
   "cell_type": "code",
   "execution_count": 8,
   "metadata": {},
   "outputs": [],
   "source": [
    "def processSlices(slices):\n",
    "    for i in range(len(slices)):\n",
    "        slice = slices[i]\n",
    "        slice = slice.groupby(\"Person-ID\").size()\n",
    "        slice.sort()\n",
    "        slices[i] = slice\n",
    "\n",
    "\n",
    "def concatSlices(slicesA, slicesB):\n",
    "    # assumes they have the same number of slices\n",
    "    # First is emails, second is commits\n",
    "    ansSlices = []\n",
    "    for i in range(len(slicesA)):\n",
    "        sliceA = slicesA[i]\n",
    "        sliceB = slicesB[i]\n",
    "        ans = pd.concat({\"Emails\": sliceA, \"Commits\": sliceB}, axis=1)\n",
    "        ans = ans[pd.notnull(ans[\"Emails\"])]\n",
    "        ans = ans[pd.notnull(ans[\"Commits\"])]\n",
    "        ansSlices.append(ans)\n",
    "    return ansSlices\n",
    "\n",
    "\n",
    "processSlices(mailSlices)\n",
    "processSlices(gitSlices)\n",
    "\n",
    "finalSlices = concatSlices(mailSlices, gitSlices)"
   ]
  },
  {
   "cell_type": "markdown",
   "metadata": {},
   "source": [
    "Coloring\n",
    "========\n",
    "We now assign a float value [0 --> 1] to each person. This isn't neccesary, but can let us graph these changes in a scatter plot and give each contributor a unique color to differentiate them. This will help us track an individual as their dot travels over time. "
   ]
  },
  {
   "cell_type": "code",
   "execution_count": 9,
   "metadata": {},
   "outputs": [],
   "source": [
    "def idToFloat(id):\n",
    "    return id * 1.0 / 400.0\n",
    "\n",
    "\n",
    "for i in range(len(finalSlices)):\n",
    "    slice = finalSlices[i]\n",
    "    toSet = []\n",
    "\n",
    "    for i in slice.index.values:\n",
    "        i = idToFloat(i)\n",
    "        toSet.append(i)\n",
    "    slice[\"color\"] = toSet"
   ]
  },
  {
   "cell_type": "markdown",
   "metadata": {},
   "source": [
    "Here we graph our data. Each dot represents a unique contributor's number of emails and commits. As you'll notice, the graph is on a log-log scale."
   ]
  },
  {
   "cell_type": "code",
   "execution_count": 10,
   "metadata": {},
   "outputs": [
    {
     "data": {
      "image/png": "[encoded data removed]",
      "text/plain": [
       "<matplotlib.figure.Figure at 0x7f8afe988d90>"
      ]
     },
     "metadata": {},
     "output_type": "display_data"
    }
   ],
   "source": [
    "data = finalSlices[len(finalSlices) - 1]  # Will break if there are 0 slices\n",
    "fig = plt.figure(figsize=(8, 8))\n",
    "\n",
    "d = data\n",
    "x = d[\"Emails\"]\n",
    "y = d[\"Commits\"]\n",
    "c = d[\"color\"]\n",
    "ax = plt.axes(xscale=\"log\", yscale=\"log\")\n",
    "\n",
    "\n",
    "plt.scatter(x, y, c=c, s=75)\n",
    "plt.ylim(0, 10000)\n",
    "plt.xlim(0, 10000)\n",
    "ax.set_xlabel(\"Emails\")\n",
    "ax.set_ylabel(\"Commits\")\n",
    "plt.plot([0, 1000], [0, 1000], linewidth=5)\n",
    "\n",
    "plt.show()"
   ]
  },
  {
   "cell_type": "markdown",
   "metadata": {},
   "source": [
    "Animations\n",
    "==========\n",
    "Below this point, you'll find the code for generating animations. This can take a long time (~30 mins) for a large number of slices. However, the pre-generated videos are below.\n",
    "\n",
    "The first video just shows all the contributors over time without unique colors. The second video has a color for each contributor, but also contains a Matplotlib bug where the minimum x and y values for the axes is not followed. \n",
    "\n",
    "There is a lot to observe. As to our hypothesis, it's clear that people who email more commit more. In our static graph, we could see many contributors on the x-axis -- people who only email -- but this dynamic graph allows us to see the truth. While it may seem that they're people who only email, the video shows that even these contributors eventually start committing. Most committers don't really get past 10 commits without starting to email the rest of the project, for pretty clear reasons. However, the emailers can \"get away with\" exclusively emailing for longer, but eventually they too start to commit. In general, not only is there a positive correlation, there's a general trend of everyone edging close to having a stable and relatively equal ratio of commits to emails."
   ]
  },
  {
   "cell_type": "code",
   "execution_count": null,
   "metadata": {},
   "outputs": [
    {
     "data": {
      "text/html": [
       "\n",
       "        <iframe\n",
       "            width=\"500\"\n",
       "            height=500\"\n",
       "            src=\"https://www.youtube.com/embed/GCcYJBq1Bcc\"\n",
       "            frameborder=\"0\"\n",
       "            allowfullscreen\n",
       "        ></iframe>\n",
       "        "
      ],
      "text/plain": [
       "<IPython.lib.display.YouTubeVideo at 0x7f8afe998550>"
      ]
     },
     "metadata": {},
     "output_type": "display_data"
    },
    {
     "data": {
      "text/html": [
       "\n",
       "        <iframe\n",
       "            width=\"500\"\n",
       "            height=500\"\n",
       "            src=\"https://www.youtube.com/embed/uP-z4jJqxmI\"\n",
       "            frameborder=\"0\"\n",
       "            allowfullscreen\n",
       "        ></iframe>\n",
       "        "
      ],
      "text/plain": [
       "<IPython.lib.display.YouTubeVideo at 0x7f8afe998750>"
      ]
     },
     "metadata": {},
     "output_type": "display_data"
    }
   ],
   "source": [
    "from IPython.display import YouTubeVideo\n",
    "\n",
    "display(YouTubeVideo(\"GCcYJBq1Bcc\", width=500, height=500))\n",
    "display(YouTubeVideo(\"uP-z4jJqxmI\", width=500, height=500))"
   ]
  },
  {
   "cell_type": "code",
   "execution_count": null,
   "metadata": {},
   "outputs": [],
   "source": [
    "fig = plt.figure(figsize=(8, 8))\n",
    "a = finalSlices[0]\n",
    "\n",
    "print(type(plt))\n",
    "ax = plt.axes(xscale=\"log\", yscale=\"log\")\n",
    "(graph,) = ax.plot(x, y, \"o\", c=\"red\", alpha=1, markeredgecolor=\"none\")\n",
    "ax.set_xlabel(\"Emails\")\n",
    "ax.set_ylabel(\"Commits\")\n",
    "plt.ylim(0, 10000)\n",
    "plt.xlim(0, 10000)\n",
    "\n",
    "\n",
    "def init():\n",
    "    graph.set_data([], [])\n",
    "    return (graph,)\n",
    "\n",
    "\n",
    "def animate(i):\n",
    "    a = finalSlices[i]\n",
    "    x = a[\"Emails\"]\n",
    "    y = a[\"Commits\"]\n",
    "    graph.set_data(x, y)\n",
    "    return (graph,)\n",
    "\n",
    "\n",
    "anim = animation.FuncAnimation(\n",
    "    fig, animate, init_func=init, frames=NUM_SLICES, interval=1, blit=True\n",
    ")\n",
    "\n",
    "anim.save(\"t1.mp4\", fps=15)"
   ]
  },
  {
   "cell_type": "code",
   "execution_count": null,
   "metadata": {},
   "outputs": [],
   "source": [
    "def main():\n",
    "    data = finalSlices\n",
    "    first = finalSlices[0]\n",
    "    fig = plt.figure(figsize=(8, 8))\n",
    "\n",
    "    d = data\n",
    "    x = d[0][\"Emails\"]\n",
    "    y = d[0][\"Commits\"]\n",
    "    c = d[0][\"color\"]\n",
    "\n",
    "    ax = plt.axes(xscale=\"log\", yscale=\"log\")\n",
    "    scat = plt.scatter(x, y, c=c, s=100)\n",
    "    plt.ylim(0, 10000)\n",
    "    plt.xlim(0, 10000)\n",
    "    plt.xscale(\"log\")\n",
    "    plt.yscale(\"log\")\n",
    "    ani = animation.FuncAnimation(\n",
    "        fig, update_plot, frames=NUM_SLICES, fargs=(data, scat), blit=True\n",
    "    )\n",
    "    ani.save(\"test.mp4\", fps=10)\n",
    "    # plt.show()\n",
    "\n",
    "\n",
    "def update_plot(i, d, scat):\n",
    "    x = d[i][\"Emails\"]\n",
    "    y = d[i][\"Commits\"]\n",
    "    c = d[i][\"color\"]\n",
    "    plt.cla()\n",
    "    ax = plt.axes()\n",
    "    ax.set_xscale(\"log\")\n",
    "    ax.set_yscale(\"log\")\n",
    "\n",
    "    scat = plt.scatter(x, y, c=c, s=100)\n",
    "\n",
    "    plt.ylim(0, 10000)\n",
    "    plt.xlim(0, 10000)\n",
    "    plt.xlabel(\"Emails\")\n",
    "    plt.ylabel(\"Commits\")\n",
    "    return (scat,)\n",
    "\n",
    "\n",
    "main()"
   ]
  }
 ],
 "metadata": {
  "kernelspec": {
   "display_name": "Python 3 (ipykernel)",
   "language": "python",
   "name": "python3"
  },
  "language_info": {
   "codemirror_mode": {
    "name": "ipython",
    "version": 3
   },
   "file_extension": ".py",
   "mimetype": "text/x-python",
   "name": "python",
   "nbconvert_exporter": "python",
   "pygments_lexer": "ipython3",
   "version": "3.9.5"
  }
 },
 "nbformat": 4,
 "nbformat_minor": 1
}
