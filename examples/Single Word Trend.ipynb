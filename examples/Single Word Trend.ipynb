{
 "cells": [
  {
   "cell_type": "markdown",
   "metadata": {},
   "source": [
    "## This note book gives the trend of a single word in single mailing list."
   ]
  },
  {
   "cell_type": "code",
   "execution_count": 1,
   "metadata": {},
   "outputs": [],
   "source": [
    "%matplotlib inline"
   ]
  },
  {
   "cell_type": "code",
   "execution_count": 2,
   "metadata": {},
   "outputs": [],
   "source": [
    "from bigbang.archive import Archive\n",
    "import bigbang.parse as parse\n",
    "import bigbang.graph as graph\n",
    "import bigbang.mailman as mailman\n",
    "import bigbang.process as process\n",
    "import networkx as nx\n",
    "import matplotlib.pyplot as plt\n",
    "import pandas as pd\n",
    "from pprint import pprint as pp\n",
    "import pytz\n",
    "import numpy as np\n",
    "import math\n",
    "import nltk\n",
    "from itertools import repeat\n",
    "from nltk.stem.lancaster import LancasterStemmer\n",
    "st = LancasterStemmer()\n",
    "from nltk.corpus import stopwords\n",
    "import re"
   ]
  },
  {
   "cell_type": "code",
   "execution_count": 3,
   "metadata": {},
   "outputs": [],
   "source": [
    "urls = [\"http://mail.python.org/pipermail/ipython-dev/\"]#,\n",
    "        #\"http://mail.python.org/pipermail/ipython-user/\"],\n",
    "        #\"http://mail.python.org/pipermail/scipy-dev/\",\n",
    "        #\"http://mail.python.org/pipermail/scipy-user/\",\n",
    "        #\"http://mail.python.org/pipermail/numpy-discussion/\"]\n",
    "\n",
    "\n",
    "archives= [Archive(url,archive_dir=\"../../archives\") for url in urls]"
   ]
  },
  {
   "cell_type": "code",
   "execution_count": 4,
   "metadata": {},
   "outputs": [],
   "source": [
    "checkword = \"python\" #can change words, should be lower case"
   ]
  },
  {
   "cell_type": "markdown",
   "metadata": {},
   "source": [
    "You'll need to download some resources for NLTK (the natural language toolkit) in order to do the kind of processing we want on all the mailing list text. In particular, for this notebook you'll need **punkt**, the Punkt Tokenizer Models.\n",
    "\n",
    "To download, from an interactive Python shell, run:\n",
    "\n",
    "    import nltk\n",
    "    nltk.download()\n",
    "\n",
    "And in the graphical UI that appears, choose \"punkt\" from the All Packages tab and Download."
   ]
  },
  {
   "cell_type": "code",
   "execution_count": 5,
   "metadata": {},
   "outputs": [
    {
     "name": "stdout",
     "output_type": "stream",
     "text": [
      "!!! Detected an email with an empty Body field...\n",
      "!!! Detected an email with an empty Body field...\n",
      "!!! Detected an email with an empty Body field...\n",
      "!!! Detected an email with an empty Body field...\n"
     ]
    }
   ],
   "source": [
    "df = pd.DataFrame(columns=[\"MessageId\",\"Date\",\"From\",\"In-Reply-To\",\"Count\"])\n",
    "for row in archives[0].data.iterrows():\n",
    "    try: \n",
    "        w = row[1][\"Body\"].replace(\"'\", \"\")\n",
    "        k = re.sub(r'[^\\w]', ' ', w)\n",
    "        k = k.lower()\n",
    "        t = nltk.tokenize.word_tokenize(k)\n",
    "        subdict = {}\n",
    "        count = 0\n",
    "        for g in t:\n",
    "            try:\n",
    "                word = st.stem(g)\n",
    "            except:\n",
    "                print g\n",
    "                pass\n",
    "            if word == checkword:\n",
    "                count += 1\n",
    "        if count == 0:\n",
    "            continue\n",
    "        else:\n",
    "            subdict[\"MessageId\"] = row[0]\n",
    "            subdict[\"Date\"] = str(row[1][\"Date\"])\n",
    "            subdict[\"From\"] = row[1][\"From\"]\n",
    "            subdict[\"In-Reply-To\"] = row[1][\"In-Reply-To\"]\n",
    "            subdict[\"Count\"] = count\n",
    "\n",
    "            df = df.append(subdict,ignore_index=True)\n",
    "    except Exception as e:\n",
    "        if row[1][\"Body\"] is None: \n",
    "            print '!!! Detected an email with an empty Body field...'\n",
    "        else: \n",
    "            print e\n",
    "            print 'error'"
   ]
  },
  {
   "cell_type": "code",
   "execution_count": 6,
   "metadata": {},
   "outputs": [],
   "source": [
    "df['Date'] = pd.to_datetime(df['Date'])"
   ]
  },
  {
   "cell_type": "code",
   "execution_count": 7,
   "metadata": {},
   "outputs": [
    {
     "data": {
      "text/html": [
       "<div>\n",
       "<style scoped>\n",
       "    .dataframe tbody tr th:only-of-type {\n",
       "        vertical-align: middle;\n",
       "    }\n",
       "\n",
       "    .dataframe tbody tr th {\n",
       "        vertical-align: top;\n",
       "    }\n",
       "\n",
       "    .dataframe thead th {\n",
       "        text-align: right;\n",
       "    }\n",
       "</style>\n",
       "<table border=\"1\" class=\"dataframe\">\n",
       "  <thead>\n",
       "    <tr style=\"text-align: right;\">\n",
       "      <th></th>\n",
       "      <th>MessageId</th>\n",
       "      <th>Date</th>\n",
       "      <th>From</th>\n",
       "      <th>In-Reply-To</th>\n",
       "      <th>Count</th>\n",
       "    </tr>\n",
       "  </thead>\n",
       "  <tbody>\n",
       "    <tr>\n",
       "      <th>0</th>\n",
       "      <td>&lt;3E9E4094.7030802@colorado.edu&gt;</td>\n",
       "      <td>2003-04-17 05:50:12</td>\n",
       "      <td>fperez at colorado.edu (Fernando Perez)</td>\n",
       "      <td>&lt;003d01c28a9a$3dcb8560$e301340a@cyberhigh.fcoe...</td>\n",
       "      <td>2</td>\n",
       "    </tr>\n",
       "    <tr>\n",
       "      <th>1</th>\n",
       "      <td>&lt;000c01c304ee$3cb79e60$e901340a@cyberhigh.fcoe...</td>\n",
       "      <td>2003-04-17 14:32:56</td>\n",
       "      <td>cdodt at fcoe.k12.ca.us (Cory Dodt)</td>\n",
       "      <td>&lt;3E9E4094.7030802@colorado.edu&gt;</td>\n",
       "      <td>3</td>\n",
       "    </tr>\n",
       "    <tr>\n",
       "      <th>2</th>\n",
       "      <td>&lt;3E9EC1CA.3060800@colorado.edu&gt;</td>\n",
       "      <td>2003-04-17 15:01:30</td>\n",
       "      <td>fperez at colorado.edu (Fernando Perez)</td>\n",
       "      <td>&lt;000c01c304ee$3cb79e60$e901340a@cyberhigh.fcoe...</td>\n",
       "      <td>6</td>\n",
       "    </tr>\n",
       "    <tr>\n",
       "      <th>3</th>\n",
       "      <td>&lt;3E9EF5E3.8080100@colorado.edu&gt;</td>\n",
       "      <td>2003-04-17 18:43:47</td>\n",
       "      <td>fperez at colorado.edu (Fernando Perez)</td>\n",
       "      <td>None</td>\n",
       "      <td>2</td>\n",
       "    </tr>\n",
       "    <tr>\n",
       "      <th>4</th>\n",
       "      <td>&lt;3E9EFC95.7040309@colorado.edu&gt;</td>\n",
       "      <td>2003-04-17 19:12:21</td>\n",
       "      <td>fperez at colorado.edu (Fernando Perez)</td>\n",
       "      <td>None</td>\n",
       "      <td>1</td>\n",
       "    </tr>\n",
       "  </tbody>\n",
       "</table>\n",
       "</div>"
      ],
      "text/plain": [
       "                                           MessageId                Date  \\\n",
       "0                    <3E9E4094.7030802@colorado.edu> 2003-04-17 05:50:12   \n",
       "1  <000c01c304ee$3cb79e60$e901340a@cyberhigh.fcoe... 2003-04-17 14:32:56   \n",
       "2                    <3E9EC1CA.3060800@colorado.edu> 2003-04-17 15:01:30   \n",
       "3                    <3E9EF5E3.8080100@colorado.edu> 2003-04-17 18:43:47   \n",
       "4                    <3E9EFC95.7040309@colorado.edu> 2003-04-17 19:12:21   \n",
       "\n",
       "                                      From  \\\n",
       "0  fperez at colorado.edu (Fernando Perez)   \n",
       "1      cdodt at fcoe.k12.ca.us (Cory Dodt)   \n",
       "2  fperez at colorado.edu (Fernando Perez)   \n",
       "3  fperez at colorado.edu (Fernando Perez)   \n",
       "4  fperez at colorado.edu (Fernando Perez)   \n",
       "\n",
       "                                         In-Reply-To Count  \n",
       "0  <003d01c28a9a$3dcb8560$e301340a@cyberhigh.fcoe...     2  \n",
       "1                    <3E9E4094.7030802@colorado.edu>     3  \n",
       "2  <000c01c304ee$3cb79e60$e901340a@cyberhigh.fcoe...     6  \n",
       "3                                               None     2  \n",
       "4                                               None     1  "
      ]
     },
     "execution_count": 7,
     "metadata": {},
     "output_type": "execute_result"
    }
   ],
   "source": [
    "df[:5]  #dataframe of informations of the particular word."
   ]
  },
  {
   "cell_type": "markdown",
   "metadata": {},
   "source": [
    "Group the dataframe by the month and year, and aggregate the counts for the checkword during each month to get a quick histogram of how frequently that word has been used over time."
   ]
  },
  {
   "cell_type": "code",
   "execution_count": 8,
   "metadata": {},
   "outputs": [
    {
     "data": {
      "text/plain": [
       "<matplotlib.axes._subplots.AxesSubplot at 0x7febd714ecd0>"
      ]
     },
     "execution_count": 8,
     "metadata": {},
     "output_type": "execute_result"
    },
    {
     "data": {
      "image/png": "[encoded data removed]",
      "text/plain": [
       "<matplotlib.figure.Figure at 0x7febd7154c90>"
      ]
     },
     "metadata": {},
     "output_type": "display_data"
    }
   ],
   "source": [
    "df.groupby([df.Date.dt.year, df.Date.dt.month]).agg({'Count':np.sum}).plot(y='Count')"
   ]
  }
 ],
 "metadata": {
  "kernelspec": {
   "display_name": "Python 2",
   "language": "python",
   "name": "python2"
  },
  "language_info": {
   "codemirror_mode": {
    "name": "ipython",
    "version": 2
   },
   "file_extension": ".py",
   "mimetype": "text/x-python",
   "name": "python",
   "nbconvert_exporter": "python",
   "pygments_lexer": "ipython2",
   "version": "2.7.14"
  }
 },
 "nbformat": 4,
 "nbformat_minor": 1
}
