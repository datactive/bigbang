{
 "cells": [
  {
   "cell_type": "markdown",
   "metadata": {},
   "source": [
    "## This note book gives the trend of a single word in single mailing list."
   ]
  },
  {
   "cell_type": "code",
   "execution_count": 1,
   "metadata": {
    "collapsed": false
   },
   "outputs": [],
   "source": [
    "%matplotlib inline"
   ]
  },
  {
   "cell_type": "code",
   "execution_count": 2,
   "metadata": {
    "collapsed": true
   },
   "outputs": [],
   "source": [
    "import bigbang"
   ]
  },
  {
   "cell_type": "code",
   "execution_count": 3,
   "metadata": {
    "collapsed": false
   },
   "outputs": [],
   "source": [
    "from bigbang.archive import Archive\n",
    "import bigbang.parse as parse\n",
    "import bigbang.graph as graph\n",
    "import bigbang.mailman as mailman\n",
    "import bigbang.process as process\n",
    "import networkx as nx\n",
    "import matplotlib.pyplot as plt\n",
    "import pandas as pd\n",
    "from pprint import pprint as pp\n",
    "import pytz\n",
    "import numpy as np\n",
    "import math\n",
    "import nltk\n",
    "from itertools import repeat\n",
    "from nltk.stem.lancaster import LancasterStemmer\n",
    "st = LancasterStemmer()\n",
    "from nltk.corpus import stopwords\n",
    "import re"
   ]
  },
  {
   "cell_type": "code",
   "execution_count": 4,
   "metadata": {
    "collapsed": false
   },
   "outputs": [],
   "source": [
    "urls = [\"http://mail.scipy.org/pipermail/ipython-dev/\"]#,\n",
    "        #\"http://mail.scipy.org/pipermail/ipython-user/\"],\n",
    "        #\"http://mail.scipy.org/pipermail/scipy-dev/\",\n",
    "        #\"http://mail.scipy.org/pipermail/scipy-user/\",\n",
    "        #\"http://mail.scipy.org/pipermail/numpy-discussion/\"]\n",
    "\n",
    "\n",
    "archives= [Archive(url,archive_dir=\"../archives\") for url in urls]"
   ]
  },
  {
   "cell_type": "code",
   "execution_count": 6,
   "metadata": {
    "collapsed": false
   },
   "outputs": [],
   "source": [
    "checkword = \"python\" #can change words, should be lower case"
   ]
  },
  {
   "cell_type": "code",
   "execution_count": 9,
   "metadata": {
    "collapsed": false
   },
   "outputs": [
    {
     "name": "stdout",
     "output_type": "stream",
     "text": [
      "('<BAY131-DAV1715D9C1DAB1066F6568A0BA870@phx.gbl>', From                   clarkdbassett@hotmail.... (Clark Bassett)\n",
      "Subject                                 [IPython-dev] unsuscribe\n",
      "Date                                         2007-03-02 19:19:33\n",
      "In-Reply-To                                                 None\n",
      "References     <mailman.9.1172858404.28084.ipython-dev@scipy....\n",
      "Body                                                        None\n",
      "Name: <BAY131-DAV1715D9C1DAB1066F6568A0BA870@phx.gbl>, dtype: object)\n",
      "('<1F100CE1-726A-41A3-917E-C1D35793E3F8@gmail.com>', From           bussonniermatthias@gmail.... (Matthias BUSSONN...\n",
      "Subject                                   [IPython-dev] IPEP 10:\n",
      "Date                                         2013-02-25 17:06:14\n",
      "In-Reply-To    <CAHNn8BVgLjUwU9aYkjgwnnP=FPXRwJzOKaDKT+dviAZc...\n",
      "References     <CAHNn8BVgLjUwU9aYkjgwnnP=FPXRwJzOKaDKT+dviAZc...\n",
      "Body                                                        None\n",
      "Name: <1F100CE1-726A-41A3-917E-C1D35793E3F8@gmail.com>, dtype: object)\n",
      "('<7F9A7204-4C75-4E50-900F-39ACF7FFFF30@gmail.com>', From           bussonniermatthias@gmail.... (Matthias BUSSONN...\n",
      "Subject            [IPython-dev] [FW from User list] NB convert?\n",
      "Date                                         2013-07-29 16:16:32\n",
      "In-Reply-To    <CAAaQZevKdDkhWwLQ+QO4pCRS5rkbPeC+MmK5=6ATjDnA...\n",
      "References     <CAAaQZevKdDkhWwLQ+QO4pCRS5rkbPeC+MmK5=6ATjDnA...\n",
      "Body                                                        None\n",
      "Name: <7F9A7204-4C75-4E50-900F-39ACF7FFFF30@gmail.com>, dtype: object)\n",
      "('<99531199-48C7-4311-B923-EDBC9E787924@gmail.com>', From           bussonniermatthias@gmail.... (Matthias Bussonn...\n",
      "Subject        [IPython-dev] Installing kernels and libs unde...\n",
      "Date                                         2014-12-30 21:42:46\n",
      "In-Reply-To    <CAAusYCjBQkbmSDA2NM-zdhtUEPGZOo7KXNrFHdj6-1LP...\n",
      "References     <CAAusYCin9fs-GBW1JfHeXd6X0miTObb78kjoBwi9a3o0...\n",
      "Body                                                        None\n",
      "Name: <99531199-48C7-4311-B923-EDBC9E787924@gmail.com>, dtype: object)\n"
     ]
    }
   ],
   "source": [
    "df = pd.DataFrame(columns=[\"MessageId\",\"Date\",\"From\",\"In-Reply-To\",\"Count\"])\n",
    "for row in archives[0].data.iterrows():\n",
    "    try:\n",
    "        w = row[1][\"Body\"].replace(\"'\", \"\")\n",
    "        k = re.sub(r'[^\\w]', ' ', w)\n",
    "        k = k.lower()\n",
    "        t = nltk.tokenize.word_tokenize(k)\n",
    "        subdict = {}\n",
    "        count = 0\n",
    "        for g in t:\n",
    "            try:\n",
    "                word = st.stem(g)\n",
    "            except:\n",
    "                print g\n",
    "                pass\n",
    "            if word == checkword:\n",
    "                count += 1\n",
    "        if count == 0:\n",
    "            continue\n",
    "        else:\n",
    "            subdict[\"MessageId\"] = row[0]\n",
    "            subdict[\"Date\"] = row[1][\"Date\"]\n",
    "            subdict[\"From\"] = row[1][\"From\"]\n",
    "            subdict[\"In-Reply-To\"] = row[1][\"In-Reply-To\"]\n",
    "            subdict[\"Count\"] = count\n",
    "            df = df.append(subdict,ignore_index=True)\n",
    "    except:\n",
    "        print row"
   ]
  },
  {
   "cell_type": "code",
   "execution_count": null,
   "metadata": {
    "collapsed": false
   },
   "outputs": [],
   "source": [
    "df[:5]  #dataframe of informations of the particular word."
   ]
  },
  {
   "cell_type": "code",
   "execution_count": null,
   "metadata": {
    "collapsed": false
   },
   "outputs": [],
   "source": [
    "start_date = df.iloc[0][\"Date\"]\n",
    "end_date = df.iloc[len(df.index)-1][\"Date\"]"
   ]
  },
  {
   "cell_type": "code",
   "execution_count": null,
   "metadata": {
    "collapsed": false
   },
   "outputs": [],
   "source": [
    "start_date"
   ]
  },
  {
   "cell_type": "code",
   "execution_count": null,
   "metadata": {
    "collapsed": false
   },
   "outputs": [],
   "source": [
    "end_date"
   ]
  },
  {
   "cell_type": "code",
   "execution_count": null,
   "metadata": {
    "collapsed": false
   },
   "outputs": [],
   "source": [
    "total_month = (end_date.year - start_date.year)*12 + (end_date.month-start_date.month+1)"
   ]
  },
  {
   "cell_type": "code",
   "execution_count": null,
   "metadata": {
    "collapsed": false
   },
   "outputs": [],
   "source": [
    "total_month"
   ]
  },
  {
   "cell_type": "code",
   "execution_count": null,
   "metadata": {
    "collapsed": false
   },
   "outputs": [],
   "source": [
    "k_month = []\n",
    "temp_year = start_date.year\n",
    "temp_month = start_date.month\n",
    "for i in range(total_month):\n",
    "    k_month.append((temp_year, temp_month))\n",
    "    if temp_month == 12:\n",
    "        temp_year += 1\n",
    "        temp_month = 0\n",
    "    temp_month += 1"
   ]
  },
  {
   "cell_type": "code",
   "execution_count": null,
   "metadata": {
    "collapsed": false
   },
   "outputs": [],
   "source": [
    "time_dict = {}\n",
    "for row in df.iterrows():\n",
    "    if (row[1]['Date'].year, row[1]['Date'].month) not in time_dict:\n",
    "        time_dict[(row[1]['Date'].year, row[1]['Date'].month)] = row[1][\"Count\"]\n",
    "    else:\n",
    "        time_dict[(row[1]['Date'].year, row[1]['Date'].month)] += row[1][\"Count\"]"
   ]
  },
  {
   "cell_type": "code",
   "execution_count": null,
   "metadata": {
    "collapsed": false
   },
   "outputs": [],
   "source": [
    "by_month = []\n",
    "for item in k_month:\n",
    "    if item in time_dict:\n",
    "        by_month.append(time_dict[item])\n",
    "    else:\n",
    "        by_month.append(0)"
   ]
  },
  {
   "cell_type": "code",
   "execution_count": null,
   "metadata": {
    "collapsed": false
   },
   "outputs": [],
   "source": [
    "x = range(1,total_month+1)\n",
    "y = by_month\n",
    "plt.plot(x, y)\n",
    "plt.xlabel(\"month\")"
   ]
  },
  {
   "cell_type": "code",
   "execution_count": null,
   "metadata": {
    "collapsed": false
   },
   "outputs": [],
   "source": [
    "y[62] #highest"
   ]
  },
  {
   "cell_type": "code",
   "execution_count": null,
   "metadata": {
    "collapsed": false
   },
   "outputs": [],
   "source": [
    "#Check which month is 62\n",
    "k_month[62]"
   ]
  },
  {
   "cell_type": "code",
   "execution_count": null,
   "metadata": {
    "collapsed": false
   },
   "outputs": [],
   "source": []
  }
 ],
 "metadata": {
  "kernelspec": {
   "display_name": "Python 2",
   "language": "python",
   "name": "python2"
  },
  "language_info": {
   "codemirror_mode": {
    "name": "ipython",
    "version": 2
   },
   "file_extension": ".py",
   "mimetype": "text/x-python",
   "name": "python",
   "nbconvert_exporter": "python",
   "pygments_lexer": "ipython2",
   "version": "2.7.3"
  }
 },
 "nbformat": 4,
 "nbformat_minor": 0
}
