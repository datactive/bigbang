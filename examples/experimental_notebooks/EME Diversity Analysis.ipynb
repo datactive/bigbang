{
 "cells": [
  {
   "cell_type": "markdown",
   "metadata": {},
   "source": [
    "_This work was done by [Harsh Gupta](http://hargup.in/) as part of his internship at [The Center for Internet & Society India](http://cis-india.org/)_"
   ]
  },
  {
   "cell_type": "code",
   "execution_count": 1,
   "metadata": {
    "collapsed": true
   },
   "outputs": [],
   "source": [
    "import bigbang.ingress.mailman as mailman\n",
    "import bigbang.analysis.process as process\n",
    "from bigbang.archive import Archive\n",
    "\n",
    "\n",
    "import pandas as pd\n",
    "import datetime\n",
    "\n",
    "from commonregex import CommonRegex\n",
    "\n",
    "import matplotlib.pyplot as plt\n",
    "\n",
    "%matplotlib inline"
   ]
  },
  {
   "cell_type": "markdown",
   "metadata": {},
   "source": [
    "# Encrypted Media Extension Diversity Analysis\n",
    "\n",
    "[Encrypted Media Extension](https://hsivonen.fi/eme/) (EME) is the controvertial [draft standard at W3C](https://w3c.github.io/encrypted-media/) which aims to aims to prevent copyright infrigement in digital video but opens up door for lots of issues regarding security, accessibility, privacy and interoperability. This notebook tries to analyze if the interests of the important stakeholders were well represented in the debate that happened on `public-html` mailing list of W3C.\n",
    "\n",
    "## Methodology\n",
    "\n",
    "Any emails with ` EME `, `Encrypted Media` or `Digital Rights Managagement` in the subject line is considered to about EME. Then each of the participant is categorized on the basis of region of the world they belong to and their employeer's interest to the debate. Notes about the participants can be found [here](./people_notes.md).\n",
    "\n",
    "### Region Methodology:\n",
    "\n",
    "* Look up their personal website and social media accounts (Twitter, LinkedIn,\n",
    "  Github) and see if it mentions the country they live in. (Works in Most of the cases)\n",
    "  \n",
    "* If the person's email has uses a country specific top level domain, assume that as the country\n",
    "\n",
    "* If github profile is available look up the timezone on last 5 commits.\n",
    "\n",
    "* For people who have moved from their home country consider the country where they live now.\n",
    "\n",
    "### Work Methodology\n",
    "\n",
    "* Look up their personal website and social media accounts (Twitter, LinkedIn, Github) and see if it mentions the employer and categorize accordingly.\n",
    "  \n",
    "* People who work on Accessibility, Privacy or Security but also fit into first three categories are categorized in one of the first three categories. For example someone who works on privacy in Google will be placed in \"DRM platform provider\" instead of \"Privacy\".\n",
    "\n",
    "* If no other category can be assigned, then assign \"None of the Above\"\n",
    "\n",
    "\n",
    "### Other Notes\n",
    "\n",
    "* Google's position is very interesting, it is DRM provider as a browser manufacturer but also a content provider in Youtube and fair number of Google Employers are against EME due to other concerns. I've categorized Christian as Content provider because he works on Youtube, and I've placed everyone else as DRM provider."
   ]
  },
  {
   "cell_type": "code",
   "execution_count": 2,
   "metadata": {
    "collapsed": true
   },
   "outputs": [],
   "source": [
    "from functools import reduce\n",
    "\n",
    "\n",
    "def filter_messages(df, column, keywords):\n",
    "    filters = []\n",
    "    for keyword in keywords:\n",
    "        filters.append(df[column].str.contains(keyword, case=False))\n",
    "\n",
    "    return df[reduce(lambda p, q: p | q, filters)]"
   ]
  },
  {
   "cell_type": "code",
   "execution_count": 3,
   "metadata": {},
   "outputs": [
    {
     "name": "stdout",
     "output_type": "stream",
     "text": [
      "Opening 69 archive files\n"
     ]
    },
    {
     "name": "stderr",
     "output_type": "stream",
     "text": [
      "/home/hargup/code/bigbang/bigbang/archive.py:74: FutureWarning: sort(columns=....) is deprecated, use sort_values(by=.....)\n",
      "  self.data.sort(columns='Date', inplace=True)\n"
     ]
    }
   ],
   "source": [
    "# Get the Archieves\n",
    "pd.options.display.mpl_style = (\n",
    "    \"default\"  # pandas has a set of preferred graph formatting options\n",
    ")\n",
    "\n",
    "mlist = mailman.open_list_archives(\n",
    "    \"https://lists.w3.org/Archives/Public/public-html/\", archive_dir=\"./archives\"\n",
    ")\n",
    "\n",
    "# The spaces around eme are **very** important otherwise it can catch things like \"emerging\", \"implement\" etc\n",
    "eme_messages = filter_messages(\n",
    "    mlist, \"Subject\", [\" EME \", \"Encrypted Media\", \"Digital Rights Managagement\"]\n",
    ")\n",
    "eme_activites = Archive.get_activity(Archive(eme_messages))"
   ]
  },
  {
   "cell_type": "code",
   "execution_count": 4,
   "metadata": {},
   "outputs": [
    {
     "data": {
      "text/plain": [
       "474.0"
      ]
     },
     "execution_count": 4,
     "metadata": {},
     "output_type": "execute_result"
    }
   ],
   "source": [
    "eme_activites.sum(0).sum()"
   ]
  },
  {
   "cell_type": "code",
   "execution_count": 5,
   "metadata": {
    "collapsed": true
   },
   "outputs": [],
   "source": [
    "# XXX: Bugzilla might also contain discussions\n",
    "eme_activites.drop(\"bugzilla@jessica.w3.org\", axis=1, inplace=True)"
   ]
  },
  {
   "cell_type": "code",
   "execution_count": 6,
   "metadata": {},
   "outputs": [],
   "source": [
    "# Remove Dupicate senders\n",
    "levdf = process.sorted_matrix(eme_activites)\n",
    "\n",
    "consolidates = []\n",
    "# gather pairs of names which have a distance of less than 10\n",
    "for col in levdf.columns:\n",
    "    for index, value in levdf.loc[levdf[col] < 10, col].items():\n",
    "        if index != col:  # the name shouldn't be a pair for itself\n",
    "            consolidates.append((col, index))\n",
    "\n",
    "# Handpick special cases which aren't covered with string matching\n",
    "consolidates.extend(\n",
    "    [\n",
    "        (\n",
    "            \"Kornel Lesi\\u0144ski <kornel@geekhood.net>\",\n",
    "            \"wrong string <kornel@geekhood.net>\",\n",
    "        ),\n",
    "        (\n",
    "            \"Charles McCathie Nevile <chaals@yandex-team.ru>\",\n",
    "            \"Charles McCathieNevile <chaals@opera.com>\",\n",
    "        ),\n",
    "    ]\n",
    ")\n",
    "\n",
    "eme_activites = process.consolidate_senders_activity(eme_activites, consolidates)"
   ]
  },
  {
   "cell_type": "code",
   "execution_count": 7,
   "metadata": {},
   "outputs": [],
   "source": [
    "sender_categories = pd.read_csv(\"people_tag.csv\", delimiter=\",\", encoding=\"utf-8-sig\")\n",
    "\n",
    "# match sender using email only\n",
    "sender_categories[\"email\"] = [\n",
    "    CommonRegex(x).emails[0].lower() for x in sender_categories[\"name_email\"]\n",
    "]\n",
    "\n",
    "sender_categories.index = sender_categories[\"email\"]\n",
    "cat_dicts = {\n",
    "    \"region\": {\n",
    "        1: \"Asia\",\n",
    "        2: \"Australia and New Zealand\",\n",
    "        3: \"Europe\",\n",
    "        4: \"Africa\",\n",
    "        5: \"North America\",\n",
    "        6: \"South America\",\n",
    "    },\n",
    "    \"work\": {\n",
    "        1: \"Foss Browser Developer\",\n",
    "        2: \"Content Provider\",\n",
    "        3: \"DRM platform provider\",\n",
    "        4: \"Accessibility\",\n",
    "        5: \"Security Researcher\",\n",
    "        6: \"Other W3C Empoyee\",\n",
    "        7: \"Privacy\",\n",
    "        8: \"None of the above\",\n",
    "    },\n",
    "}"
   ]
  },
  {
   "cell_type": "code",
   "execution_count": 8,
   "metadata": {
    "collapsed": true
   },
   "outputs": [],
   "source": [
    "def get_cat_val_func(cat):\n",
    "    \"\"\"\n",
    "    Given category type, returns a function which gives the category value for a sender.\n",
    "    \"\"\"\n",
    "\n",
    "    def _get_cat_val(sender):\n",
    "        try:\n",
    "            sender_email = CommonRegex(sender).emails[0].lower()\n",
    "            return cat_dicts[cat][sender_categories.loc[sender_email][cat]]\n",
    "        except KeyError:\n",
    "            return \"Unknow\"\n",
    "\n",
    "    return _get_cat_val"
   ]
  },
  {
   "cell_type": "code",
   "execution_count": 9,
   "metadata": {},
   "outputs": [
    {
     "name": "stdout",
     "output_type": "stream",
     "text": [
      "Emails sent per region\n",
      "\n",
      "Australia and New Zealand     16\n",
      "Europe                       146\n",
      "North America                310\n",
      "dtype: float64\n",
      "Total emails: 472.0\n"
     ]
    }
   ],
   "source": [
    "grouped = eme_activites.groupby(get_cat_val_func(\"region\"), axis=1)\n",
    "print(\"Emails sent per region\\n\")\n",
    "print((grouped.sum().sum()))\n",
    "print((\"Total emails: %s\" % grouped.sum().sum().sum()))"
   ]
  },
  {
   "cell_type": "code",
   "execution_count": 10,
   "metadata": {},
   "outputs": [
    {
     "name": "stdout",
     "output_type": "stream",
     "text": [
      "Participants per region\n",
      "Europe: 13\n",
      "North America: 30\n",
      "Australia and New Zealand: 5\n",
      "Total participants: 48\n"
     ]
    }
   ],
   "source": [
    "print(\"Participants per region\")\n",
    "for group in grouped.groups:\n",
    "    print(\"%s: %s\" % (group, len(grouped.get_group(group).sum())))\n",
    "print((\"Total participants: %s\" % len(eme_activites.columns)))"
   ]
  },
  {
   "cell_type": "markdown",
   "metadata": {},
   "source": [
    "**Notice that there is absolutely no one from Asia, Africa or South America.**  This is important because the DRM laws, attitude towards IP vary considerably across the world.\n"
   ]
  },
  {
   "cell_type": "code",
   "execution_count": 11,
   "metadata": {},
   "outputs": [
    {
     "name": "stdout",
     "output_type": "stream",
     "text": [
      "Emails sent per work category\n",
      "Accessibility              47\n",
      "Content Provider          186\n",
      "DRM platform provider     100\n",
      "Foss Browser Developer     56\n",
      "None of the above          71\n",
      "Other W3C Empoyee          10\n",
      "Privacy                     2\n",
      "dtype: float64\n"
     ]
    }
   ],
   "source": [
    "grouped = eme_activites.groupby(get_cat_val_func(\"work\"), axis=1)\n",
    "print(\"Emails sent per work category\")\n",
    "print((grouped.sum().sum()))"
   ]
  },
  {
   "cell_type": "code",
   "execution_count": 12,
   "metadata": {},
   "outputs": [
    {
     "name": "stdout",
     "output_type": "stream",
     "text": [
      "Participants per work category\n",
      "Privacy: 2\n",
      "Foss Browser Developer: 5\n",
      "Accessibility: 4\n",
      "Other W3C Empoyee: 3\n",
      "DRM platform provider: 15\n",
      "Content Provider: 9\n",
      "None of the above: 10\n"
     ]
    }
   ],
   "source": [
    "print(\"Participants per work category\")\n",
    "for group in grouped.groups:\n",
    "    print(\"%s: %s\" % (group, len(grouped.get_group(group).sum())))"
   ]
  }
 ],
 "metadata": {
  "kernelspec": {
   "display_name": "Python 3 (ipykernel)",
   "language": "python",
   "name": "python3"
  },
  "language_info": {
   "codemirror_mode": {
    "name": "ipython",
    "version": 3
   },
   "file_extension": ".py",
   "mimetype": "text/x-python",
   "name": "python",
   "nbconvert_exporter": "python",
   "pygments_lexer": "ipython3",
   "version": "3.9.5"
  }
 },
 "nbformat": 4,
 "nbformat_minor": 1
}
