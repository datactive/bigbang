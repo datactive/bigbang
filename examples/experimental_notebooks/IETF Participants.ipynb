{
 "cells": [
  {
   "cell_type": "markdown",
   "metadata": {},
   "source": [
    "We want to analyze participants and patterns of participation across IETF groups. How many people participate, in which groups, how does affiliation, gender, RFC authorship or other characteristics relate to levels of participation, and a variety of other related questions. How do groups relate to one another? Which participants provide important connections between groups?"
   ]
  },
  {
   "cell_type": "markdown",
   "metadata": {
    "heading_collapsed": true
   },
   "source": [
    "## Setup and gather data"
   ]
  },
  {
   "cell_type": "markdown",
   "metadata": {
    "hidden": true
   },
   "source": [
    "Start by importing the necessary libraries."
   ]
  },
  {
   "cell_type": "code",
   "execution_count": 1,
   "metadata": {
    "hidden": true
   },
   "outputs": [],
   "source": [
    "%matplotlib inline\n",
    "import bigbang.ingress.mailman as mailman\n",
    "import bigbang.analysis.graph as graph\n",
    "import bigbang.analysis.process as process\n",
    "from bigbang.parse import get_date\n",
    "from bigbang.archive import Archive\n",
    "import bigbang.utils as utils\n",
    "import pandas as pd\n",
    "import datetime\n",
    "import matplotlib.pyplot as plt\n",
    "import numpy as np\n",
    "import math\n",
    "import pytz\n",
    "import pickle\n",
    "import os\n",
    "import csv\n",
    "import re\n",
    "import scipy\n",
    "import scipy.cluster.hierarchy as sch\n",
    "import email"
   ]
  },
  {
   "cell_type": "code",
   "execution_count": 2,
   "metadata": {
    "hidden": true
   },
   "outputs": [],
   "source": [
    "# pd.options.display.mpl_style = 'default' # pandas has a set of preferred graph formatting options\n",
    "plt.rcParams[\"axes.facecolor\"] = \"white\"\n",
    "import seaborn as sns\n",
    "\n",
    "sns.set()\n",
    "sns.set_style(\"white\")"
   ]
  },
  {
   "cell_type": "markdown",
   "metadata": {
    "hidden": true
   },
   "source": [
    "Let's start with a single IETF mailing list. (Later, we can expand to all current groups, or all IETF lists ever.)"
   ]
  },
  {
   "cell_type": "code",
   "execution_count": 3,
   "metadata": {
    "hidden": true
   },
   "outputs": [
    {
     "name": "stderr",
     "output_type": "stream",
     "text": [
      "/home/lem/Data/bigbang/bigbang/mailman.py:138: UserWarning: No mailing list name found at 6lo\n",
      "  warnings.warn(\"No mailing list name found at %s\" % url)\n"
     ]
    },
    {
     "name": "stdout",
     "output_type": "stream",
     "text": [
      "59\n",
      "Opening 59 archive files\n"
     ]
    }
   ],
   "source": [
    "list_url = \"6lo\"  # perpass happens to be one that I subscribe to\n",
    "\n",
    "ietf_archives_dir = (\n",
    "    \"../archives\"  # relative location of the ietf-archives directory/repo\n",
    ")\n",
    "\n",
    "list_archive = mailman.open_list_archives(list_url, ietf_archives_dir)\n",
    "activity = Archive(list_archive).get_activity()"
   ]
  },
  {
   "cell_type": "code",
   "execution_count": 4,
   "metadata": {
    "hidden": true
   },
   "outputs": [],
   "source": [
    "people = None\n",
    "people = pd.DataFrame(\n",
    "    activity.sum(0), columns=[\"6lo\"]\n",
    ")  # sum the message count, rather than by date"
   ]
  },
  {
   "cell_type": "code",
   "execution_count": 5,
   "metadata": {
    "hidden": true
   },
   "outputs": [
    {
     "data": {
      "text/html": [
       "<div>\n",
       "<style scoped>\n",
       "    .dataframe tbody tr th:only-of-type {\n",
       "        vertical-align: middle;\n",
       "    }\n",
       "\n",
       "    .dataframe tbody tr th {\n",
       "        vertical-align: top;\n",
       "    }\n",
       "\n",
       "    .dataframe thead th {\n",
       "        text-align: right;\n",
       "    }\n",
       "</style>\n",
       "<table border=\"1\" class=\"dataframe\">\n",
       "  <thead>\n",
       "    <tr style=\"text-align: right;\">\n",
       "      <th></th>\n",
       "      <th>6lo</th>\n",
       "    </tr>\n",
       "  </thead>\n",
       "  <tbody>\n",
       "    <tr>\n",
       "      <th>count</th>\n",
       "      <td>248.000000</td>\n",
       "    </tr>\n",
       "    <tr>\n",
       "      <th>mean</th>\n",
       "      <td>10.479839</td>\n",
       "    </tr>\n",
       "    <tr>\n",
       "      <th>std</th>\n",
       "      <td>29.060171</td>\n",
       "    </tr>\n",
       "    <tr>\n",
       "      <th>min</th>\n",
       "      <td>1.000000</td>\n",
       "    </tr>\n",
       "    <tr>\n",
       "      <th>25%</th>\n",
       "      <td>1.000000</td>\n",
       "    </tr>\n",
       "    <tr>\n",
       "      <th>50%</th>\n",
       "      <td>2.000000</td>\n",
       "    </tr>\n",
       "    <tr>\n",
       "      <th>75%</th>\n",
       "      <td>8.000000</td>\n",
       "    </tr>\n",
       "    <tr>\n",
       "      <th>max</th>\n",
       "      <td>278.000000</td>\n",
       "    </tr>\n",
       "  </tbody>\n",
       "</table>\n",
       "</div>"
      ],
      "text/plain": [
       "              6lo\n",
       "count  248.000000\n",
       "mean    10.479839\n",
       "std     29.060171\n",
       "min      1.000000\n",
       "25%      1.000000\n",
       "50%      2.000000\n",
       "75%      8.000000\n",
       "max    278.000000"
      ]
     },
     "execution_count": 5,
     "metadata": {},
     "output_type": "execute_result"
    }
   ],
   "source": [
    "people.describe()"
   ]
  },
  {
   "cell_type": "markdown",
   "metadata": {
    "hidden": true
   },
   "source": [
    "Now repeat, parsing the archives and collecting the activities for all the mailing lists in the corpus. To make this faster, we try to open pre-created `-activity.csv` files which contain the activity summary for the full list archive. These files are created with `bin/mail_to_activity.py` or might be included in the mailing list archive repository."
   ]
  },
  {
   "cell_type": "code",
   "execution_count": 6,
   "metadata": {
    "hidden": true
   },
   "outputs": [],
   "source": [
    "f = open(\"../examples/mm.ietf.org.txt\", \"r\")\n",
    "ietf_lists = set(f.readlines())  # remove duplicates, which is a bug in list maintenance"
   ]
  },
  {
   "cell_type": "code",
   "execution_count": 7,
   "metadata": {
    "hidden": true
   },
   "outputs": [
    {
     "name": "stderr",
     "output_type": "stream",
     "text": [
      "/home/lem/Data/bigbang/bigbang/mailman.py:138: UserWarning: No mailing list name found at \n",
      "  warnings.warn(\"No mailing list name found at %s\" % url)\n"
     ]
    }
   ],
   "source": [
    "list_activities = []\n",
    "\n",
    "for list_url in ietf_lists:\n",
    "    try:\n",
    "        activity_summary = mailman.open_activity_summary(list_url, ietf_archives_dir)\n",
    "        if activity_summary is not None:\n",
    "            list_activities.append((list_url, activity_summary))\n",
    "    except Exception as e:\n",
    "        print(str(e))"
   ]
  },
  {
   "cell_type": "code",
   "execution_count": 8,
   "metadata": {
    "hidden": true
   },
   "outputs": [
    {
     "data": {
      "text/plain": [
       "955"
      ]
     },
     "execution_count": 8,
     "metadata": {},
     "output_type": "execute_result"
    }
   ],
   "source": [
    "len(list_activities)"
   ]
  },
  {
   "cell_type": "markdown",
   "metadata": {
    "hidden": true
   },
   "source": [
    "Merge all of the activity summaries together, so that every row is a \"From\" field, with a column for every mailing list and a cell that includes the number of messages sent to that list. This will be a very sparse, 2-d table. **This operation is a little slow.** Don't repeat this operation without recreating `people` from the cells above."
   ]
  },
  {
   "cell_type": "code",
   "execution_count": 9,
   "metadata": {
    "hidden": true
   },
   "outputs": [],
   "source": [
    "list_columns = []\n",
    "for list_url, activity_summary in list_activities:\n",
    "    list_name = mailman.get_list_name(list_url)\n",
    "    activity_summary.rename(\n",
    "        columns={\"Message Count\": list_name}, inplace=True\n",
    "    )  # name the message count column for the list\n",
    "    people = pd.merge(\n",
    "        people, activity_summary, how=\"outer\", left_index=True, right_index=True\n",
    "    )\n",
    "    list_columns.append(\n",
    "        list_name\n",
    "    )  # keep a list of the columns that specifically represent mailing list message counts"
   ]
  },
  {
   "cell_type": "code",
   "execution_count": 10,
   "metadata": {
    "hidden": true
   },
   "outputs": [],
   "source": [
    "# the original message column was duplicated during the merge process, so we remove it here\n",
    "people = people.drop(columns=[\"6lo_y\"])\n",
    "people = people.rename(columns={\"6lo_x\": \"6lo\"})"
   ]
  },
  {
   "cell_type": "code",
   "execution_count": 12,
   "metadata": {
    "hidden": true
   },
   "outputs": [
    {
     "data": {
      "text/html": [
       "<div>\n",
       "<style scoped>\n",
       "    .dataframe tbody tr th:only-of-type {\n",
       "        vertical-align: middle;\n",
       "    }\n",
       "\n",
       "    .dataframe tbody tr th {\n",
       "        vertical-align: top;\n",
       "    }\n",
       "\n",
       "    .dataframe thead th {\n",
       "        text-align: right;\n",
       "    }\n",
       "</style>\n",
       "<table border=\"1\" class=\"dataframe\">\n",
       "  <thead>\n",
       "    <tr style=\"text-align: right;\">\n",
       "      <th></th>\n",
       "      <th>6lo</th>\n",
       "      <th>caldav</th>\n",
       "      <th>3gv6</th>\n",
       "      <th>martini</th>\n",
       "      <th>hip</th>\n",
       "      <th>lmap</th>\n",
       "      <th>90all</th>\n",
       "      <th>casm</th>\n",
       "      <th>97-newcomers</th>\n",
       "      <th>aaa-doctors</th>\n",
       "      <th>...</th>\n",
       "      <th>ietf-announce</th>\n",
       "      <th>raven</th>\n",
       "      <th>supa</th>\n",
       "      <th>imapext</th>\n",
       "      <th>77attendees</th>\n",
       "      <th>ieee-ietf-coord</th>\n",
       "      <th>meta-model</th>\n",
       "      <th>92all</th>\n",
       "      <th>openpgp</th>\n",
       "      <th>arp222</th>\n",
       "    </tr>\n",
       "  </thead>\n",
       "  <tbody>\n",
       "    <tr>\n",
       "      <th>count</th>\n",
       "      <td>248.000000</td>\n",
       "      <td>24.000000</td>\n",
       "      <td>64.000000</td>\n",
       "      <td>68.000000</td>\n",
       "      <td>159.000000</td>\n",
       "      <td>175.000000</td>\n",
       "      <td>11.000000</td>\n",
       "      <td>28.000000</td>\n",
       "      <td>4.000000</td>\n",
       "      <td>107.000000</td>\n",
       "      <td>...</td>\n",
       "      <td>207.000000</td>\n",
       "      <td>136.000000</td>\n",
       "      <td>139.000000</td>\n",
       "      <td>97.000000</td>\n",
       "      <td>160.000000</td>\n",
       "      <td>119.000000</td>\n",
       "      <td>6.000000</td>\n",
       "      <td>13.000000</td>\n",
       "      <td>1451.000000</td>\n",
       "      <td>11.000000</td>\n",
       "    </tr>\n",
       "    <tr>\n",
       "      <th>mean</th>\n",
       "      <td>10.479839</td>\n",
       "      <td>4.041667</td>\n",
       "      <td>6.171875</td>\n",
       "      <td>31.044118</td>\n",
       "      <td>11.081761</td>\n",
       "      <td>16.788571</td>\n",
       "      <td>2.272727</td>\n",
       "      <td>5.714286</td>\n",
       "      <td>2.000000</td>\n",
       "      <td>11.598131</td>\n",
       "      <td>...</td>\n",
       "      <td>85.183575</td>\n",
       "      <td>8.235294</td>\n",
       "      <td>11.978417</td>\n",
       "      <td>14.587629</td>\n",
       "      <td>2.543750</td>\n",
       "      <td>8.949580</td>\n",
       "      <td>2.333333</td>\n",
       "      <td>2.384615</td>\n",
       "      <td>5.337698</td>\n",
       "      <td>3.272727</td>\n",
       "    </tr>\n",
       "    <tr>\n",
       "      <th>std</th>\n",
       "      <td>29.060171</td>\n",
       "      <td>4.037640</td>\n",
       "      <td>8.233795</td>\n",
       "      <td>55.723313</td>\n",
       "      <td>33.983236</td>\n",
       "      <td>50.301915</td>\n",
       "      <td>1.737292</td>\n",
       "      <td>7.402988</td>\n",
       "      <td>2.160247</td>\n",
       "      <td>48.594949</td>\n",
       "      <td>...</td>\n",
       "      <td>702.130008</td>\n",
       "      <td>27.255237</td>\n",
       "      <td>27.795179</td>\n",
       "      <td>29.020378</td>\n",
       "      <td>2.799027</td>\n",
       "      <td>32.589342</td>\n",
       "      <td>2.250926</td>\n",
       "      <td>2.501282</td>\n",
       "      <td>26.098838</td>\n",
       "      <td>4.173510</td>\n",
       "    </tr>\n",
       "    <tr>\n",
       "      <th>min</th>\n",
       "      <td>1.000000</td>\n",
       "      <td>1.000000</td>\n",
       "      <td>0.000000</td>\n",
       "      <td>1.000000</td>\n",
       "      <td>1.000000</td>\n",
       "      <td>1.000000</td>\n",
       "      <td>1.000000</td>\n",
       "      <td>1.000000</td>\n",
       "      <td>0.000000</td>\n",
       "      <td>1.000000</td>\n",
       "      <td>...</td>\n",
       "      <td>1.000000</td>\n",
       "      <td>0.000000</td>\n",
       "      <td>1.000000</td>\n",
       "      <td>1.000000</td>\n",
       "      <td>1.000000</td>\n",
       "      <td>1.000000</td>\n",
       "      <td>0.000000</td>\n",
       "      <td>1.000000</td>\n",
       "      <td>1.000000</td>\n",
       "      <td>1.000000</td>\n",
       "    </tr>\n",
       "    <tr>\n",
       "      <th>25%</th>\n",
       "      <td>1.000000</td>\n",
       "      <td>1.000000</td>\n",
       "      <td>1.000000</td>\n",
       "      <td>1.000000</td>\n",
       "      <td>1.000000</td>\n",
       "      <td>1.000000</td>\n",
       "      <td>1.000000</td>\n",
       "      <td>1.000000</td>\n",
       "      <td>0.750000</td>\n",
       "      <td>1.000000</td>\n",
       "      <td>...</td>\n",
       "      <td>1.000000</td>\n",
       "      <td>1.000000</td>\n",
       "      <td>1.000000</td>\n",
       "      <td>1.000000</td>\n",
       "      <td>1.000000</td>\n",
       "      <td>1.000000</td>\n",
       "      <td>1.000000</td>\n",
       "      <td>1.000000</td>\n",
       "      <td>1.000000</td>\n",
       "      <td>1.000000</td>\n",
       "    </tr>\n",
       "    <tr>\n",
       "      <th>50%</th>\n",
       "      <td>2.000000</td>\n",
       "      <td>2.000000</td>\n",
       "      <td>2.000000</td>\n",
       "      <td>5.000000</td>\n",
       "      <td>2.000000</td>\n",
       "      <td>3.000000</td>\n",
       "      <td>1.000000</td>\n",
       "      <td>2.500000</td>\n",
       "      <td>1.500000</td>\n",
       "      <td>2.000000</td>\n",
       "      <td>...</td>\n",
       "      <td>2.000000</td>\n",
       "      <td>2.000000</td>\n",
       "      <td>3.000000</td>\n",
       "      <td>3.000000</td>\n",
       "      <td>1.000000</td>\n",
       "      <td>2.000000</td>\n",
       "      <td>1.500000</td>\n",
       "      <td>1.000000</td>\n",
       "      <td>1.000000</td>\n",
       "      <td>2.000000</td>\n",
       "    </tr>\n",
       "    <tr>\n",
       "      <th>75%</th>\n",
       "      <td>8.000000</td>\n",
       "      <td>6.500000</td>\n",
       "      <td>8.250000</td>\n",
       "      <td>28.750000</td>\n",
       "      <td>5.000000</td>\n",
       "      <td>7.500000</td>\n",
       "      <td>3.500000</td>\n",
       "      <td>7.250000</td>\n",
       "      <td>2.750000</td>\n",
       "      <td>4.500000</td>\n",
       "      <td>...</td>\n",
       "      <td>5.500000</td>\n",
       "      <td>6.000000</td>\n",
       "      <td>7.000000</td>\n",
       "      <td>12.000000</td>\n",
       "      <td>3.000000</td>\n",
       "      <td>6.000000</td>\n",
       "      <td>3.500000</td>\n",
       "      <td>3.000000</td>\n",
       "      <td>2.000000</td>\n",
       "      <td>3.000000</td>\n",
       "    </tr>\n",
       "    <tr>\n",
       "      <th>max</th>\n",
       "      <td>278.000000</td>\n",
       "      <td>15.000000</td>\n",
       "      <td>34.000000</td>\n",
       "      <td>250.000000</td>\n",
       "      <td>289.000000</td>\n",
       "      <td>462.000000</td>\n",
       "      <td>6.000000</td>\n",
       "      <td>27.000000</td>\n",
       "      <td>5.000000</td>\n",
       "      <td>392.000000</td>\n",
       "      <td>...</td>\n",
       "      <td>8951.000000</td>\n",
       "      <td>282.000000</td>\n",
       "      <td>193.000000</td>\n",
       "      <td>185.000000</td>\n",
       "      <td>16.000000</td>\n",
       "      <td>345.000000</td>\n",
       "      <td>6.000000</td>\n",
       "      <td>10.000000</td>\n",
       "      <td>524.000000</td>\n",
       "      <td>15.000000</td>\n",
       "    </tr>\n",
       "  </tbody>\n",
       "</table>\n",
       "<p>8 rows × 955 columns</p>\n",
       "</div>"
      ],
      "text/plain": [
       "              6lo     caldav       3gv6     martini         hip        lmap  \\\n",
       "count  248.000000  24.000000  64.000000   68.000000  159.000000  175.000000   \n",
       "mean    10.479839   4.041667   6.171875   31.044118   11.081761   16.788571   \n",
       "std     29.060171   4.037640   8.233795   55.723313   33.983236   50.301915   \n",
       "min      1.000000   1.000000   0.000000    1.000000    1.000000    1.000000   \n",
       "25%      1.000000   1.000000   1.000000    1.000000    1.000000    1.000000   \n",
       "50%      2.000000   2.000000   2.000000    5.000000    2.000000    3.000000   \n",
       "75%      8.000000   6.500000   8.250000   28.750000    5.000000    7.500000   \n",
       "max    278.000000  15.000000  34.000000  250.000000  289.000000  462.000000   \n",
       "\n",
       "           90all       casm  97-newcomers  aaa-doctors    ...      \\\n",
       "count  11.000000  28.000000      4.000000   107.000000    ...       \n",
       "mean    2.272727   5.714286      2.000000    11.598131    ...       \n",
       "std     1.737292   7.402988      2.160247    48.594949    ...       \n",
       "min     1.000000   1.000000      0.000000     1.000000    ...       \n",
       "25%     1.000000   1.000000      0.750000     1.000000    ...       \n",
       "50%     1.000000   2.500000      1.500000     2.000000    ...       \n",
       "75%     3.500000   7.250000      2.750000     4.500000    ...       \n",
       "max     6.000000  27.000000      5.000000   392.000000    ...       \n",
       "\n",
       "       ietf-announce       raven        supa     imapext  77attendees  \\\n",
       "count     207.000000  136.000000  139.000000   97.000000   160.000000   \n",
       "mean       85.183575    8.235294   11.978417   14.587629     2.543750   \n",
       "std       702.130008   27.255237   27.795179   29.020378     2.799027   \n",
       "min         1.000000    0.000000    1.000000    1.000000     1.000000   \n",
       "25%         1.000000    1.000000    1.000000    1.000000     1.000000   \n",
       "50%         2.000000    2.000000    3.000000    3.000000     1.000000   \n",
       "75%         5.500000    6.000000    7.000000   12.000000     3.000000   \n",
       "max      8951.000000  282.000000  193.000000  185.000000    16.000000   \n",
       "\n",
       "       ieee-ietf-coord  meta-model      92all      openpgp     arp222  \n",
       "count       119.000000    6.000000  13.000000  1451.000000  11.000000  \n",
       "mean          8.949580    2.333333   2.384615     5.337698   3.272727  \n",
       "std          32.589342    2.250926   2.501282    26.098838   4.173510  \n",
       "min           1.000000    0.000000   1.000000     1.000000   1.000000  \n",
       "25%           1.000000    1.000000   1.000000     1.000000   1.000000  \n",
       "50%           2.000000    1.500000   1.000000     1.000000   2.000000  \n",
       "75%           6.000000    3.500000   3.000000     2.000000   3.000000  \n",
       "max         345.000000    6.000000  10.000000   524.000000  15.000000  \n",
       "\n",
       "[8 rows x 955 columns]"
      ]
     },
     "execution_count": 12,
     "metadata": {},
     "output_type": "execute_result"
    }
   ],
   "source": [
    "people.describe()"
   ]
  },
  {
   "cell_type": "code",
   "execution_count": 46,
   "metadata": {
    "hidden": true
   },
   "outputs": [],
   "source": [
    "# not sure how the index ended up with NaN values, but need to change them to strings here so additional steps will work\n",
    "new_index = people.index.fillna(\"missing\")\n",
    "people.index = new_index"
   ]
  },
  {
   "cell_type": "markdown",
   "metadata": {
    "hidden": true
   },
   "source": [
    "Split out the email address and header name from the From header we started with."
   ]
  },
  {
   "cell_type": "code",
   "execution_count": 47,
   "metadata": {
    "hidden": true
   },
   "outputs": [],
   "source": [
    "froms = pd.Series(people.index)\n",
    "emails = froms.apply(lambda x: email.utils.parseaddr(x)[1])\n",
    "emails.index = people.index\n",
    "names = froms.apply(lambda x: email.utils.parseaddr(x)[0])\n",
    "names.index = people.index\n",
    "people[\"email\"] = emails\n",
    "people[\"name\"] = names"
   ]
  },
  {
   "cell_type": "markdown",
   "metadata": {
    "hidden": true
   },
   "source": [
    "Let's create some summary statistical columns."
   ]
  },
  {
   "cell_type": "code",
   "execution_count": 48,
   "metadata": {
    "hidden": true
   },
   "outputs": [],
   "source": [
    "people[\"Total Messages\"] = people[list_columns].sum(axis=1)\n",
    "people[\"Number of Groups\"] = people[list_columns].count(axis=1)\n",
    "people[\"Median Messages per Group\"] = people[list_columns].median(axis=1)"
   ]
  },
  {
   "cell_type": "code",
   "execution_count": 49,
   "metadata": {
    "hidden": true
   },
   "outputs": [
    {
     "data": {
      "text/plain": [
       "1944019.0"
      ]
     },
     "execution_count": 49,
     "metadata": {},
     "output_type": "execute_result"
    }
   ],
   "source": [
    "people[\"Total Messages\"].sum()"
   ]
  },
  {
   "cell_type": "markdown",
   "metadata": {
    "hidden": true
   },
   "source": [
    "In this corpus, **101,510** \"people\" sent a combined total of **1.2 million messages**. Most people sent only 1 message."
   ]
  },
  {
   "cell_type": "markdown",
   "metadata": {},
   "source": [
    "## Participation patterns"
   ]
  },
  {
   "cell_type": "markdown",
   "metadata": {},
   "source": [
    "The vast majority of people send only a few messages, and to only a couple of lists. (These histograms use a log axis for Y, without which you couldn't even see the columns besides the first.)"
   ]
  },
  {
   "cell_type": "code",
   "execution_count": 22,
   "metadata": {},
   "outputs": [
    {
     "data": {
      "text/plain": [
       "<matplotlib.axes._subplots.AxesSubplot at 0x7fee281d4590>"
      ]
     },
     "execution_count": 22,
     "metadata": {},
     "output_type": "execute_result"
    },
    {
     "data": {
      "image/png": "[encoded data removed]",
      "text/plain": [
       "<Figure size 432x288 with 1 Axes>"
      ]
     },
     "metadata": {},
     "output_type": "display_data"
    },
    {
     "data": {
      "image/png": "[encoded data removed]",
      "text/plain": [
       "<Figure size 432x288 with 1 Axes>"
      ]
     },
     "metadata": {},
     "output_type": "display_data"
    }
   ],
   "source": [
    "people[[\"Total Messages\"]].plot(kind=\"hist\", bins=100, logy=True, logx=False)\n",
    "people[[\"Number of Groups\"]].plot(kind=\"hist\", bins=100, logy=True, logx=False)"
   ]
  },
  {
   "cell_type": "markdown",
   "metadata": {},
   "source": [
    "Let's limit our analysis for now to people who have sent at least 5 messages. We will also create log base 10 versions of our summary columns for easier graphing later."
   ]
  },
  {
   "cell_type": "code",
   "execution_count": 23,
   "metadata": {},
   "outputs": [
    {
     "name": "stderr",
     "output_type": "stream",
     "text": [
      "/home/lem/.local/lib/python2.7/site-packages/ipykernel_launcher.py:3: SettingWithCopyWarning: \n",
      "A value is trying to be set on a copy of a slice from a DataFrame.\n",
      "Try using .loc[row_indexer,col_indexer] = value instead\n",
      "\n",
      "See the caveats in the documentation: http://pandas.pydata.org/pandas-docs/stable/indexing.html#indexing-view-versus-copy\n",
      "  This is separate from the ipykernel package so we can avoid doing imports until\n",
      "/home/lem/.local/lib/python2.7/site-packages/ipykernel_launcher.py:4: SettingWithCopyWarning: \n",
      "A value is trying to be set on a copy of a slice from a DataFrame.\n",
      "Try using .loc[row_indexer,col_indexer] = value instead\n",
      "\n",
      "See the caveats in the documentation: http://pandas.pydata.org/pandas-docs/stable/indexing.html#indexing-view-versus-copy\n",
      "  after removing the cwd from sys.path.\n"
     ]
    }
   ],
   "source": [
    "working = people[people[\"Total Messages\"] > 5]\n",
    "\n",
    "working[\"Total Messages (log)\"] = np.log10(working[\"Total Messages\"])\n",
    "working[\"Number of Groups (log)\"] = np.log10(working[\"Number of Groups\"])"
   ]
  },
  {
   "cell_type": "markdown",
   "metadata": {},
   "source": [
    "The median number of messages that a user sends to a group is also heavily weighted towards a small number, but the curve doesn't seem to drop off in the same extreme manner. There is a non-random tendency to send some messages to a group?"
   ]
  },
  {
   "cell_type": "code",
   "execution_count": 24,
   "metadata": {},
   "outputs": [
    {
     "data": {
      "text/plain": [
       "<matplotlib.axes._subplots.AxesSubplot at 0x7fee2b12d450>"
      ]
     },
     "execution_count": 24,
     "metadata": {},
     "output_type": "execute_result"
    },
    {
     "data": {
      "image/png": "[encoded data removed]",
      "text/plain": [
       "<Figure size 432x288 with 1 Axes>"
      ]
     },
     "metadata": {},
     "output_type": "display_data"
    }
   ],
   "source": [
    "working[[\"Median Messages per Group\"]].plot(kind=\"hist\", bins=100, logy=True)"
   ]
  },
  {
   "cell_type": "markdown",
   "metadata": {},
   "source": [
    "Is there a relationship between the number of groups that a user has sent messages to and the number of messages that user has sent (total, or the median number to groups)?"
   ]
  },
  {
   "cell_type": "code",
   "execution_count": 25,
   "metadata": {},
   "outputs": [
    {
     "data": {
      "text/plain": [
       "<matplotlib.axes._subplots.AxesSubplot at 0x7fee2b76f150>"
      ]
     },
     "execution_count": 25,
     "metadata": {},
     "output_type": "execute_result"
    },
    {
     "data": {
      "image/png": "[encoded data removed]",
      "text/plain": [
       "<Figure size 432x288 with 1 Axes>"
      ]
     },
     "metadata": {},
     "output_type": "display_data"
    }
   ],
   "source": [
    "working.plot.scatter(\n",
    "    \"Number of Groups\",\n",
    "    \"Total Messages\",\n",
    "    xlim=(1, 300),\n",
    "    ylim=(1, 20000),\n",
    "    logx=False,\n",
    "    logy=True,\n",
    ")"
   ]
  },
  {
   "cell_type": "markdown",
   "metadata": {},
   "source": [
    "It appears that there are interesting outliers here. Some who send a couple messages each to a large number of groups, but then a separate group of outliers that sends lots of messages and to lots of groups. That might be an elite component worthy of separate analysis."
   ]
  },
  {
   "cell_type": "markdown",
   "metadata": {},
   "source": [
    "A density graph will show, however, that while there are people who send many messages to a small number of groups, still, most people are clustered around sending few messages, to few groups."
   ]
  },
  {
   "cell_type": "code",
   "execution_count": 26,
   "metadata": {},
   "outputs": [
    {
     "data": {
      "image/png": "[encoded data removed]",
      "text/plain": [
       "<Figure size 432x432 with 3 Axes>"
      ]
     },
     "metadata": {},
     "output_type": "display_data"
    }
   ],
   "source": [
    "sns.jointplot(\n",
    "    x=\"Number of Groups\",\n",
    "    y=\"Total Messages (log)\",\n",
    "    data=working,\n",
    "    kind=\"kde\",\n",
    "    xlim=(0, 50),\n",
    "    ylim=(0, 3),\n",
    ");"
   ]
  },
  {
   "cell_type": "markdown",
   "metadata": {},
   "source": [
    "## Relationships between groups and participants"
   ]
  },
  {
   "cell_type": "markdown",
   "metadata": {},
   "source": [
    "Can we learn implicit relationships between groups based on the messaging patterns of participants?"
   ]
  },
  {
   "cell_type": "markdown",
   "metadata": {},
   "source": [
    "### PCA"
   ]
  },
  {
   "cell_type": "markdown",
   "metadata": {},
   "source": [
    "We want to work with just the data of people and how many messages they sent to each group."
   ]
  },
  {
   "cell_type": "code",
   "execution_count": 27,
   "metadata": {},
   "outputs": [],
   "source": [
    "df = people[people[\"Total Messages\"] > 5]\n",
    "\n",
    "df = df.drop(\n",
    "    columns=[\n",
    "        \"email\",\n",
    "        \"name\",\n",
    "        \"Total Messages\",\n",
    "        \"Number of Groups\",\n",
    "        \"Median Messages per Group\",\n",
    "    ]\n",
    ")\n",
    "df = df.fillna(0)"
   ]
  },
  {
   "cell_type": "markdown",
   "metadata": {},
   "source": [
    "Principal Component Analysis (PCA) will seek to explain the most variance in the samples (participants) based on the features (messages sent to different lists). Let's try with two components and see what PCA sees as the most distinguishing dimensions of IETF participation."
   ]
  },
  {
   "cell_type": "code",
   "execution_count": 28,
   "metadata": {},
   "outputs": [
    {
     "data": {
      "text/plain": [
       "PCA(copy=True, iterated_power='auto', n_components=2, random_state=None,\n",
       "  svd_solver='auto', tol=0.0, whiten=True)"
      ]
     },
     "execution_count": 28,
     "metadata": {},
     "output_type": "execute_result"
    }
   ],
   "source": [
    "import sklearn\n",
    "from sklearn.decomposition import PCA\n",
    "\n",
    "scaled = sklearn.preprocessing.maxabs_scale(df)\n",
    "\n",
    "pca = PCA(n_components=2, whiten=True)\n",
    "pca.fit(scaled)"
   ]
  },
  {
   "cell_type": "code",
   "execution_count": 29,
   "metadata": {},
   "outputs": [
    {
     "data": {
      "text/html": [
       "<div>\n",
       "<style scoped>\n",
       "    .dataframe tbody tr th:only-of-type {\n",
       "        vertical-align: middle;\n",
       "    }\n",
       "\n",
       "    .dataframe tbody tr th {\n",
       "        vertical-align: top;\n",
       "    }\n",
       "\n",
       "    .dataframe thead th {\n",
       "        text-align: right;\n",
       "    }\n",
       "</style>\n",
       "<table border=\"1\" class=\"dataframe\">\n",
       "  <thead>\n",
       "    <tr style=\"text-align: right;\">\n",
       "      <th></th>\n",
       "      <th>6lo</th>\n",
       "      <th>caldav</th>\n",
       "      <th>3gv6</th>\n",
       "      <th>martini</th>\n",
       "      <th>hip</th>\n",
       "      <th>lmap</th>\n",
       "      <th>90all</th>\n",
       "      <th>casm</th>\n",
       "      <th>97-newcomers</th>\n",
       "      <th>aaa-doctors</th>\n",
       "      <th>...</th>\n",
       "      <th>ietf-announce</th>\n",
       "      <th>raven</th>\n",
       "      <th>supa</th>\n",
       "      <th>imapext</th>\n",
       "      <th>77attendees</th>\n",
       "      <th>ieee-ietf-coord</th>\n",
       "      <th>meta-model</th>\n",
       "      <th>92all</th>\n",
       "      <th>openpgp</th>\n",
       "      <th>arp222</th>\n",
       "    </tr>\n",
       "  </thead>\n",
       "  <tbody>\n",
       "    <tr>\n",
       "      <th>0</th>\n",
       "      <td>0.046593</td>\n",
       "      <td>0.007496</td>\n",
       "      <td>0.034607</td>\n",
       "      <td>0.029775</td>\n",
       "      <td>0.012952</td>\n",
       "      <td>0.024247</td>\n",
       "      <td>0.062401</td>\n",
       "      <td>0.047514</td>\n",
       "      <td>0.012421</td>\n",
       "      <td>0.017786</td>\n",
       "      <td>...</td>\n",
       "      <td>0.013914</td>\n",
       "      <td>0.000477</td>\n",
       "      <td>0.024968</td>\n",
       "      <td>0.022945</td>\n",
       "      <td>0.149100</td>\n",
       "      <td>0.020810</td>\n",
       "      <td>0.014023</td>\n",
       "      <td>0.049329</td>\n",
       "      <td>0.004796</td>\n",
       "      <td>0.002724</td>\n",
       "    </tr>\n",
       "    <tr>\n",
       "      <th>1</th>\n",
       "      <td>-0.028740</td>\n",
       "      <td>-0.002030</td>\n",
       "      <td>-0.012836</td>\n",
       "      <td>-0.018841</td>\n",
       "      <td>-0.015708</td>\n",
       "      <td>-0.019847</td>\n",
       "      <td>0.169830</td>\n",
       "      <td>-0.010719</td>\n",
       "      <td>0.011904</td>\n",
       "      <td>-0.011855</td>\n",
       "      <td>...</td>\n",
       "      <td>-0.009133</td>\n",
       "      <td>0.000118</td>\n",
       "      <td>-0.018471</td>\n",
       "      <td>-0.017098</td>\n",
       "      <td>-0.028839</td>\n",
       "      <td>-0.006234</td>\n",
       "      <td>-0.009671</td>\n",
       "      <td>0.128938</td>\n",
       "      <td>-0.005413</td>\n",
       "      <td>-0.000900</td>\n",
       "    </tr>\n",
       "  </tbody>\n",
       "</table>\n",
       "<p>2 rows × 955 columns</p>\n",
       "</div>"
      ],
      "text/plain": [
       "        6lo    caldav      3gv6   martini       hip      lmap     90all  \\\n",
       "0  0.046593  0.007496  0.034607  0.029775  0.012952  0.024247  0.062401   \n",
       "1 -0.028740 -0.002030 -0.012836 -0.018841 -0.015708 -0.019847  0.169830   \n",
       "\n",
       "       casm  97-newcomers  aaa-doctors    ...     ietf-announce     raven  \\\n",
       "0  0.047514      0.012421     0.017786    ...          0.013914  0.000477   \n",
       "1 -0.010719      0.011904    -0.011855    ...         -0.009133  0.000118   \n",
       "\n",
       "       supa   imapext  77attendees  ieee-ietf-coord  meta-model     92all  \\\n",
       "0  0.024968  0.022945     0.149100         0.020810    0.014023  0.049329   \n",
       "1 -0.018471 -0.017098    -0.028839        -0.006234   -0.009671  0.128938   \n",
       "\n",
       "    openpgp    arp222  \n",
       "0  0.004796  0.002724  \n",
       "1 -0.005413 -0.000900  \n",
       "\n",
       "[2 rows x 955 columns]"
      ]
     },
     "execution_count": 29,
     "metadata": {},
     "output_type": "execute_result"
    }
   ],
   "source": [
    "components_frame = pd.DataFrame(pca.components_)\n",
    "components_frame.columns = df.columns\n",
    "components_frame"
   ]
  },
  {
   "cell_type": "code",
   "execution_count": 30,
   "metadata": {},
   "outputs": [
    {
     "name": "stdout",
     "output_type": "stream",
     "text": [
      "\n",
      "Component 0\n",
      "Most positive correlation:\n",
      " ['93attendees' '88attendees' '77attendees' '87attendees' 'bofchairs']\n",
      "Most negative correlation:\n",
      " ['tap' 'eos' 'dmarc-report' 'web' 'spam']\n",
      "\n",
      "Component 1\n",
      "Most positive correlation:\n",
      " ['89all' '90all' '91all' '82all' '94all']\n",
      "Most negative correlation:\n",
      " ['ippm' 'rtgwg' 'i-d-announce' 'l2vpn' 'l3vpn']\n"
     ]
    }
   ],
   "source": [
    "for i, row in components_frame.iterrows():\n",
    "    print(\"\\nComponent %d\" % i)\n",
    "    r = row.sort_values(ascending=False)\n",
    "    print(\"Most positive correlation:\\n %s\" % r[:5].index.values)\n",
    "    print(\"Most negative correlation:\\n %s\" % r[-5:].index.values)"
   ]
  },
  {
   "cell_type": "markdown",
   "metadata": {},
   "source": [
    "Component 0 is mostly routing (Layer 3 and Layer 2 VPNs, the routing area working group, interdomain routing. (IP Performance/Measurement seems different -- is it related?)\n",
    "\n",
    "Component 1 is all Internet area groups, mostly related to IPv6, and specifically different groups working on mobility-related extensions to IPv6."
   ]
  },
  {
   "cell_type": "markdown",
   "metadata": {},
   "source": [
    "When data was unscaled, PCA components seemed to connect to ops and ipv6, a significantly different result.\n",
    "\n",
    "For our two components, we can see which features are most positively correlated and which are most negatively correlated. On positive correlation, looking up these groups, it seems like there is some meaningful coherence here. On Component 0, we see groups in the \"ops\" area: groups related to the management, configuration and measurement of networks. On the other component, we see groups in the Internet and transport areas: groups related to IPv6, the transport area and PSTN transport.\n",
    "\n",
    "That we see such different results when the data is first scaled by each feature perhaps suggests that the initial analysis was just picking up on the largest groups."
   ]
  },
  {
   "cell_type": "code",
   "execution_count": 31,
   "metadata": {},
   "outputs": [
    {
     "data": {
      "text/plain": [
       "array([0.00354831, 0.0025176 ])"
      ]
     },
     "execution_count": 31,
     "metadata": {},
     "output_type": "execute_result"
    }
   ],
   "source": [
    "pca.explained_variance_"
   ]
  },
  {
   "cell_type": "markdown",
   "metadata": {},
   "source": [
    "The explained variance by our components seems extremely tiny."
   ]
  },
  {
   "cell_type": "markdown",
   "metadata": {},
   "source": [
    "With two components (or the two most significant components), we can attempt a basic visualization as a scatter plot."
   ]
  },
  {
   "cell_type": "code",
   "execution_count": 32,
   "metadata": {},
   "outputs": [
    {
     "data": {
      "text/plain": [
       "<matplotlib.axes._subplots.AxesSubplot at 0x7fee2b0e9a10>"
      ]
     },
     "execution_count": 32,
     "metadata": {},
     "output_type": "execute_result"
    },
    {
     "data": {
      "image/png": "[encoded data removed]",
      "text/plain": [
       "<Figure size 432x288 with 1 Axes>"
      ]
     },
     "metadata": {},
     "output_type": "display_data"
    }
   ],
   "source": [
    "component_df = pd.DataFrame(\n",
    "    pca.transform(df), columns=[\"PCA%i\" % i for i in range(2)], index=df.index\n",
    ")\n",
    "component_df.plot.scatter(x=\"PCA0\", y=\"PCA1\")"
   ]
  },
  {
   "cell_type": "markdown",
   "metadata": {},
   "source": [
    "And with a larger number of components?"
   ]
  },
  {
   "cell_type": "code",
   "execution_count": 33,
   "metadata": {},
   "outputs": [
    {
     "name": "stdout",
     "output_type": "stream",
     "text": [
      "\n",
      "Component 0\n",
      "Most positive correlation:\n",
      " ['93attendees' '88attendees' '77attendees' '87attendees' 'bofchairs']\n",
      "Most negative correlation:\n",
      " ['tap' 'eos' 'dmarc-report' 'web' 'spam']\n",
      "\n",
      "Component 1\n",
      "Most positive correlation:\n",
      " ['89all' '90all' '91all' '82all' '94all']\n",
      "Most negative correlation:\n",
      " ['ippm' 'rtgwg' 'i-d-announce' 'l2vpn' 'l3vpn']\n",
      "\n",
      "Component 2\n",
      "Most positive correlation:\n",
      " ['l3vpn' 'l2vpn' 'adslmib' 'i-d-announce' 'psamp-text']\n",
      "Most negative correlation:\n",
      " ['100attendees' '96attendees' '88attendees' '97attendees' '93attendees']\n",
      "\n",
      "Component 3\n",
      "Most positive correlation:\n",
      " ['88attendees' 'ngtrans' '94attendees' '96attendees' '93attendees']\n",
      "Most negative correlation:\n",
      " ['websec' 'happiana' 'art' 'http-auth' 'apps-discuss']\n",
      "\n",
      "Component 4\n",
      "Most positive correlation:\n",
      " ['97attendees' '96attendees' 'rtgwg' '99attendees' 'rtg-yang-coord']\n",
      "Most negative correlation:\n",
      " ['monami6' '68attendees' 'mip6' '77attendees' '72attendees']\n",
      "\n",
      "Component 5\n",
      "Most positive correlation:\n",
      " ['ianaplan' 'iasa20' 'v6ops' 'mtgvenue' 'ipv6']\n",
      "Most negative correlation:\n",
      " ['martini' '87attendees' '81attendees' 'rai' 'dispatch']\n",
      "\n",
      "Component 6\n",
      "Most positive correlation:\n",
      " ['72attendees' 'opsawg' 'netconf' 'mib-doctors' 'supa']\n",
      "Most negative correlation:\n",
      " ['94attendees' '99attendees' '96attendees' '100attendees' '97attendees']\n",
      "\n",
      "Component 7\n",
      "Most positive correlation:\n",
      " ['dispatch' 'rai' 'p2psip' 'martini' 'avtext']\n",
      "Most negative correlation:\n",
      " ['ietf-message-headers' 'hubmib' 'happiana' 'psamp-text' 'apps-discuss']\n",
      "\n",
      "Component 8\n",
      "Most positive correlation:\n",
      " ['72attendees' 'idr' '81attendees' '74attendees' '75attendees']\n",
      "Most negative correlation:\n",
      " ['bofchairs' 'sipcore' 'martini' 'rai' 'dispatch']\n",
      "\n",
      "Component 9\n",
      "Most positive correlation:\n",
      " ['tools-development' 'ietf-sow' 'agenda-tool' 'ccg' 'iola-wgcharter-tool']\n",
      "Most negative correlation:\n",
      " ['mcic' 'vpn4dc' 'wgguide' 'apps-discuss' '77attendees']\n"
     ]
    }
   ],
   "source": [
    "pca = PCA(n_components=10, whiten=True)\n",
    "pca.fit(scaled)\n",
    "components_frame = pd.DataFrame(pca.components_)\n",
    "components_frame.columns = df.columns\n",
    "for i, row in components_frame.iterrows():\n",
    "    print(\"\\nComponent %d\" % i)\n",
    "    r = row.sort_values(ascending=False)\n",
    "    print(\"Most positive correlation:\\n %s\" % r[:5].index.values)\n",
    "    print(\"Most negative correlation:\\n %s\" % r[-5:].index.values)"
   ]
  },
  {
   "cell_type": "markdown",
   "metadata": {},
   "source": [
    "There are definitely subject domain areas in these lists (the last one, for example, on groups related to phone calls and emergency services). Also interesting is the presence of some meta-topics, like `mtgvenue` or `policy` or `iasa20` (an IETF governance topic)."
   ]
  },
  {
   "cell_type": "markdown",
   "metadata": {},
   "source": [
    "_Future work: we might be able to use this sparse matrix of participation in different lists to provide recommendations of similarity. \"People who send messages to the same mix of groups you send to also like this other list\" or \"People who like this list, also often like this list\"._"
   ]
  },
  {
   "cell_type": "markdown",
   "metadata": {},
   "source": [
    "### Betweenness, PageRank and graph visualization"
   ]
  },
  {
   "cell_type": "markdown",
   "metadata": {},
   "source": [
    "Because we have people and the groups they send to, we can construct a _bipartite graph_."
   ]
  },
  {
   "cell_type": "markdown",
   "metadata": {},
   "source": [
    "We'll use just the top 5000 people, in order to make complicated calculations run faster."
   ]
  },
  {
   "cell_type": "code",
   "execution_count": 34,
   "metadata": {},
   "outputs": [],
   "source": [
    "df = people.sort_values(by=\"Total Messages\", ascending=False)[:5000]\n",
    "df = df.drop(\n",
    "    columns=[\n",
    "        \"email\",\n",
    "        \"name\",\n",
    "        \"Total Messages\",\n",
    "        \"Number of Groups\",\n",
    "        \"Median Messages per Group\",\n",
    "    ]\n",
    ")\n",
    "df = df.fillna(0)"
   ]
  },
  {
   "cell_type": "code",
   "execution_count": 35,
   "metadata": {},
   "outputs": [],
   "source": [
    "import networkx as nx\n",
    "\n",
    "G = nx.Graph()\n",
    "\n",
    "for group in df.columns:\n",
    "    G.add_node(group, type=\"group\")\n",
    "\n",
    "for name, data in df.iterrows():\n",
    "    G.add_node(name, type=\"person\")\n",
    "\n",
    "    for group, weight in data.items():\n",
    "        if weight > 0:\n",
    "            G.add_edge(name, group, weight=weight)"
   ]
  },
  {
   "cell_type": "code",
   "execution_count": 36,
   "metadata": {},
   "outputs": [
    {
     "data": {
      "text/plain": [
       "True"
      ]
     },
     "execution_count": 36,
     "metadata": {},
     "output_type": "execute_result"
    }
   ],
   "source": [
    "nx.is_bipartite(G)"
   ]
  },
  {
   "cell_type": "markdown",
   "metadata": {},
   "source": [
    "Yep, it is bipartite! Now, we can export a graph file for use in visualization software Gephi."
   ]
  },
  {
   "cell_type": "code",
   "execution_count": 37,
   "metadata": {},
   "outputs": [],
   "source": [
    "nx.write_gexf(G, \"ietf-participation-bipartite.gexf\")"
   ]
  },
  {
   "cell_type": "code",
   "execution_count": 38,
   "metadata": {},
   "outputs": [
    {
     "ename": "AmbiguousSolution",
     "evalue": "Disconnected graph: Ambiguous solution for bipartite sets.",
     "output_type": "error",
     "traceback": [
      "\u001b[0;31m---------------------------------------------------------------------------\u001b[0m",
      "\u001b[0;31mAmbiguousSolution\u001b[0m                         Traceback (most recent call last)",
      "\u001b[0;32m<ipython-input-38-9df133334611>\u001b[0m in \u001b[0;36m<module>\u001b[0;34m()\u001b[0m\n\u001b[0;32m----> 1\u001b[0;31m \u001b[0mpeople_nodes\u001b[0m\u001b[0;34m,\u001b[0m \u001b[0mgroup_nodes\u001b[0m \u001b[0;34m=\u001b[0m \u001b[0mnx\u001b[0m\u001b[0;34m.\u001b[0m\u001b[0malgorithms\u001b[0m\u001b[0;34m.\u001b[0m\u001b[0mbipartite\u001b[0m\u001b[0;34m.\u001b[0m\u001b[0msets\u001b[0m\u001b[0;34m(\u001b[0m\u001b[0mG\u001b[0m\u001b[0;34m)\u001b[0m\u001b[0;34m\u001b[0m\u001b[0m\n\u001b[0m",
      "\u001b[0;32m/home/lem/.local/lib/python2.7/site-packages/networkx/algorithms/bipartite/basic.pyc\u001b[0m in \u001b[0;36msets\u001b[0;34m(G, top_nodes)\u001b[0m\n\u001b[1;32m    204\u001b[0m         \u001b[0;32mif\u001b[0m \u001b[0;32mnot\u001b[0m \u001b[0mis_connected\u001b[0m\u001b[0;34m(\u001b[0m\u001b[0mG\u001b[0m\u001b[0;34m)\u001b[0m\u001b[0;34m:\u001b[0m\u001b[0;34m\u001b[0m\u001b[0m\n\u001b[1;32m    205\u001b[0m             \u001b[0mmsg\u001b[0m \u001b[0;34m=\u001b[0m \u001b[0;34m'Disconnected graph: Ambiguous solution for bipartite sets.'\u001b[0m\u001b[0;34m\u001b[0m\u001b[0m\n\u001b[0;32m--> 206\u001b[0;31m             \u001b[0;32mraise\u001b[0m \u001b[0mnx\u001b[0m\u001b[0;34m.\u001b[0m\u001b[0mAmbiguousSolution\u001b[0m\u001b[0;34m(\u001b[0m\u001b[0mmsg\u001b[0m\u001b[0;34m)\u001b[0m\u001b[0;34m\u001b[0m\u001b[0m\n\u001b[0m\u001b[1;32m    207\u001b[0m         \u001b[0mc\u001b[0m \u001b[0;34m=\u001b[0m \u001b[0mcolor\u001b[0m\u001b[0;34m(\u001b[0m\u001b[0mG\u001b[0m\u001b[0;34m)\u001b[0m\u001b[0;34m\u001b[0m\u001b[0m\n\u001b[1;32m    208\u001b[0m         \u001b[0mX\u001b[0m \u001b[0;34m=\u001b[0m \u001b[0;34m{\u001b[0m\u001b[0mn\u001b[0m \u001b[0;32mfor\u001b[0m \u001b[0mn\u001b[0m\u001b[0;34m,\u001b[0m \u001b[0mis_top\u001b[0m \u001b[0;32min\u001b[0m \u001b[0mc\u001b[0m\u001b[0;34m.\u001b[0m\u001b[0mitems\u001b[0m\u001b[0;34m(\u001b[0m\u001b[0;34m)\u001b[0m \u001b[0;32mif\u001b[0m \u001b[0mis_top\u001b[0m\u001b[0;34m}\u001b[0m\u001b[0;34m\u001b[0m\u001b[0m\n",
      "\u001b[0;31mAmbiguousSolution\u001b[0m: Disconnected graph: Ambiguous solution for bipartite sets."
     ]
    }
   ],
   "source": [
    "people_nodes, group_nodes = nx.algorithms.bipartite.sets(G)"
   ]
  },
  {
   "cell_type": "markdown",
   "metadata": {},
   "source": [
    "We can calculate the \"PageRank\" of each person and group, using the weights (number of messages) between groups and people to distribute a kind of influence."
   ]
  },
  {
   "cell_type": "code",
   "execution_count": 39,
   "metadata": {},
   "outputs": [],
   "source": [
    "pr = nx.pagerank(G, weight=\"weight\")"
   ]
  },
  {
   "cell_type": "code",
   "execution_count": 40,
   "metadata": {},
   "outputs": [
    {
     "ename": "TypeError",
     "evalue": "unhashable type: 'dict'",
     "output_type": "error",
     "traceback": [
      "\u001b[0;31m---------------------------------------------------------------------------\u001b[0m",
      "\u001b[0;31mTypeError\u001b[0m                                 Traceback (most recent call last)",
      "\u001b[0;32m<ipython-input-40-76db8672f77d>\u001b[0m in \u001b[0;36m<module>\u001b[0;34m()\u001b[0m\n\u001b[0;32m----> 1\u001b[0;31m \u001b[0mnx\u001b[0m\u001b[0;34m.\u001b[0m\u001b[0mset_node_attributes\u001b[0m\u001b[0;34m(\u001b[0m\u001b[0mG\u001b[0m\u001b[0;34m,\u001b[0m \u001b[0;34m\"pagerank\"\u001b[0m\u001b[0;34m,\u001b[0m \u001b[0mpr\u001b[0m\u001b[0;34m)\u001b[0m\u001b[0;34m\u001b[0m\u001b[0m\n\u001b[0m",
      "\u001b[0;32m/home/lem/.local/lib/python2.7/site-packages/networkx/classes/function.pyc\u001b[0m in \u001b[0;36mset_node_attributes\u001b[0;34m(G, values, name)\u001b[0m\n\u001b[1;32m    652\u001b[0m         \u001b[0;32mexcept\u001b[0m \u001b[0mAttributeError\u001b[0m\u001b[0;34m:\u001b[0m  \u001b[0;31m# `values` is a constant\u001b[0m\u001b[0;34m\u001b[0m\u001b[0m\n\u001b[1;32m    653\u001b[0m             \u001b[0;32mfor\u001b[0m \u001b[0mn\u001b[0m \u001b[0;32min\u001b[0m \u001b[0mG\u001b[0m\u001b[0;34m:\u001b[0m\u001b[0;34m\u001b[0m\u001b[0m\n\u001b[0;32m--> 654\u001b[0;31m                 \u001b[0mG\u001b[0m\u001b[0;34m.\u001b[0m\u001b[0mnodes\u001b[0m\u001b[0;34m[\u001b[0m\u001b[0mn\u001b[0m\u001b[0;34m]\u001b[0m\u001b[0;34m[\u001b[0m\u001b[0mname\u001b[0m\u001b[0;34m]\u001b[0m \u001b[0;34m=\u001b[0m \u001b[0mvalues\u001b[0m\u001b[0;34m\u001b[0m\u001b[0m\n\u001b[0m\u001b[1;32m    655\u001b[0m     \u001b[0;32melse\u001b[0m\u001b[0;34m:\u001b[0m  \u001b[0;31m# `values` must be dict of dict\u001b[0m\u001b[0;34m\u001b[0m\u001b[0m\n\u001b[1;32m    656\u001b[0m         \u001b[0;32mfor\u001b[0m \u001b[0mn\u001b[0m\u001b[0;34m,\u001b[0m \u001b[0md\u001b[0m \u001b[0;32min\u001b[0m \u001b[0mvalues\u001b[0m\u001b[0;34m.\u001b[0m\u001b[0mitems\u001b[0m\u001b[0;34m(\u001b[0m\u001b[0;34m)\u001b[0m\u001b[0;34m:\u001b[0m\u001b[0;34m\u001b[0m\u001b[0m\n",
      "\u001b[0;31mTypeError\u001b[0m: unhashable type: 'dict'"
     ]
    }
   ],
   "source": [
    "nx.set_node_attributes(G, \"pagerank\", pr)"
   ]
  },
  {
   "cell_type": "code",
   "execution_count": null,
   "metadata": {},
   "outputs": [],
   "source": [
    "sorted(\n",
    "    [node for node in list(G.nodes(data=True)) if node[1][\"type\"] == \"group\"],\n",
    "    key=lambda x: x[1][\"pagerank\"],\n",
    "    reverse=True,\n",
    ")[:10]"
   ]
  },
  {
   "cell_type": "code",
   "execution_count": 41,
   "metadata": {},
   "outputs": [
    {
     "ename": "KeyError",
     "evalue": "'pagerank'",
     "output_type": "error",
     "traceback": [
      "\u001b[0;31m---------------------------------------------------------------------------\u001b[0m",
      "\u001b[0;31mKeyError\u001b[0m                                  Traceback (most recent call last)",
      "\u001b[0;32m<ipython-input-41-0b71f2221c5b>\u001b[0m in \u001b[0;36m<module>\u001b[0;34m()\u001b[0m\n\u001b[1;32m      2\u001b[0m         if node[1]['type'] == 'person'], \n\u001b[1;32m      3\u001b[0m        \u001b[0mkey\u001b[0m\u001b[0;34m=\u001b[0m\u001b[0;32mlambda\u001b[0m \u001b[0mx\u001b[0m\u001b[0;34m:\u001b[0m \u001b[0mx\u001b[0m\u001b[0;34m[\u001b[0m\u001b[0;36m1\u001b[0m\u001b[0;34m]\u001b[0m\u001b[0;34m[\u001b[0m\u001b[0;34m'pagerank'\u001b[0m\u001b[0;34m]\u001b[0m\u001b[0;34m,\u001b[0m\u001b[0;34m\u001b[0m\u001b[0m\n\u001b[0;32m----> 4\u001b[0;31m        reverse =True)[:10]\n\u001b[0m",
      "\u001b[0;32m<ipython-input-41-0b71f2221c5b>\u001b[0m in \u001b[0;36m<lambda>\u001b[0;34m(x)\u001b[0m\n\u001b[1;32m      1\u001b[0m sorted([node for node in list(G.nodes(data=True)) \n\u001b[1;32m      2\u001b[0m         if node[1]['type'] == 'person'], \n\u001b[0;32m----> 3\u001b[0;31m        \u001b[0mkey\u001b[0m\u001b[0;34m=\u001b[0m\u001b[0;32mlambda\u001b[0m \u001b[0mx\u001b[0m\u001b[0;34m:\u001b[0m \u001b[0mx\u001b[0m\u001b[0;34m[\u001b[0m\u001b[0;36m1\u001b[0m\u001b[0;34m]\u001b[0m\u001b[0;34m[\u001b[0m\u001b[0;34m'pagerank'\u001b[0m\u001b[0;34m]\u001b[0m\u001b[0;34m,\u001b[0m\u001b[0;34m\u001b[0m\u001b[0m\n\u001b[0m\u001b[1;32m      4\u001b[0m        reverse =True)[:10]\n",
      "\u001b[0;31mKeyError\u001b[0m: 'pagerank'"
     ]
    }
   ],
   "source": [
    "sorted(\n",
    "    [node for node in list(G.nodes(data=True)) if node[1][\"type\"] == \"person\"],\n",
    "    key=lambda x: x[1][\"pagerank\"],\n",
    "    reverse=True,\n",
    ")[:10]"
   ]
  },
  {
   "cell_type": "markdown",
   "metadata": {
    "collapsed": true
   },
   "source": [
    "However, PageRank is probably less informative than usual here, because this is a bipartite, non-directed graph. Instead, let's calculate a normalized, closeness centrality specific to bipartite graphs."
   ]
  },
  {
   "cell_type": "code",
   "execution_count": 42,
   "metadata": {},
   "outputs": [],
   "source": [
    "person_nodes = [node[0] for node in G.nodes(data=True) if node[1][\"type\"] == \"person\"]"
   ]
  },
  {
   "cell_type": "markdown",
   "metadata": {},
   "source": [
    "**NB: Slow operation for large graphs.**"
   ]
  },
  {
   "cell_type": "code",
   "execution_count": 43,
   "metadata": {},
   "outputs": [],
   "source": [
    "cc = nx.algorithms.bipartite.centrality.closeness_centrality(\n",
    "    G, person_nodes, normalized=True\n",
    ")"
   ]
  },
  {
   "cell_type": "code",
   "execution_count": 44,
   "metadata": {},
   "outputs": [
    {
     "name": "stdout",
     "output_type": "stream",
     "text": [
      "5000.0\n",
      "0.0\n"
     ]
    }
   ],
   "source": [
    "for node, value in list(cc.items()):\n",
    "    if type(node) not in [str, str]:\n",
    "        print(node)\n",
    "        print(value)"
   ]
  },
  {
   "cell_type": "code",
   "execution_count": 45,
   "metadata": {},
   "outputs": [
    {
     "ename": "KeyError",
     "evalue": "14350.0",
     "output_type": "error",
     "traceback": [
      "\u001b[0;31m---------------------------------------------------------------------------\u001b[0m",
      "\u001b[0;31mKeyError\u001b[0m                                  Traceback (most recent call last)",
      "\u001b[0;32m<ipython-input-45-00ab5d6aabb5>\u001b[0m in \u001b[0;36m<module>\u001b[0;34m()\u001b[0m\n\u001b[0;32m----> 1\u001b[0;31m \u001b[0;32mdel\u001b[0m \u001b[0mcc\u001b[0m\u001b[0;34m[\u001b[0m\u001b[0;36m14350.0\u001b[0m\u001b[0;34m]\u001b[0m \u001b[0;31m# remove a spurious node value\u001b[0m\u001b[0;34m\u001b[0m\u001b[0m\n\u001b[0m",
      "\u001b[0;31mKeyError\u001b[0m: 14350.0"
     ]
    }
   ],
   "source": [
    "del cc[14350.0]  # remove a spurious node value"
   ]
  },
  {
   "cell_type": "code",
   "execution_count": null,
   "metadata": {},
   "outputs": [],
   "source": [
    "nx.set_node_attributes(G, \"closeness\", cc)"
   ]
  },
  {
   "cell_type": "code",
   "execution_count": null,
   "metadata": {},
   "outputs": [],
   "source": [
    "sorted(\n",
    "    [node for node in list(G.nodes(data=True)) if node[1][\"type\"] == \"person\"],\n",
    "    key=lambda x: x[1][\"closeness\"],\n",
    "    reverse=True,\n",
    ")[:25]"
   ]
  },
  {
   "cell_type": "markdown",
   "metadata": {},
   "source": [
    "The people with the highest closeness centrality are the ones that have the most co-affiliation with every other person, or the shortest path to every other person. Automated accounts are, as we might expect, extremely high on this measure -- they're used to send announcements of publications and do so to basically every group. The individual people highest ranked on this measure include Stephen Farrell, Jari Arkko, Ben Campbell -- long-time participants with leadership roles. The highest ranked woman is Alissa Cooper, current Chair of the IETF."
   ]
  },
  {
   "cell_type": "markdown",
   "metadata": {},
   "source": [
    "_TODO: calculating bi-cliques (the people who all are connected to the same group) and then measuring correlation in bi-cliques (people who belong to many of the same groups) could allow for analysis of cohesive subgroups and a different network analysis/visualization._ See Borgatti, S.P. and Halgin, D. In press. “Analyzing Affiliation Networks”. In Carrington, P. and Scott, J. (eds) The Sage Handbook of Social Network Analysis. Sage Publications. http://www.steveborgatti.com/papers/bhaffiliations.pdf"
   ]
  },
  {
   "cell_type": "code",
   "execution_count": null,
   "metadata": {
    "collapsed": true
   },
   "outputs": [],
   "source": []
  }
 ],
 "metadata": {
  "kernelspec": {
   "display_name": "Python 3 (ipykernel)",
   "language": "python",
   "name": "python3"
  },
  "language_info": {
   "codemirror_mode": {
    "name": "ipython",
    "version": 3
   },
   "file_extension": ".py",
   "mimetype": "text/x-python",
   "name": "python",
   "nbconvert_exporter": "python",
   "pygments_lexer": "ipython3",
   "version": "3.9.5"
  },
  "notify_time": "10"
 },
 "nbformat": 4,
 "nbformat_minor": 1
}
