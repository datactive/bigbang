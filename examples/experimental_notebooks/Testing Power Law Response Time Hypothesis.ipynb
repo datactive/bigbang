{
 "cells": [
  {
   "cell_type": "markdown",
   "metadata": {},
   "source": [
    "An early result in the study of human dynamic systems is the claim that response times to email follow a power law distribution (http://cds.cern.ch/record/613536/). This result has been built on by others (http://www.uvm.edu/~pdodds/files/papers/others/2004/johansen2004.pdf, http://dx.doi.org/10.1103/physreve.83.056101). However, Clauset, Shalizi, and Newman (citation needed) have challenged the pervasive use discovery of powerlaws, claiming that these studies often depend on unsound statistics.\n",
    "\n",
    "Here we apply the method of power law distribution fitting and testing to the email response times of several public mailing lists. "
   ]
  },
  {
   "cell_type": "code",
   "execution_count": 1,
   "metadata": {},
   "outputs": [
    {
     "name": "stdout",
     "output_type": "stream",
     "text": [
      "(15485, 6)\n"
     ]
    }
   ],
   "source": [
    "from bigbang.archive import Archive\n",
    "import pandas as pd\n",
    "\n",
    "arx = Archive(\"ipython-dev\", archive_dir=\"../archives\")\n",
    "print(arx.data.shape)"
   ]
  },
  {
   "cell_type": "code",
   "execution_count": 2,
   "metadata": {},
   "outputs": [],
   "source": [
    "arx.data.drop_duplicates(subset=(\"From\", \"Date\"), inplace=True)"
   ]
  },
  {
   "cell_type": "markdown",
   "metadata": {},
   "source": [
    "We will look at messages in our archive that are responses to other messages and how long after the original email the response was made."
   ]
  },
  {
   "cell_type": "code",
   "execution_count": 3,
   "metadata": {
    "collapsed": true
   },
   "outputs": [],
   "source": [
    "response_times = []"
   ]
  },
  {
   "cell_type": "code",
   "execution_count": 4,
   "metadata": {
    "scrolled": true
   },
   "outputs": [],
   "source": [
    "response_times = []\n",
    "for x in list(arx.data.iterrows()):\n",
    "    if x[1][\"In-Reply-To\"] is not None:\n",
    "        try:\n",
    "            d1 = arx.data.loc[x[1][\"In-Reply-To\"]][\"Date\"]\n",
    "\n",
    "            if isinstance(d1, pd.Series):\n",
    "                d1 = d1[0]\n",
    "\n",
    "            d2 = x[1][\"Date\"]\n",
    "\n",
    "            rt = d2 - d1\n",
    "\n",
    "            response_times.append(rt.total_seconds())\n",
    "\n",
    "        except AttributeError as e:\n",
    "            print(e)\n",
    "        except TypeError as e:\n",
    "            print(e)\n",
    "        except KeyError as e:\n",
    "            # print e -- suppress error\n",
    "            pass"
   ]
  },
  {
   "cell_type": "code",
   "execution_count": 5,
   "metadata": {},
   "outputs": [
    {
     "data": {
      "text/plain": [
       "11696"
      ]
     },
     "execution_count": 5,
     "metadata": {},
     "output_type": "execute_result"
    }
   ],
   "source": [
    "len(response_times)"
   ]
  },
  {
   "cell_type": "code",
   "execution_count": 6,
   "metadata": {
    "collapsed": true
   },
   "outputs": [],
   "source": [
    "import matplotlib.pyplot as plt\n",
    "\n",
    "%matplotlib inline"
   ]
  },
  {
   "cell_type": "code",
   "execution_count": 7,
   "metadata": {},
   "outputs": [
    {
     "data": {
      "text/plain": [
       "[<matplotlib.lines.Line2D at 0x7ff3fea8c750>]"
      ]
     },
     "execution_count": 7,
     "metadata": {},
     "output_type": "execute_result"
    },
    {
     "data": {
      "image/png": "[encoded data removed]",
      "text/plain": [
       "<matplotlib.figure.Figure at 0x7ff3feac7610>"
      ]
     },
     "metadata": {},
     "output_type": "display_data"
    }
   ],
   "source": [
    "plt.semilogy(sorted(response_times, reverse=True))"
   ]
  },
  {
   "cell_type": "code",
   "execution_count": 9,
   "metadata": {},
   "outputs": [
    {
     "name": "stdout",
     "output_type": "stream",
     "text": [
      "1.74259853197\n",
      "27753.0\n",
      "0.018193948838\n",
      "-5.13102609753 0.0552301041786\n"
     ]
    },
    {
     "name": "stderr",
     "output_type": "stream",
     "text": [
      "Calculating best minimal value for power law fit\n"
     ]
    }
   ],
   "source": [
    "import powerlaw\n",
    "\n",
    "f = powerlaw.Fit(response_times)\n",
    "print(f.power_law.alpha)\n",
    "print(f.xmin)\n",
    "print(f.D)\n",
    "R, p = f.distribution_compare(\"power_law\", \"lognormal\")\n",
    "print(R, p)"
   ]
  },
  {
   "cell_type": "markdown",
   "metadata": {},
   "source": [
    "We conclude that there is no reason to maintain that there is a power law distribution of email response times."
   ]
  },
  {
   "cell_type": "code",
   "execution_count": null,
   "metadata": {
    "collapsed": true
   },
   "outputs": [],
   "source": []
  }
 ],
 "metadata": {
  "kernelspec": {
   "display_name": "Python 3 (ipykernel)",
   "language": "python",
   "name": "python3"
  },
  "language_info": {
   "codemirror_mode": {
    "name": "ipython",
    "version": 3
   },
   "file_extension": ".py",
   "mimetype": "text/x-python",
   "name": "python",
   "nbconvert_exporter": "python",
   "pygments_lexer": "ipython3",
   "version": "3.9.5"
  }
 },
 "nbformat": 4,
 "nbformat_minor": 1
}
