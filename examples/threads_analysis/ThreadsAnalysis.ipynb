{
 "cells": [
  {
   "cell_type": "markdown",
   "metadata": {},
   "source": [
    "<b>This notebook divide a single mailing list corpus into threads.</b> \n",
    "\n",
    "What it does:\n",
    "-identifies the more participated threads\n",
    "-identifies the long lasting threads\n",
    "-export each thread's emails into seperate .csv files, setting thresholds of participation and duration\n",
    "\n",
    "Parameters to set options:\n",
    "-set a single URL related to a mailing list, setting the 'url' variable\n",
    "-it exports files in the file path specified in the variable ‘path’\n",
    "-you can set a threshold of participation and of duration for the threads to export, by setting 'min_participation' and 'min_duration' variables"
   ]
  },
  {
   "cell_type": "code",
   "execution_count": 1,
   "metadata": {},
   "outputs": [],
   "source": [
    "from bigbang.archive import Archive\n",
    "from bigbang.archive import load as load_archive\n",
    "from bigbang.thread import Thread\n",
    "from bigbang.thread import Node\n",
    "from bigbang.utils import remove_quoted\n",
    "import matplotlib.pyplot as plt\n",
    "import datetime\n",
    "import pandas as pd\n",
    "import csv\n",
    "from collections import defaultdict\n",
    "import os"
   ]
  },
  {
   "cell_type": "markdown",
   "metadata": {},
   "source": [
    "First, collect data from a public email archive."
   ]
  },
  {
   "cell_type": "code",
   "execution_count": 2,
   "metadata": {},
   "outputs": [],
   "source": [
    "# Insert a list of archive names\n",
    "archives_names = [\"ietf\"]\n",
    "\n",
    "cwd = os.getcwd()\n",
    "\n",
    "archives_paths = list()\n",
    "for archive_name in archives_names:\n",
    "    archives_paths.append(\"../../archives/\" + archive_name + \".csv\")\n",
    "\n",
    "\n",
    "archives_list = [load_archive(archive_path).data for archive_path in archives_paths]\n",
    "\n",
    "archives = Archive(pd.concat(archives_list))\n",
    "\n",
    "archives_data = archives.data"
   ]
  },
  {
   "cell_type": "markdown",
   "metadata": {},
   "source": [
    "Let's check the number of threads in this mailing list corpus"
   ]
  },
  {
   "cell_type": "code",
   "execution_count": 3,
   "metadata": {},
   "outputs": [
    {
     "name": "stdout",
     "output_type": "stream",
     "text": [
      "24782\n"
     ]
    }
   ],
   "source": [
    "print(len(archives.get_threads()))"
   ]
  },
  {
   "cell_type": "markdown",
   "metadata": {},
   "source": [
    "We can  plot the number of people participating in each thread."
   ]
  },
  {
   "cell_type": "code",
   "execution_count": 4,
   "metadata": {
    "scrolled": true
   },
   "outputs": [
    {
     "data": {
      "image/png": "[encoded data removed]",
      "text/plain": [
       "<Figure size 432x288 with 1 Axes>"
      ]
     },
     "metadata": {
      "needs_background": "light"
     },
     "output_type": "display_data"
    }
   ],
   "source": [
    "n_people = [t.get_num_people() for t in archives.get_threads()]\n",
    "\n",
    "plt.hist(n_people, bins=20)\n",
    "plt.xlabel(\"number of email-address in a thread\")\n",
    "plt.show()"
   ]
  },
  {
   "cell_type": "markdown",
   "metadata": {},
   "source": [
    "The *duration* of a thread is the amount of elapsed time between its first and last message. \n",
    "\n",
    "Let's plot the number of threads per each number of days of duration\n"
   ]
  },
  {
   "cell_type": "code",
   "execution_count": 5,
   "metadata": {},
   "outputs": [
    {
     "data": {
      "image/png": "[encoded data removed]",
      "text/plain": [
       "<Figure size 432x288 with 1 Axes>"
      ]
     },
     "metadata": {
      "needs_background": "light"
     },
     "output_type": "display_data"
    }
   ],
   "source": [
    "duration = [t.get_duration().days for t in archives.get_threads()]\n",
    "\n",
    "plt.hist(duration, bins=(10))\n",
    "plt.xlabel(\"duration of a thread(days)\")\n",
    "plt.show()"
   ]
  },
  {
   "cell_type": "code",
   "execution_count": 10,
   "metadata": {},
   "outputs": [
    {
     "data": {
      "image/png": "[encoded data removed]",
      "text/plain": [
       "<Figure size 432x288 with 1 Axes>"
      ]
     },
     "metadata": {
      "needs_background": "light"
     },
     "output_type": "display_data"
    }
   ],
   "source": [
    "y = [t.get_duration().seconds for t in archives.get_threads()]\n",
    "\n",
    "plt.hist(y, bins=(10))\n",
    "plt.xlabel(\"duration of a thread(seconds)\")\n",
    "plt.show()"
   ]
  },
  {
   "cell_type": "markdown",
   "metadata": {},
   "source": [
    "You can examine the content of threads like so:"
   ]
  },
  {
   "cell_type": "code",
   "execution_count": 14,
   "metadata": {},
   "outputs": [],
   "source": [
    "# Insert the participation threshold (number of people)\n",
    "# (for no threeshold: 'min_participation = 0')\n",
    "min_participation = 0\n",
    "\n",
    "# Insert the duration threshold (number of days)\n",
    "# (for no threeshold: 'min_duration = 0')\n",
    "min_duration = 0\n",
    "\n",
    "i = 0\n",
    "for thread in arx.get_threads():\n",
    "    if (\n",
    "        thread.get_num_people() >= min_participation\n",
    "        and thread.get_duration().days >= min_duration\n",
    "    ):\n",
    "        i += 1\n",
    "        f = open(cwd + \"/thread_\" + str(i) + \".csv\", \"wb\")\n",
    "        f_w = csv.writer(f)\n",
    "        f_w.writerow(thread.get_content())\n",
    "        f.close()"
   ]
  }
 ],
 "metadata": {
  "kernelspec": {
   "display_name": "Python 3",
   "language": "python",
   "name": "python3"
  },
  "language_info": {
   "codemirror_mode": {
    "name": "ipython",
    "version": 3
   },
   "file_extension": ".py",
   "mimetype": "text/x-python",
   "name": "python",
   "nbconvert_exporter": "python",
   "pygments_lexer": "ipython3"
  }
 },
 "nbformat": 4,
 "nbformat_minor": 1
}
