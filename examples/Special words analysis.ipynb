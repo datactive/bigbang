{
 "cells": [
  {
   "cell_type": "code",
   "execution_count": 1,
   "metadata": {},
   "outputs": [],
   "source": [
    "from bigbang.archive import Archive\n",
    "import bigbang.parse as parse\n",
    "import bigbang.graph as graph\n",
    "import bigbang.mailman as mailman\n",
    "import bigbang.process as process\n",
    "import networkx as nx\n",
    "import matplotlib.pyplot as plt\n",
    "import pandas as pd\n",
    "from pprint import pprint as pp\n",
    "import pytz\n",
    "import numpy as np\n",
    "import math\n",
    "import nltk\n",
    "from itertools import repeat\n",
    "from nltk.stem.lancaster import LancasterStemmer\n",
    "st = LancasterStemmer()\n",
    "from nltk.corpus import stopwords\n",
    "import re"
   ]
  },
  {
   "cell_type": "code",
   "execution_count": 2,
   "metadata": {},
   "outputs": [],
   "source": [
    "urls = [\"http://mail.python.org/pipermail/ipython-dev/\",\n",
    "        \"http://mail.scipy.org/pipermail/ipython-user/\"]#,\n",
    "        #\"http://mail.python.org/pipermail/scipy-dev/\",\n",
    "        #\"http://mail.python.org/pipermail/scipy-user/\",\n",
    "        #\"http://mail.python.org/pipermail/numpy-discussion/\"]\n",
    "\n",
    "\n",
    "archives= [Archive(url,archive_dir=\"../../archives\") for url in urls]"
   ]
  },
  {
   "cell_type": "code",
   "execution_count": 3,
   "metadata": {},
   "outputs": [],
   "source": [
    "act = archives[0].get_activity()\n",
    "act1 = archives[1].get_activity()"
   ]
  },
  {
   "cell_type": "code",
   "execution_count": 4,
   "metadata": {},
   "outputs": [
    {
     "data": {
      "image/png": "[encoded data removed]",
      "text/plain": [
       "<matplotlib.figure.Figure at 0x7fbc982c2090>"
      ]
     },
     "metadata": {},
     "output_type": "display_data"
    }
   ],
   "source": [
    "fig = plt.figure(figsize=(12.5, 7.5))\n",
    "\n",
    "#act.idxmax().order().T.plot()\n",
    "(act > 0).idxmax().sort_values().plot()\n",
    "\n",
    "fig.axes[0].yaxis_date()"
   ]
  },
  {
   "cell_type": "code",
   "execution_count": 5,
   "metadata": {},
   "outputs": [],
   "source": [
    "timeorder = (act > 0).idxmax().sort_values()\n",
    "timeorder1 = (act1 > 0).idxmax().sort_values()"
   ]
  },
  {
   "cell_type": "code",
   "execution_count": 6,
   "metadata": {},
   "outputs": [
    {
     "data": {
      "text/html": [
       "<div>\n",
       "<style scoped>\n",
       "    .dataframe tbody tr th:only-of-type {\n",
       "        vertical-align: middle;\n",
       "    }\n",
       "\n",
       "    .dataframe tbody tr th {\n",
       "        vertical-align: top;\n",
       "    }\n",
       "\n",
       "    .dataframe thead th {\n",
       "        text-align: right;\n",
       "    }\n",
       "</style>\n",
       "<table border=\"1\" class=\"dataframe\">\n",
       "  <thead>\n",
       "    <tr style=\"text-align: right;\">\n",
       "      <th></th>\n",
       "      <th>From</th>\n",
       "      <th>Subject</th>\n",
       "      <th>Date</th>\n",
       "      <th>In-Reply-To</th>\n",
       "      <th>References</th>\n",
       "      <th>Body</th>\n",
       "    </tr>\n",
       "    <tr>\n",
       "      <th>Message-ID</th>\n",
       "      <th></th>\n",
       "      <th></th>\n",
       "      <th></th>\n",
       "      <th></th>\n",
       "      <th></th>\n",
       "      <th></th>\n",
       "    </tr>\n",
       "  </thead>\n",
       "  <tbody>\n",
       "    <tr>\n",
       "      <th>&lt;3271DBB88437ED41A0AB239E6C2554A401117873@ussunm001.palmsource.com&gt;</th>\n",
       "      <td>Robin.Siebler at palmsource.com (Robin Siebler)</td>\n",
       "      <td>[IPython-user] Crash</td>\n",
       "      <td>2003-03-27 20:27:08+00:00</td>\n",
       "      <td>None</td>\n",
       "      <td>None</td>\n",
       "      <td>I installed IPython-0.2.15pre3, played with it...</td>\n",
       "    </tr>\n",
       "    <tr>\n",
       "      <th>&lt;3271DBB88437ED41A0AB239E6C2554A401117873@ussunm001.palmsource.com&gt;</th>\n",
       "      <td>Robin.Siebler@palmsource.com (Robin Siebler)</td>\n",
       "      <td>[IPython-user] Crash</td>\n",
       "      <td>2003-03-27 20:27:08+00:00</td>\n",
       "      <td>None</td>\n",
       "      <td>None</td>\n",
       "      <td>I installed IPython-0.2.15pre3, played with it...</td>\n",
       "    </tr>\n",
       "  </tbody>\n",
       "</table>\n",
       "</div>"
      ],
      "text/plain": [
       "                                                                                               From  \\\n",
       "Message-ID                                                                                            \n",
       "<3271DBB88437ED41A0AB239E6C2554A401117873@ussun...  Robin.Siebler at palmsource.com (Robin Siebler)   \n",
       "<3271DBB88437ED41A0AB239E6C2554A401117873@ussun...     Robin.Siebler@palmsource.com (Robin Siebler)   \n",
       "\n",
       "                                                                 Subject  \\\n",
       "Message-ID                                                                 \n",
       "<3271DBB88437ED41A0AB239E6C2554A401117873@ussun...  [IPython-user] Crash   \n",
       "<3271DBB88437ED41A0AB239E6C2554A401117873@ussun...  [IPython-user] Crash   \n",
       "\n",
       "                                                                        Date  \\\n",
       "Message-ID                                                                     \n",
       "<3271DBB88437ED41A0AB239E6C2554A401117873@ussun... 2003-03-27 20:27:08+00:00   \n",
       "<3271DBB88437ED41A0AB239E6C2554A401117873@ussun... 2003-03-27 20:27:08+00:00   \n",
       "\n",
       "                                                   In-Reply-To References  \\\n",
       "Message-ID                                                                  \n",
       "<3271DBB88437ED41A0AB239E6C2554A401117873@ussun...        None       None   \n",
       "<3271DBB88437ED41A0AB239E6C2554A401117873@ussun...        None       None   \n",
       "\n",
       "                                                                                                 Body  \n",
       "Message-ID                                                                                             \n",
       "<3271DBB88437ED41A0AB239E6C2554A401117873@ussun...  I installed IPython-0.2.15pre3, played with it...  \n",
       "<3271DBB88437ED41A0AB239E6C2554A401117873@ussun...  I installed IPython-0.2.15pre3, played with it...  "
      ]
     },
     "execution_count": 6,
     "metadata": {},
     "output_type": "execute_result"
    }
   ],
   "source": [
    "archives[1].data[:2]"
   ]
  },
  {
   "cell_type": "code",
   "execution_count": 7,
   "metadata": {},
   "outputs": [
    {
     "name": "stdout",
     "output_type": "stream",
     "text": [
      "Hi all,\n",
      "\n",
      "after a suggestion by Jacek Generowicz, someone (not me) sent in a request for \n",
      "indexing the ipython lists at gmane.  I didn't do it but I'm perfectly happy \n",
      "with it, so thanks to whoever did it.\n",
      "\n",
      "For those not familiar with the service, http://gmane.org provides a mailing \n",
      "list to news bridge, which allows you to follow the ipython lists with a news \n",
      "reader.\n",
      "\n",
      "Cheers,\n",
      "\n",
      "Fernando.\n",
      "Hi Cory,\n",
      "\n",
      "> Done.  install command will now work with distutils 1.02; bdist_wininst\n",
      "> --install-script=ipython_post_install.py will also work with distutils\n",
      "> 1.03.\n",
      "\n",
      "I finally got around to implementing your patches for Windows installation \n",
      "(sorry for the huge delay).  I work under RedHat 8.0, and I can get the \n",
      "wininst target to build me a nice .exe installer, but unfortunately it doesn't \n",
      "seem to execute the post-install script at all.  If I run the setup.py from \n",
      "inside the zip target, it's ok: the post-installer gets loaded via regular \n",
      "python code, just as it did before.\n",
      "\n",
      "But under distutils 1.0.3 (the one which comes with python 2.2.1), I can't \n",
      "seem to use the --install-script option.  I even looked at the distutils \n",
      "sources for the bdist_wininst command, and such an option is just not recognized.\n",
      "\n",
      "I really liked the Windows real executable installer, so I'd love to close \n",
      "this last gap, but I have no idea at this point how to specify an additional \n",
      "script to be run at the end of the install.  Any pointers?\n",
      "\n",
      "Thanks for any help,\n",
      "\n",
      "f.\n",
      "\n",
      "ps.  I've cc'd the ipython mailing list, and if you remain interested in \n",
      "ipython I'd suggest you join it.  I prefer to keep the discussions on list, \n",
      "since they get archived and others can also contribute ideas.  The new ipython \n",
      "homepage and mailing list urls are:\n",
      "\n",
      "http://ipython.scipy.org/\n",
      "http://scipy.net/mailman/listinfo/ipython-dev\n",
      "http://scipy.net/mailman/listinfo/ipython-user\n"
     ]
    }
   ],
   "source": [
    "for row in archives[0].data[:2].iterrows():\n",
    "    print row[1][\"Body\"]"
   ]
  },
  {
   "cell_type": "code",
   "execution_count": 8,
   "metadata": {},
   "outputs": [],
   "source": [
    "arx = archives[0]"
   ]
  },
  {
   "cell_type": "code",
   "execution_count": 9,
   "metadata": {},
   "outputs": [],
   "source": [
    "k = pd.DataFrame"
   ]
  },
  {
   "cell_type": "code",
   "execution_count": 10,
   "metadata": {},
   "outputs": [],
   "source": [
    "first_participation = {}\n",
    "for row in archives[0].data.iterrows():\n",
    "    if row[1][\"From\"] not in first_participation:\n",
    "        first_participation[row[1][\"From\"]] = row[1][\"Date\"]"
   ]
  },
  {
   "cell_type": "code",
   "execution_count": 11,
   "metadata": {},
   "outputs": [],
   "source": [
    "first_participation1 = {}\n",
    "for row in archives[1].data.iterrows():\n",
    "    if row[1][\"From\"] not in first_participation1:\n",
    "        first_participation1[row[1][\"From\"]] = row[1][\"Date\"]"
   ]
  },
  {
   "cell_type": "code",
   "execution_count": 12,
   "metadata": {},
   "outputs": [],
   "source": [
    "#First list\n",
    "wordcount={}\n",
    "for row in archives[0].data.iterrows():\n",
    "    if row[1][\"Body\"] is None:\n",
    "        continue\n",
    "    \n",
    "    w = row[1][\"Body\"].replace(\"'\", \"\")\n",
    "    k = re.sub(r'[^\\w]', ' ', w)\n",
    "    t = nltk.tokenize.word_tokenize(k)\n",
    "    for g in t:\n",
    "        try:\n",
    "            word = st.stem(g)\n",
    "        except:\n",
    "            print g\n",
    "            pass\n",
    "        if word in stopwords.words('english'):\n",
    "            continue\n",
    "        if word not in wordcount:\n",
    "            wordcount[word] = [1]\n",
    "            wordcount[word].append(row[0])\n",
    "            wordcount[word].append(row[1][\"Date\"])\n",
    "            wordcount[word].append(row[1][\"From\"])\n",
    "            wordcount[word].append(row[1][\"In-Reply-To\"])\n",
    "        else:\n",
    "            wordcount[word][0] += 1\n",
    "wd = wordcount #In case"
   ]
  },
  {
   "cell_type": "code",
   "execution_count": 14,
   "metadata": {},
   "outputs": [],
   "source": [
    "#Second List\n",
    "wordcount1={}\n",
    "for row in archives[1].data.iterrows():\n",
    "    if row[1][\"Body\"] is None:\n",
    "        continue\n",
    "    \n",
    "    w = row[1][\"Body\"].replace(\"'\", \"\")\n",
    "    k = re.sub(r'[^\\w]', ' ', w)\n",
    "    t = nltk.tokenize.word_tokenize(k)\n",
    "    for g in t:\n",
    "        try:\n",
    "            word = st.stem(g)\n",
    "        except:\n",
    "            print g\n",
    "            pass\n",
    "        if word in stopwords.words('english'):\n",
    "            continue\n",
    "        if word not in wordcount1:\n",
    "            wordcount1[word] = [1]\n",
    "            wordcount1[word].append(row[0])\n",
    "            wordcount1[word].append(row[1][\"Date\"])\n",
    "            wordcount1[word].append(row[1][\"From\"])\n",
    "            wordcount1[word].append(row[1][\"In-Reply-To\"])\n",
    "        else:\n",
    "            wordcount1[word][0] += 1"
   ]
  },
  {
   "cell_type": "code",
   "execution_count": 15,
   "metadata": {},
   "outputs": [],
   "source": [
    "#new_df = pd.DataFrame(wordcount.items(),columns=[\"Word\",\"Others\"])"
   ]
  },
  {
   "cell_type": "code",
   "execution_count": 16,
   "metadata": {},
   "outputs": [],
   "source": [
    "#pd.concat(pd.Series(wordcount.keys()),pd.DataFrame(wordcount.values(),columns=[\"A\",\"B\",\"C\",\"D\",\"E\"]))"
   ]
  },
  {
   "cell_type": "code",
   "execution_count": 17,
   "metadata": {},
   "outputs": [],
   "source": [
    "#Wordcount information dataframe, with rows as words.\n",
    "asd = pd.DataFrame(wordcount)\n",
    "new_dataframe = asd.transpose()\n",
    "new_dataframe.columns = [\"Wordcount\", \"Message-ID\", \"Date\",\"From\",\"In-Reply-To\"]"
   ]
  },
  {
   "cell_type": "code",
   "execution_count": 18,
   "metadata": {},
   "outputs": [],
   "source": [
    "#Wordcount information dataframe, with rows as words.\n",
    "asd1 = pd.DataFrame(wordcount1)\n",
    "new_dataframe1 = asd1.transpose()\n",
    "new_dataframe1.columns = [\"Wordcount\", \"Message-ID\", \"Date\",\"From\",\"In-Reply-To\"]"
   ]
  },
  {
   "cell_type": "code",
   "execution_count": 19,
   "metadata": {},
   "outputs": [
    {
     "data": {
      "text/plain": [
       "42241"
      ]
     },
     "execution_count": 19,
     "metadata": {},
     "output_type": "execute_result"
    }
   ],
   "source": [
    "len(wordcount) #Number of unique words in mailing list1"
   ]
  },
  {
   "cell_type": "code",
   "execution_count": 20,
   "metadata": {},
   "outputs": [
    {
     "data": {
      "text/plain": [
       "46113"
      ]
     },
     "execution_count": 20,
     "metadata": {},
     "output_type": "execute_result"
    }
   ],
   "source": [
    "len(wordcount1) #Number of unique words in mailing list2"
   ]
  },
  {
   "cell_type": "code",
   "execution_count": 21,
   "metadata": {},
   "outputs": [
    {
     "data": {
      "text/plain": [
       "15346"
      ]
     },
     "execution_count": 21,
     "metadata": {},
     "output_type": "execute_result"
    }
   ],
   "source": [
    "#Number of same unique words in two mailing lists\n",
    "samewordcount=0\n",
    "for word in wordcount:\n",
    "    if word in wordcount1:\n",
    "        samewordcount += 1\n",
    "samewordcount"
   ]
  },
  {
   "cell_type": "code",
   "execution_count": 22,
   "metadata": {},
   "outputs": [
    {
     "data": {
      "text/plain": [
       "1452"
      ]
     },
     "execution_count": 22,
     "metadata": {},
     "output_type": "execute_result"
    }
   ],
   "source": [
    "#Total number of same words that are introduced by same people.\n",
    "samecount = 0\n",
    "for word in wordcount:\n",
    "    if word in wordcount1:\n",
    "        if wordcount[word][3] == wordcount1[word][3]:\n",
    "            samecount += 1\n",
    "samecount"
   ]
  },
  {
   "cell_type": "code",
   "execution_count": 23,
   "metadata": {},
   "outputs": [
    {
     "data": {
      "text/plain": [
       "758"
      ]
     },
     "execution_count": 23,
     "metadata": {},
     "output_type": "execute_result"
    }
   ],
   "source": [
    "#Among 100-500 appearance words, the number of common words between two mailing-list.\n",
    "samewordcount = 0\n",
    "for word in wordcount:\n",
    "    if wordcount[word][0] >= 100 and wordcount[word][0] <= 500:\n",
    "        if word in wordcount1:\n",
    "            if wordcount1[word][0] >= 100 and wordcount1[word][0] <= 500:\n",
    "                samewordcount += 1\n",
    "samewordcount"
   ]
  },
  {
   "cell_type": "code",
   "execution_count": 24,
   "metadata": {},
   "outputs": [
    {
     "data": {
      "text/plain": [
       "1452"
      ]
     },
     "execution_count": 24,
     "metadata": {},
     "output_type": "execute_result"
    }
   ],
   "source": [
    "#Among 100-500 appearance words, the number of common words between two mailing-list that are first\n",
    "#introduced by same people\n",
    "same_person_count = 0\n",
    "for word in wordcount:\n",
    "    if wordcount[word][0] >= 100 and wordcount[word][0] <= 500:\n",
    "        if word in wordcount1:\n",
    "            if wordcount1[word][0] >= 100 and wordcount1[word][0] <= 500:\n",
    "                if wordcount[word][3] == wordcount1[word][3]:\n",
    "                    #print word\n",
    "                    same_person_count += 1\n",
    "samecount"
   ]
  },
  {
   "cell_type": "code",
   "execution_count": 25,
   "metadata": {},
   "outputs": [],
   "source": [
    "#common word list(introduced by different people in different lists)\n",
    "commonwords = {}\n",
    "for word in wordcount:\n",
    "    if wordcount[word][0] >= 100 and wordcount[word][0] <= 500:\n",
    "        if word in wordcount1:\n",
    "            if wordcount1[word][0] >= 100 and wordcount1[word][0] <= 500:\n",
    "                if wordcount[word][3] != wordcount1[word][3]:\n",
    "                    commonwords[word] = [wordcount[word][0],wordcount[word][3],wordcount[word][2],\\\n",
    "                                         wordcount1[word][0],wordcount1[word][3],wordcount1[word][2]]\n",
    "        "
   ]
  },
  {
   "cell_type": "code",
   "execution_count": 26,
   "metadata": {},
   "outputs": [
    {
     "data": {
      "text/plain": [
       "621"
      ]
     },
     "execution_count": 26,
     "metadata": {},
     "output_type": "execute_result"
    }
   ],
   "source": [
    "len(commonwords)"
   ]
  },
  {
   "cell_type": "code",
   "execution_count": 27,
   "metadata": {},
   "outputs": [
    {
     "data": {
      "text/html": [
       "<div>\n",
       "<style scoped>\n",
       "    .dataframe tbody tr th:only-of-type {\n",
       "        vertical-align: middle;\n",
       "    }\n",
       "\n",
       "    .dataframe tbody tr th {\n",
       "        vertical-align: top;\n",
       "    }\n",
       "\n",
       "    .dataframe thead th {\n",
       "        text-align: right;\n",
       "    }\n",
       "</style>\n",
       "<table border=\"1\" class=\"dataframe\">\n",
       "  <thead>\n",
       "    <tr style=\"text-align: right;\">\n",
       "      <th></th>\n",
       "      <th>Wordcount1</th>\n",
       "      <th>From1</th>\n",
       "      <th>Date1</th>\n",
       "      <th>Wordcount2</th>\n",
       "      <th>From2</th>\n",
       "      <th>Date2</th>\n",
       "    </tr>\n",
       "  </thead>\n",
       "  <tbody>\n",
       "    <tr>\n",
       "      <th>000</th>\n",
       "      <td>110</td>\n",
       "      <td>cggame at consultant.com (Van Dyke)</td>\n",
       "      <td>2003-08-30 11:44:50+00:00</td>\n",
       "      <td>105</td>\n",
       "      <td>thomashadim99 at netscape.net (Ciwen)</td>\n",
       "      <td>2003-10-19 15:00:32+00:00</td>\n",
       "    </tr>\n",
       "    <tr>\n",
       "      <th>0200</th>\n",
       "      <td>351</td>\n",
       "      <td>ipython at ml.schieke.net (Jaco Schieke)</td>\n",
       "      <td>2004-08-02 23:00:59+00:00</td>\n",
       "      <td>348</td>\n",
       "      <td>ero at dkbza.org (Ero Carrera)</td>\n",
       "      <td>2004-05-09 08:11:36+00:00</td>\n",
       "    </tr>\n",
       "    <tr>\n",
       "      <th>0700</th>\n",
       "      <td>445</td>\n",
       "      <td>gb at cs.unc.edu (Gary Bishop)</td>\n",
       "      <td>2003-12-03 16:00:47+00:00</td>\n",
       "      <td>446</td>\n",
       "      <td>fperez@colorado.edu (Fernando Perez)</td>\n",
       "      <td>2003-05-30 18:45:15+00:00</td>\n",
       "    </tr>\n",
       "    <tr>\n",
       "      <th>1000</th>\n",
       "      <td>135</td>\n",
       "      <td>cmoad at indiana.edu (Charles Moad)</td>\n",
       "      <td>2005-02-21 14:46:59+00:00</td>\n",
       "      <td>177</td>\n",
       "      <td>gillet@scripps.edu (Alexandre Gillet)</td>\n",
       "      <td>2003-08-20 00:34:07+00:00</td>\n",
       "    </tr>\n",
       "    <tr>\n",
       "      <th>2003</th>\n",
       "      <td>103</td>\n",
       "      <td>cdodt at fcoe.k12.ca.us (Cory Dodt)</td>\n",
       "      <td>2003-04-17 14:32:56+00:00</td>\n",
       "      <td>167</td>\n",
       "      <td>Robin.Siebler at palmsource.com (Robin Siebler)</td>\n",
       "      <td>2003-03-27 21:13:13+00:00</td>\n",
       "    </tr>\n",
       "    <tr>\n",
       "      <th>2005</th>\n",
       "      <td>198</td>\n",
       "      <td>Fernando.Perez at colorado.edu (Fernando Perez)</td>\n",
       "      <td>2005-01-24 00:56:15+00:00</td>\n",
       "      <td>440</td>\n",
       "      <td>jjl at pobox.com (John J Lee)</td>\n",
       "      <td>2004-12-31 10:49:16+00:00</td>\n",
       "    </tr>\n",
       "    <tr>\n",
       "      <th>2007</th>\n",
       "      <td>445</td>\n",
       "      <td>vivainio at gmail.com (Ville M. Vainio)</td>\n",
       "      <td>2007-01-17 18:19:08+00:00</td>\n",
       "      <td>442</td>\n",
       "      <td>bthom at cs.hmc.edu (belinda thom)</td>\n",
       "      <td>2007-01-08 05:36:13+00:00</td>\n",
       "    </tr>\n",
       "    <tr>\n",
       "      <th>35</th>\n",
       "      <td>459</td>\n",
       "      <td>Fernando.Perez at colorado.edu (Fernando Perez)</td>\n",
       "      <td>2004-06-21 07:58:21+00:00</td>\n",
       "      <td>453</td>\n",
       "      <td>sigurd at 12move.de (Karl =?iso-8859-1?q?Pfl=E...</td>\n",
       "      <td>2003-08-14 20:55:49+00:00</td>\n",
       "    </tr>\n",
       "    <tr>\n",
       "      <th>36</th>\n",
       "      <td>439</td>\n",
       "      <td>ariciputi at pito.com (Andrea Riciputi)</td>\n",
       "      <td>2004-11-10 08:38:31+00:00</td>\n",
       "      <td>475</td>\n",
       "      <td>gb@cs.unc.edu (Gary Bishop)</td>\n",
       "      <td>2003-05-17 11:52:37+00:00</td>\n",
       "    </tr>\n",
       "    <tr>\n",
       "      <th>38</th>\n",
       "      <td>416</td>\n",
       "      <td>mantegazza at ill.fr (=?iso-8859-15?q?Fr=E9d=E...</td>\n",
       "      <td>2005-03-17 12:18:23+00:00</td>\n",
       "      <td>442</td>\n",
       "      <td>sigurd at 12move.de (Karl =?iso-8859-1?q?Pfl=E...</td>\n",
       "      <td>2003-08-14 20:55:49+00:00</td>\n",
       "    </tr>\n",
       "  </tbody>\n",
       "</table>\n",
       "</div>"
      ],
      "text/plain": [
       "     Wordcount1                                              From1  \\\n",
       "000         110                cggame at consultant.com (Van Dyke)   \n",
       "0200        351           ipython at ml.schieke.net (Jaco Schieke)   \n",
       "0700        445                     gb at cs.unc.edu (Gary Bishop)   \n",
       "1000        135                cmoad at indiana.edu (Charles Moad)   \n",
       "2003        103                cdodt at fcoe.k12.ca.us (Cory Dodt)   \n",
       "2005        198    Fernando.Perez at colorado.edu (Fernando Perez)   \n",
       "2007        445            vivainio at gmail.com (Ville M. Vainio)   \n",
       "35          459    Fernando.Perez at colorado.edu (Fernando Perez)   \n",
       "36          439            ariciputi at pito.com (Andrea Riciputi)   \n",
       "38          416  mantegazza at ill.fr (=?iso-8859-15?q?Fr=E9d=E...   \n",
       "\n",
       "                          Date1 Wordcount2  \\\n",
       "000   2003-08-30 11:44:50+00:00        105   \n",
       "0200  2004-08-02 23:00:59+00:00        348   \n",
       "0700  2003-12-03 16:00:47+00:00        446   \n",
       "1000  2005-02-21 14:46:59+00:00        177   \n",
       "2003  2003-04-17 14:32:56+00:00        167   \n",
       "2005  2005-01-24 00:56:15+00:00        440   \n",
       "2007  2007-01-17 18:19:08+00:00        442   \n",
       "35    2004-06-21 07:58:21+00:00        453   \n",
       "36    2004-11-10 08:38:31+00:00        475   \n",
       "38    2005-03-17 12:18:23+00:00        442   \n",
       "\n",
       "                                                  From2  \\\n",
       "000               thomashadim99 at netscape.net (Ciwen)   \n",
       "0200                     ero at dkbza.org (Ero Carrera)   \n",
       "0700               fperez@colorado.edu (Fernando Perez)   \n",
       "1000              gillet@scripps.edu (Alexandre Gillet)   \n",
       "2003    Robin.Siebler at palmsource.com (Robin Siebler)   \n",
       "2005                      jjl at pobox.com (John J Lee)   \n",
       "2007                 bthom at cs.hmc.edu (belinda thom)   \n",
       "35    sigurd at 12move.de (Karl =?iso-8859-1?q?Pfl=E...   \n",
       "36                          gb@cs.unc.edu (Gary Bishop)   \n",
       "38    sigurd at 12move.de (Karl =?iso-8859-1?q?Pfl=E...   \n",
       "\n",
       "                          Date2  \n",
       "000   2003-10-19 15:00:32+00:00  \n",
       "0200  2004-05-09 08:11:36+00:00  \n",
       "0700  2003-05-30 18:45:15+00:00  \n",
       "1000  2003-08-20 00:34:07+00:00  \n",
       "2003  2003-03-27 21:13:13+00:00  \n",
       "2005  2004-12-31 10:49:16+00:00  \n",
       "2007  2007-01-08 05:36:13+00:00  \n",
       "35    2003-08-14 20:55:49+00:00  \n",
       "36    2003-05-17 11:52:37+00:00  \n",
       "38    2003-08-14 20:55:49+00:00  "
      ]
     },
     "execution_count": 27,
     "metadata": {},
     "output_type": "execute_result"
    }
   ],
   "source": [
    "#Dataframe of information of those words introduced by different people\n",
    "df1 = pd.DataFrame(commonwords)\n",
    "commonword_differentauthor_dataframe = df1.transpose()\n",
    "commonword_differentauthor_dataframe.columns = [\"Wordcount1\", \"From1\", \"Date1\",\"Wordcount2\", \"From2\", \"Date2\"]\n",
    "commonword_differentauthor_dataframe[:10]"
   ]
  },
  {
   "cell_type": "code",
   "execution_count": 28,
   "metadata": {},
   "outputs": [
    {
     "data": {
      "text/plain": [
       "True"
      ]
     },
     "execution_count": 28,
     "metadata": {},
     "output_type": "execute_result"
    }
   ],
   "source": [
    "commonword_differentauthor_dataframe['Date1'][0] < commonword_differentauthor_dataframe['Date1'][1]"
   ]
  },
  {
   "cell_type": "code",
   "execution_count": 29,
   "metadata": {},
   "outputs": [
    {
     "data": {
      "text/plain": [
       "621"
      ]
     },
     "execution_count": 29,
     "metadata": {},
     "output_type": "execute_result"
    }
   ],
   "source": [
    "len(commonwords)"
   ]
  },
  {
   "cell_type": "code",
   "execution_count": 30,
   "metadata": {},
   "outputs": [],
   "source": [
    "# The list of words that have potential of idea flows. Definition: A is introduced by p in list1 first, then q saw it and then \n",
    "# introduced the word A to list 2, vice versa. We defined q saw as q said sth in list1 before p poped out the word. \n",
    "# Total list of such word A. \n",
    "time_influence = 0\n",
    "influnce_list = {}\n",
    "for word in commonwords:\n",
    "    if commonwords[word][2] > commonwords[word][5]: #Author2 comes first\n",
    "        if commonwords[word][1] in first_participation1: #Check if author1 in list2\n",
    "            if first_participation1[commonwords[word][1]] < commonwords[word][5]: #Check if author1\\\n",
    "                #in list2 and exists before the word first introduced in list2\n",
    "                influnce_list[word] = commonwords[word]\n",
    "                time_influence += 1\n",
    "    else: #Author1 comes first\n",
    "        if commonwords[word][4] in first_participation:\n",
    "            if first_participation[commonwords[word][4]] < commonwords[word][2]:\n",
    "                influnce_list[word] = commonwords[word]\n",
    "                time_influence += 1\n",
    "            "
   ]
  },
  {
   "cell_type": "code",
   "execution_count": 31,
   "metadata": {},
   "outputs": [
    {
     "data": {
      "text/plain": [
       "151"
      ]
     },
     "execution_count": 31,
     "metadata": {},
     "output_type": "execute_result"
    }
   ],
   "source": [
    "time_influence"
   ]
  },
  {
   "cell_type": "code",
   "execution_count": 32,
   "metadata": {},
   "outputs": [
    {
     "data": {
      "text/plain": [
       "151"
      ]
     },
     "execution_count": 32,
     "metadata": {},
     "output_type": "execute_result"
    }
   ],
   "source": [
    "len(influnce_list.keys())"
   ]
  },
  {
   "cell_type": "code",
   "execution_count": 33,
   "metadata": {},
   "outputs": [
    {
     "data": {
      "text/html": [
       "<div>\n",
       "<style scoped>\n",
       "    .dataframe tbody tr th:only-of-type {\n",
       "        vertical-align: middle;\n",
       "    }\n",
       "\n",
       "    .dataframe tbody tr th {\n",
       "        vertical-align: top;\n",
       "    }\n",
       "\n",
       "    .dataframe thead th {\n",
       "        text-align: right;\n",
       "    }\n",
       "</style>\n",
       "<table border=\"1\" class=\"dataframe\">\n",
       "  <thead>\n",
       "    <tr style=\"text-align: right;\">\n",
       "      <th></th>\n",
       "      <th>Wordcount1</th>\n",
       "      <th>From1</th>\n",
       "      <th>Date1</th>\n",
       "      <th>Wordcount2</th>\n",
       "      <th>From2</th>\n",
       "      <th>Date2</th>\n",
       "    </tr>\n",
       "  </thead>\n",
       "  <tbody>\n",
       "    <tr>\n",
       "      <th>0700</th>\n",
       "      <td>445</td>\n",
       "      <td>gb at cs.unc.edu (Gary Bishop)</td>\n",
       "      <td>2003-12-03 16:00:47+00:00</td>\n",
       "      <td>446</td>\n",
       "      <td>fperez@colorado.edu (Fernando Perez)</td>\n",
       "      <td>2003-05-30 18:45:15+00:00</td>\n",
       "    </tr>\n",
       "    <tr>\n",
       "      <th>2005</th>\n",
       "      <td>198</td>\n",
       "      <td>Fernando.Perez at colorado.edu (Fernando Perez)</td>\n",
       "      <td>2005-01-24 00:56:15+00:00</td>\n",
       "      <td>440</td>\n",
       "      <td>jjl at pobox.com (John J Lee)</td>\n",
       "      <td>2004-12-31 10:49:16+00:00</td>\n",
       "    </tr>\n",
       "    <tr>\n",
       "      <th>2007</th>\n",
       "      <td>445</td>\n",
       "      <td>vivainio at gmail.com (Ville M. Vainio)</td>\n",
       "      <td>2007-01-17 18:19:08+00:00</td>\n",
       "      <td>442</td>\n",
       "      <td>bthom at cs.hmc.edu (belinda thom)</td>\n",
       "      <td>2007-01-08 05:36:13+00:00</td>\n",
       "    </tr>\n",
       "    <tr>\n",
       "      <th>404</th>\n",
       "      <td>250</td>\n",
       "      <td>Fernando.Perez at colorado.edu (Fernando Perez)</td>\n",
       "      <td>2006-01-16 18:29:09+00:00</td>\n",
       "      <td>147</td>\n",
       "      <td>mantegazza at ill.fr (=?iso-8859-15?q?Fr=E9d=E...</td>\n",
       "      <td>2005-04-06 03:12:39+00:00</td>\n",
       "    </tr>\n",
       "    <tr>\n",
       "      <th>52</th>\n",
       "      <td>389</td>\n",
       "      <td>ralf at brainbot.com (Ralf Schmitt)</td>\n",
       "      <td>2003-09-22 14:30:47+00:00</td>\n",
       "      <td>351</td>\n",
       "      <td>fperez at colorado.edu (Fernando Perez)</td>\n",
       "      <td>2004-04-10 14:45:23+00:00</td>\n",
       "    </tr>\n",
       "    <tr>\n",
       "      <th>_ip</th>\n",
       "      <td>192</td>\n",
       "      <td>vivainio at gmail.com (Ville Vainio)</td>\n",
       "      <td>2006-01-30 21:18:54+00:00</td>\n",
       "      <td>174</td>\n",
       "      <td>oliphant.travis at ieee.org (Travis E. Oliphant)</td>\n",
       "      <td>2006-01-24 23:11:40+00:00</td>\n",
       "    </tr>\n",
       "    <tr>\n",
       "      <th>ac</th>\n",
       "      <td>354</td>\n",
       "      <td>prabhu at aero.iitm.ernet.in (Prabhu Ramachand...</td>\n",
       "      <td>2004-09-29 17:16:03+00:00</td>\n",
       "      <td>201</td>\n",
       "      <td>jhsh@sun.ac.za (Jannie Hofmeyr)</td>\n",
       "      <td>2003-08-29 09:34:13+00:00</td>\n",
       "    </tr>\n",
       "    <tr>\n",
       "      <th>acceiv</th>\n",
       "      <td>482</td>\n",
       "      <td>fperez at colorado.edu (Fernando Perez)</td>\n",
       "      <td>2003-05-13 19:13:27+00:00</td>\n",
       "      <td>381</td>\n",
       "      <td>gb@cs.unc.edu (Gary Bishop)</td>\n",
       "      <td>2003-05-13 19:11:30+00:00</td>\n",
       "    </tr>\n",
       "    <tr>\n",
       "      <th>admin</th>\n",
       "      <td>222</td>\n",
       "      <td>fperez at colorado.edu (Fernando Perez)</td>\n",
       "      <td>2003-10-07 15:34:22+00:00</td>\n",
       "      <td>261</td>\n",
       "      <td>tony at tcapp.com (Tony Cappellini)</td>\n",
       "      <td>2003-04-15 04:56:14+00:00</td>\n",
       "    </tr>\n",
       "    <tr>\n",
       "      <th>affect</th>\n",
       "      <td>334</td>\n",
       "      <td>pythondev-dang at lazytwinacres.net (Daniel 'D...</td>\n",
       "      <td>2004-06-24 19:04:24+00:00</td>\n",
       "      <td>187</td>\n",
       "      <td>Fernando.Perez at colorado.edu (Fernando Perez)</td>\n",
       "      <td>2004-08-13 11:05:14+00:00</td>\n",
       "    </tr>\n",
       "    <tr>\n",
       "      <th>andrew</th>\n",
       "      <td>478</td>\n",
       "      <td>fperez at colorado.edu (Fernando Perez)</td>\n",
       "      <td>2003-07-31 17:17:19+00:00</td>\n",
       "      <td>184</td>\n",
       "      <td>devlists at insightscientific.com (Andrew Straw)</td>\n",
       "      <td>2003-03-31 22:59:16+00:00</td>\n",
       "    </tr>\n",
       "    <tr>\n",
       "      <th>appropry</th>\n",
       "      <td>451</td>\n",
       "      <td>fperez at colorado.edu (Fernando Perez)</td>\n",
       "      <td>2003-09-30 20:52:02+00:00</td>\n",
       "      <td>257</td>\n",
       "      <td>fperez@colorado.edu (Fernando Perez)</td>\n",
       "      <td>2003-05-07 15:14:17+00:00</td>\n",
       "    </tr>\n",
       "    <tr>\n",
       "      <th>arrow</th>\n",
       "      <td>176</td>\n",
       "      <td>fperez at colorado.edu (Fernando Perez)</td>\n",
       "      <td>2003-12-22 18:51:19+00:00</td>\n",
       "      <td>297</td>\n",
       "      <td>jack@xiph.org (Jack Moffitt)</td>\n",
       "      <td>2003-03-29 05:59:15+00:00</td>\n",
       "    </tr>\n",
       "    <tr>\n",
       "      <th>artic</th>\n",
       "      <td>177</td>\n",
       "      <td>Fernando.Perez at colorado.edu (Fernando Perez)</td>\n",
       "      <td>2004-06-28 21:49:37+00:00</td>\n",
       "      <td>109</td>\n",
       "      <td>vivainio at kolumbus.fi (Ville Vainio)</td>\n",
       "      <td>2004-06-28 16:46:56+00:00</td>\n",
       "    </tr>\n",
       "    <tr>\n",
       "      <th>asm</th>\n",
       "      <td>219</td>\n",
       "      <td>prabhu_r at users.sf.net (Prabhu Ramachandran)</td>\n",
       "      <td>2006-01-23 05:31:56+00:00</td>\n",
       "      <td>190</td>\n",
       "      <td>jdhunter at ace.bsd.uchicago.edu (John Hunter)</td>\n",
       "      <td>2006-02-01 20:40:11+00:00</td>\n",
       "    </tr>\n",
       "    <tr>\n",
       "      <th>assocy</th>\n",
       "      <td>277</td>\n",
       "      <td>fperez at colorado.edu (Fernando Perez)</td>\n",
       "      <td>2004-06-08 06:42:58+00:00</td>\n",
       "      <td>152</td>\n",
       "      <td>baecker at physik.tu-dresden.de (Arnd Baecker)</td>\n",
       "      <td>2003-04-16 16:06:39+00:00</td>\n",
       "    </tr>\n",
       "    <tr>\n",
       "      <th>august</th>\n",
       "      <td>286</td>\n",
       "      <td>taylorwilliam at idncafe.net (William taylor)</td>\n",
       "      <td>2003-08-28 08:58:02+00:00</td>\n",
       "      <td>298</td>\n",
       "      <td>fperez at colorado.edu (Fernando Perez)</td>\n",
       "      <td>2004-05-14 01:21:13+00:00</td>\n",
       "    </tr>\n",
       "    <tr>\n",
       "      <th>behav</th>\n",
       "      <td>314</td>\n",
       "      <td>fperez at colorado.edu (Fernando Perez)</td>\n",
       "      <td>2003-05-24 22:05:43+00:00</td>\n",
       "      <td>254</td>\n",
       "      <td>prabhu at aero.iitm.ernet.in (Prabhu Ramachand...</td>\n",
       "      <td>2003-05-17 03:17:46+00:00</td>\n",
       "    </tr>\n",
       "    <tr>\n",
       "      <th>beyond</th>\n",
       "      <td>295</td>\n",
       "      <td>fperez at colorado.edu (Fernando Perez)</td>\n",
       "      <td>2003-12-22 21:38:57+00:00</td>\n",
       "      <td>176</td>\n",
       "      <td>pobrien at orbtech.com (Patrick K. O'Brien)</td>\n",
       "      <td>2003-04-16 17:14:31+00:00</td>\n",
       "    </tr>\n",
       "    <tr>\n",
       "      <th>bsd</th>\n",
       "      <td>240</td>\n",
       "      <td>fperez at colorado.edu (Fernando Perez)</td>\n",
       "      <td>2004-05-14 06:09:12+00:00</td>\n",
       "      <td>165</td>\n",
       "      <td>fperez@colorado.edu (Fernando Perez)</td>\n",
       "      <td>2003-07-01 01:03:09+00:00</td>\n",
       "    </tr>\n",
       "  </tbody>\n",
       "</table>\n",
       "</div>"
      ],
      "text/plain": [
       "         Wordcount1                                              From1  \\\n",
       "0700            445                     gb at cs.unc.edu (Gary Bishop)   \n",
       "2005            198    Fernando.Perez at colorado.edu (Fernando Perez)   \n",
       "2007            445            vivainio at gmail.com (Ville M. Vainio)   \n",
       "404             250    Fernando.Perez at colorado.edu (Fernando Perez)   \n",
       "52              389                ralf at brainbot.com (Ralf Schmitt)   \n",
       "_ip             192               vivainio at gmail.com (Ville Vainio)   \n",
       "ac              354  prabhu at aero.iitm.ernet.in (Prabhu Ramachand...   \n",
       "acceiv          482            fperez at colorado.edu (Fernando Perez)   \n",
       "admin           222            fperez at colorado.edu (Fernando Perez)   \n",
       "affect          334  pythondev-dang at lazytwinacres.net (Daniel 'D...   \n",
       "andrew          478            fperez at colorado.edu (Fernando Perez)   \n",
       "appropry        451            fperez at colorado.edu (Fernando Perez)   \n",
       "arrow           176            fperez at colorado.edu (Fernando Perez)   \n",
       "artic           177    Fernando.Perez at colorado.edu (Fernando Perez)   \n",
       "asm             219     prabhu_r at users.sf.net (Prabhu Ramachandran)   \n",
       "assocy          277            fperez at colorado.edu (Fernando Perez)   \n",
       "august          286      taylorwilliam at idncafe.net (William taylor)   \n",
       "behav           314            fperez at colorado.edu (Fernando Perez)   \n",
       "beyond          295            fperez at colorado.edu (Fernando Perez)   \n",
       "bsd             240            fperez at colorado.edu (Fernando Perez)   \n",
       "\n",
       "                              Date1 Wordcount2  \\\n",
       "0700      2003-12-03 16:00:47+00:00        446   \n",
       "2005      2005-01-24 00:56:15+00:00        440   \n",
       "2007      2007-01-17 18:19:08+00:00        442   \n",
       "404       2006-01-16 18:29:09+00:00        147   \n",
       "52        2003-09-22 14:30:47+00:00        351   \n",
       "_ip       2006-01-30 21:18:54+00:00        174   \n",
       "ac        2004-09-29 17:16:03+00:00        201   \n",
       "acceiv    2003-05-13 19:13:27+00:00        381   \n",
       "admin     2003-10-07 15:34:22+00:00        261   \n",
       "affect    2004-06-24 19:04:24+00:00        187   \n",
       "andrew    2003-07-31 17:17:19+00:00        184   \n",
       "appropry  2003-09-30 20:52:02+00:00        257   \n",
       "arrow     2003-12-22 18:51:19+00:00        297   \n",
       "artic     2004-06-28 21:49:37+00:00        109   \n",
       "asm       2006-01-23 05:31:56+00:00        190   \n",
       "assocy    2004-06-08 06:42:58+00:00        152   \n",
       "august    2003-08-28 08:58:02+00:00        298   \n",
       "behav     2003-05-24 22:05:43+00:00        254   \n",
       "beyond    2003-12-22 21:38:57+00:00        176   \n",
       "bsd       2004-05-14 06:09:12+00:00        165   \n",
       "\n",
       "                                                      From2  \\\n",
       "0700                   fperez@colorado.edu (Fernando Perez)   \n",
       "2005                          jjl at pobox.com (John J Lee)   \n",
       "2007                     bthom at cs.hmc.edu (belinda thom)   \n",
       "404       mantegazza at ill.fr (=?iso-8859-15?q?Fr=E9d=E...   \n",
       "52                  fperez at colorado.edu (Fernando Perez)   \n",
       "_ip        oliphant.travis at ieee.org (Travis E. Oliphant)   \n",
       "ac                          jhsh@sun.ac.za (Jannie Hofmeyr)   \n",
       "acceiv                          gb@cs.unc.edu (Gary Bishop)   \n",
       "admin                   tony at tcapp.com (Tony Cappellini)   \n",
       "affect      Fernando.Perez at colorado.edu (Fernando Perez)   \n",
       "andrew     devlists at insightscientific.com (Andrew Straw)   \n",
       "appropry               fperez@colorado.edu (Fernando Perez)   \n",
       "arrow                          jack@xiph.org (Jack Moffitt)   \n",
       "artic                vivainio at kolumbus.fi (Ville Vainio)   \n",
       "asm          jdhunter at ace.bsd.uchicago.edu (John Hunter)   \n",
       "assocy       baecker at physik.tu-dresden.de (Arnd Baecker)   \n",
       "august              fperez at colorado.edu (Fernando Perez)   \n",
       "behav     prabhu at aero.iitm.ernet.in (Prabhu Ramachand...   \n",
       "beyond          pobrien at orbtech.com (Patrick K. O'Brien)   \n",
       "bsd                    fperez@colorado.edu (Fernando Perez)   \n",
       "\n",
       "                              Date2  \n",
       "0700      2003-05-30 18:45:15+00:00  \n",
       "2005      2004-12-31 10:49:16+00:00  \n",
       "2007      2007-01-08 05:36:13+00:00  \n",
       "404       2005-04-06 03:12:39+00:00  \n",
       "52        2004-04-10 14:45:23+00:00  \n",
       "_ip       2006-01-24 23:11:40+00:00  \n",
       "ac        2003-08-29 09:34:13+00:00  \n",
       "acceiv    2003-05-13 19:11:30+00:00  \n",
       "admin     2003-04-15 04:56:14+00:00  \n",
       "affect    2004-08-13 11:05:14+00:00  \n",
       "andrew    2003-03-31 22:59:16+00:00  \n",
       "appropry  2003-05-07 15:14:17+00:00  \n",
       "arrow     2003-03-29 05:59:15+00:00  \n",
       "artic     2004-06-28 16:46:56+00:00  \n",
       "asm       2006-02-01 20:40:11+00:00  \n",
       "assocy    2003-04-16 16:06:39+00:00  \n",
       "august    2004-05-14 01:21:13+00:00  \n",
       "behav     2003-05-17 03:17:46+00:00  \n",
       "beyond    2003-04-16 17:14:31+00:00  \n",
       "bsd       2003-07-01 01:03:09+00:00  "
      ]
     },
     "execution_count": 33,
     "metadata": {},
     "output_type": "execute_result"
    }
   ],
   "source": [
    "df2 = pd.DataFrame(influnce_list)\n",
    "influnce_list_dataframe = df2.transpose()\n",
    "influnce_list_dataframe.columns = [\"Wordcount1\", \"From1\", \"Date1\",\"Wordcount2\", \"From2\", \"Date2\"]\n",
    "influnce_list_dataframe[:20]"
   ]
  },
  {
   "cell_type": "code",
   "execution_count": 34,
   "metadata": {},
   "outputs": [],
   "source": [
    "influence_words = influnce_list.keys()"
   ]
  },
  {
   "cell_type": "code",
   "execution_count": 35,
   "metadata": {},
   "outputs": [],
   "source": [
    "#reduce the words that only contain numbers (lack of information)\n",
    "reduced_influence_words = [] \n",
    "for word in influence_words:\n",
    "    if word.isdigit() == False:\n",
    "        reduced_influence_words.append(word)"
   ]
  },
  {
   "cell_type": "code",
   "execution_count": 36,
   "metadata": {},
   "outputs": [
    {
     "data": {
      "text/plain": [
       "146"
      ]
     },
     "execution_count": 36,
     "metadata": {},
     "output_type": "execute_result"
    }
   ],
   "source": [
    "len(reduced_influence_words)"
   ]
  },
  {
   "cell_type": "code",
   "execution_count": 37,
   "metadata": {},
   "outputs": [
    {
     "data": {
      "text/plain": [
       "['decl',\n",
       " 'osx',\n",
       " 'tcp',\n",
       " 'subprocess',\n",
       " 'i386',\n",
       " 'sleep',\n",
       " u'query',\n",
       " 'perfect',\n",
       " 'busy',\n",
       " 'ver',\n",
       " 'fit',\n",
       " u'temp',\n",
       " 'pprint',\n",
       " 'genutil',\n",
       " 'desktop',\n",
       " 'tb',\n",
       " 'capt',\n",
       " 'mpi',\n",
       " 'mous',\n",
       " 'mom']"
      ]
     },
     "execution_count": 37,
     "metadata": {},
     "output_type": "execute_result"
    }
   ],
   "source": [
    "reduced_influence_words[:20]"
   ]
  },
  {
   "cell_type": "code",
   "execution_count": 38,
   "metadata": {},
   "outputs": [],
   "source": [
    "#Store the list\n",
    "import csv\n",
    "with open('test123.csv', 'w') as fp:\n",
    "    a = csv.writer(fp)\n",
    "    data = [reduced_influence_words]\n",
    "    a.writerows(data)\n",
    "\n",
    "#reduced_influence_words.to_csv()"
   ]
  }
 ],
 "metadata": {
  "kernelspec": {
   "display_name": "Python 2",
   "language": "python",
   "name": "python2"
  },
  "language_info": {
   "codemirror_mode": {
    "name": "ipython",
    "version": 2
   },
   "file_extension": ".py",
   "mimetype": "text/x-python",
   "name": "python",
   "nbconvert_exporter": "python",
   "pygments_lexer": "ipython2",
   "version": "2.7.14"
  }
 },
 "nbformat": 4,
 "nbformat_minor": 1
}
