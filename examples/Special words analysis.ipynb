{
 "cells": [
  {
   "cell_type": "code",
   "execution_count": 1,
   "metadata": {},
   "outputs": [],
   "source": [
    "from bigbang.archive import Archive\n",
    "import bigbang.parse as parse\n",
    "import bigbang.graph as graph\n",
    "import bigbang.mailman as mailman\n",
    "import bigbang.process as process\n",
    "import networkx as nx\n",
    "import matplotlib.pyplot as plt\n",
    "import pandas as pd\n",
    "from pprint import pprint as pp\n",
    "import pytz\n",
    "import numpy as np\n",
    "import math\n",
    "import nltk\n",
    "from itertools import repeat\n",
    "from nltk.stem.lancaster import LancasterStemmer\n",
    "st = LancasterStemmer()\n",
    "from nltk.corpus import stopwords\n",
    "import re"
   ]
  },
  {
   "cell_type": "code",
   "execution_count": 2,
   "metadata": {},
   "outputs": [
    {
     "name": "stdout",
     "output_type": "stream",
     "text": [
      "Opening 138 archive files\n",
      "Opening 139 archive files\n"
     ]
    }
   ],
   "source": [
    "urls = [\"http://mail.python.org/pipermail/ipython-dev/\",\n",
    "        \"http://mail.python.org/pipermail/ipython-user/\"]#,\n",
    "        #\"http://mail.python.org/pipermail/scipy-dev/\",\n",
    "        #\"http://mail.python.org/pipermail/scipy-user/\",\n",
    "        #\"http://mail.python.org/pipermail/numpy-discussion/\"]\n",
    "\n",
    "\n",
    "archives= [Archive(url,archive_dir=\"../archives\") for url in urls]"
   ]
  },
  {
   "cell_type": "code",
   "execution_count": 3,
   "metadata": {},
   "outputs": [
    {
     "name": "stderr",
     "output_type": "stream",
     "text": [
      "/Users/jiabinchen/Desktop/Research/asd/bigbang/bigbang/archive.py:124: SettingWithCopyWarning: A value is trying to be set on a copy of a slice from a DataFrame.\n",
      "Try using .loc[row_index,col_indexer] = value instead\n",
      "  mdf2['Date'] = mdf['Date'].apply(lambda x: x.toordinal())\n"
     ]
    }
   ],
   "source": [
    "act = archives[0].get_activity()\n",
    "act1 = archives[1].get_activity()"
   ]
  },
  {
   "cell_type": "code",
   "execution_count": 4,
   "metadata": {},
   "outputs": [],
   "source": [
    "fig = plt.figure(figsize=(12.5, 7.5))\n",
    "\n",
    "#act.idxmax().order().T.plot()\n",
    "(act > 0).idxmax().order().plot()\n",
    "\n",
    "fig.axes[0].yaxis_date()"
   ]
  },
  {
   "cell_type": "code",
   "execution_count": 5,
   "metadata": {},
   "outputs": [],
   "source": [
    "timeorder = (act > 0).idxmax().order()\n",
    "timeorder1 = (act1 > 0).idxmax().order()"
   ]
  },
  {
   "cell_type": "code",
   "execution_count": 6,
   "metadata": {},
   "outputs": [
    {
     "data": {
      "text/html": [
       "<div style=\"max-height:1000px;max-width:1500px;overflow:auto;\">\n",
       "<table border=\"1\" class=\"dataframe\">\n",
       "  <thead>\n",
       "    <tr style=\"text-align: right;\">\n",
       "      <th></th>\n",
       "      <th>From</th>\n",
       "      <th>Subject</th>\n",
       "      <th>Date</th>\n",
       "      <th>In-Reply-To</th>\n",
       "      <th>References</th>\n",
       "      <th>Body</th>\n",
       "    </tr>\n",
       "    <tr>\n",
       "      <th>Message-ID</th>\n",
       "      <th></th>\n",
       "      <th></th>\n",
       "      <th></th>\n",
       "      <th></th>\n",
       "      <th></th>\n",
       "      <th></th>\n",
       "    </tr>\n",
       "  </thead>\n",
       "  <tbody>\n",
       "    <tr>\n",
       "      <th>&lt;3271DBB88437ED41A0AB239E6C2554A401117873@ussunm001.palmsource.com&gt;</th>\n",
       "      <td>    Robin.Siebler@palmsource.com (Robin Siebler)</td>\n",
       "      <td> [IPython-user] Crash</td>\n",
       "      <td> 2003-03-27 12:27:08-08:00</td>\n",
       "      <td> None</td>\n",
       "      <td> None</td>\n",
       "      <td> I installed IPython-0.2.15pre3, played with it...</td>\n",
       "    </tr>\n",
       "    <tr>\n",
       "      <th>&lt;3271DBB88437ED41A0AB239E6C2554A401117873@ussunm001.palmsource.com&gt;</th>\n",
       "      <td> Robin.Siebler at palmsource.com (Robin Siebler)</td>\n",
       "      <td> [IPython-user] Crash</td>\n",
       "      <td> 2003-03-27 12:27:08-08:00</td>\n",
       "      <td> None</td>\n",
       "      <td> None</td>\n",
       "      <td> I installed IPython-0.2.15pre3, played with it...</td>\n",
       "    </tr>\n",
       "  </tbody>\n",
       "</table>\n",
       "<p>2 rows × 6 columns</p>\n",
       "</div>"
      ],
      "text/plain": [
       "                                                                                                                From  \\\n",
       "Message-ID                                                                                                             \n",
       "<3271DBB88437ED41A0AB239E6C2554A401117873@ussunm001.palmsource.com>     Robin.Siebler@palmsource.com (Robin Siebler)   \n",
       "<3271DBB88437ED41A0AB239E6C2554A401117873@ussunm001.palmsource.com>  Robin.Siebler at palmsource.com (Robin Siebler)   \n",
       "\n",
       "                                                                                  Subject  \\\n",
       "Message-ID                                                                                  \n",
       "<3271DBB88437ED41A0AB239E6C2554A401117873@ussunm001.palmsource.com>  [IPython-user] Crash   \n",
       "<3271DBB88437ED41A0AB239E6C2554A401117873@ussunm001.palmsource.com>  [IPython-user] Crash   \n",
       "\n",
       "                                                                                          Date  \\\n",
       "Message-ID                                                                                       \n",
       "<3271DBB88437ED41A0AB239E6C2554A401117873@ussunm001.palmsource.com>  2003-03-27 12:27:08-08:00   \n",
       "<3271DBB88437ED41A0AB239E6C2554A401117873@ussunm001.palmsource.com>  2003-03-27 12:27:08-08:00   \n",
       "\n",
       "                                                                    In-Reply-To  \\\n",
       "Message-ID                                                                        \n",
       "<3271DBB88437ED41A0AB239E6C2554A401117873@ussunm001.palmsource.com>        None   \n",
       "<3271DBB88437ED41A0AB239E6C2554A401117873@ussunm001.palmsource.com>        None   \n",
       "\n",
       "                                                                    References  \\\n",
       "Message-ID                                                                       \n",
       "<3271DBB88437ED41A0AB239E6C2554A401117873@ussunm001.palmsource.com>       None   \n",
       "<3271DBB88437ED41A0AB239E6C2554A401117873@ussunm001.palmsource.com>       None   \n",
       "\n",
       "                                                                                                                  Body  \n",
       "Message-ID                                                                                                              \n",
       "<3271DBB88437ED41A0AB239E6C2554A401117873@ussunm001.palmsource.com>  I installed IPython-0.2.15pre3, played with it...  \n",
       "<3271DBB88437ED41A0AB239E6C2554A401117873@ussunm001.palmsource.com>  I installed IPython-0.2.15pre3, played with it...  \n",
       "\n",
       "[2 rows x 6 columns]"
      ]
     },
     "execution_count": 6,
     "metadata": {},
     "output_type": "execute_result"
    }
   ],
   "source": [
    "archives[1].data[:2]"
   ]
  },
  {
   "cell_type": "code",
   "execution_count": 7,
   "metadata": {},
   "outputs": [
    {
     "name": "stdout",
     "output_type": "stream",
     "text": [
      "Hi all,\n",
      "\n",
      "after a suggestion by Jacek Generowicz, someone (not me) sent in a request for \n",
      "indexing the ipython lists at gmane.  I didn't do it but I'm perfectly happy \n",
      "with it, so thanks to whoever did it.\n",
      "\n",
      "For those not familiar with the service, http://gmane.org provides a mailing \n",
      "list to news bridge, which allows you to follow the ipython lists with a news \n",
      "reader.\n",
      "\n",
      "Cheers,\n",
      "\n",
      "Fernando.\n",
      "\n",
      "\n",
      "Hi all,\n",
      "\n",
      "after a suggestion by Jacek Generowicz, someone (not me) sent in a request for \n",
      "indexing the ipython lists at gmane.  I didn't do it but I'm perfectly happy \n",
      "with it, so thanks to whoever did it.\n",
      "\n",
      "For those not familiar with the service, http://gmane.org provides a mailing \n",
      "list to news bridge, which allows you to follow the ipython lists with a news \n",
      "reader.\n",
      "\n",
      "Cheers,\n",
      "\n",
      "Fernando.\n",
      "\n",
      "\n",
      "\n"
     ]
    }
   ],
   "source": [
    "for row in archives[0].data[:2].iterrows():\n",
    "    print row[1][\"Body\"]"
   ]
  },
  {
   "cell_type": "code",
   "execution_count": 8,
   "metadata": {},
   "outputs": [],
   "source": [
    "arx = archives[0]"
   ]
  },
  {
   "cell_type": "code",
   "execution_count": 9,
   "metadata": {},
   "outputs": [],
   "source": [
    "k = pd.DataFrame"
   ]
  },
  {
   "cell_type": "code",
   "execution_count": 10,
   "metadata": {},
   "outputs": [],
   "source": [
    "first_participation = {}\n",
    "for row in archives[0].data.iterrows():\n",
    "    if row[1][\"From\"] not in first_participation:\n",
    "        first_participation[row[1][\"From\"]] = row[1][\"Date\"]"
   ]
  },
  {
   "cell_type": "code",
   "execution_count": 11,
   "metadata": {},
   "outputs": [],
   "source": [
    "first_participation1 = {}\n",
    "for row in archives[1].data.iterrows():\n",
    "    if row[1][\"From\"] not in first_participation1:\n",
    "        first_participation1[row[1][\"From\"]] = row[1][\"Date\"]"
   ]
  },
  {
   "cell_type": "code",
   "execution_count": 67,
   "metadata": {},
   "outputs": [],
   "source": [
    "#First list\n",
    "wordcount={}\n",
    "for row in archives[0].data.iterrows():\n",
    "    w = row[1][\"Body\"].replace(\"'\", \"\")\n",
    "    k = re.sub(r'[^\\w]', ' ', w)\n",
    "    t = nltk.tokenize.word_tokenize(k)\n",
    "    for g in t:\n",
    "        try:\n",
    "            word = st.stem(g)\n",
    "        except:\n",
    "            print g\n",
    "            pass\n",
    "        if word in stopwords.words('english'):\n",
    "            continue\n",
    "        if word not in wordcount:\n",
    "            wordcount[word] = [1]\n",
    "            wordcount[word].append(row[0])\n",
    "            wordcount[word].append(row[1][\"Date\"])\n",
    "            wordcount[word].append(row[1][\"From\"])\n",
    "            wordcount[word].append(row[1][\"In-Reply-To\"])\n",
    "        else:\n",
    "            wordcount[word][0] += 1\n",
    "wd = wordcount #In case"
   ]
  },
  {
   "cell_type": "code",
   "execution_count": 13,
   "metadata": {},
   "outputs": [],
   "source": [
    "#Second List\n",
    "wordcount1={}\n",
    "for row in archives[1].data.iterrows():\n",
    "    w = row[1][\"Body\"].replace(\"'\", \"\")\n",
    "    k = re.sub(r'[^\\w]', ' ', w)\n",
    "    t = nltk.tokenize.word_tokenize(k)\n",
    "    for g in t:\n",
    "        try:\n",
    "            word = st.stem(g)\n",
    "        except:\n",
    "            print g\n",
    "            pass\n",
    "        if word in stopwords.words('english'):\n",
    "            continue\n",
    "        if word not in wordcount1:\n",
    "            wordcount1[word] = [1]\n",
    "            wordcount1[word].append(row[0])\n",
    "            wordcount1[word].append(row[1][\"Date\"])\n",
    "            wordcount1[word].append(row[1][\"From\"])\n",
    "            wordcount1[word].append(row[1][\"In-Reply-To\"])\n",
    "        else:\n",
    "            wordcount1[word][0] += 1"
   ]
  },
  {
   "cell_type": "code",
   "execution_count": 14,
   "metadata": {},
   "outputs": [],
   "source": [
    "#new_df = pd.DataFrame(wordcount.items(),columns=[\"Word\",\"Others\"])"
   ]
  },
  {
   "cell_type": "code",
   "execution_count": 15,
   "metadata": {},
   "outputs": [],
   "source": [
    "#pd.concat(pd.Series(wordcount.keys()),pd.DataFrame(wordcount.values(),columns=[\"A\",\"B\",\"C\",\"D\",\"E\"]))"
   ]
  },
  {
   "cell_type": "code",
   "execution_count": 16,
   "metadata": {},
   "outputs": [],
   "source": [
    "#Wordcount information dataframe, with rows as words.\n",
    "asd = pd.DataFrame(wordcount)\n",
    "new_dataframe = asd.transpose()\n",
    "new_dataframe.columns = [\"Wordcount\", \"Message-ID\", \"Date\",\"From\",\"In-Reply-To\"]"
   ]
  },
  {
   "cell_type": "code",
   "execution_count": 17,
   "metadata": {},
   "outputs": [],
   "source": [
    "#Wordcount information dataframe, with rows as words.\n",
    "asd1 = pd.DataFrame(wordcount1)\n",
    "new_dataframe1 = asd1.transpose()\n",
    "new_dataframe1.columns = [\"Wordcount\", \"Message-ID\", \"Date\",\"From\",\"In-Reply-To\"]"
   ]
  },
  {
   "cell_type": "code",
   "execution_count": 18,
   "metadata": {},
   "outputs": [
    {
     "data": {
      "text/plain": [
       "37146"
      ]
     },
     "execution_count": 18,
     "metadata": {},
     "output_type": "execute_result"
    }
   ],
   "source": [
    "len(wordcount) #Number of unique words in mailing list1"
   ]
  },
  {
   "cell_type": "code",
   "execution_count": 19,
   "metadata": {},
   "outputs": [
    {
     "data": {
      "text/plain": [
       "45244"
      ]
     },
     "execution_count": 19,
     "metadata": {},
     "output_type": "execute_result"
    }
   ],
   "source": [
    "len(wordcount1) #Number of unique words in mailing list2"
   ]
  },
  {
   "cell_type": "code",
   "execution_count": 20,
   "metadata": {},
   "outputs": [
    {
     "data": {
      "text/plain": [
       "14688"
      ]
     },
     "execution_count": 20,
     "metadata": {},
     "output_type": "execute_result"
    }
   ],
   "source": [
    "#Number of same unique words in two mailing lists\n",
    "samewordcount=0\n",
    "for word in wordcount:\n",
    "    if word in wordcount1:\n",
    "        samewordcount += 1\n",
    "samewordcount"
   ]
  },
  {
   "cell_type": "code",
   "execution_count": 21,
   "metadata": {},
   "outputs": [
    {
     "data": {
      "text/plain": [
       "2984"
      ]
     },
     "execution_count": 21,
     "metadata": {},
     "output_type": "execute_result"
    }
   ],
   "source": [
    "#Total number of same words that are introduced by same people.\n",
    "samecount = 0\n",
    "for word in wordcount:\n",
    "    if word in wordcount1:\n",
    "        if wordcount[word][3] == wordcount1[word][3]:\n",
    "            samecount += 1\n",
    "samecount"
   ]
  },
  {
   "cell_type": "code",
   "execution_count": 22,
   "metadata": {},
   "outputs": [
    {
     "data": {
      "text/plain": [
       "808"
      ]
     },
     "execution_count": 22,
     "metadata": {},
     "output_type": "execute_result"
    }
   ],
   "source": [
    "#Among 100-500 appearance words, the number of common words between two mailing-list.\n",
    "samewordcount = 0\n",
    "for word in wordcount:\n",
    "    if wordcount[word][0] >= 100 and wordcount[word][0] <= 500:\n",
    "        if word in wordcount1:\n",
    "            if wordcount1[word][0] >= 100 and wordcount1[word][0] <= 500:\n",
    "                samewordcount += 1\n",
    "samewordcount"
   ]
  },
  {
   "cell_type": "code",
   "execution_count": 23,
   "metadata": {},
   "outputs": [
    {
     "data": {
      "text/plain": [
       "2984"
      ]
     },
     "execution_count": 23,
     "metadata": {},
     "output_type": "execute_result"
    }
   ],
   "source": [
    "#Among 100-500 appearance words, the number of common words between two mailing-list that are first\n",
    "#introduced by same people\n",
    "same_person_count = 0\n",
    "for word in wordcount:\n",
    "    if wordcount[word][0] >= 100 and wordcount[word][0] <= 500:\n",
    "        if word in wordcount1:\n",
    "            if wordcount1[word][0] >= 100 and wordcount1[word][0] <= 500:\n",
    "                if wordcount[word][3] == wordcount1[word][3]:\n",
    "                    #print word\n",
    "                    same_person_count += 1\n",
    "samecount"
   ]
  },
  {
   "cell_type": "code",
   "execution_count": 24,
   "metadata": {},
   "outputs": [],
   "source": [
    "#common word list(introduced by different people in different lists)\n",
    "commonwords = {}\n",
    "for word in wordcount:\n",
    "    if wordcount[word][0] >= 100 and wordcount[word][0] <= 500:\n",
    "        if word in wordcount1:\n",
    "            if wordcount1[word][0] >= 100 and wordcount1[word][0] <= 500:\n",
    "                if wordcount[word][3] != wordcount1[word][3]:\n",
    "                    commonwords[word] = [wordcount[word][0],wordcount[word][3],wordcount[word][2],\\\n",
    "                                         wordcount1[word][0],wordcount1[word][3],wordcount1[word][2]]\n",
    "        "
   ]
  },
  {
   "cell_type": "code",
   "execution_count": 25,
   "metadata": {},
   "outputs": [
    {
     "data": {
      "text/plain": [
       "669"
      ]
     },
     "execution_count": 25,
     "metadata": {},
     "output_type": "execute_result"
    }
   ],
   "source": [
    "len(commonwords)"
   ]
  },
  {
   "cell_type": "code",
   "execution_count": 27,
   "metadata": {},
   "outputs": [
    {
     "data": {
      "text/html": [
       "<div style=\"max-height:1000px;max-width:1500px;overflow:auto;\">\n",
       "<table border=\"1\" class=\"dataframe\">\n",
       "  <thead>\n",
       "    <tr style=\"text-align: right;\">\n",
       "      <th></th>\n",
       "      <th>Wordcount1</th>\n",
       "      <th>From1</th>\n",
       "      <th>Date1</th>\n",
       "      <th>Wordcount2</th>\n",
       "      <th>From2</th>\n",
       "      <th>Date2</th>\n",
       "    </tr>\n",
       "  </thead>\n",
       "  <tbody>\n",
       "    <tr>\n",
       "      <th>000</th>\n",
       "      <td> 117</td>\n",
       "      <td>             cggame at consultant.com (Van Dyke)</td>\n",
       "      <td> 2003-08-30 13:44:50+02:00</td>\n",
       "      <td> 105</td>\n",
       "      <td>           thomashadim99 at netscape.net (Ciwen)</td>\n",
       "      <td> 2003-10-19 15:00:32+00:00</td>\n",
       "    </tr>\n",
       "    <tr>\n",
       "      <th>0000</th>\n",
       "      <td> 102</td>\n",
       "      <td>                ralf@brainbot.com (Ralf Schmitt)</td>\n",
       "      <td> 2003-09-24 13:05:14+02:00</td>\n",
       "      <td> 185</td>\n",
       "      <td>         fperez at colorado.edu (Fernando Perez)</td>\n",
       "      <td> 2004-04-10 14:45:23+00:00</td>\n",
       "    </tr>\n",
       "    <tr>\n",
       "      <th>0200</th>\n",
       "      <td> 369</td>\n",
       "      <td>        ipython at ml.schieke.net (Jaco Schieke)</td>\n",
       "      <td> 2004-08-02 18:19:31+00:00</td>\n",
       "      <td> 348</td>\n",
       "      <td>                  ero at dkbza.org (Ero Carrera)</td>\n",
       "      <td> 2004-05-09 08:11:36+00:00</td>\n",
       "    </tr>\n",
       "    <tr>\n",
       "      <th>0600</th>\n",
       "      <td> 140</td>\n",
       "      <td>            fperez@colorado.edu (Fernando Perez)</td>\n",
       "      <td> 2003-04-17 12:43:47-06:00</td>\n",
       "      <td> 108</td>\n",
       "      <td>       gareth at wiked.org (Gareth J. Greenaway)</td>\n",
       "      <td> 2003-04-15 17:03:05-07:00</td>\n",
       "    </tr>\n",
       "    <tr>\n",
       "      <th>0700</th>\n",
       "      <td> 454</td>\n",
       "      <td>                  gb at cs.unc.edu (Gary Bishop)</td>\n",
       "      <td> 2003-12-03 10:00:56+00:00</td>\n",
       "      <td> 452</td>\n",
       "      <td>            fperez@colorado.edu (Fernando Perez)</td>\n",
       "      <td> 2003-05-30 12:45:15-06:00</td>\n",
       "    </tr>\n",
       "    <tr>\n",
       "      <th>1000</th>\n",
       "      <td> 116</td>\n",
       "      <td>             cmoad at indiana.edu (Charles Moad)</td>\n",
       "      <td> 2005-02-21 08:47:43+00:00</td>\n",
       "      <td> 178</td>\n",
       "      <td>           gillet@scripps.edu (Alexandre Gillet)</td>\n",
       "      <td> 2003-08-19 17:34:07-07:00</td>\n",
       "    </tr>\n",
       "    <tr>\n",
       "      <th>2003</th>\n",
       "      <td> 184</td>\n",
       "      <td>                cdodt@fcoe.k12.ca.us (Cory Dodt)</td>\n",
       "      <td> 2003-04-17 07:32:56-07:00</td>\n",
       "      <td> 168</td>\n",
       "      <td> Robin.Siebler at palmsource.com (Robin Siebler)</td>\n",
       "      <td> 2003-03-27 13:13:13-08:00</td>\n",
       "    </tr>\n",
       "    <tr>\n",
       "      <th>2004</th>\n",
       "      <td> 149</td>\n",
       "      <td>                  gb at cs.unc.edu (Gary Bishop)</td>\n",
       "      <td> 2004-02-03 08:50:22+00:00</td>\n",
       "      <td> 353</td>\n",
       "      <td>                   twl at sauria.com (Ted Leung)</td>\n",
       "      <td> 2004-01-09 13:14:37+00:00</td>\n",
       "    </tr>\n",
       "    <tr>\n",
       "      <th>2005</th>\n",
       "      <td> 386</td>\n",
       "      <td> Fernando.Perez at colorado.edu (Fernando Perez)</td>\n",
       "      <td> 2005-01-23 18:56:58+00:00</td>\n",
       "      <td> 489</td>\n",
       "      <td>                   jjl at pobox.com (John J Lee)</td>\n",
       "      <td> 2004-12-31 10:49:16+00:00</td>\n",
       "    </tr>\n",
       "    <tr>\n",
       "      <th>2007</th>\n",
       "      <td> 419</td>\n",
       "      <td>         vivainio at gmail.com (Ville M. Vainio)</td>\n",
       "      <td> 2007-01-17 19:19:08+01:00</td>\n",
       "      <td> 442</td>\n",
       "      <td>              bthom at cs.hmc.edu (belinda thom)</td>\n",
       "      <td> 2007-01-07 21:36:13-08:00</td>\n",
       "    </tr>\n",
       "  </tbody>\n",
       "</table>\n",
       "<p>10 rows × 6 columns</p>\n",
       "</div>"
      ],
      "text/plain": [
       "     Wordcount1                                            From1  \\\n",
       "000         117              cggame at consultant.com (Van Dyke)   \n",
       "0000        102                 ralf@brainbot.com (Ralf Schmitt)   \n",
       "0200        369         ipython at ml.schieke.net (Jaco Schieke)   \n",
       "0600        140             fperez@colorado.edu (Fernando Perez)   \n",
       "0700        454                   gb at cs.unc.edu (Gary Bishop)   \n",
       "1000        116              cmoad at indiana.edu (Charles Moad)   \n",
       "2003        184                 cdodt@fcoe.k12.ca.us (Cory Dodt)   \n",
       "2004        149                   gb at cs.unc.edu (Gary Bishop)   \n",
       "2005        386  Fernando.Perez at colorado.edu (Fernando Perez)   \n",
       "2007        419          vivainio at gmail.com (Ville M. Vainio)   \n",
       "\n",
       "                          Date1 Wordcount2  \\\n",
       "000   2003-08-30 13:44:50+02:00        105   \n",
       "0000  2003-09-24 13:05:14+02:00        185   \n",
       "0200  2004-08-02 18:19:31+00:00        348   \n",
       "0600  2003-04-17 12:43:47-06:00        108   \n",
       "0700  2003-12-03 10:00:56+00:00        452   \n",
       "1000  2005-02-21 08:47:43+00:00        178   \n",
       "2003  2003-04-17 07:32:56-07:00        168   \n",
       "2004  2004-02-03 08:50:22+00:00        353   \n",
       "2005  2005-01-23 18:56:58+00:00        489   \n",
       "2007  2007-01-17 19:19:08+01:00        442   \n",
       "\n",
       "                                                From2  \\\n",
       "000             thomashadim99 at netscape.net (Ciwen)   \n",
       "0000          fperez at colorado.edu (Fernando Perez)   \n",
       "0200                   ero at dkbza.org (Ero Carrera)   \n",
       "0600        gareth at wiked.org (Gareth J. Greenaway)   \n",
       "0700             fperez@colorado.edu (Fernando Perez)   \n",
       "1000            gillet@scripps.edu (Alexandre Gillet)   \n",
       "2003  Robin.Siebler at palmsource.com (Robin Siebler)   \n",
       "2004                    twl at sauria.com (Ted Leung)   \n",
       "2005                    jjl at pobox.com (John J Lee)   \n",
       "2007               bthom at cs.hmc.edu (belinda thom)   \n",
       "\n",
       "                          Date2  \n",
       "000   2003-10-19 15:00:32+00:00  \n",
       "0000  2004-04-10 14:45:23+00:00  \n",
       "0200  2004-05-09 08:11:36+00:00  \n",
       "0600  2003-04-15 17:03:05-07:00  \n",
       "0700  2003-05-30 12:45:15-06:00  \n",
       "1000  2003-08-19 17:34:07-07:00  \n",
       "2003  2003-03-27 13:13:13-08:00  \n",
       "2004  2004-01-09 13:14:37+00:00  \n",
       "2005  2004-12-31 10:49:16+00:00  \n",
       "2007  2007-01-07 21:36:13-08:00  \n",
       "\n",
       "[10 rows x 6 columns]"
      ]
     },
     "execution_count": 27,
     "metadata": {},
     "output_type": "execute_result"
    }
   ],
   "source": [
    "#Dataframe of information of those words introduced by different people\n",
    "df1 = pd.DataFrame(commonwords)\n",
    "commonword_differentauthor_dataframe = df1.transpose()\n",
    "commonword_differentauthor_dataframe.columns = [\"Wordcount1\", \"From1\", \"Date1\",\"Wordcount2\", \"From2\", \"Date2\"]\n",
    "commonword_differentauthor_dataframe[:10]"
   ]
  },
  {
   "cell_type": "code",
   "execution_count": 28,
   "metadata": {},
   "outputs": [
    {
     "data": {
      "text/plain": [
       "True"
      ]
     },
     "execution_count": 28,
     "metadata": {},
     "output_type": "execute_result"
    }
   ],
   "source": [
    "commonword_differentauthor_dataframe['Date1'][0] < commonword_differentauthor_dataframe['Date1'][1]"
   ]
  },
  {
   "cell_type": "code",
   "execution_count": 29,
   "metadata": {},
   "outputs": [
    {
     "data": {
      "text/plain": [
       "669"
      ]
     },
     "execution_count": 29,
     "metadata": {},
     "output_type": "execute_result"
    }
   ],
   "source": [
    "len(commonwords)"
   ]
  },
  {
   "cell_type": "code",
   "execution_count": 30,
   "metadata": {},
   "outputs": [],
   "source": [
    "# The list of words that have potential of idea flows. Definition: A is introduced by p in list1 first, then q saw it and then \n",
    "# introduced the word A to list 2, vice versa. We defined q saw as q said sth in list1 before p poped out the word. \n",
    "# Total list of such word A. \n",
    "time_influence = 0\n",
    "influnce_list = {}\n",
    "for word in commonwords:\n",
    "    if commonwords[word][2] > commonwords[word][5]: #Author2 comes first\n",
    "        if commonwords[word][1] in first_participation1: #Check if author1 in list2\n",
    "            if first_participation1[commonwords[word][1]] < commonwords[word][5]: #Check if author1\\\n",
    "                #in list2 and exists before the word first introduced in list2\n",
    "                influnce_list[word] = commonwords[word]\n",
    "                time_influence += 1\n",
    "    else: #Author1 comes first\n",
    "        if commonwords[word][4] in first_participation:\n",
    "            if first_participation[commonwords[word][4]] < commonwords[word][2]:\n",
    "                influnce_list[word] = commonwords[word]\n",
    "                time_influence += 1\n",
    "            "
   ]
  },
  {
   "cell_type": "code",
   "execution_count": 31,
   "metadata": {},
   "outputs": [
    {
     "data": {
      "text/plain": [
       "235"
      ]
     },
     "execution_count": 31,
     "metadata": {},
     "output_type": "execute_result"
    }
   ],
   "source": [
    "time_influence"
   ]
  },
  {
   "cell_type": "code",
   "execution_count": 32,
   "metadata": {},
   "outputs": [
    {
     "data": {
      "text/plain": [
       "235"
      ]
     },
     "execution_count": 32,
     "metadata": {},
     "output_type": "execute_result"
    }
   ],
   "source": [
    "len(influnce_list.keys())"
   ]
  },
  {
   "cell_type": "code",
   "execution_count": 34,
   "metadata": {},
   "outputs": [
    {
     "data": {
      "text/html": [
       "<div style=\"max-height:1000px;max-width:1500px;overflow:auto;\">\n",
       "<table border=\"1\" class=\"dataframe\">\n",
       "  <thead>\n",
       "    <tr style=\"text-align: right;\">\n",
       "      <th></th>\n",
       "      <th>Wordcount1</th>\n",
       "      <th>From1</th>\n",
       "      <th>Date1</th>\n",
       "      <th>Wordcount2</th>\n",
       "      <th>From2</th>\n",
       "      <th>Date2</th>\n",
       "    </tr>\n",
       "  </thead>\n",
       "  <tbody>\n",
       "    <tr>\n",
       "      <th>0000</th>\n",
       "      <td> 102</td>\n",
       "      <td>                  ralf@brainbot.com (Ralf Schmitt)</td>\n",
       "      <td> 2003-09-24 13:05:14+02:00</td>\n",
       "      <td> 185</td>\n",
       "      <td>           fperez at colorado.edu (Fernando Perez)</td>\n",
       "      <td> 2004-04-10 14:45:23+00:00</td>\n",
       "    </tr>\n",
       "    <tr>\n",
       "      <th>0600</th>\n",
       "      <td> 140</td>\n",
       "      <td>              fperez@colorado.edu (Fernando Perez)</td>\n",
       "      <td> 2003-04-17 12:43:47-06:00</td>\n",
       "      <td> 108</td>\n",
       "      <td>         gareth at wiked.org (Gareth J. Greenaway)</td>\n",
       "      <td> 2003-04-15 17:03:05-07:00</td>\n",
       "    </tr>\n",
       "    <tr>\n",
       "      <th>0700</th>\n",
       "      <td> 454</td>\n",
       "      <td>                    gb at cs.unc.edu (Gary Bishop)</td>\n",
       "      <td> 2003-12-03 10:00:56+00:00</td>\n",
       "      <td> 452</td>\n",
       "      <td>              fperez@colorado.edu (Fernando Perez)</td>\n",
       "      <td> 2003-05-30 12:45:15-06:00</td>\n",
       "    </tr>\n",
       "    <tr>\n",
       "      <th>2004</th>\n",
       "      <td> 149</td>\n",
       "      <td>                    gb at cs.unc.edu (Gary Bishop)</td>\n",
       "      <td> 2004-02-03 08:50:22+00:00</td>\n",
       "      <td> 353</td>\n",
       "      <td>                     twl at sauria.com (Ted Leung)</td>\n",
       "      <td> 2004-01-09 13:14:37+00:00</td>\n",
       "    </tr>\n",
       "    <tr>\n",
       "      <th>2005</th>\n",
       "      <td> 386</td>\n",
       "      <td>   Fernando.Perez at colorado.edu (Fernando Perez)</td>\n",
       "      <td> 2005-01-23 18:56:58+00:00</td>\n",
       "      <td> 489</td>\n",
       "      <td>                     jjl at pobox.com (John J Lee)</td>\n",
       "      <td> 2004-12-31 10:49:16+00:00</td>\n",
       "    </tr>\n",
       "    <tr>\n",
       "      <th>2007</th>\n",
       "      <td> 419</td>\n",
       "      <td>           vivainio at gmail.com (Ville M. Vainio)</td>\n",
       "      <td> 2007-01-17 19:19:08+01:00</td>\n",
       "      <td> 442</td>\n",
       "      <td>                bthom at cs.hmc.edu (belinda thom)</td>\n",
       "      <td> 2007-01-07 21:36:13-08:00</td>\n",
       "    </tr>\n",
       "    <tr>\n",
       "      <th>404</th>\n",
       "      <td> 210</td>\n",
       "      <td>   Fernando.Perez at colorado.edu (Fernando Perez)</td>\n",
       "      <td> 2006-01-16 11:29:09-07:00</td>\n",
       "      <td> 147</td>\n",
       "      <td> mantegazza at ill.fr (=?iso-8859-15?q?Fr=E9d=E...</td>\n",
       "      <td> 2005-04-06 03:12:39+00:00</td>\n",
       "    </tr>\n",
       "    <tr>\n",
       "      <th>43</th>\n",
       "      <td> 402</td>\n",
       "      <td>                       gb@cs.unc.edu (Gary Bishop)</td>\n",
       "      <td> 2003-05-24 08:46:18+00:00</td>\n",
       "      <td> 318</td>\n",
       "      <td>              fperez@colorado.edu (Fernando Perez)</td>\n",
       "      <td> 2003-05-30 12:45:15-06:00</td>\n",
       "    </tr>\n",
       "    <tr>\n",
       "      <th>47</th>\n",
       "      <td> 297</td>\n",
       "      <td>              fperez@colorado.edu (Fernando Perez)</td>\n",
       "      <td> 2003-04-17 12:43:47-06:00</td>\n",
       "      <td> 297</td>\n",
       "      <td>           fperez at colorado.edu (Fernando Perez)</td>\n",
       "      <td> 2003-04-17 12:43:47-06:00</td>\n",
       "    </tr>\n",
       "    <tr>\n",
       "      <th>52</th>\n",
       "      <td> 351</td>\n",
       "      <td>               ralf at brainbot.com (Ralf Schmitt)</td>\n",
       "      <td> 2003-09-22 16:30:47+02:00</td>\n",
       "      <td> 305</td>\n",
       "      <td>           fperez at colorado.edu (Fernando Perez)</td>\n",
       "      <td> 2004-04-10 14:45:23+00:00</td>\n",
       "    </tr>\n",
       "    <tr>\n",
       "      <th>58</th>\n",
       "      <td> 357</td>\n",
       "      <td>                    gb at cs.unc.edu (Gary Bishop)</td>\n",
       "      <td> 2003-05-24 16:33:59+00:00</td>\n",
       "      <td> 363</td>\n",
       "      <td>              fperez@colorado.edu (Fernando Perez)</td>\n",
       "      <td> 2003-05-30 12:45:15-06:00</td>\n",
       "    </tr>\n",
       "    <tr>\n",
       "      <th>_ip</th>\n",
       "      <td> 193</td>\n",
       "      <td>              vivainio at gmail.com (Ville Vainio)</td>\n",
       "      <td> 2006-01-30 23:18:54+02:00</td>\n",
       "      <td> 220</td>\n",
       "      <td>  oliphant.travis at ieee.org (Travis E. Oliphant)</td>\n",
       "      <td> 2006-01-24 16:11:40-07:00</td>\n",
       "    </tr>\n",
       "    <tr>\n",
       "      <th>ac</th>\n",
       "      <td> 264</td>\n",
       "      <td> prabhu at aero.iitm.ernet.in (Prabhu Ramachand...</td>\n",
       "      <td> 2004-09-29 12:37:41+00:00</td>\n",
       "      <td> 218</td>\n",
       "      <td>                   jhsh@sun.ac.za (Jannie Hofmeyr)</td>\n",
       "      <td> 2003-08-29 11:34:13+02:00</td>\n",
       "    </tr>\n",
       "    <tr>\n",
       "      <th>acceiv</th>\n",
       "      <td> 439</td>\n",
       "      <td>           fperez at colorado.edu (Fernando Perez)</td>\n",
       "      <td> 2003-05-13 13:13:27-06:00</td>\n",
       "      <td> 373</td>\n",
       "      <td>                       gb@cs.unc.edu (Gary Bishop)</td>\n",
       "      <td> 2003-05-13 15:11:30+00:00</td>\n",
       "    </tr>\n",
       "    <tr>\n",
       "      <th>across</th>\n",
       "      <td> 409</td>\n",
       "      <td>              fperez@colorado.edu (Fernando Perez)</td>\n",
       "      <td> 2003-05-20 16:12:53-06:00</td>\n",
       "      <td> 343</td>\n",
       "      <td>           fperez at colorado.edu (Fernando Perez)</td>\n",
       "      <td> 2003-05-20 16:12:53-06:00</td>\n",
       "    </tr>\n",
       "    <tr>\n",
       "      <th>admin</th>\n",
       "      <td> 177</td>\n",
       "      <td>           fperez at colorado.edu (Fernando Perez)</td>\n",
       "      <td> 2003-10-07 10:35:56+00:00</td>\n",
       "      <td> 262</td>\n",
       "      <td>               tony at tcapp.com (Tony Cappellini)</td>\n",
       "      <td> 2003-04-14 21:56:14-07:00</td>\n",
       "    </tr>\n",
       "    <tr>\n",
       "      <th>affect</th>\n",
       "      <td> 296</td>\n",
       "      <td> pythondev-dang at lazytwinacres.net (Daniel 'D...</td>\n",
       "      <td> 2004-06-24 14:18:14+00:00</td>\n",
       "      <td> 185</td>\n",
       "      <td>   Fernando.Perez at colorado.edu (Fernando Perez)</td>\n",
       "      <td> 2004-08-13 11:05:14+00:00</td>\n",
       "    </tr>\n",
       "    <tr>\n",
       "      <th>afraid</th>\n",
       "      <td> 227</td>\n",
       "      <td>           fperez at colorado.edu (Fernando Perez)</td>\n",
       "      <td> 2003-09-30 15:53:03+00:00</td>\n",
       "      <td> 289</td>\n",
       "      <td>              fperez@colorado.edu (Fernando Perez)</td>\n",
       "      <td> 2003-06-30 17:57:40-06:00</td>\n",
       "    </tr>\n",
       "    <tr>\n",
       "      <th>alex</th>\n",
       "      <td> 103</td>\n",
       "      <td>           fperez at colorado.edu (Fernando Perez)</td>\n",
       "      <td> 2003-04-17 13:12:21-06:00</td>\n",
       "      <td> 418</td>\n",
       "      <td>              fperez@colorado.edu (Fernando Perez)</td>\n",
       "      <td> 2003-04-23 10:42:42-06:00</td>\n",
       "    </tr>\n",
       "    <tr>\n",
       "      <th>alph</th>\n",
       "      <td> 114</td>\n",
       "      <td>              fperez@colorado.edu (Fernando Perez)</td>\n",
       "      <td> 2003-05-20 16:12:53-06:00</td>\n",
       "      <td> 103</td>\n",
       "      <td>           fperez at colorado.edu (Fernando Perez)</td>\n",
       "      <td> 2003-05-20 16:12:53-06:00</td>\n",
       "    </tr>\n",
       "  </tbody>\n",
       "</table>\n",
       "<p>20 rows × 6 columns</p>\n",
       "</div>"
      ],
      "text/plain": [
       "       Wordcount1                                              From1  \\\n",
       "0000          102                   ralf@brainbot.com (Ralf Schmitt)   \n",
       "0600          140               fperez@colorado.edu (Fernando Perez)   \n",
       "0700          454                     gb at cs.unc.edu (Gary Bishop)   \n",
       "2004          149                     gb at cs.unc.edu (Gary Bishop)   \n",
       "2005          386    Fernando.Perez at colorado.edu (Fernando Perez)   \n",
       "2007          419            vivainio at gmail.com (Ville M. Vainio)   \n",
       "404           210    Fernando.Perez at colorado.edu (Fernando Perez)   \n",
       "43            402                        gb@cs.unc.edu (Gary Bishop)   \n",
       "47            297               fperez@colorado.edu (Fernando Perez)   \n",
       "52            351                ralf at brainbot.com (Ralf Schmitt)   \n",
       "58            357                     gb at cs.unc.edu (Gary Bishop)   \n",
       "_ip           193               vivainio at gmail.com (Ville Vainio)   \n",
       "ac            264  prabhu at aero.iitm.ernet.in (Prabhu Ramachand...   \n",
       "acceiv        439            fperez at colorado.edu (Fernando Perez)   \n",
       "across        409               fperez@colorado.edu (Fernando Perez)   \n",
       "admin         177            fperez at colorado.edu (Fernando Perez)   \n",
       "affect        296  pythondev-dang at lazytwinacres.net (Daniel 'D...   \n",
       "afraid        227            fperez at colorado.edu (Fernando Perez)   \n",
       "alex          103            fperez at colorado.edu (Fernando Perez)   \n",
       "alph          114               fperez@colorado.edu (Fernando Perez)   \n",
       "\n",
       "                            Date1 Wordcount2  \\\n",
       "0000    2003-09-24 13:05:14+02:00        185   \n",
       "0600    2003-04-17 12:43:47-06:00        108   \n",
       "0700    2003-12-03 10:00:56+00:00        452   \n",
       "2004    2004-02-03 08:50:22+00:00        353   \n",
       "2005    2005-01-23 18:56:58+00:00        489   \n",
       "2007    2007-01-17 19:19:08+01:00        442   \n",
       "404     2006-01-16 11:29:09-07:00        147   \n",
       "43      2003-05-24 08:46:18+00:00        318   \n",
       "47      2003-04-17 12:43:47-06:00        297   \n",
       "52      2003-09-22 16:30:47+02:00        305   \n",
       "58      2003-05-24 16:33:59+00:00        363   \n",
       "_ip     2006-01-30 23:18:54+02:00        220   \n",
       "ac      2004-09-29 12:37:41+00:00        218   \n",
       "acceiv  2003-05-13 13:13:27-06:00        373   \n",
       "across  2003-05-20 16:12:53-06:00        343   \n",
       "admin   2003-10-07 10:35:56+00:00        262   \n",
       "affect  2004-06-24 14:18:14+00:00        185   \n",
       "afraid  2003-09-30 15:53:03+00:00        289   \n",
       "alex    2003-04-17 13:12:21-06:00        418   \n",
       "alph    2003-05-20 16:12:53-06:00        103   \n",
       "\n",
       "                                                    From2  \\\n",
       "0000              fperez at colorado.edu (Fernando Perez)   \n",
       "0600            gareth at wiked.org (Gareth J. Greenaway)   \n",
       "0700                 fperez@colorado.edu (Fernando Perez)   \n",
       "2004                        twl at sauria.com (Ted Leung)   \n",
       "2005                        jjl at pobox.com (John J Lee)   \n",
       "2007                   bthom at cs.hmc.edu (belinda thom)   \n",
       "404     mantegazza at ill.fr (=?iso-8859-15?q?Fr=E9d=E...   \n",
       "43                   fperez@colorado.edu (Fernando Perez)   \n",
       "47                fperez at colorado.edu (Fernando Perez)   \n",
       "52                fperez at colorado.edu (Fernando Perez)   \n",
       "58                   fperez@colorado.edu (Fernando Perez)   \n",
       "_ip      oliphant.travis at ieee.org (Travis E. Oliphant)   \n",
       "ac                        jhsh@sun.ac.za (Jannie Hofmeyr)   \n",
       "acceiv                        gb@cs.unc.edu (Gary Bishop)   \n",
       "across            fperez at colorado.edu (Fernando Perez)   \n",
       "admin                 tony at tcapp.com (Tony Cappellini)   \n",
       "affect    Fernando.Perez at colorado.edu (Fernando Perez)   \n",
       "afraid               fperez@colorado.edu (Fernando Perez)   \n",
       "alex                 fperez@colorado.edu (Fernando Perez)   \n",
       "alph              fperez at colorado.edu (Fernando Perez)   \n",
       "\n",
       "                            Date2  \n",
       "0000    2004-04-10 14:45:23+00:00  \n",
       "0600    2003-04-15 17:03:05-07:00  \n",
       "0700    2003-05-30 12:45:15-06:00  \n",
       "2004    2004-01-09 13:14:37+00:00  \n",
       "2005    2004-12-31 10:49:16+00:00  \n",
       "2007    2007-01-07 21:36:13-08:00  \n",
       "404     2005-04-06 03:12:39+00:00  \n",
       "43      2003-05-30 12:45:15-06:00  \n",
       "47      2003-04-17 12:43:47-06:00  \n",
       "52      2004-04-10 14:45:23+00:00  \n",
       "58      2003-05-30 12:45:15-06:00  \n",
       "_ip     2006-01-24 16:11:40-07:00  \n",
       "ac      2003-08-29 11:34:13+02:00  \n",
       "acceiv  2003-05-13 15:11:30+00:00  \n",
       "across  2003-05-20 16:12:53-06:00  \n",
       "admin   2003-04-14 21:56:14-07:00  \n",
       "affect  2004-08-13 11:05:14+00:00  \n",
       "afraid  2003-06-30 17:57:40-06:00  \n",
       "alex    2003-04-23 10:42:42-06:00  \n",
       "alph    2003-05-20 16:12:53-06:00  \n",
       "\n",
       "[20 rows x 6 columns]"
      ]
     },
     "execution_count": 34,
     "metadata": {},
     "output_type": "execute_result"
    }
   ],
   "source": [
    "df2 = pd.DataFrame(influnce_list)\n",
    "influnce_list_dataframe = df2.transpose()\n",
    "influnce_list_dataframe.columns = [\"Wordcount1\", \"From1\", \"Date1\",\"Wordcount2\", \"From2\", \"Date2\"]\n",
    "influnce_list_dataframe[:20]"
   ]
  },
  {
   "cell_type": "code",
   "execution_count": 35,
   "metadata": {},
   "outputs": [],
   "source": [
    "influence_words = influnce_list.keys()"
   ]
  },
  {
   "cell_type": "code",
   "execution_count": 36,
   "metadata": {},
   "outputs": [],
   "source": [
    "#reduce the words that only contain numbers (lack of information)\n",
    "reduced_influence_words = [] \n",
    "for word in influence_words:\n",
    "    if word.isdigit() == False:\n",
    "        reduced_influence_words.append(word)"
   ]
  },
  {
   "cell_type": "code",
   "execution_count": 37,
   "metadata": {},
   "outputs": [
    {
     "data": {
      "text/plain": [
       "224"
      ]
     },
     "execution_count": 37,
     "metadata": {},
     "output_type": "execute_result"
    }
   ],
   "source": [
    "len(reduced_influence_words)"
   ]
  },
  {
   "cell_type": "code",
   "execution_count": 38,
   "metadata": {},
   "outputs": [
    {
     "data": {
      "text/plain": [
       "['lsf',\n",
       " 'osx',\n",
       " 'construct',\n",
       " 'mom',\n",
       " 'foolscap',\n",
       " 'lack',\n",
       " 'gz',\n",
       " 'tcp',\n",
       " 'subprocess',\n",
       " 'catch',\n",
       " 'prefix',\n",
       " 'sleep',\n",
       " 'decl',\n",
       " u'query',\n",
       " 'perfect',\n",
       " 'cython',\n",
       " 'busy',\n",
       " 'ver',\n",
       " u'temp',\n",
       " 'autocal']"
      ]
     },
     "execution_count": 38,
     "metadata": {},
     "output_type": "execute_result"
    }
   ],
   "source": [
    "reduced_influence_words[:20]"
   ]
  },
  {
   "cell_type": "code",
   "execution_count": 39,
   "metadata": {},
   "outputs": [],
   "source": [
    "#Store the list\n",
    "import csv\n",
    "with open('test123.csv', 'w') as fp:\n",
    "    a = csv.writer(fp)\n",
    "    data = [reduced_influence_words]\n",
    "    a.writerows(data)\n",
    "\n",
    "#reduced_influence_words.to_csv()"
   ]
  },
  {
   "cell_type": "markdown",
   "metadata": {},
   "source": [
    "#### End of main contents of this notebook, below are some analysis of unique word lists"
   ]
  },
  {
   "cell_type": "code",
   "execution_count": 40,
   "metadata": {},
   "outputs": [
    {
     "data": {
      "text/plain": [
       "Index([u'Wordcount1', u'From1', u'Date1', u'Wordcount2', u'From2', u'Date2'], dtype='object')"
      ]
     },
     "execution_count": 40,
     "metadata": {},
     "output_type": "execute_result"
    }
   ],
   "source": [
    "influnce_list_dataframe.keys()"
   ]
  },
  {
   "cell_type": "code",
   "execution_count": 68,
   "metadata": {},
   "outputs": [],
   "source": [
    "for key,value in wd.items():\n",
    "    if value <= 100 or value >= 500:\n",
    "        del wd[key]"
   ]
  },
  {
   "cell_type": "code",
   "execution_count": 69,
   "metadata": {},
   "outputs": [],
   "source": [
    "wc_array = np.array(wd.values())"
   ]
  },
  {
   "cell_type": "code",
   "execution_count": 70,
   "metadata": {},
   "outputs": [],
   "source": [
    "wc_array.sort()"
   ]
  },
  {
   "cell_type": "code",
   "execution_count": 72,
   "metadata": {},
   "outputs": [
    {
     "data": {
      "text/plain": [
       "0"
      ]
     },
     "execution_count": 72,
     "metadata": {},
     "output_type": "execute_result"
    }
   ],
   "source": [
    "len(wordcount)"
   ]
  },
  {
   "cell_type": "code",
   "execution_count": 66,
   "metadata": {},
   "outputs": [
    {
     "ename": "NameError",
     "evalue": "name 'wcsort_array' is not defined",
     "output_type": "error",
     "traceback": [
      "\u001b[0;31m---------------------------------------------------------------------------\u001b[0m\n\u001b[0;31mNameError\u001b[0m                                 Traceback (most recent call last)",
      "\u001b[0;32m<ipython-input-66-518ff4ca5f3c>\u001b[0m in \u001b[0;36m<module>\u001b[0;34m()\u001b[0m\n\u001b[1;32m      1\u001b[0m \u001b[0;31m#List1's unique words and their count, power law distribution\u001b[0m\u001b[0;34m\u001b[0m\u001b[0;34m\u001b[0m\u001b[0m\n\u001b[1;32m      2\u001b[0m \u001b[0mget_ipython\u001b[0m\u001b[0;34m(\u001b[0m\u001b[0;34m)\u001b[0m\u001b[0;34m.\u001b[0m\u001b[0mmagic\u001b[0m\u001b[0;34m(\u001b[0m\u001b[0;34mu'matplotlib inline'\u001b[0m\u001b[0;34m)\u001b[0m\u001b[0;34m\u001b[0m\u001b[0m\n\u001b[0;32m----> 3\u001b[0;31m \u001b[0mplt\u001b[0m\u001b[0;34m.\u001b[0m\u001b[0mplot\u001b[0m\u001b[0;34m(\u001b[0m\u001b[0mwcsort_array\u001b[0m\u001b[0;34m[\u001b[0m\u001b[0;34m:\u001b[0m\u001b[0;34m,\u001b[0m\u001b[0;36m0\u001b[0m\u001b[0;34m]\u001b[0m\u001b[0;34m)\u001b[0m\u001b[0;34m\u001b[0m\u001b[0m\n\u001b[0m",
      "\u001b[0;31mNameError\u001b[0m: name 'wcsort_array' is not defined"
     ]
    }
   ],
   "source": [
    "#List1's unique words and their count, power law distribution\n",
    "%matplotlib inline\n",
    "plt.plot(wcsort_array[:,0])"
   ]
  },
  {
   "cell_type": "code",
   "execution_count": 12,
   "metadata": {},
   "outputs": [],
   "source": [
    "t = nltk.tokenize.word_tokenize(p)"
   ]
  },
  {
   "cell_type": "code",
   "execution_count": 11,
   "metadata": {},
   "outputs": [
    {
     "data": {
      "text/plain": [
       "127"
      ]
     },
     "execution_count": 11,
     "metadata": {},
     "output_type": "execute_result"
    }
   ],
   "source": [
    "len(nltk.corpus.stopwords.words('english'))"
   ]
  },
  {
   "cell_type": "code",
   "execution_count": 20,
   "metadata": {},
   "outputs": [],
   "source": [
    "a = []\n",
    "for i in t:\n",
    "    a.append(st.stem(i))"
   ]
  },
  {
   "cell_type": "code",
   "execution_count": null,
   "metadata": {},
   "outputs": [],
   "source": []
  }
 ],
 "metadata": {
  "kernelspec": {
   "display_name": "Python 2",
   "language": "python",
   "name": "python2"
  },
  "language_info": {
   "codemirror_mode": {
    "name": "ipython",
    "version": 2
   },
   "file_extension": ".py",
   "mimetype": "text/x-python",
   "name": "python",
   "nbconvert_exporter": "python",
   "pygments_lexer": "ipython2",
   "version": "2.7.14"
  }
 },
 "nbformat": 4,
 "nbformat_minor": 1
}
