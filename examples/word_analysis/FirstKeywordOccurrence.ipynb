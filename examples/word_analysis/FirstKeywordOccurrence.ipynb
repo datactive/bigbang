{
 "cells": [
  {
   "cell_type": "markdown",
   "metadata": {},
   "source": [
    "find first occurrence of ONE string in ONE or MORE mailing lists....PAM!"
   ]
  },
  {
   "cell_type": "code",
   "execution_count": 5,
   "metadata": {
    "collapsed": true
   },
   "outputs": [],
   "source": [
    "from bigbang.archive import load as load_archive\n",
    "from bigbang.archive import Archive\n",
    "import pandas as pd"
   ]
  },
  {
   "cell_type": "code",
   "execution_count": 6,
   "metadata": {},
   "outputs": [],
   "source": [
    "# specify if you want to have words stemmed (no prefixes, plurals, etc.) or literal\n",
    "stem = False\n",
    "\n",
    "\n",
    "import os\n",
    "\n",
    "cwd = os.getcwd()\n",
    "\n",
    "archives_names = [\"6lo\"]\n",
    "\n",
    "\n",
    "arch_paths = list()\n",
    "for ml_name in archives_names:\n",
    "    arch_paths.append(\"../../archives/\" + ml_name + \".csv\")\n",
    "\n",
    "\n",
    "archives_list = [load_archive(arch_path).data for arch_path in arch_paths]\n",
    "\n",
    "archives = Archive(pd.concat(archives_list))\n",
    "archives_data = archives.data"
   ]
  },
  {
   "cell_type": "code",
   "execution_count": 7,
   "metadata": {
    "collapsed": true
   },
   "outputs": [],
   "source": [
    "checkword = \"internet\""
   ]
  },
  {
   "cell_type": "code",
   "execution_count": 8,
   "metadata": {
    "collapsed": true
   },
   "outputs": [],
   "source": [
    "def get_first_occurrence(word, mailing_list):\n",
    "    for mail in mailing_list.iterrows():\n",
    "        if str.lower(word) in str.lower(mail[1][\"Body\"]):\n",
    "            return mail"
   ]
  },
  {
   "cell_type": "code",
   "execution_count": 10,
   "metadata": {},
   "outputs": [
    {
     "name": "stdout",
     "output_type": "stream",
     "text": [
      "6lo\n",
      "2013-06-01 12:44:12\n",
      "Carsten Bormann <cabo@tzi.org>\n",
      "Welcome again to the 6Lo mailing list.\n",
      "\n",
      "We now have 62 email addresses on the list.\n",
      "\n",
      "Most of you will have read the 6Lo list announcement message:\n",
      "\n",
      "  =\n",
      "http://www.ietf.org/mail-archive/web/ietf-announce/current/msg11531.html\n",
      "\n",
      "Please do reread it if you wonder about the objectives of this mailing\n",
      "list, and why it might be a good idea to create a working group\n",
      "focusing on Internet Area issues in IPv6 over constrained node\n",
      "networks.\n",
      "\n",
      "Work is ongoing in this field.  Some of the drafts listed in the above\n",
      "message have been updated since the list was made (including lowpanz,\n",
      "ghc, and alfi, as well as the roadmap), and, just yesterday, yet\n",
      "another new draft was posted that might be of interest:\n",
      "draft-raza-6lowpan-ipsec-00.txt.\n",
      "\n",
      "\n",
      "I would now like to start the discussion of a potential 6Lo charter\n",
      "with some draft text snippets for what the WG will do.\n",
      "Introductory text, as well as some boilerplate, can be added later.\n",
      "\n",
      "The charter is the document that focuses the WG on a specific subject\n",
      "area, and we should be careful to make that focus neither too narrow\n",
      "nor too wide.  There are a number of other activities in constrained\n",
      "node networks in the IETF, most of which happens in other IETF areas,\n",
      "and it is much better to interface with this work than to give the\n",
      "impression there will be unclear boundaries and overlap.  We also want\n",
      "to focus on work that the IETF is good in.  So this is not a shopping\n",
      "list, but on the other hand, if something is missing, we need to add\n",
      "it, and if something is unclear, we need to fix it.\n",
      "\n",
      "Gr=FC=DFe, Carsten\n",
      "\n",
      "\n",
      "\n",
      "6Lo focuses on INT area work that is needed for constrained node =\n",
      "networks.\n",
      "Specifically, it is working on\n",
      "-- adaptation layer specifications for link layer technologies of\n",
      "   interest in constrained node networks;\n",
      "-- related MIBs;\n",
      "-- common infrastructure specification such as header compression\n",
      "   specific to constrained node networks;\n",
      "-- maintenance and informational documents required for the existing\n",
      "   IETF specifications in this space.\n",
      "\n",
      "6Lo will work closely with the 6man working group, which will continue\n",
      "to work on IP-over-foo documents outside the constrained node network\n",
      "space and will continue to be the focal point for IPv6 maintenance.\n",
      "For adaptation layer specifications that do not have implications on\n",
      "IPv6 architecture, 6man will be notified about 6Lo's working group\n",
      "last call.  Specifications that might have such an impact (e.g., by\n",
      "using IPv6 addresses in a specific way or by introducing new ND\n",
      "options) will be closely coordinated with 6man, and/or specific parts\n",
      "will be fanned out to 6man documents.\n",
      "Beyond 6man, 6Lo will also coordinate with LWIG and INTAREA.\n",
      "\n",
      "6Lo works on small, focused pieces of INT area work.  6Lo does not\n",
      "take on larger cross-layer efforts (such as the 6TSCH work under\n",
      "discussion).  The working group will continue to reuse existing\n",
      "protocols and mechanisms whenever reasonable and possible.\n",
      "\n",
      "Security and management work that is not specific to the link layers\n",
      "being worked on is out of scope.  6Lo will coordinate closely with the\n",
      "working groups in other areas that focus on constrained node networks,\n",
      "such as today ROLL (RTG) and CoRE (APP), and appropriate groups in the\n",
      "IETF OPS and Security areas including potential future groups spawned\n",
      "from efforts such as COMAN and SOLACE.\n",
      "****************************************************************\n"
     ]
    }
   ],
   "source": [
    "for i in range(0, len(archives_list)):\n",
    "    first_mail = get_first_occurrence(checkword, archives_list[i])\n",
    "    print(archives_names[i])\n",
    "    print(first_mail[1][\"Date\"])\n",
    "    print(first_mail[1][\"From\"])\n",
    "    print(first_mail[1][\"Body\"])\n",
    "    print(\"****************************************************************\")"
   ]
  },
  {
   "cell_type": "code",
   "execution_count": null,
   "metadata": {
    "collapsed": true
   },
   "outputs": [],
   "source": []
  }
 ],
 "metadata": {
  "kernelspec": {
   "display_name": "Python 3",
   "language": "python",
   "name": "python3"
  },
  "language_info": {
   "codemirror_mode": {
    "name": "ipython",
    "version": 3
   },
   "file_extension": ".py",
   "mimetype": "text/x-python",
   "name": "python",
   "nbconvert_exporter": "python",
   "pygments_lexer": "ipython3"
  }
 },
 "nbformat": 4,
 "nbformat_minor": 1
}
