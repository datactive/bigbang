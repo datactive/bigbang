{
 "cells": [
  {
   "cell_type": "markdown",
   "id": "de89e4f9",
   "metadata": {},
   "source": [
    "# Email body content analysis \n",
    "\n",
    "*For the context:* Current analysis in bigbang are heavily rely on hands. There are many analysis on the headers in the emails for the people and orgnization involved in the discussions. There are a few content analysis focusing on the keywords first occurence searching and/or most used words per user.\n",
    "\n",
    "This notebook analyze the email body contents with Huggingface NER models that are able to systematically label the entities and their types(currently supports PER, ORG, LOC, and MISC) in the email bodies. This can potentially help the researchers understand more on the email conversations."
   ]
  },
  {
   "cell_type": "code",
   "execution_count": 1,
   "id": "8aadfe5c",
   "metadata": {},
   "outputs": [],
   "source": [
    "# import necessary packages\n",
    "from bigbang.archive import Archive\n",
    "from bigbang.archive import load as load_archive\n",
    "\n",
    "# hide warnings\n",
    "import warnings\n",
    "warnings.filterwarnings('ignore')"
   ]
  },
  {
   "cell_type": "markdown",
   "id": "15b5230a",
   "metadata": {},
   "source": [
    "First, use the script ```bin/collect_mail,py``` to collect web archives. Details can be seen in https://bigbang-py.readthedocs.io/en/latest/data-sources.html#id1 .\n",
    "\n",
    "Here, we use an example of the [scipy-dev](https://mail.python.org/pipermail/scipy-dev/) mailing list page.\n",
    "\n",
    "Scipy-dev mailing list contains 149,718 emails From June 2001 - September 2021."
   ]
  },
  {
   "cell_type": "code",
   "execution_count": 2,
   "id": "5d286f52",
   "metadata": {},
   "outputs": [],
   "source": [
    "archive_path = \"../../archives/scipy-dev/\"\n",
    "\n",
    "archive = Archive(archive_path,mbox=True)\n",
    "# archive data in pandas dataframe format\n",
    "archive_data = archive.data"
   ]
  },
  {
   "cell_type": "code",
   "execution_count": 3,
   "id": "a767ecdf",
   "metadata": {},
   "outputs": [
    {
     "name": "stdout",
     "output_type": "stream",
     "text": [
      "149718\n"
     ]
    },
    {
     "data": {
      "text/html": [
       "<div>\n",
       "<style scoped>\n",
       "    .dataframe tbody tr th:only-of-type {\n",
       "        vertical-align: middle;\n",
       "    }\n",
       "\n",
       "    .dataframe tbody tr th {\n",
       "        vertical-align: top;\n",
       "    }\n",
       "\n",
       "    .dataframe thead th {\n",
       "        text-align: right;\n",
       "    }\n",
       "</style>\n",
       "<table border=\"1\" class=\"dataframe\">\n",
       "  <thead>\n",
       "    <tr style=\"text-align: right;\">\n",
       "      <th></th>\n",
       "      <th>From</th>\n",
       "      <th>Subject</th>\n",
       "      <th>Date</th>\n",
       "      <th>In-Reply-To</th>\n",
       "      <th>References</th>\n",
       "      <th>Body</th>\n",
       "    </tr>\n",
       "    <tr>\n",
       "      <th>Message-ID</th>\n",
       "      <th></th>\n",
       "      <th></th>\n",
       "      <th></th>\n",
       "      <th></th>\n",
       "      <th></th>\n",
       "      <th></th>\n",
       "    </tr>\n",
       "  </thead>\n",
       "  <tbody>\n",
       "    <tr>\n",
       "      <th>&lt;NEBBIECAMLMAAKHEGPCGKEBHCLAA.travis@vaught.net&gt;</th>\n",
       "      <td>travis at vaught.net (Travis N. Vaught)</td>\n",
       "      <td>[SciPy-dev] SciPy Developer mailing list now o...</td>\n",
       "      <td>2001-06-11 02:10:51+00:00</td>\n",
       "      <td>None</td>\n",
       "      <td>None</td>\n",
       "      <td>The link:\\n\\nhttp://scipy.net/mailman/listinfo...</td>\n",
       "    </tr>\n",
       "    <tr>\n",
       "      <th>&lt;Pine.LNX.4.33.0107231957590.15960-100000@oliphant.ee.byu.edu&gt;</th>\n",
       "      <td>oliphant at ee.byu.edu (Travis Oliphant)</td>\n",
       "      <td>[SciPy-dev] RPMs and source distribution</td>\n",
       "      <td>2001-07-24 02:01:00+00:00</td>\n",
       "      <td>&lt;02f001c111bf$2e78a9d0$777ba8c0@190xb01&gt;</td>\n",
       "      <td>None</td>\n",
       "      <td>I've been playing for hours and finally have i...</td>\n",
       "    </tr>\n",
       "  </tbody>\n",
       "</table>\n",
       "</div>"
      ],
      "text/plain": [
       "                                                                                        From  \\\n",
       "Message-ID                                                                                     \n",
       "<NEBBIECAMLMAAKHEGPCGKEBHCLAA.travis@vaught.net>     travis at vaught.net (Travis N. Vaught)   \n",
       "<Pine.LNX.4.33.0107231957590.15960-100000@oliph...  oliphant at ee.byu.edu (Travis Oliphant)   \n",
       "\n",
       "                                                                                              Subject  \\\n",
       "Message-ID                                                                                              \n",
       "<NEBBIECAMLMAAKHEGPCGKEBHCLAA.travis@vaught.net>    [SciPy-dev] SciPy Developer mailing list now o...   \n",
       "<Pine.LNX.4.33.0107231957590.15960-100000@oliph...           [SciPy-dev] RPMs and source distribution   \n",
       "\n",
       "                                                                        Date  \\\n",
       "Message-ID                                                                     \n",
       "<NEBBIECAMLMAAKHEGPCGKEBHCLAA.travis@vaught.net>   2001-06-11 02:10:51+00:00   \n",
       "<Pine.LNX.4.33.0107231957590.15960-100000@oliph... 2001-07-24 02:01:00+00:00   \n",
       "\n",
       "                                                                                 In-Reply-To  \\\n",
       "Message-ID                                                                                     \n",
       "<NEBBIECAMLMAAKHEGPCGKEBHCLAA.travis@vaught.net>                                        None   \n",
       "<Pine.LNX.4.33.0107231957590.15960-100000@oliph...  <02f001c111bf$2e78a9d0$777ba8c0@190xb01>   \n",
       "\n",
       "                                                   References  \\\n",
       "Message-ID                                                      \n",
       "<NEBBIECAMLMAAKHEGPCGKEBHCLAA.travis@vaught.net>         None   \n",
       "<Pine.LNX.4.33.0107231957590.15960-100000@oliph...       None   \n",
       "\n",
       "                                                                                                 Body  \n",
       "Message-ID                                                                                             \n",
       "<NEBBIECAMLMAAKHEGPCGKEBHCLAA.travis@vaught.net>    The link:\\n\\nhttp://scipy.net/mailman/listinfo...  \n",
       "<Pine.LNX.4.33.0107231957590.15960-100000@oliph...  I've been playing for hours and finally have i...  "
      ]
     },
     "execution_count": 3,
     "metadata": {},
     "output_type": "execute_result"
    }
   ],
   "source": [
    "# inspect data which contains 7 columns and 149718 entries\n",
    "print(archive_data.size)\n",
    "archive_data.head(2)"
   ]
  },
  {
   "cell_type": "code",
   "execution_count": 4,
   "id": "3316be3c",
   "metadata": {},
   "outputs": [
    {
     "data": {
      "text/plain": [
       "[\"I've been playing for hours and finally have it so that\\n\\npython setup.py sdist\\npython setup.by bdist_rpm\\n\\nwork as expected.\\n\\nI have distributions and RPM's that I need to put somewhere.\\n\\nThanks,\\n\\n-Travis\"]"
      ]
     },
     "execution_count": 4,
     "metadata": {},
     "output_type": "execute_result"
    }
   ],
   "source": [
    "# example of one email body\n",
    "list(archive_data['Body'].iloc[[1]])"
   ]
  },
  {
   "cell_type": "code",
   "execution_count": 5,
   "id": "ddbc5cb2",
   "metadata": {},
   "outputs": [],
   "source": [
    "# comment line below to install transformers with pytorch \n",
    "# inside your current python environment\n",
    "\n",
    "# !pip install transformers[torch]\n",
    "# !pip install contractions"
   ]
  },
  {
   "cell_type": "markdown",
   "id": "2542b1fa",
   "metadata": {},
   "source": [
    "In pre-processing, we want to \n",
    "- remove the punctuations\n",
    "- remove links \n",
    "- expand contractions \n",
    "- remove digits\n",
    "- tokenize the words"
   ]
  },
  {
   "cell_type": "code",
   "execution_count": 6,
   "id": "7175c51d",
   "metadata": {},
   "outputs": [],
   "source": [
    "# import functions for analyzing\n",
    "from bigbang.analysis.entity_recognition import EntityRecognizer, SpanVisualizer"
   ]
  },
  {
   "cell_type": "code",
   "execution_count": 7,
   "id": "9fbd42c7",
   "metadata": {},
   "outputs": [],
   "source": [
    "# we load the model and apply inference in the back-end of the bigbang package\n",
    "# you can pass the model name of your interest to the function\n",
    "model_name = \"dslim/bert-base-NER\"\n",
    "\n",
    "recognizer = EntityRecognizer(model_name)"
   ]
  },
  {
   "cell_type": "code",
   "execution_count": 8,
   "id": "cd9a18c7",
   "metadata": {
    "scrolled": false
   },
   "outputs": [
    {
     "name": "stdout",
     "output_type": "stream",
     "text": [
      "Text body before pre-processing--------------------:\n",
      "\n",
      "-----BEGIN PGP SIGNED MESSAGE-----\n",
      "Hash: SHA1\n",
      "\n",
      "What's going on with the repository? I am unable to check out stuff,\n",
      "e.g. \n",
      ",----\n",
      "| cvs server: failed to create lock directory in repository `/home/cvsroot/world/scipy/gui_thread/tests': Permission denied\n",
      "| cvs server: failed to obtain dir lock in repository `/home/cvsroot/world/scipy/gui_thread/tests'\n",
      "| cvs [server aborted]: read lock failed - giving up\n",
      "`----\n",
      "\n",
      "\n",
      "Greetings,\n",
      "Jochen\n",
      "- -- \n",
      "University of North Carolina                       phone: +1-919-962-4403\n",
      "Department of Chemistry                            phone: +1-919-962-1579\n",
      "Venable Hall CB#3290 (Kenan C148)                    fax: +1-919-843-6041\n",
      "Chapel Hill, NC 27599, USA                            GnuPG key: 44BCCD8E\n",
      "-----BEGIN PGP SIGNATURE-----\n",
      "Version: GnuPG v1.0.6-cygwin-fcn-1 (Cygwin)\n",
      "Comment: Processed by Mailcrypt and GnuPG <http://www.gnupg.org/>\n",
      "\n",
      "iD8DBQE70GkmiJ/aUUS8zY4RAlCMAJsH4pN3CIaLiG/LmJXef3Cq7KV9qgCcDbuO\n",
      "S6RYodIz1fn2xR5el0xDiUY=\n",
      "=wEcD\n",
      "-----END PGP SIGNATURE-----\n",
      "Text body after pre-processing--------------------:\n",
      "\n",
      "BEGIN PGP SIGNED MESSAGE Hash SHA  What is going on with the repository I am unable to check out stuff eg    cvs server failed to create lock directory in repository homecvsrootworldscipygui_threadtests Permission denied  cvs server failed to obtain dir lock in repository homecvsrootworldscipygui_threadtests  cvs server aborted read lock failed  giving up    Greetings Jochen    University of North Carolina                       phone  Department of Chemistry                            phone  Venable Hall CB Kenan C                    fax  Chapel Hill NC  USA                            GnuPG key BCCDE BEGIN PGP SIGNATURE Version GnuPG vcygwinfcn Cygwin Comment Processed by Mailcrypt and GnuPG   iDDBQEGkmiJaUUSzYRAlCMAJsHpNCIaLiGLmJXefCqKVqgCcDbuO SRYodIzfnxRelxDiUY wEcD END PGP SIGNATURE\n"
     ]
    }
   ],
   "source": [
    "import itertools\n",
    "\n",
    "# hyperparams\n",
    "# taking one row as an example\n",
    "index = 40\n",
    "lowercase = False\n",
    "\n",
    "\n",
    "rows = archive_data.iterrows()\n",
    "row = next(itertools.islice(rows, index, None))\n",
    "body = row[1]['Body']\n",
    "print(\"Text body before pre-processing--------------------:\\n\")\n",
    "print(body)\n",
    "body = recognizer.remove_ori_message(body)\n",
    "body = recognizer.pre_processing(body, lowercase=lowercase)\n",
    "print(\"Text body after pre-processing--------------------:\\n\")\n",
    "print(body)"
   ]
  },
  {
   "cell_type": "markdown",
   "id": "e4ac1bba",
   "metadata": {},
   "source": [
    "The list of models can be found in: https://huggingface.co/ . You can also train your own model and upload to huggingface.\n",
    "\n",
    "Examples for possible model names include:\n",
    "['dslim/bert-base-NER', 'dslim/bert-base-NER-cased', ...]"
   ]
  },
  {
   "cell_type": "code",
   "execution_count": 9,
   "id": "68358157",
   "metadata": {},
   "outputs": [
    {
     "name": "stdout",
     "output_type": "stream",
     "text": [
      "{'entity': 'I-ORG', 'word': 'SH'}\n",
      "{'entity': 'B-ORG', 'word': 'University'}\n",
      "{'entity': 'I-ORG', 'word': 'of'}\n",
      "{'entity': 'I-ORG', 'word': 'North'}\n",
      "{'entity': 'I-ORG', 'word': 'Carolina'}\n",
      "{'entity': 'B-ORG', 'word': 'Department'}\n",
      "{'entity': 'I-ORG', 'word': 'of'}\n",
      "{'entity': 'I-ORG', 'word': 'Chemistry'}\n",
      "{'entity': 'B-ORG', 'word': 'V'}\n",
      "{'entity': 'I-ORG', 'word': '##ena'}\n",
      "{'entity': 'I-ORG', 'word': '##ble'}\n",
      "{'entity': 'I-ORG', 'word': 'Hall'}\n",
      "{'entity': 'I-ORG', 'word': 'Ken'}\n",
      "{'entity': 'B-ORG', 'word': 'Chapel'}\n",
      "{'entity': 'I-ORG', 'word': 'Hill'}\n",
      "{'entity': 'I-ORG', 'word': 'NC'}\n",
      "{'entity': 'I-LOC', 'word': 'USA'}\n",
      "{'entity': 'I-ORG', 'word': '##c'}\n"
     ]
    }
   ],
   "source": [
    "tokens = recognizer.tokenizer.tokenize(body)\n",
    "labels = recognizer.recognize(body)\n",
    "entities = recognizer.get_entities(labels)\n",
    "for entity in entities:\n",
    "    print(entity)"
   ]
  },
  {
   "cell_type": "markdown",
   "id": "31837549",
   "metadata": {},
   "source": [
    "*[Optional]* We can also visualize the results with spaCy."
   ]
  },
  {
   "cell_type": "code",
   "execution_count": 10,
   "id": "db8cf8b0",
   "metadata": {},
   "outputs": [],
   "source": [
    "# comment following line to install spacy package\n",
    "# !pip install spacy\n",
    "# !python -m spacy download en_core_web_sm"
   ]
  },
  {
   "cell_type": "code",
   "execution_count": 11,
   "id": "ff33799d",
   "metadata": {
    "scrolled": false
   },
   "outputs": [],
   "source": [
    "visualizer = SpanVisualizer()\n",
    "merged_tokens, maps = visualizer.merge_tokens(tokens)"
   ]
  },
  {
   "cell_type": "code",
   "execution_count": 12,
   "id": "432cf36b",
   "metadata": {},
   "outputs": [
    {
     "data": {
      "text/html": [
       "<span class=\"tex2jax_ignore\"><div class=\"entities\" style=\"line-height: 2.5; direction: ltr\">BEGIN PGP SIGNED MESSAGE Hash \n",
       "<mark class=\"entity\" style=\"background: #7aecec; padding: 0.45em 0.6em; margin: 0 0.25em; line-height: 1; border-radius: 0.35em;\">\n",
       "    SHA\n",
       "    <span style=\"font-size: 0.8em; font-weight: bold; line-height: 1; border-radius: 0.35em; vertical-align: middle; margin-left: 0.5rem\">ORG</span>\n",
       "</mark>\n",
       " What is going on with the repository I am unable to check out stuff eg cvs server failed to create lock directory in repository homecvsrootworldscipygui _ threadtests Permission denied cvs server failed to obtain dir lock in repository homecvsrootworldscipygui _ threadtests cvs server aborted read lock failed giving up Greetings Jochen \n",
       "<mark class=\"entity\" style=\"background: #7aecec; padding: 0.45em 0.6em; margin: 0 0.25em; line-height: 1; border-radius: 0.35em;\">\n",
       "    University of North Carolina\n",
       "    <span style=\"font-size: 0.8em; font-weight: bold; line-height: 1; border-radius: 0.35em; vertical-align: middle; margin-left: 0.5rem\">ORG</span>\n",
       "</mark>\n",
       " phone \n",
       "<mark class=\"entity\" style=\"background: #7aecec; padding: 0.45em 0.6em; margin: 0 0.25em; line-height: 1; border-radius: 0.35em;\">\n",
       "    Department of Chemistry\n",
       "    <span style=\"font-size: 0.8em; font-weight: bold; line-height: 1; border-radius: 0.35em; vertical-align: middle; margin-left: 0.5rem\">ORG</span>\n",
       "</mark>\n",
       " phone \n",
       "<mark class=\"entity\" style=\"background: #7aecec; padding: 0.45em 0.6em; margin: 0 0.25em; line-height: 1; border-radius: 0.35em;\">\n",
       "    Venable Hall\n",
       "    <span style=\"font-size: 0.8em; font-weight: bold; line-height: 1; border-radius: 0.35em; vertical-align: middle; margin-left: 0.5rem\">ORG</span>\n",
       "</mark>\n",
       " CB \n",
       "<mark class=\"entity\" style=\"background: #7aecec; padding: 0.45em 0.6em; margin: 0 0.25em; line-height: 1; border-radius: 0.35em;\">\n",
       "    Kenan\n",
       "    <span style=\"font-size: 0.8em; font-weight: bold; line-height: 1; border-radius: 0.35em; vertical-align: middle; margin-left: 0.5rem\">ORG</span>\n",
       "</mark>\n",
       " C fax \n",
       "<mark class=\"entity\" style=\"background: #7aecec; padding: 0.45em 0.6em; margin: 0 0.25em; line-height: 1; border-radius: 0.35em;\">\n",
       "    Chapel Hill NC\n",
       "    <span style=\"font-size: 0.8em; font-weight: bold; line-height: 1; border-radius: 0.35em; vertical-align: middle; margin-left: 0.5rem\">ORG</span>\n",
       "</mark>\n",
       " \n",
       "<mark class=\"entity\" style=\"background: #ff9561; padding: 0.45em 0.6em; margin: 0 0.25em; line-height: 1; border-radius: 0.35em;\">\n",
       "    USA\n",
       "    <span style=\"font-size: 0.8em; font-weight: bold; line-height: 1; border-radius: 0.35em; vertical-align: middle; margin-left: 0.5rem\">LOC</span>\n",
       "</mark>\n",
       " GnuPG key BCCDE BEGIN PGP SIGNATURE Version GnuPG vcygwinfcn Cygwin Comment Processed by \n",
       "<mark class=\"entity\" style=\"background: #7aecec; padding: 0.45em 0.6em; margin: 0 0.25em; line-height: 1; border-radius: 0.35em;\">\n",
       "    Mailcrypt\n",
       "    <span style=\"font-size: 0.8em; font-weight: bold; line-height: 1; border-radius: 0.35em; vertical-align: middle; margin-left: 0.5rem\">ORG</span>\n",
       "</mark>\n",
       " and GnuPG iDDBQEGkmiJaUUSzYRAlCMAJsHpNCIaLiGLmJXefCqKVqgCcDbuO SRYodIzfnxRelxDiUY wEcD END PGP SIGNATURE </div></span>"
      ],
      "text/plain": [
       "<IPython.core.display.HTML object>"
      ]
     },
     "metadata": {},
     "output_type": "display_data"
    }
   ],
   "source": [
    "import spacy\n",
    "from spacy import displacy\n",
    "from spacy.tokens import Span, Doc\n",
    "\n",
    "# defining a score threshold on the recognized entities. only entity has scored above the threshold will show\n",
    "threashold = 0.0\n",
    "\n",
    "nlp = spacy.load(\"en_core_web_sm\")\n",
    "vocab = nlp.tokenizer.vocab\n",
    "\n",
    "merged_labels = visualizer.merge_labels(labels, maps)\n",
    "doc = Doc(vocab=vocab, words=merged_tokens)\n",
    "doc = visualizer.get_doc_for_visualization(merged_labels, maps, doc)\n",
    "\n",
    "\n",
    "displacy.render(doc, style='ent', jupyter=True)"
   ]
  },
  {
   "cell_type": "code",
   "execution_count": 13,
   "id": "c23c2108",
   "metadata": {},
   "outputs": [
    {
     "name": "stdout",
     "output_type": "stream",
     "text": [
      "entity type:  ORG\n",
      "\t- SHA\n",
      "\t- University of North Carolina\n",
      "\t- Department of Chemistry\n",
      "\t- Venable Hall\n",
      "\t- Kenan\n",
      "\t- Chapel Hill NC\n",
      "\t- Mailcrypt\n",
      "entity type:  LOC\n",
      "\t- USA\n"
     ]
    }
   ],
   "source": [
    "visualizer.get_list_per_type()\n",
    "entity_type_list = visualizer.entity_type\n",
    "for typ, ent_list in entity_type_list.items():\n",
    "    print(\"entity type: \", typ)\n",
    "    for ent in ent_list:\n",
    "        print(\"\\t-\", ent)"
   ]
  },
  {
   "cell_type": "markdown",
   "id": "5a78f5a1",
   "metadata": {},
   "source": [
    "In the end, we show one example of how to pass a list of emails and return a list of entities with types."
   ]
  },
  {
   "cell_type": "code",
   "execution_count": 14,
   "id": "168ef5ee",
   "metadata": {},
   "outputs": [
    {
     "name": "stdout",
     "output_type": "stream",
     "text": [
      "Process emails with id:  [40, 50, 60]\n",
      "entity type:  ORG\n",
      "\t- SHA\n",
      "\t- University of North Carolina\n",
      "\t- Department of Chemistry\n",
      "\t- Venable Hall\n",
      "\t- Kenan\n",
      "\t- Chapel Hill NC\n",
      "\t- Mailcrypt\n",
      "\t- Matlabs\n",
      "\t- Emacs\n",
      "\t- Recht\n",
      "\t- Freiheit\n",
      "\t- BCCDE\n",
      "entity type:  LOC\n",
      "\t- USA\n",
      "entity type:  MISC\n",
      "\t- CVS\n",
      "entity type:  PER\n",
      "\t- Eric\n",
      "\t- Einigkeit\n"
     ]
    }
   ],
   "source": [
    "# taking a list of indexes as examples\n",
    "indexes = [40, 50, 60]\n",
    "lowercase = False\n",
    "\n",
    "model_name = \"dslim/bert-base-NER\"\n",
    "recognizer = EntityRecognizer(model_name)\n",
    "\n",
    "bodies = [] \n",
    "\n",
    "print('Process emails with id: ', indexes)\n",
    "for index in indexes:\n",
    "    rows = archive_data.iterrows()\n",
    "    row = next(itertools.islice(rows, index, None))\n",
    "    body = row[1]['Body']\n",
    "    body = recognizer.remove_ori_message(body)\n",
    "    body = recognizer.pre_processing(body, lowercase=lowercase)\n",
    "    # show email bodies after pre-processing\n",
    "#     print(body)\n",
    "    bodies.append(body)\n",
    "\n",
    "visualizer = SpanVisualizer()\n",
    "nlp = spacy.load(\"en_core_web_sm\")\n",
    "vocab = nlp.tokenizer.vocab\n",
    "for body in bodies:\n",
    "    # get labels from recognizer first\n",
    "    tokens = recognizer.tokenizer.tokenize(body)  \n",
    "    labels = recognizer.recognize(body)\n",
    "    entities = recognizer.get_entities(labels)\n",
    "    # merge tokens and spans in visualizer\n",
    "    merged_tokens, maps = visualizer.merge_tokens(tokens)\n",
    "    merged_labels = visualizer.merge_labels(labels, maps)\n",
    "    doc = Doc(vocab=vocab, words=merged_tokens)\n",
    "    _ = visualizer.get_doc_for_visualization(merged_labels, maps, doc)\n",
    "\n",
    "visualizer.get_list_per_type()\n",
    "entity_type_list = visualizer.entity_type\n",
    "for typ, ent_list in entity_type_list.items():\n",
    "    print(\"entity type: \", typ)\n",
    "    for ent in ent_list:\n",
    "        print(\"\\t-\", ent)  "
   ]
  }
 ],
 "metadata": {
  "kernelspec": {
   "display_name": "Python [conda env:bigbang] *",
   "language": "python",
   "name": "conda-env-bigbang-py"
  },
  "language_info": {
   "codemirror_mode": {
    "name": "ipython",
    "version": 3
   },
   "file_extension": ".py",
   "mimetype": "text/x-python",
   "name": "python",
   "nbconvert_exporter": "python",
   "pygments_lexer": "ipython3",
   "version": "3.7.7"
  }
 },
 "nbformat": 4,
 "nbformat_minor": 5
}
