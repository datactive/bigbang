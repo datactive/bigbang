{
 "cells": [
  {
   "cell_type": "markdown",
   "metadata": {},
   "source": [
    "## This note book gives the overall sentiment score towards a gender engaging on emails in a mailing list\n",
    "\n",
    "What it does:\n",
    "-it identifies the gender of the person In-Reply-To, and the person who it is from From. It calculates the sentiment of the body of the message. So that is the sentiment score of one gender towards another gender. Normaize over number of messages \n",
    "\n",
    "Parameters to set options:\n",
    "\n",
    "Useful extensions:\n"
   ]
  },
  {
   "cell_type": "code",
   "execution_count": 1,
   "metadata": {},
   "outputs": [],
   "source": [
    "%matplotlib inline"
   ]
  },
  {
   "cell_type": "code",
   "execution_count": 2,
   "metadata": {},
   "outputs": [],
   "source": [
    "from bigbang.archive import load as load_archive\n",
    "from bigbang.archive import Archive\n",
    "import bigbang.ingress.mailman as mailman\n",
    "import bigbang.analysis.process as process\n",
    "from bigbang import parse\n",
    "from bigbang import utils\n",
    "\n",
    "import networkx as nx\n",
    "import matplotlib.pyplot as plt\n",
    "import pandas as pd\n",
    "from pprint import pprint as pp\n",
    "import pytz\n",
    "import numpy as np\n",
    "import math\n",
    "from textblob import TextBlob\n",
    "from itertools import repeat\n",
    "from gender_detector import gender_detector as gd\n",
    "import seaborn as sns\n",
    "import re\n"
   ]
  },
  {
   "cell_type": "code",
   "execution_count": 3,
   "metadata": {},
   "outputs": [],
   "source": [
    "#insert a list of the urls of downloaded mailing lists that you want to include in the analysis. \n",
    "#data will be merged: multiple mailing lists are treated as a unique corpus\n",
    "\n",
    "\n",
    "import os \n",
    "cwd = os.getcwd()    \n",
    "\n",
    "archives_names = [\"quic\"]\n",
    "\n",
    "\n",
    "archives_paths = list()\n",
    "for archive_name in archives_names:\n",
    "    archives_paths.append('../archives/'+archive_name+'.csv')\n",
    "    \n",
    "\n",
    "archives_list = [load_archive(archive_path).data for archive_path in archives_paths]\n",
    "    \n",
    "archives = Archive(pd.concat(archives_list))\n",
    "\n",
    "archives_data = archives.data"
   ]
  },
  {
   "cell_type": "code",
   "execution_count": null,
   "metadata": {},
   "outputs": [],
   "source": [
    "print(archives_data['In-Reply-To'])"
   ]
  },
  {
   "cell_type": "code",
   "execution_count": 4,
   "metadata": {},
   "outputs": [],
   "source": [
    "detector = gd.GenderDetector('us')\n",
    "\n",
    "gender_ambiguous_names = {}\n",
    "\n",
    "def guess_gender(name):\n",
    "    if not name:\n",
    "        return 'name unknown'\n",
    "    try:\n",
    "        if detector.guess(name) == 'unknown':\n",
    "            if name in gender_ambiguous_names:\n",
    "                gender_ambiguous_names[name] += 1\n",
    "            else:\n",
    "                gender_ambiguous_names[name] = 1\n",
    "        \n",
    "        return detector.guess(name)\n",
    "    except:\n",
    "        return 'error'\n",
    "\n",
    "def ml_shortname(url):\n",
    "    return url.rstrip(\"/\").split(\"/\")[-1]"
   ]
  },
  {
   "cell_type": "code",
   "execution_count": 5,
   "metadata": {},
   "outputs": [],
   "source": [
    "archives_data['Body Sentiment'] = archives_data['Body'].map(lambda x: TextBlob(utils.clean_message(x)).sentiment.polarity)\n",
    "archives_data['InReplyTo Name'] = archives_data['In-Reply-To'].index.map(lambda x: parse.clean_from(x))    \n",
    "archives_data['From Name'] = archives_data['From'].index.map(lambda x: parse.clean_from(x))    \n",
    "archives_data['InReplyTo First Name'] = archives_data['InReplyTo Name'].map(lambda x: parse.guess_first_name(parse.clean_name(x)))\n",
    "archives_data['From First Name'] = archives_data['From Name'].map(lambda x: parse.guess_first_name(parse.clean_name(x)))\n",
    "archives_data['InReplyTo Gender'] = archives_data['InReplyTo First Name'].map(guess_gender)\n",
    "archives_data['From Gender'] = archives_data['From First Name'].map(guess_gender)"
   ]
  },
  {
   "cell_type": "code",
   "execution_count": 7,
   "metadata": {},
   "outputs": [
    {
     "name": "stdout",
     "output_type": "stream",
     "text": [
      "InReplyTo Gender  From Gender \n",
      "name unknown      name unknown    521.012970\n",
      "unknown           unknown         175.265011\n",
      "Name: Body Sentiment, dtype: float64\n"
     ]
    }
   ],
   "source": [
    "df = archives_data.groupby(by=['InReplyTo Gender','From Gender'])['Body Sentiment'].aggregate('sum')\n",
    "print(df)\n",
    "#sns.heatmap(df, annot=True)"
   ]
  }
 ],
 "metadata": {
  "kernelspec": {
   "display_name": "Python 3 (ipykernel)",
   "language": "python",
   "name": "python3"
  },
  "language_info": {
   "codemirror_mode": {
    "name": "ipython",
    "version": 3
   },
   "file_extension": ".py",
   "mimetype": "text/x-python",
   "name": "python",
   "nbconvert_exporter": "python",
   "pygments_lexer": "ipython3",
   "version": "3.11.0"
  },
  "latex_envs": {
   "LaTeX_envs_menu_present": true,
   "autoclose": false,
   "autocomplete": true,
   "bibliofile": "biblio.bib",
   "cite_by": "apalike",
   "current_citInitial": 1,
   "eqLabelWithNumbers": true,
   "eqNumInitial": 1,
   "hotkeys": {
    "equation": "Ctrl-E",
    "itemize": "Ctrl-I"
   },
   "labels_anchors": false,
   "latex_user_defs": false,
   "report_style_numbering": false,
   "user_envs_cfg": false
  },
  "toc": {
   "base_numbering": 1,
   "nav_menu": {},
   "number_sections": true,
   "sideBar": true,
   "skip_h1_title": false,
   "title_cell": "Table of Contents",
   "title_sidebar": "Contents",
   "toc_cell": false,
   "toc_position": {},
   "toc_section_display": true,
   "toc_window_display": false
  }
 },
 "nbformat": 4,
 "nbformat_minor": 1
}
