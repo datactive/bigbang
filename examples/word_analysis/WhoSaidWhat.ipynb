{
 "cells": [
  {
   "cell_type": "markdown",
   "metadata": {},
   "source": [
    "<b>This notebook compute and plot the senders that have talked more about something</b>\n",
    "\n",
    "What it does:\n",
    "    \n",
    "    -given a word / sentence, it scans emails in one ore more mailing lists and compute the list of user including that word or sentence in their emails\n",
    "    \n",
    "    -it plots the top folks using that word / sentence\n",
    "\n",
    "\n",
    "Parameters to set options:\n",
    "    \n",
    "    -insert one or more urls of mailing lists (mls are aggregated)\n",
    "    \n",
    "    -insert one word or a sentence that you want to check for\n",
    "\n"
   ]
  },
  {
   "cell_type": "code",
   "execution_count": 1,
   "metadata": {
    "collapsed": true
   },
   "outputs": [],
   "source": [
    "%matplotlib inline"
   ]
  },
  {
   "cell_type": "code",
   "execution_count": 2,
   "metadata": {},
   "outputs": [
    {
     "name": "stderr",
     "output_type": "stream",
     "text": [
      "/home/berra/.conda/envs/bigbang/lib/python2.7/site-packages/IPython/core/interactiveshell.py:2882: FutureWarning: \n",
      "mpl_style had been deprecated and will be removed in a future version.\n",
      "Use `matplotlib.pyplot.style.use` instead.\n",
      "\n",
      "  exec(code_obj, self.user_global_ns, self.user_ns)\n"
     ]
    }
   ],
   "source": [
    "import bigbang.mailman as mailman\n",
    "from bigbang.archive import load as load_archive\n",
    "from bigbang.parse import get_date\n",
    "from bigbang.archive import Archive\n",
    "import pandas as pd\n",
    "import datetime\n",
    "import matplotlib.pyplot as plt\n",
    "from collections import defaultdict\n",
    "import numpy as np\n",
    "import math\n",
    "import pytz\n",
    "import pickle\n",
    "import os\n",
    "\n",
    "pd.options.display.mpl_style = \"default\""
   ]
  },
  {
   "cell_type": "code",
   "execution_count": 3,
   "metadata": {},
   "outputs": [],
   "source": [
    "# specify if you want to have words stemmed (no prefixes, plurals, etc.) or literal\n",
    "stem = False\n",
    "\n",
    "\n",
    "import os\n",
    "\n",
    "cwd = os.getcwd()\n",
    "\n",
    "archives_names = [\"6lo\"]\n",
    "\n",
    "\n",
    "arch_paths = list()\n",
    "for ml_name in archives_names:\n",
    "    arch_paths.append(\"../../archives/\" + ml_name + \".csv\")\n",
    "\n",
    "\n",
    "archives_list = [load_archive(arch_path).data for arch_path in arch_paths]\n",
    "\n",
    "archives = Archive(pd.concat(archives_list))\n",
    "archives_data = archives.data"
   ]
  },
  {
   "cell_type": "code",
   "execution_count": 13,
   "metadata": {
    "collapsed": true
   },
   "outputs": [],
   "source": [
    "# instert a word or sentence that you wanna look for\n",
    "\n",
    "sub_text = \"thanks\""
   ]
  },
  {
   "cell_type": "code",
   "execution_count": 36,
   "metadata": {},
   "outputs": [],
   "source": [
    "# counting how many people wrote that\n",
    "\n",
    "people_count = defaultdict(int)\n",
    "\n",
    "\n",
    "for idx, mail in archives_data.iterrows():\n",
    "    if mail[\"Body\"] is not None:\n",
    "        if sub_text in mail[\"Body\"]:\n",
    "            people_count[mail[\"From\"]] += 1"
   ]
  },
  {
   "cell_type": "code",
   "execution_count": 37,
   "metadata": {
    "collapsed": true
   },
   "outputs": [],
   "source": [
    "# insert how many top-people using that sentence you want to visualize\n",
    "\n",
    "top_people = 5"
   ]
  },
  {
   "cell_type": "code",
   "execution_count": 38,
   "metadata": {},
   "outputs": [
    {
     "name": "stdout",
     "output_type": "stream",
     "text": [
      "50 people are talking about \"thanks\"\n",
      "\"Pascal Thubert (pthubert)\" <pthubert@cisco.com>   19\n",
      "Alexandru Petrescu <alexandru.petrescu@gmail.com>   15\n",
      "Ulrich Herberg <ulrich@herberg.name>   7\n",
      "Samita Chakrabarti <samita.chakrabarti@ericsson.com>   7\n",
      "Carsten Bormann <cabo@tzi.org>   5\n"
     ]
    }
   ],
   "source": [
    "print(\n",
    "    str(len(list(people_count.keys()))) + ' people are talking about \"' + sub_text + '\"'\n",
    ")\n",
    "i = 0\n",
    "for people, count in sorted(\n",
    "    iter(people_count.items()), reverse=True, key=lambda k_v: (k_v[1], k_v[0])\n",
    "):\n",
    "    print(people + \"   \" + str(count))\n",
    "    i += 1\n",
    "    if i == top_people:\n",
    "        break"
   ]
  },
  {
   "cell_type": "code",
   "execution_count": null,
   "metadata": {
    "collapsed": true
   },
   "outputs": [],
   "source": []
  }
 ],
 "metadata": {
  "kernelspec": {
   "display_name": "Python 3",
   "language": "python",
   "name": "python3"
  },
  "language_info": {
   "codemirror_mode": {
    "name": "ipython",
    "version": 3
   },
   "file_extension": ".py",
   "mimetype": "text/x-python",
   "name": "python",
   "nbconvert_exporter": "python",
   "pygments_lexer": "ipython3"
  }
 },
 "nbformat": 4,
 "nbformat_minor": 1
}
