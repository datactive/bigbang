{
 "cells": [
  {
   "cell_type": "markdown",
   "id": "0c2cfbbc",
   "metadata": {},
   "source": []
  },
  {
   "cell_type": "code",
   "execution_count": 3,
   "id": "4b53be53",
   "metadata": {},
   "outputs": [],
   "source": [
    "import itertools\n",
    "import pandas as pd"
   ]
  },
  {
   "cell_type": "markdown",
   "id": "80d842dc",
   "metadata": {},
   "source": [
    "The following dictionary contains hand-curated labeled domains."
   ]
  },
  {
   "cell_type": "code",
   "execution_count": 4,
   "id": "f94157aa",
   "metadata": {},
   "outputs": [],
   "source": [
    "domain_categories = {\n",
    "    \"generic\": [\n",
    "        \"gmail.com\",\n",
    "        \"hotmail.com\",\n",
    "        \"gmx.de\",\n",
    "        \"gmx.net\",\n",
    "        \"gmx.at\",\n",
    "        \"earthlink.net\",\n",
    "        \"comcast.net\",\n",
    "        \"yahoo.com\",\n",
    "        \"email.com\",\n",
    "    ],\n",
    "    \"personal\": [\n",
    "        \"mnot.net\",\n",
    "        \"henriknordstrom.net\",\n",
    "        \"adambarth.com\",\n",
    "        \"brianrosen.net\",\n",
    "        \"taugh.com\",\n",
    "        \"csperkins.org\",\n",
    "        \"sandelman.ca\",\n",
    "        \"lowentropy.net\",\n",
    "        \"gbiv.com\",\n",
    "    ],\n",
    "    \"company\": [\n",
    "        \"apple.com\",\n",
    "        \"cisco.com\",\n",
    "        \"chromium.org\",\n",
    "        \"microsoft.com\",\n",
    "        \"oracle.com\",\n",
    "        \"google.com\",\n",
    "        \"facebook.com\",\n",
    "        \"intel.com\",\n",
    "        \"verizon.com\",\n",
    "        \"verizon.net\",\n",
    "        \"salesforce.com\",\n",
    "        \"cloudflare.com\",\n",
    "        \"broadcom.com\",\n",
    "        \"juniper.net\",\n",
    "        \"netflix.com\",\n",
    "        \"akamai.com\",\n",
    "        \"us.ibm.com\",\n",
    "        \"qualcomm.com\",\n",
    "        \"siemens.com\",\n",
    "        \"boeing.com\",\n",
    "        \"sandvine.com\",\n",
    "        \"marconi.com\",\n",
    "        \"trilliant.com\",\n",
    "        \"huawei.com\",  # chinese\n",
    "        \"zte.com.cn\"  # chinese\n",
    "        \"chinamobile.com\",\n",
    "        \"chinaunicom.cn\",\n",
    "        \"chinatelecom.cn\",\n",
    "        \"cnnic.cn\",  # registry\n",
    "    ],\n",
    "    # from R.N.\n",
    "    \"academic\": [\n",
    "        \"caict.ac.cn\",  # chinese\n",
    "        \"scu.edu.cn\",  # chinese\n",
    "        \"tongji.edu.cn\",  # chinese\n",
    "        \"mit.edu\",\n",
    "        \"ieee.org\",\n",
    "        \"acm.org\",\n",
    "        \"berkeley.edu\",\n",
    "        \"harvard.edu\",\n",
    "        \"lbl.gov\",\n",
    "    ],\n",
    "    \"sdo\": [\n",
    "        \"isoc.org\",\n",
    "        \"icann.org\",\n",
    "        \"amsl.com\",\n",
    "        \"iana.org\",\n",
    "        \"tools.ietf.org\",\n",
    "        \"w3.org\",\n",
    "    ],\n",
    "}"
   ]
  },
  {
   "cell_type": "code",
   "execution_count": 5,
   "id": "a8e4afc1",
   "metadata": {},
   "outputs": [],
   "source": [
    "df = pd.DataFrame.from_records(\n",
    "    itertools.chain(\n",
    "        *[\n",
    "            [{\"domain\": dom, \"category\": cat} for dom in domain_categories[cat]]\n",
    "            for cat in domain_categories\n",
    "        ]\n",
    "    )\n",
    ")"
   ]
  },
  {
   "cell_type": "markdown",
   "id": "1b049436",
   "metadata": {},
   "source": [
    "The following scripts gathers generic email hosts from a list provided on a public Gist."
   ]
  },
  {
   "cell_type": "code",
   "execution_count": 4,
   "id": "2a0f7c50",
   "metadata": {},
   "outputs": [
    {
     "name": "stdout",
     "output_type": "stream",
     "text": [
      "--2021-12-08 12:09:10--  https://gist.githubusercontent.com/ammarshah/f5c2624d767f91a7cbdc4e54db8dd0bf/raw/660fd949eba09c0b86574d9d3aa0f2137161fc7c/all_email_provider_domains.txt\n",
      "Resolving gist.githubusercontent.com (gist.githubusercontent.com)... 185.199.111.133, 185.199.110.133, 185.199.109.133, ...\n",
      "Connecting to gist.githubusercontent.com (gist.githubusercontent.com)|185.199.111.133|:443... connected.\n",
      "HTTP request sent, awaiting response... 200 OK\n",
      "Length: 85116 (83K) [text/plain]\n",
      "Saving to: ‘all_email_provider_domains.txt’\n",
      "\n",
      "all_email_provider_ 100%[===================>]  83.12K  --.-KB/s    in 0.02s   \n",
      "\n",
      "2021-12-08 12:09:10 (4.15 MB/s) - ‘all_email_provider_domains.txt’ saved [85116/85116]\n",
      "\n"
     ]
    }
   ],
   "source": [
    "!wget https://gist.githubusercontent.com/ammarshah/f5c2624d767f91a7cbdc4e54db8dd0bf/raw/660fd949eba09c0b86574d9d3aa0f2137161fc7c/all_email_provider_domains.txt"
   ]
  },
  {
   "cell_type": "code",
   "execution_count": 5,
   "id": "1b0b44bc",
   "metadata": {},
   "outputs": [],
   "source": [
    "aepd = open(\"all_email_provider_domains.txt\").read().split(\"\\n\")"
   ]
  },
  {
   "cell_type": "code",
   "execution_count": 6,
   "id": "01794bbe",
   "metadata": {},
   "outputs": [],
   "source": [
    "df = df.append([{\"domain\": d, \"category\": \"generic\"} for d in aepd]).drop_duplicates(\n",
    "    subset=[\"domain\"]\n",
    ")"
   ]
  },
  {
   "cell_type": "code",
   "execution_count": 7,
   "id": "96edccdd",
   "metadata": {},
   "outputs": [],
   "source": [
    "df.to_csv(\"domain_categories.csv\", index=False)"
   ]
  },
  {
   "cell_type": "markdown",
   "id": "acee11f7",
   "metadata": {},
   "source": [
    "<hr>"
   ]
  },
  {
   "cell_type": "code",
   "execution_count": 8,
   "id": "b688949b",
   "metadata": {},
   "outputs": [
    {
     "data": {
      "text/html": [
       "<div>\n",
       "<style scoped>\n",
       "    .dataframe tbody tr th:only-of-type {\n",
       "        vertical-align: middle;\n",
       "    }\n",
       "\n",
       "    .dataframe tbody tr th {\n",
       "        vertical-align: top;\n",
       "    }\n",
       "\n",
       "    .dataframe thead th {\n",
       "        text-align: right;\n",
       "    }\n",
       "</style>\n",
       "<table border=\"1\" class=\"dataframe\">\n",
       "  <thead>\n",
       "    <tr style=\"text-align: right;\">\n",
       "      <th></th>\n",
       "      <th>category</th>\n",
       "    </tr>\n",
       "    <tr>\n",
       "      <th>domain</th>\n",
       "      <th></th>\n",
       "    </tr>\n",
       "  </thead>\n",
       "  <tbody>\n",
       "    <tr>\n",
       "      <th>gmail.com</th>\n",
       "      <td>generic</td>\n",
       "    </tr>\n",
       "    <tr>\n",
       "      <th>hotmail.com</th>\n",
       "      <td>generic</td>\n",
       "    </tr>\n",
       "    <tr>\n",
       "      <th>gmx.de</th>\n",
       "      <td>generic</td>\n",
       "    </tr>\n",
       "    <tr>\n",
       "      <th>gmx.net</th>\n",
       "      <td>generic</td>\n",
       "    </tr>\n",
       "    <tr>\n",
       "      <th>gmx.at</th>\n",
       "      <td>generic</td>\n",
       "    </tr>\n",
       "    <tr>\n",
       "      <th>...</th>\n",
       "      <td>...</td>\n",
       "    </tr>\n",
       "    <tr>\n",
       "      <th>zybermail.com</th>\n",
       "      <td>generic</td>\n",
       "    </tr>\n",
       "    <tr>\n",
       "      <th>zydecofan.com</th>\n",
       "      <td>generic</td>\n",
       "    </tr>\n",
       "    <tr>\n",
       "      <th>zzn.com</th>\n",
       "      <td>generic</td>\n",
       "    </tr>\n",
       "    <tr>\n",
       "      <th>zzom.co.uk</th>\n",
       "      <td>generic</td>\n",
       "    </tr>\n",
       "    <tr>\n",
       "      <th>zzz.com</th>\n",
       "      <td>generic</td>\n",
       "    </tr>\n",
       "  </tbody>\n",
       "</table>\n",
       "<p>6153 rows × 1 columns</p>\n",
       "</div>"
      ],
      "text/plain": [
       "              category\n",
       "domain                \n",
       "gmail.com      generic\n",
       "hotmail.com    generic\n",
       "gmx.de         generic\n",
       "gmx.net        generic\n",
       "gmx.at         generic\n",
       "...                ...\n",
       "zybermail.com  generic\n",
       "zydecofan.com  generic\n",
       "zzn.com        generic\n",
       "zzom.co.uk     generic\n",
       "zzz.com        generic\n",
       "\n",
       "[6153 rows x 1 columns]"
      ]
     },
     "execution_count": 8,
     "metadata": {},
     "output_type": "execute_result"
    }
   ],
   "source": [
    "pd.read_csv(\"domain_categories.csv\", index_col=\"domain\")"
   ]
  },
  {
   "cell_type": "code",
   "execution_count": null,
   "id": "3054fa17",
   "metadata": {},
   "outputs": [],
   "source": []
  }
 ],
 "metadata": {
  "kernelspec": {
   "display_name": "bigbang-env",
   "language": "python",
   "name": "bigbang-env"
  },
  "language_info": {
   "codemirror_mode": {
    "name": "ipython",
    "version": 3
   },
   "file_extension": ".py",
   "mimetype": "text/x-python",
   "name": "python",
   "nbconvert_exporter": "python",
   "pygments_lexer": "ipython3",
   "version": "3.9.5"
  }
 },
 "nbformat": 4,
 "nbformat_minor": 5
}
